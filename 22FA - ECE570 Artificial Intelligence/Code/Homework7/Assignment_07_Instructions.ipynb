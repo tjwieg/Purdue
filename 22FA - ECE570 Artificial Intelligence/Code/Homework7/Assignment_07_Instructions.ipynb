{
 "cells": [
  {
   "cell_type": "markdown",
   "metadata": {
    "id": "zmwWs4S9cRIn"
   },
   "source": [
    "# ECE 570 Assignment 7 Instructions\n",
    "\n",
    "## **Instructions**\n",
    "This Jupyter notebook document entitled **Assignment_07_Instructions** contains instructions for doing your assignment exercise.\n",
    "A second Jupyter notebook document entited **Assignment_07_Exercise** contains all the exercises that you will need to perform.\n",
    "\n",
    "As you read each section of this instruction, you should try running the associated code snippets. \n",
    "The colaboratory environment allows you to run code snippets locally by clicking on the arrow on the left of the code. This is a wonderful feature that allows you to experiment as you read. You should take advantage of this and experiment and test different ideas, so you can become more familiar with the Python and the Jupyter programing environment. \n",
    "\n",
    "At the end of each sub-section, there will be exercises to perform. \n",
    "You should perform the exercises in the document **Assignment_07_Exercise**, which will contain all your results. \n",
    "You can then hand in your results by printing the **Assignment_07_Exercise** document as a pdf with all code and simulation results included."
   ]
  },
  {
   "cell_type": "markdown",
   "metadata": {
    "id": "Zz2T0QYYpwVR"
   },
   "source": [
    "## Section 1: Using Pytorch to implement autoencoders\n",
    "\n",
    "In previous deep learning tasks, we only focus on how to implement a classifier by using neural networks. However, neural networks can do much more than this. Autoencoders is one of the easist implementation that allows the neural network to output image-like data.  \n",
    "\n",
    "Autoencoders are a general class of neural networks that consist of two components: an encoder and a decoder.\n",
    "The encoder takes the image and encodes it into a low dimensional vector representation. \n",
    "The decoder takes the vector and decompresses it into something close to the original image.\n",
    "Autoencoders have a variety of useful applications including denoising of images.\n",
    "Moreover, they are just cool because they provide a mechanism to represent complex image content as low dimensional vectors.\n",
    "\n",
    "Another important feature of autoencoders is that they use unsupervised training. \n",
    "In other words, they can be trained without training labels.\n",
    "This is important because in many cases it may be difficult to obtain labeled training data or ground truth. \n",
    "\n",
    "In this section, we will learn how to implement a simple autoencoder using a fully connected neural network. \n",
    "\n",
    "\n",
    "---\n",
    "\n"
   ]
  },
  {
   "cell_type": "markdown",
   "metadata": {
    "id": "mm3tS9wSqPOl"
   },
   "source": [
    "Again, we are using our old friend the MNIST data. We first download it and construct data loaders for it. Moreover, we create a variable `device` that sets which device we want the neural network to run onto.\n",
    "\n",
    "**Important**: Be sure to select the GPU device in the colab setup."
   ]
  },
  {
   "cell_type": "code",
   "execution_count": 2,
   "metadata": {
    "colab": {
     "base_uri": "https://localhost:8080/",
     "height": 441,
     "referenced_widgets": [
      "7b8b9a2f81764faa95ea8afaf9e034ff",
      "8b4c1db9369441418cad3aa6268b4e59",
      "00f9bbafe2d94e9abf9b4d2c394a65d8",
      "7a495c18ebe742f2851b2dbb6be79673",
      "1ce227e2b5f843838a633aa3dee40500",
      "b9c068e6501543c1892d4d95f8c5ada1",
      "06c0848c4ffb49e8a7de8f20d9b182ca",
      "d20adb7fa6204c7e9a0cc4319861f5c5",
      "4b0002d693774c0b8fa2c75e3a943ae7",
      "c5dcea1ef34346ca9bc347cbc6a2e0af",
      "41f330395923421a9647f1c233a516e1",
      "45eeedecde464d97a1406b6813c76233",
      "73cd8b69ab454fa4a0d0f5f2d0f7b71c",
      "08a7a4d7d1bb410c849d2ff6674456d9",
      "c4a8a831bb3146b6a897d7115f74a3cb",
      "f1a9e61e58644b1e87b721f70caa852c",
      "50ba580fac0a4ec0a78f1eb0ee27c690",
      "4e8f9365fb32412586a9e1605b30428f",
      "01dca0739ff94e5793bcb5f9ad803260",
      "9f16b29a8bae4d0b8c6304cf490dcc3f",
      "6cf30dfcb7d34b978925a5987f716bb6",
      "754d9e1500404ecda4f511026cdb7047",
      "364ba5f35ef244f19695472f1e31c72d",
      "44c93591f234410ca50d772e0ba95211",
      "a0392ee31c1e445da2f1ecd3fdcd229d",
      "8f57207423a94015a80c314960a712b8",
      "98fbd41e24ef46549d52a5c5725c9264",
      "b99e6a14a3b74d5fba75ebb8968853d7",
      "78d9e02e65fa4ed99d9e6a4c3b6fbeac",
      "15fcda643a5941559f1d746b31c23866",
      "696a649c0887438dbadef304f4ae83db",
      "a464e82bfc0b42318b6773c698a7c2d0"
     ]
    },
    "id": "m1teVgyrP_3W",
    "outputId": "d484aa74-7aeb-41d7-927b-95857a04f247"
   },
   "outputs": [
    {
     "name": "stdout",
     "output_type": "stream",
     "text": [
      "We are using device name \"cuda\"\n"
     ]
    }
   ],
   "source": [
    "import torchvision\n",
    "import torch\n",
    "\n",
    "transform = torchvision.transforms.Compose([torchvision.transforms.ToTensor()]) # Images already in [0,1]\n",
    "\n",
    "train_dataset = torchvision.datasets.MNIST('data', train=True, download=True, transform=transform)\n",
    "test_dataset = torchvision.datasets.MNIST('data', train=False, download=True, transform=transform)\n",
    "\n",
    "batch_size_train, batch_size_test = 64, 1000\n",
    "\n",
    "train_loader = torch.utils.data.DataLoader(train_dataset, batch_size=batch_size_train, shuffle=True)\n",
    "test_loader = torch.utils.data.DataLoader(test_dataset, batch_size=batch_size_test, shuffle=False)\n",
    "\n",
    "device = 'cuda' if torch.cuda.is_available()==True else 'cpu'\n",
    "device = torch.device(device)\n",
    "print(f'We are using device name \"{device}\"')"
   ]
  },
  {
   "cell_type": "markdown",
   "metadata": {
    "id": "Az5wIlIfqd8-"
   },
   "source": [
    "\n",
    "\n",
    "---\n",
    "\n",
    "\n",
    "In the network structure, the neural network itself consists of two parts. The encoding layer and decoding layer. The encoding layer here is a fully connected network that changes the dimension from **[batch_size x 784]** to **[batch_size x 16]**, and the decoding layer works in the exact opposite way, which is a fully connected network that changes the dimension from **[batch_size x 16]** back to **[batch_size x 784]**. Note, by doing this we are compressing our images to 16 instead of 784 features!!  \n",
    "\n",
    "We move our neural network to the device we want to run on simply by applying the function `model.to(device)`.\n",
    "Also, we use a sigmoid activation at the final layer to ensure the output image pixel values are between 0 and 1."
   ]
  },
  {
   "cell_type": "code",
   "execution_count": 3,
   "metadata": {
    "id": "hH440RBvYpMu"
   },
   "outputs": [],
   "source": [
    "import torch.nn as nn\n",
    "import torch.nn.functional as F\n",
    "import torch.optim as optim\n",
    "\n",
    "latent_feature = 16\n",
    "\n",
    "class our_AE(nn.Module):\n",
    "  def __init__(self):\n",
    "    super(our_AE, self).__init__()\n",
    "\n",
    "    # encoder\n",
    "    self.en_fc1 = nn.Linear(in_features=784, out_features=512)\n",
    "    self.en_fc2 = nn.Linear(in_features=512, out_features=latent_feature)\n",
    "\n",
    "    # decoder\n",
    "    self.de_fc1 = nn.Linear(in_features=latent_feature, out_features=512)\n",
    "    self.de_fc2 = nn.Linear(in_features=512, out_features=784)\n",
    "\n",
    "  def forward(self, x):\n",
    "\n",
    "    # encoding layers\n",
    "    x = x.view(-1, 784)\n",
    "    x = F.relu(self.en_fc1(x))\n",
    "    x = F.relu(self.en_fc2(x))\n",
    "\n",
    "    # decoding layers\n",
    "    x = F.relu(self.de_fc1(x))\n",
    "    x = torch.sigmoid(self.de_fc2(x))\n",
    "    x = x.view(-1, 1, 28, 28)\n",
    "    return x\n",
    "\n",
    "\n",
    "AE = our_AE().to(device)\n",
    "optimizer = optim.Adam(AE.parameters(), lr=1e-4)\n",
    "loss_fn = nn.MSELoss(reduction='sum')"
   ]
  },
  {
   "cell_type": "markdown",
   "metadata": {
    "id": "Ry9ZcIYlrzY0"
   },
   "source": [
    "Here, since the loss function is trying to compare two images. We can select the MSE loss function to calculate the loss. Also, we are selecting the Adam optimizer.\n",
    "\n",
    "\n",
    "---\n",
    "Then, as usual, we define our training and test function for the neural network.  \n",
    "**Note: We move our image tensor to device we want before plugging into the neural network**"
   ]
  },
  {
   "cell_type": "code",
   "execution_count": 4,
   "metadata": {
    "id": "F9wKt5_AeQhL"
   },
   "outputs": [],
   "source": [
    "def train(epoch, device):\n",
    "\n",
    "  AE.train() # we need to set the mode for our model\n",
    "\n",
    "  for batch_idx, (images, _) in enumerate(train_loader): # Note that we do not need the labels\n",
    "\n",
    "    optimizer.zero_grad()\n",
    "    images = images.to(device)\n",
    "    output = AE(images)\n",
    "    loss = loss_fn(output, images) # Here is a typical loss function (Mean square error)\n",
    "    loss.backward()\n",
    "    optimizer.step()\n",
    "\n",
    "    if batch_idx % 10 == 0: # We record our output every 10 batches\n",
    "      train_losses.append(loss.item()/batch_size_train) # item() is to get the value of the tensor directly\n",
    "      train_counter.append(\n",
    "        (batch_idx*64) + ((epoch-1)*len(train_loader.dataset)))\n",
    "    if batch_idx % 100 == 0: # We visulize our output every 100 batches\n",
    "      print(f'Epoch {epoch}: [{batch_idx*len(images)}/{len(train_loader.dataset)}] Loss: {loss.item()/batch_size_train}')\n",
    "\n",
    "\n",
    "def test(epoch, device):\n",
    "\n",
    "  AE.eval() # we need to set the mode for our model\n",
    "\n",
    "  test_loss = 0\n",
    "  correct = 0\n",
    "\n",
    "  with torch.no_grad():\n",
    "    for images, _ in test_loader:\n",
    "      images = images.to(device)\n",
    "      output = AE(images)\n",
    "      test_loss += loss_fn(output, images).item()\n",
    "  \n",
    "  test_loss /= len(test_loader.dataset)\n",
    "  test_losses.append(test_loss)\n",
    "  test_counter.append(len(train_loader.dataset)*epoch)\n",
    "\n",
    "  print(f'Test result on epoch {epoch}: Avg loss is {test_loss}')"
   ]
  },
  {
   "cell_type": "code",
   "execution_count": 6,
   "metadata": {
    "colab": {
     "base_uri": "https://localhost:8080/",
     "height": 397
    },
    "id": "Q-yDQvopgdt6",
    "outputId": "b64de69b-a3b9-4509-f375-ee2ff3d04958"
   },
   "outputs": [
    {
     "name": "stdout",
     "output_type": "stream",
     "text": [
      "Epoch 1: [0/60000] Loss: 19.13262939453125\n",
      "Epoch 1: [6400/60000] Loss: 19.533954620361328\n",
      "Epoch 1: [12800/60000] Loss: 17.550495147705078\n",
      "Epoch 1: [19200/60000] Loss: 17.936138153076172\n",
      "Epoch 1: [25600/60000] Loss: 21.081844329833984\n",
      "Epoch 1: [32000/60000] Loss: 17.794342041015625\n",
      "Epoch 1: [38400/60000] Loss: 17.64731216430664\n",
      "Epoch 1: [44800/60000] Loss: 19.33238983154297\n",
      "Epoch 1: [51200/60000] Loss: 17.098590850830078\n",
      "Epoch 1: [57600/60000] Loss: 17.633304595947266\n",
      "Test result on epoch 1: Avg loss is 16.9156349609375\n",
      "Epoch 2: [0/60000] Loss: 15.766365051269531\n",
      "Epoch 2: [6400/60000] Loss: 16.895008087158203\n",
      "Epoch 2: [12800/60000] Loss: 15.341032981872559\n",
      "Epoch 2: [19200/60000] Loss: 17.417034149169922\n",
      "Epoch 2: [25600/60000] Loss: 16.94440460205078\n",
      "Epoch 2: [32000/60000] Loss: 16.563888549804688\n",
      "Epoch 2: [38400/60000] Loss: 17.602067947387695\n",
      "Epoch 2: [44800/60000] Loss: 16.482149124145508\n",
      "Epoch 2: [51200/60000] Loss: 16.48821258544922\n",
      "Epoch 2: [57600/60000] Loss: 16.17569351196289\n",
      "Test result on epoch 2: Avg loss is 15.78275244140625\n",
      "Epoch 3: [0/60000] Loss: 14.822415351867676\n",
      "Epoch 3: [6400/60000] Loss: 16.313974380493164\n",
      "Epoch 3: [12800/60000] Loss: 15.297065734863281\n",
      "Epoch 3: [19200/60000] Loss: 15.407468795776367\n",
      "Epoch 3: [25600/60000] Loss: 15.017175674438477\n",
      "Epoch 3: [32000/60000] Loss: 15.89433479309082\n",
      "Epoch 3: [38400/60000] Loss: 16.85773277282715\n",
      "Epoch 3: [44800/60000] Loss: 16.015119552612305\n",
      "Epoch 3: [51200/60000] Loss: 15.720824241638184\n",
      "Epoch 3: [57600/60000] Loss: 14.218274116516113\n",
      "Test result on epoch 3: Avg loss is 15.02297685546875\n"
     ]
    }
   ],
   "source": [
    "train_losses = []\n",
    "train_counter = []\n",
    "test_losses = []\n",
    "test_counter = []\n",
    "max_epoch = 3\n",
    "\n",
    "for epoch in range(1, max_epoch+1):\n",
    "  train(epoch, device=device)\n",
    "  test(epoch, device=device)"
   ]
  },
  {
   "cell_type": "markdown",
   "metadata": {
    "id": "iSJvS-Cu5hkY"
   },
   "source": [
    "Then, we can print our result by simply selecting several images from the dataset and then forwarding the images using autoencoders.  Note we can move the images on the GPU back to the CPU using the `.cpu()` function of PyTorch tensors."
   ]
  },
  {
   "cell_type": "code",
   "execution_count": 7,
   "metadata": {
    "colab": {
     "base_uri": "https://localhost:8080/",
     "height": 390
    },
    "id": "BbuYRkSDmiBV",
    "outputId": "72161517-0b2f-4167-d93d-6818dc9c01d0"
   },
   "outputs": [
    {
     "name": "stdout",
     "output_type": "stream",
     "text": [
      "torch.Size([1000, 1, 28, 28]) torch.Size([1000, 1, 28, 28])\n"
     ]
    },
    {
     "data": {
      "image/png": "[encoded data removed]",
      "text/plain": [
       "<Figure size 1200x600 with 8 Axes>"
      ]
     },
     "metadata": {},
     "output_type": "display_data"
    }
   ],
   "source": [
    "import matplotlib.pyplot as plt\n",
    "\n",
    "batch_idx, (images, _) = next(enumerate(test_loader))\n",
    "images = images.to(device)\n",
    "output = AE(images).cpu().detach()\n",
    "images = images.cpu()\n",
    "\n",
    "print(images.size(), output.size())\n",
    "\n",
    "fig, ax = plt.subplots(2,4)\n",
    "fig.set_size_inches(12,6)\n",
    "\n",
    "for idx in range(4):\n",
    "  ax[0,idx].imshow(images[idx][0], cmap='gray')\n",
    "  ax[1,idx].imshow(output[idx][0], cmap='gray')\n",
    "\n",
    "fig.show()"
   ]
  },
  {
   "cell_type": "markdown",
   "metadata": {
    "id": "xdV_V6kp-WcR"
   },
   "source": [
    "Note: We are only using latent space with size 16 compared to the original data which is 28*28=784. We have achieved a compression rate of 17/784 = 0.02!!!"
   ]
  },
  {
   "cell_type": "markdown",
   "metadata": {
    "id": "1OUl4Xu-ODh_"
   },
   "source": [
    "## Section 2: Convolutional autoencoders (and transpose convolutions)\n",
    "\n",
    "### Encoders via strided convolutions (that downsample)\n",
    "Convolutions with a stride greater than 1 will generally reduce the width and height of the image.\n",
    "Thus, convolutions can be seen as a type of downsampling.\n",
    "One way to construct the encoder is to downsample the images via convolutions.\n",
    "Here we give an example of using two convolutional layers with stride of 2 to reduce the dimensionality."
   ]
  },
  {
   "cell_type": "code",
   "execution_count": 8,
   "metadata": {
    "colab": {
     "base_uri": "https://localhost:8080/",
     "height": 86
    },
    "id": "40XxHTrtODiA",
    "outputId": "6b1f45a6-8091-4757-bf83-491f9ae31471"
   },
   "outputs": [
    {
     "name": "stdout",
     "output_type": "stream",
     "text": [
      "x shape = torch.Size([10, 3, 4, 4])\n",
      "x shape = torch.Size([10, 5, 2, 2])\n",
      "x shape = torch.Size([10, 4, 1, 1])\n",
      "x shape = torch.Size([10, 4])\n"
     ]
    }
   ],
   "source": [
    "batch_size = 10\n",
    "n_channels = 3\n",
    "n_latent = 4\n",
    "image_size = 4\n",
    "conv1 = nn.Conv2d(n_channels, 5, kernel_size=2, stride=2)\n",
    "conv2 = nn.Conv2d(5, n_latent, kernel_size=2, stride=2)\n",
    "\n",
    "x = torch.randn((batch_size, n_channels, image_size, image_size)) # \n",
    "print(f'x shape = {x.shape}')\n",
    "x = conv1(x)\n",
    "print(f'x shape = {x.shape}')\n",
    "x = conv2(x)\n",
    "print(f'x shape = {x.shape}')\n",
    "x = x.view(batch_size, -1)\n",
    "print(f'x shape = {x.shape}') # 4 dimensional latent space based on channels"
   ]
  },
  {
   "cell_type": "markdown",
   "metadata": {
    "id": "ONB3FMnsODiC"
   },
   "source": [
    "### Decoders via transpose convolution / fractionally strided convolution (that upsample)\n",
    "\n",
    "For the decoders, we need to upsample to go from a latent dimension back to the original dimension.\n",
    "Thus, we need something like convolutions but that can upsample rather than downsample.\n",
    "The transposed convolution does exactly this.  The number of input and output channels is similar to the normal convolution, however, the operation does the \"transpose\" of the convolutions such that a stride of 2 actually increases the output size rather than decreasing.\n",
    "\n",
    "This is similar to the transpose of a matrix multiplication.  For example, if $A \\in R^{20,50}$ and $x\\in R^{50}$, then $y = Ax \\in R^{20}$--thus going from 50 to 20 dimensions.\n",
    "However, if we multiply $A^T$ and $y \\in R^{20}$, then we get $z = A^Ty \\in R^{50}$--thus going from 20 to 50 dimensions.\n",
    "\n",
    "Note that transpose convolutions are not inverses but rather just upsampling operations (similar to the fact that $A^T$ is not the inverse of $A$ except if $A$ is orthogonal.\n",
    "\n",
    "While you don't need more information than above to do the exercises, you can see https://arxiv.org/pdf/1603.07285v1.pdf chapter 4 for more information on transpose convolutions.\n",
    "\n",
    "In practice, we can easily create these transpose convolutions in PyTorch to upsample from the latent space to the original image shape as we show in the example below.\n",
    "Note that we switch the order of the convolutions and the input/output number of channels, but the transpose convolutions have the same kernel_size and stride as the convolutions original convolutions.\n",
    "\n",
    "For convolutional autoencoders, usually the encoders use convolutions and the decoder uses transpose convolutions in the reverse order to get back the original shape."
   ]
  },
  {
   "cell_type": "code",
   "execution_count": 9,
   "metadata": {
    "colab": {
     "base_uri": "https://localhost:8080/",
     "height": 86
    },
    "id": "mgI08sSjODiC",
    "outputId": "3662bdfb-0119-472d-b02b-97cdf75f0629"
   },
   "outputs": [
    {
     "name": "stdout",
     "output_type": "stream",
     "text": [
      "z shape = torch.Size([10, 4])\n",
      "z shape = torch.Size([10, 4, 1, 1])\n",
      "z shape = torch.Size([10, 5, 2, 2])\n",
      "z shape = torch.Size([10, 3, 4, 4])\n"
     ]
    }
   ],
   "source": [
    "tran_conv2 = nn.ConvTranspose2d(n_latent, 5, kernel_size=2, stride=2)\n",
    "tran_conv1 = nn.ConvTranspose2d(5, n_channels, kernel_size=2, stride=2)\n",
    "\n",
    "z = x\n",
    "print(f'z shape = {z.shape}')\n",
    "z = z.view(batch_size, n_latent, 1, 1)\n",
    "print(f'z shape = {z.shape}')\n",
    "z = tran_conv2(z)\n",
    "print(f'z shape = {z.shape}')\n",
    "z = tran_conv1(z)\n",
    "print(f'z shape = {z.shape}')"
   ]
  },
  {
   "cell_type": "markdown",
   "metadata": {
    "id": "s-9FIQqwHJoQ"
   },
   "source": [
    "## Section 3: Install extra packages in Colab.\n",
    "\n",
    "The `!` in Jupyter notebooks executes a bash shell command so you can do things like installing Python modules using `pip`, cloning GitHub repositories using `!git clone ...` or showing the contents of the current directory via `!ls`.  \n",
    "\n",
    "You probably need packages that is nor avalible here in the colab environment. Here is a example on how to implement this using `pip`.\n",
    "\n",
    "---\n",
    "\n",
    "If we need to import the package called `torchsummary`, we only need to use pip to install the package (this will have to be run every time you run the notebook as colab destroys the environment when you close the notebook."
   ]
  },
  {
   "cell_type": "code",
   "execution_count": 10,
   "metadata": {
    "colab": {
     "base_uri": "https://localhost:8080/",
     "height": 311
    },
    "id": "euM5VqO6Amda",
    "outputId": "6cbb0e15-b9f4-4030-da19-4cdbe86a00cb"
   },
   "outputs": [
    {
     "name": "stdout",
     "output_type": "stream",
     "text": [
      "----------------------------------------------------------------\n",
      "        Layer (type)               Output Shape         Param #\n",
      "================================================================\n",
      "            Linear-1                  [-1, 512]         401,920\n",
      "            Linear-2                   [-1, 16]           8,208\n",
      "            Linear-3                  [-1, 512]           8,704\n",
      "            Linear-4                  [-1, 784]         402,192\n",
      "================================================================\n",
      "Total params: 821,024\n",
      "Trainable params: 821,024\n",
      "Non-trainable params: 0\n",
      "----------------------------------------------------------------\n",
      "Input size (MB): 0.00\n",
      "Forward/backward pass size (MB): 0.01\n",
      "Params size (MB): 3.13\n",
      "Estimated Total Size (MB): 3.15\n",
      "----------------------------------------------------------------\n"
     ]
    }
   ],
   "source": [
    "# pip install torchsummary\n",
    "\n",
    "from torchsummary import summary\n",
    "summary(AE, (1,784))"
   ]
  },
  {
   "cell_type": "markdown",
   "metadata": {
    "id": "ExYV_yvadQE6"
   },
   "source": [
    "You can actually use the summary function a lot. It helps print your model in a more nicer form.\n"
   ]
  },
  {
   "cell_type": "markdown",
   "metadata": {
    "id": "sRppW2GazXtb"
   },
   "source": [
    "## Section 4: Customizable transform function and dataloader\n",
    "Usually when we want to preprocess our dataset. We apply the corresponding transform functions in the data download step. However, what if we want to write our own transform functions? For example, if we want to flip the pixel values how do we apply such transform to the dataset. It turns out you only need to define a new transform class that has the following functions:\n",
    "* `__init__`: This function initializes your transformer (usually to set parameters of the transformer)\n",
    "* `__call__`: This function should contain your transform operation\n",
    "Here is an example on how to create a flip value transform:\n",
    "\n"
   ]
  },
  {
   "cell_type": "code",
   "execution_count": 11,
   "metadata": {
    "id": "M3-3E1wgDLsv"
   },
   "outputs": [],
   "source": [
    "import torchvision\n",
    "import torch\n",
    "import matplotlib.pyplot as plt\n",
    "\n",
    "class FlipValue(object):\n",
    "  def __init__(self, max_value=1):\n",
    "    self.max_value = max_value\n",
    "      \n",
    "  def __call__(self, tensor):\n",
    "    tensor = self.max_value - tensor\n",
    "    return tensor\n",
    "\n",
    "transform_flip = torchvision.transforms.Compose([torchvision.transforms.ToTensor(), FlipValue(1)])"
   ]
  },
  {
   "cell_type": "markdown",
   "metadata": {
    "id": "71hVkIxZ3fXz"
   },
   "source": [
    "Note that we can just concat our transform with other transforms. \n",
    "\n",
    "---\n",
    "\n",
    "Now, we want to create a paired dataset that extract both the flipped dataset and original dataset at the same time when we call the dataloader. Again, this can be done by creating a new dataset class with the following functions:\n",
    "* `__init__`: This function is needed to initilize your dataset.\n",
    "* `__getitem__`: This function is used when you call the class by an index (e.g., `dataset[10]`) .\n",
    "* `__len__`: This function is called when you apply the `len()` function to your class.\n",
    "\n",
    "Below is one way to concat two datasets and form a paired dataset.\n"
   ]
  },
  {
   "cell_type": "code",
   "execution_count": 12,
   "metadata": {
    "colab": {
     "base_uri": "https://localhost:8080/",
     "height": 498
    },
    "id": "xWBKXGa-2z-b",
    "outputId": "06ffc4fc-bd30-4254-f36e-400b1ef5d828"
   },
   "outputs": [
    {
     "data": {
      "image/png": "[encoded data removed]",
      "text/plain": [
       "<Figure size 1200x800 with 6 Axes>"
      ]
     },
     "metadata": {},
     "output_type": "display_data"
    }
   ],
   "source": [
    "transform_flip = torchvision.transforms.Compose([torchvision.transforms.ToTensor(), FlipValue(1)])\n",
    "transform_original = torchvision.transforms.Compose([torchvision.transforms.ToTensor()])\n",
    "\n",
    "train_dataset_flipped = torchvision.datasets.MNIST('data', train=True, download=True, transform=transform_flip)\n",
    "train_dataset_original = torchvision.datasets.MNIST('data', train=True, download=True, transform=transform_original)\n",
    "\n",
    "class ConcatDataset(torch.utils.data.Dataset):\n",
    "  def __init__(self, *datasets):\n",
    "    self.datasets = datasets\n",
    "\n",
    "  def __getitem__(self, i):\n",
    "    return tuple(d[i] for d in self.datasets)\n",
    "\n",
    "  def __len__(self):\n",
    "    return min(len(d) for d in self.datasets)\n",
    "\n",
    "train_loader = torch.utils.data.DataLoader(ConcatDataset(train_dataset_flipped, train_dataset_original),\n",
    "                      batch_size=10, shuffle=True)\n",
    "_, (fliped, original) = next(enumerate(train_loader))\n",
    "\n",
    "fig,ax = plt.subplots(2,3)\n",
    "fig.set_size_inches(12,8)\n",
    "for idx in range(3):\n",
    "  ax[0,idx].imshow(fliped[0][idx][0], cmap='gray')\n",
    "  ax[0,idx].set_title(f'label is {fliped[1][idx]}')\n",
    "  ax[1,idx].imshow(original[0][idx][0], cmap='gray')\n",
    "  ax[1,idx].set_title(f'label is {original[1][idx]}')\n",
    "fig.show()"
   ]
  }
 ],
 "metadata": {
  "accelerator": "GPU",
  "colab": {
   "collapsed_sections": [],
   "name": "Assignment_06_Instructions.ipynb",
   "provenance": []
  },
  "kernelspec": {
   "display_name": "Python 3",
   "language": "python",
   "name": "python3"
  },
  "language_info": {
   "codemirror_mode": {
    "name": "ipython",
    "version": 3
   },
   "file_extension": ".py",
   "mimetype": "text/x-python",
   "name": "python",
   "nbconvert_exporter": "python",
   "pygments_lexer": "ipython3",
   "version": "3.8.10"
  },
  "vscode": {
   "interpreter": {
    "hash": "31f2aee4e71d21fbe5cf8b01ff0e069b9275f58929596ceb00d14d90e3e16cd6"
   }
  },
  "widgets": {
   "application/vnd.jupyter.widget-state+json": {
    "00f9bbafe2d94e9abf9b4d2c394a65d8": {
     "model_module": "@jupyter-widgets/controls",
     "model_module_version": "1.5.0",
     "model_name": "FloatProgressModel",
     "state": {
      "_dom_classes": [],
      "_model_module": "@jupyter-widgets/controls",
      "_model_module_version": "1.5.0",
      "_model_name": "FloatProgressModel",
      "_view_count": null,
      "_view_module": "@jupyter-widgets/controls",
      "_view_module_version": "1.5.0",
      "_view_name": "ProgressView",
      "bar_style": "info",
      "description": "",
      "description_tooltip": null,
      "layout": "IPY_MODEL_b9c068e6501543c1892d4d95f8c5ada1",
      "max": 1,
      "min": 0,
      "orientation": "horizontal",
      "style": "IPY_MODEL_1ce227e2b5f843838a633aa3dee40500",
      "value": 1
     }
    },
    "01dca0739ff94e5793bcb5f9ad803260": {
     "model_module": "@jupyter-widgets/controls",
     "model_module_version": "1.5.0",
     "model_name": "FloatProgressModel",
     "state": {
      "_dom_classes": [],
      "_model_module": "@jupyter-widgets/controls",
      "_model_module_version": "1.5.0",
      "_model_name": "FloatProgressModel",
      "_view_count": null,
      "_view_module": "@jupyter-widgets/controls",
      "_view_module_version": "1.5.0",
      "_view_name": "ProgressView",
      "bar_style": "success",
      "description": "",
      "description_tooltip": null,
      "layout": "IPY_MODEL_754d9e1500404ecda4f511026cdb7047",
      "max": 1,
      "min": 0,
      "orientation": "horizontal",
      "style": "IPY_MODEL_6cf30dfcb7d34b978925a5987f716bb6",
      "value": 1
     }
    },
    "06c0848c4ffb49e8a7de8f20d9b182ca": {
     "model_module": "@jupyter-widgets/controls",
     "model_module_version": "1.5.0",
     "model_name": "DescriptionStyleModel",
     "state": {
      "_model_module": "@jupyter-widgets/controls",
      "_model_module_version": "1.5.0",
      "_model_name": "DescriptionStyleModel",
      "_view_count": null,
      "_view_module": "@jupyter-widgets/base",
      "_view_module_version": "1.2.0",
      "_view_name": "StyleView",
      "description_width": ""
     }
    },
    "08a7a4d7d1bb410c849d2ff6674456d9": {
     "model_module": "@jupyter-widgets/base",
     "model_module_version": "1.2.0",
     "model_name": "LayoutModel",
     "state": {
      "_model_module": "@jupyter-widgets/base",
      "_model_module_version": "1.2.0",
      "_model_name": "LayoutModel",
      "_view_count": null,
      "_view_module": "@jupyter-widgets/base",
      "_view_module_version": "1.2.0",
      "_view_name": "LayoutView",
      "align_content": null,
      "align_items": null,
      "align_self": null,
      "border": null,
      "bottom": null,
      "display": null,
      "flex": null,
      "flex_flow": null,
      "grid_area": null,
      "grid_auto_columns": null,
      "grid_auto_flow": null,
      "grid_auto_rows": null,
      "grid_column": null,
      "grid_gap": null,
      "grid_row": null,
      "grid_template_areas": null,
      "grid_template_columns": null,
      "grid_template_rows": null,
      "height": null,
      "justify_content": null,
      "justify_items": null,
      "left": null,
      "margin": null,
      "max_height": null,
      "max_width": null,
      "min_height": null,
      "min_width": null,
      "object_fit": null,
      "object_position": null,
      "order": null,
      "overflow": null,
      "overflow_x": null,
      "overflow_y": null,
      "padding": null,
      "right": null,
      "top": null,
      "visibility": null,
      "width": null
     }
    },
    "15fcda643a5941559f1d746b31c23866": {
     "model_module": "@jupyter-widgets/base",
     "model_module_version": "1.2.0",
     "model_name": "LayoutModel",
     "state": {
      "_model_module": "@jupyter-widgets/base",
      "_model_module_version": "1.2.0",
      "_model_name": "LayoutModel",
      "_view_count": null,
      "_view_module": "@jupyter-widgets/base",
      "_view_module_version": "1.2.0",
      "_view_name": "LayoutView",
      "align_content": null,
      "align_items": null,
      "align_self": null,
      "border": null,
      "bottom": null,
      "display": null,
      "flex": null,
      "flex_flow": null,
      "grid_area": null,
      "grid_auto_columns": null,
      "grid_auto_flow": null,
      "grid_auto_rows": null,
      "grid_column": null,
      "grid_gap": null,
      "grid_row": null,
      "grid_template_areas": null,
      "grid_template_columns": null,
      "grid_template_rows": null,
      "height": null,
      "justify_content": null,
      "justify_items": null,
      "left": null,
      "margin": null,
      "max_height": null,
      "max_width": null,
      "min_height": null,
      "min_width": null,
      "object_fit": null,
      "object_position": null,
      "order": null,
      "overflow": null,
      "overflow_x": null,
      "overflow_y": null,
      "padding": null,
      "right": null,
      "top": null,
      "visibility": null,
      "width": null
     }
    },
    "1ce227e2b5f843838a633aa3dee40500": {
     "model_module": "@jupyter-widgets/controls",
     "model_module_version": "1.5.0",
     "model_name": "ProgressStyleModel",
     "state": {
      "_model_module": "@jupyter-widgets/controls",
      "_model_module_version": "1.5.0",
      "_model_name": "ProgressStyleModel",
      "_view_count": null,
      "_view_module": "@jupyter-widgets/base",
      "_view_module_version": "1.2.0",
      "_view_name": "StyleView",
      "bar_color": null,
      "description_width": "initial"
     }
    },
    "364ba5f35ef244f19695472f1e31c72d": {
     "model_module": "@jupyter-widgets/controls",
     "model_module_version": "1.5.0",
     "model_name": "DescriptionStyleModel",
     "state": {
      "_model_module": "@jupyter-widgets/controls",
      "_model_module_version": "1.5.0",
      "_model_name": "DescriptionStyleModel",
      "_view_count": null,
      "_view_module": "@jupyter-widgets/base",
      "_view_module_version": "1.2.0",
      "_view_name": "StyleView",
      "description_width": ""
     }
    },
    "41f330395923421a9647f1c233a516e1": {
     "model_module": "@jupyter-widgets/controls",
     "model_module_version": "1.5.0",
     "model_name": "FloatProgressModel",
     "state": {
      "_dom_classes": [],
      "_model_module": "@jupyter-widgets/controls",
      "_model_module_version": "1.5.0",
      "_model_name": "FloatProgressModel",
      "_view_count": null,
      "_view_module": "@jupyter-widgets/controls",
      "_view_module_version": "1.5.0",
      "_view_name": "ProgressView",
      "bar_style": "success",
      "description": "",
      "description_tooltip": null,
      "layout": "IPY_MODEL_08a7a4d7d1bb410c849d2ff6674456d9",
      "max": 1,
      "min": 0,
      "orientation": "horizontal",
      "style": "IPY_MODEL_73cd8b69ab454fa4a0d0f5f2d0f7b71c",
      "value": 1
     }
    },
    "44c93591f234410ca50d772e0ba95211": {
     "model_module": "@jupyter-widgets/base",
     "model_module_version": "1.2.0",
     "model_name": "LayoutModel",
     "state": {
      "_model_module": "@jupyter-widgets/base",
      "_model_module_version": "1.2.0",
      "_model_name": "LayoutModel",
      "_view_count": null,
      "_view_module": "@jupyter-widgets/base",
      "_view_module_version": "1.2.0",
      "_view_name": "LayoutView",
      "align_content": null,
      "align_items": null,
      "align_self": null,
      "border": null,
      "bottom": null,
      "display": null,
      "flex": null,
      "flex_flow": null,
      "grid_area": null,
      "grid_auto_columns": null,
      "grid_auto_flow": null,
      "grid_auto_rows": null,
      "grid_column": null,
      "grid_gap": null,
      "grid_row": null,
      "grid_template_areas": null,
      "grid_template_columns": null,
      "grid_template_rows": null,
      "height": null,
      "justify_content": null,
      "justify_items": null,
      "left": null,
      "margin": null,
      "max_height": null,
      "max_width": null,
      "min_height": null,
      "min_width": null,
      "object_fit": null,
      "object_position": null,
      "order": null,
      "overflow": null,
      "overflow_x": null,
      "overflow_y": null,
      "padding": null,
      "right": null,
      "top": null,
      "visibility": null,
      "width": null
     }
    },
    "45eeedecde464d97a1406b6813c76233": {
     "model_module": "@jupyter-widgets/controls",
     "model_module_version": "1.5.0",
     "model_name": "HTMLModel",
     "state": {
      "_dom_classes": [],
      "_model_module": "@jupyter-widgets/controls",
      "_model_module_version": "1.5.0",
      "_model_name": "HTMLModel",
      "_view_count": null,
      "_view_module": "@jupyter-widgets/controls",
      "_view_module_version": "1.5.0",
      "_view_name": "HTMLView",
      "description": "",
      "description_tooltip": null,
      "layout": "IPY_MODEL_f1a9e61e58644b1e87b721f70caa852c",
      "placeholder": "​",
      "style": "IPY_MODEL_c4a8a831bb3146b6a897d7115f74a3cb",
      "value": " 32768/? [00:00&lt;00:00, 48943.91it/s]"
     }
    },
    "4b0002d693774c0b8fa2c75e3a943ae7": {
     "model_module": "@jupyter-widgets/controls",
     "model_module_version": "1.5.0",
     "model_name": "HBoxModel",
     "state": {
      "_dom_classes": [],
      "_model_module": "@jupyter-widgets/controls",
      "_model_module_version": "1.5.0",
      "_model_name": "HBoxModel",
      "_view_count": null,
      "_view_module": "@jupyter-widgets/controls",
      "_view_module_version": "1.5.0",
      "_view_name": "HBoxView",
      "box_style": "",
      "children": [
       "IPY_MODEL_41f330395923421a9647f1c233a516e1",
       "IPY_MODEL_45eeedecde464d97a1406b6813c76233"
      ],
      "layout": "IPY_MODEL_c5dcea1ef34346ca9bc347cbc6a2e0af"
     }
    },
    "4e8f9365fb32412586a9e1605b30428f": {
     "model_module": "@jupyter-widgets/base",
     "model_module_version": "1.2.0",
     "model_name": "LayoutModel",
     "state": {
      "_model_module": "@jupyter-widgets/base",
      "_model_module_version": "1.2.0",
      "_model_name": "LayoutModel",
      "_view_count": null,
      "_view_module": "@jupyter-widgets/base",
      "_view_module_version": "1.2.0",
      "_view_name": "LayoutView",
      "align_content": null,
      "align_items": null,
      "align_self": null,
      "border": null,
      "bottom": null,
      "display": null,
      "flex": null,
      "flex_flow": null,
      "grid_area": null,
      "grid_auto_columns": null,
      "grid_auto_flow": null,
      "grid_auto_rows": null,
      "grid_column": null,
      "grid_gap": null,
      "grid_row": null,
      "grid_template_areas": null,
      "grid_template_columns": null,
      "grid_template_rows": null,
      "height": null,
      "justify_content": null,
      "justify_items": null,
      "left": null,
      "margin": null,
      "max_height": null,
      "max_width": null,
      "min_height": null,
      "min_width": null,
      "object_fit": null,
      "object_position": null,
      "order": null,
      "overflow": null,
      "overflow_x": null,
      "overflow_y": null,
      "padding": null,
      "right": null,
      "top": null,
      "visibility": null,
      "width": null
     }
    },
    "50ba580fac0a4ec0a78f1eb0ee27c690": {
     "model_module": "@jupyter-widgets/controls",
     "model_module_version": "1.5.0",
     "model_name": "HBoxModel",
     "state": {
      "_dom_classes": [],
      "_model_module": "@jupyter-widgets/controls",
      "_model_module_version": "1.5.0",
      "_model_name": "HBoxModel",
      "_view_count": null,
      "_view_module": "@jupyter-widgets/controls",
      "_view_module_version": "1.5.0",
      "_view_name": "HBoxView",
      "box_style": "",
      "children": [
       "IPY_MODEL_01dca0739ff94e5793bcb5f9ad803260",
       "IPY_MODEL_9f16b29a8bae4d0b8c6304cf490dcc3f"
      ],
      "layout": "IPY_MODEL_4e8f9365fb32412586a9e1605b30428f"
     }
    },
    "696a649c0887438dbadef304f4ae83db": {
     "model_module": "@jupyter-widgets/controls",
     "model_module_version": "1.5.0",
     "model_name": "DescriptionStyleModel",
     "state": {
      "_model_module": "@jupyter-widgets/controls",
      "_model_module_version": "1.5.0",
      "_model_name": "DescriptionStyleModel",
      "_view_count": null,
      "_view_module": "@jupyter-widgets/base",
      "_view_module_version": "1.2.0",
      "_view_name": "StyleView",
      "description_width": ""
     }
    },
    "6cf30dfcb7d34b978925a5987f716bb6": {
     "model_module": "@jupyter-widgets/controls",
     "model_module_version": "1.5.0",
     "model_name": "ProgressStyleModel",
     "state": {
      "_model_module": "@jupyter-widgets/controls",
      "_model_module_version": "1.5.0",
      "_model_name": "ProgressStyleModel",
      "_view_count": null,
      "_view_module": "@jupyter-widgets/base",
      "_view_module_version": "1.2.0",
      "_view_name": "StyleView",
      "bar_color": null,
      "description_width": "initial"
     }
    },
    "73cd8b69ab454fa4a0d0f5f2d0f7b71c": {
     "model_module": "@jupyter-widgets/controls",
     "model_module_version": "1.5.0",
     "model_name": "ProgressStyleModel",
     "state": {
      "_model_module": "@jupyter-widgets/controls",
      "_model_module_version": "1.5.0",
      "_model_name": "ProgressStyleModel",
      "_view_count": null,
      "_view_module": "@jupyter-widgets/base",
      "_view_module_version": "1.2.0",
      "_view_name": "StyleView",
      "bar_color": null,
      "description_width": "initial"
     }
    },
    "754d9e1500404ecda4f511026cdb7047": {
     "model_module": "@jupyter-widgets/base",
     "model_module_version": "1.2.0",
     "model_name": "LayoutModel",
     "state": {
      "_model_module": "@jupyter-widgets/base",
      "_model_module_version": "1.2.0",
      "_model_name": "LayoutModel",
      "_view_count": null,
      "_view_module": "@jupyter-widgets/base",
      "_view_module_version": "1.2.0",
      "_view_name": "LayoutView",
      "align_content": null,
      "align_items": null,
      "align_self": null,
      "border": null,
      "bottom": null,
      "display": null,
      "flex": null,
      "flex_flow": null,
      "grid_area": null,
      "grid_auto_columns": null,
      "grid_auto_flow": null,
      "grid_auto_rows": null,
      "grid_column": null,
      "grid_gap": null,
      "grid_row": null,
      "grid_template_areas": null,
      "grid_template_columns": null,
      "grid_template_rows": null,
      "height": null,
      "justify_content": null,
      "justify_items": null,
      "left": null,
      "margin": null,
      "max_height": null,
      "max_width": null,
      "min_height": null,
      "min_width": null,
      "object_fit": null,
      "object_position": null,
      "order": null,
      "overflow": null,
      "overflow_x": null,
      "overflow_y": null,
      "padding": null,
      "right": null,
      "top": null,
      "visibility": null,
      "width": null
     }
    },
    "78d9e02e65fa4ed99d9e6a4c3b6fbeac": {
     "model_module": "@jupyter-widgets/controls",
     "model_module_version": "1.5.0",
     "model_name": "ProgressStyleModel",
     "state": {
      "_model_module": "@jupyter-widgets/controls",
      "_model_module_version": "1.5.0",
      "_model_name": "ProgressStyleModel",
      "_view_count": null,
      "_view_module": "@jupyter-widgets/base",
      "_view_module_version": "1.2.0",
      "_view_name": "StyleView",
      "bar_color": null,
      "description_width": "initial"
     }
    },
    "7a495c18ebe742f2851b2dbb6be79673": {
     "model_module": "@jupyter-widgets/controls",
     "model_module_version": "1.5.0",
     "model_name": "HTMLModel",
     "state": {
      "_dom_classes": [],
      "_model_module": "@jupyter-widgets/controls",
      "_model_module_version": "1.5.0",
      "_model_name": "HTMLModel",
      "_view_count": null,
      "_view_module": "@jupyter-widgets/controls",
      "_view_module_version": "1.5.0",
      "_view_name": "HTMLView",
      "description": "",
      "description_tooltip": null,
      "layout": "IPY_MODEL_d20adb7fa6204c7e9a0cc4319861f5c5",
      "placeholder": "​",
      "style": "IPY_MODEL_06c0848c4ffb49e8a7de8f20d9b182ca",
      "value": " 9920512/? [00:20&lt;00:00, 2121185.35it/s]"
     }
    },
    "7b8b9a2f81764faa95ea8afaf9e034ff": {
     "model_module": "@jupyter-widgets/controls",
     "model_module_version": "1.5.0",
     "model_name": "HBoxModel",
     "state": {
      "_dom_classes": [],
      "_model_module": "@jupyter-widgets/controls",
      "_model_module_version": "1.5.0",
      "_model_name": "HBoxModel",
      "_view_count": null,
      "_view_module": "@jupyter-widgets/controls",
      "_view_module_version": "1.5.0",
      "_view_name": "HBoxView",
      "box_style": "",
      "children": [
       "IPY_MODEL_00f9bbafe2d94e9abf9b4d2c394a65d8",
       "IPY_MODEL_7a495c18ebe742f2851b2dbb6be79673"
      ],
      "layout": "IPY_MODEL_8b4c1db9369441418cad3aa6268b4e59"
     }
    },
    "8b4c1db9369441418cad3aa6268b4e59": {
     "model_module": "@jupyter-widgets/base",
     "model_module_version": "1.2.0",
     "model_name": "LayoutModel",
     "state": {
      "_model_module": "@jupyter-widgets/base",
      "_model_module_version": "1.2.0",
      "_model_name": "LayoutModel",
      "_view_count": null,
      "_view_module": "@jupyter-widgets/base",
      "_view_module_version": "1.2.0",
      "_view_name": "LayoutView",
      "align_content": null,
      "align_items": null,
      "align_self": null,
      "border": null,
      "bottom": null,
      "display": null,
      "flex": null,
      "flex_flow": null,
      "grid_area": null,
      "grid_auto_columns": null,
      "grid_auto_flow": null,
      "grid_auto_rows": null,
      "grid_column": null,
      "grid_gap": null,
      "grid_row": null,
      "grid_template_areas": null,
      "grid_template_columns": null,
      "grid_template_rows": null,
      "height": null,
      "justify_content": null,
      "justify_items": null,
      "left": null,
      "margin": null,
      "max_height": null,
      "max_width": null,
      "min_height": null,
      "min_width": null,
      "object_fit": null,
      "object_position": null,
      "order": null,
      "overflow": null,
      "overflow_x": null,
      "overflow_y": null,
      "padding": null,
      "right": null,
      "top": null,
      "visibility": null,
      "width": null
     }
    },
    "8f57207423a94015a80c314960a712b8": {
     "model_module": "@jupyter-widgets/base",
     "model_module_version": "1.2.0",
     "model_name": "LayoutModel",
     "state": {
      "_model_module": "@jupyter-widgets/base",
      "_model_module_version": "1.2.0",
      "_model_name": "LayoutModel",
      "_view_count": null,
      "_view_module": "@jupyter-widgets/base",
      "_view_module_version": "1.2.0",
      "_view_name": "LayoutView",
      "align_content": null,
      "align_items": null,
      "align_self": null,
      "border": null,
      "bottom": null,
      "display": null,
      "flex": null,
      "flex_flow": null,
      "grid_area": null,
      "grid_auto_columns": null,
      "grid_auto_flow": null,
      "grid_auto_rows": null,
      "grid_column": null,
      "grid_gap": null,
      "grid_row": null,
      "grid_template_areas": null,
      "grid_template_columns": null,
      "grid_template_rows": null,
      "height": null,
      "justify_content": null,
      "justify_items": null,
      "left": null,
      "margin": null,
      "max_height": null,
      "max_width": null,
      "min_height": null,
      "min_width": null,
      "object_fit": null,
      "object_position": null,
      "order": null,
      "overflow": null,
      "overflow_x": null,
      "overflow_y": null,
      "padding": null,
      "right": null,
      "top": null,
      "visibility": null,
      "width": null
     }
    },
    "98fbd41e24ef46549d52a5c5725c9264": {
     "model_module": "@jupyter-widgets/controls",
     "model_module_version": "1.5.0",
     "model_name": "FloatProgressModel",
     "state": {
      "_dom_classes": [],
      "_model_module": "@jupyter-widgets/controls",
      "_model_module_version": "1.5.0",
      "_model_name": "FloatProgressModel",
      "_view_count": null,
      "_view_module": "@jupyter-widgets/controls",
      "_view_module_version": "1.5.0",
      "_view_name": "ProgressView",
      "bar_style": "success",
      "description": "",
      "description_tooltip": null,
      "layout": "IPY_MODEL_15fcda643a5941559f1d746b31c23866",
      "max": 1,
      "min": 0,
      "orientation": "horizontal",
      "style": "IPY_MODEL_78d9e02e65fa4ed99d9e6a4c3b6fbeac",
      "value": 1
     }
    },
    "9f16b29a8bae4d0b8c6304cf490dcc3f": {
     "model_module": "@jupyter-widgets/controls",
     "model_module_version": "1.5.0",
     "model_name": "HTMLModel",
     "state": {
      "_dom_classes": [],
      "_model_module": "@jupyter-widgets/controls",
      "_model_module_version": "1.5.0",
      "_model_name": "HTMLModel",
      "_view_count": null,
      "_view_module": "@jupyter-widgets/controls",
      "_view_module_version": "1.5.0",
      "_view_name": "HTMLView",
      "description": "",
      "description_tooltip": null,
      "layout": "IPY_MODEL_44c93591f234410ca50d772e0ba95211",
      "placeholder": "​",
      "style": "IPY_MODEL_364ba5f35ef244f19695472f1e31c72d",
      "value": " 1654784/? [00:02&lt;00:00, 697631.47it/s]"
     }
    },
    "a0392ee31c1e445da2f1ecd3fdcd229d": {
     "model_module": "@jupyter-widgets/controls",
     "model_module_version": "1.5.0",
     "model_name": "HBoxModel",
     "state": {
      "_dom_classes": [],
      "_model_module": "@jupyter-widgets/controls",
      "_model_module_version": "1.5.0",
      "_model_name": "HBoxModel",
      "_view_count": null,
      "_view_module": "@jupyter-widgets/controls",
      "_view_module_version": "1.5.0",
      "_view_name": "HBoxView",
      "box_style": "",
      "children": [
       "IPY_MODEL_98fbd41e24ef46549d52a5c5725c9264",
       "IPY_MODEL_b99e6a14a3b74d5fba75ebb8968853d7"
      ],
      "layout": "IPY_MODEL_8f57207423a94015a80c314960a712b8"
     }
    },
    "a464e82bfc0b42318b6773c698a7c2d0": {
     "model_module": "@jupyter-widgets/base",
     "model_module_version": "1.2.0",
     "model_name": "LayoutModel",
     "state": {
      "_model_module": "@jupyter-widgets/base",
      "_model_module_version": "1.2.0",
      "_model_name": "LayoutModel",
      "_view_count": null,
      "_view_module": "@jupyter-widgets/base",
      "_view_module_version": "1.2.0",
      "_view_name": "LayoutView",
      "align_content": null,
      "align_items": null,
      "align_self": null,
      "border": null,
      "bottom": null,
      "display": null,
      "flex": null,
      "flex_flow": null,
      "grid_area": null,
      "grid_auto_columns": null,
      "grid_auto_flow": null,
      "grid_auto_rows": null,
      "grid_column": null,
      "grid_gap": null,
      "grid_row": null,
      "grid_template_areas": null,
      "grid_template_columns": null,
      "grid_template_rows": null,
      "height": null,
      "justify_content": null,
      "justify_items": null,
      "left": null,
      "margin": null,
      "max_height": null,
      "max_width": null,
      "min_height": null,
      "min_width": null,
      "object_fit": null,
      "object_position": null,
      "order": null,
      "overflow": null,
      "overflow_x": null,
      "overflow_y": null,
      "padding": null,
      "right": null,
      "top": null,
      "visibility": null,
      "width": null
     }
    },
    "b99e6a14a3b74d5fba75ebb8968853d7": {
     "model_module": "@jupyter-widgets/controls",
     "model_module_version": "1.5.0",
     "model_name": "HTMLModel",
     "state": {
      "_dom_classes": [],
      "_model_module": "@jupyter-widgets/controls",
      "_model_module_version": "1.5.0",
      "_model_name": "HTMLModel",
      "_view_count": null,
      "_view_module": "@jupyter-widgets/controls",
      "_view_module_version": "1.5.0",
      "_view_name": "HTMLView",
      "description": "",
      "description_tooltip": null,
      "layout": "IPY_MODEL_a464e82bfc0b42318b6773c698a7c2d0",
      "placeholder": "​",
      "style": "IPY_MODEL_696a649c0887438dbadef304f4ae83db",
      "value": " 8192/? [00:00&lt;00:00, 11265.51it/s]"
     }
    },
    "b9c068e6501543c1892d4d95f8c5ada1": {
     "model_module": "@jupyter-widgets/base",
     "model_module_version": "1.2.0",
     "model_name": "LayoutModel",
     "state": {
      "_model_module": "@jupyter-widgets/base",
      "_model_module_version": "1.2.0",
      "_model_name": "LayoutModel",
      "_view_count": null,
      "_view_module": "@jupyter-widgets/base",
      "_view_module_version": "1.2.0",
      "_view_name": "LayoutView",
      "align_content": null,
      "align_items": null,
      "align_self": null,
      "border": null,
      "bottom": null,
      "display": null,
      "flex": null,
      "flex_flow": null,
      "grid_area": null,
      "grid_auto_columns": null,
      "grid_auto_flow": null,
      "grid_auto_rows": null,
      "grid_column": null,
      "grid_gap": null,
      "grid_row": null,
      "grid_template_areas": null,
      "grid_template_columns": null,
      "grid_template_rows": null,
      "height": null,
      "justify_content": null,
      "justify_items": null,
      "left": null,
      "margin": null,
      "max_height": null,
      "max_width": null,
      "min_height": null,
      "min_width": null,
      "object_fit": null,
      "object_position": null,
      "order": null,
      "overflow": null,
      "overflow_x": null,
      "overflow_y": null,
      "padding": null,
      "right": null,
      "top": null,
      "visibility": null,
      "width": null
     }
    },
    "c4a8a831bb3146b6a897d7115f74a3cb": {
     "model_module": "@jupyter-widgets/controls",
     "model_module_version": "1.5.0",
     "model_name": "DescriptionStyleModel",
     "state": {
      "_model_module": "@jupyter-widgets/controls",
      "_model_module_version": "1.5.0",
      "_model_name": "DescriptionStyleModel",
      "_view_count": null,
      "_view_module": "@jupyter-widgets/base",
      "_view_module_version": "1.2.0",
      "_view_name": "StyleView",
      "description_width": ""
     }
    },
    "c5dcea1ef34346ca9bc347cbc6a2e0af": {
     "model_module": "@jupyter-widgets/base",
     "model_module_version": "1.2.0",
     "model_name": "LayoutModel",
     "state": {
      "_model_module": "@jupyter-widgets/base",
      "_model_module_version": "1.2.0",
      "_model_name": "LayoutModel",
      "_view_count": null,
      "_view_module": "@jupyter-widgets/base",
      "_view_module_version": "1.2.0",
      "_view_name": "LayoutView",
      "align_content": null,
      "align_items": null,
      "align_self": null,
      "border": null,
      "bottom": null,
      "display": null,
      "flex": null,
      "flex_flow": null,
      "grid_area": null,
      "grid_auto_columns": null,
      "grid_auto_flow": null,
      "grid_auto_rows": null,
      "grid_column": null,
      "grid_gap": null,
      "grid_row": null,
      "grid_template_areas": null,
      "grid_template_columns": null,
      "grid_template_rows": null,
      "height": null,
      "justify_content": null,
      "justify_items": null,
      "left": null,
      "margin": null,
      "max_height": null,
      "max_width": null,
      "min_height": null,
      "min_width": null,
      "object_fit": null,
      "object_position": null,
      "order": null,
      "overflow": null,
      "overflow_x": null,
      "overflow_y": null,
      "padding": null,
      "right": null,
      "top": null,
      "visibility": null,
      "width": null
     }
    },
    "d20adb7fa6204c7e9a0cc4319861f5c5": {
     "model_module": "@jupyter-widgets/base",
     "model_module_version": "1.2.0",
     "model_name": "LayoutModel",
     "state": {
      "_model_module": "@jupyter-widgets/base",
      "_model_module_version": "1.2.0",
      "_model_name": "LayoutModel",
      "_view_count": null,
      "_view_module": "@jupyter-widgets/base",
      "_view_module_version": "1.2.0",
      "_view_name": "LayoutView",
      "align_content": null,
      "align_items": null,
      "align_self": null,
      "border": null,
      "bottom": null,
      "display": null,
      "flex": null,
      "flex_flow": null,
      "grid_area": null,
      "grid_auto_columns": null,
      "grid_auto_flow": null,
      "grid_auto_rows": null,
      "grid_column": null,
      "grid_gap": null,
      "grid_row": null,
      "grid_template_areas": null,
      "grid_template_columns": null,
      "grid_template_rows": null,
      "height": null,
      "justify_content": null,
      "justify_items": null,
      "left": null,
      "margin": null,
      "max_height": null,
      "max_width": null,
      "min_height": null,
      "min_width": null,
      "object_fit": null,
      "object_position": null,
      "order": null,
      "overflow": null,
      "overflow_x": null,
      "overflow_y": null,
      "padding": null,
      "right": null,
      "top": null,
      "visibility": null,
      "width": null
     }
    },
    "f1a9e61e58644b1e87b721f70caa852c": {
     "model_module": "@jupyter-widgets/base",
     "model_module_version": "1.2.0",
     "model_name": "LayoutModel",
     "state": {
      "_model_module": "@jupyter-widgets/base",
      "_model_module_version": "1.2.0",
      "_model_name": "LayoutModel",
      "_view_count": null,
      "_view_module": "@jupyter-widgets/base",
      "_view_module_version": "1.2.0",
      "_view_name": "LayoutView",
      "align_content": null,
      "align_items": null,
      "align_self": null,
      "border": null,
      "bottom": null,
      "display": null,
      "flex": null,
      "flex_flow": null,
      "grid_area": null,
      "grid_auto_columns": null,
      "grid_auto_flow": null,
      "grid_auto_rows": null,
      "grid_column": null,
      "grid_gap": null,
      "grid_row": null,
      "grid_template_areas": null,
      "grid_template_columns": null,
      "grid_template_rows": null,
      "height": null,
      "justify_content": null,
      "justify_items": null,
      "left": null,
      "margin": null,
      "max_height": null,
      "max_width": null,
      "min_height": null,
      "min_width": null,
      "object_fit": null,
      "object_position": null,
      "order": null,
      "overflow": null,
      "overflow_x": null,
      "overflow_y": null,
      "padding": null,
      "right": null,
      "top": null,
      "visibility": null,
      "width": null
     }
    }
   }
  }
 },
 "nbformat": 4,
 "nbformat_minor": 1
}
