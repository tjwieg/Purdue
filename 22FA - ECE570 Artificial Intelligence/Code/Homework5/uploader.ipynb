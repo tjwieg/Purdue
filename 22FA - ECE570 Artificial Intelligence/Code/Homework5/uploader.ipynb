{
  "cells": [
    {
      "cell_type": "markdown",
      "metadata": {
        "id": "Lo68A2ltMkJZ"
      },
      "source": [
        "# ECE 570: Assignment Uploader\n",
        "\n",
        "Note:\n",
        "The file helps generate html version of your ipynb file."
      ]
    },
    {
      "cell_type": "markdown",
      "metadata": {
        "id": "UeF5TawzD6HI"
      },
      "source": [
        "# Mount your drive"
      ]
    },
    {
      "cell_type": "code",
      "execution_count": null,
      "metadata": {
        "id": "_LNR5ihZCVV4"
      },
      "outputs": [],
      "source": [
        "from google.colab import drive\n",
        "drive.mount('/content/drive')"
      ]
    },
    {
      "cell_type": "markdown",
      "metadata": {
        "id": "aEcdd-9ZD96z"
      },
      "source": [
        "# Change the `your_ipynb_file_dir` to the exact path of your jupyter notebook."
      ]
    },
    {
      "cell_type": "code",
      "execution_count": 9,
      "metadata": {
        "colab": {
          "base_uri": "https://localhost:8080/"
        },
        "id": "Dfqg8VMOCXWp",
        "outputId": "113cf425-288a-445d-955f-a22ab473ccdb"
      },
      "outputs": [
        {
          "name": "stdout",
          "output_type": "stream",
          "text": [
            "[NbConvertApp] Converting notebook /content/sample_data/Assignment_1.ipynb to html\n",
            "[NbConvertApp] Writing 295630 bytes to /content/sample_data/Assignment_1.html\n"
          ]
        }
      ],
      "source": [
        "def preprocess(dir):\n",
        "    # To deal with the error when there is [] in the path\n",
        "    dir.replace('[','[[]')\n",
        "    dir.replace(']','[]]')\n",
        "    return dir\n",
        "\n",
        "########################        YOUR CODE        ##########################\n",
        "your_ipynb_file_dir = 'Assignment_3_Exercies.ipynb' # Example: '/content/drive/MyDrive/ECE570/Assignment_03_Exercise.ipynb'\n",
        "########################      END YOUR CODE      ##########################\n",
        "\n",
        "!jupyter nbconvert --to html '{preprocess(your_ipynb_file_dir)}'"
      ]
    },
    {
      "cell_type": "markdown",
      "metadata": {
        "id": "MbNbUihJETjx"
      },
      "source": [
        "# There should be a html file generated in the same directory as your ipynb notebook. Download and then open that html file using Chrome and select Print and save as pdf."
      ]
    }
  ],
  "metadata": {
    "colab": {
      "collapsed_sections": [],
      "machine_shape": "hm",
      "name": "uploader.ipynb",
      "provenance": []
    },
    "kernelspec": {
      "display_name": "Python 3",
      "language": "python",
      "name": "python3"
    },
    "language_info": {
      "codemirror_mode": {
        "name": "ipython",
        "version": 3
      },
      "file_extension": ".py",
      "mimetype": "text/x-python",
      "name": "python",
      "nbconvert_exporter": "python",
      "pygments_lexer": "ipython3",
      "version": "3.7.3"
    }
  },
  "nbformat": 4,
  "nbformat_minor": 0
}
