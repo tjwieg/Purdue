{
  "cells": [
    {
      "cell_type": "markdown",
      "metadata": {
        "id": "zmwWs4S9cRIn"
      },
      "source": [
        "# ECE 57000 Assignment 6 Exercise\n",
        "\n",
        "Your Name: TJ Wiegman"
      ]
    },
    {
      "cell_type": "markdown",
      "metadata": {
        "id": "WfirXJR3qvB0"
      },
      "source": [
        "For this assignment, you will implement and explore various density estimation methods."
      ]
    },
    {
      "cell_type": "markdown",
      "metadata": {
        "id": "Vmlsa88cqmib"
      },
      "source": [
        "## Exercise 1: Density estimation in 1D\n",
        "In this exercise, you will write code to estimate 1D densities.\n",
        "Specifically, you will write code to estimate a Gaussian density, a histogram density, and a kernel density."
      ]
    },
    {
      "cell_type": "markdown",
      "metadata": {
        "id": "To63vN4giFIB"
      },
      "source": [
        "### Task 1.1: Gaussian density\n",
        "For this first one you will estimate a Gaussian density via MLE.\n",
        "As discussed in class, this simplifies to estimating the mean and standard devaition of the data and using these empirical estimates for the Gaussian distribution.\n",
        "The Gaussian PDF can be evaluated using the function [`scipy.stats.norm.pdf`](https://docs.scipy.org/doc/scipy/reference/generated/scipy.stats.norm.html)."
      ]
    },
    {
      "cell_type": "code",
      "execution_count": 102,
      "metadata": {
        "id": "LtDqFYTCiFIC"
      },
      "outputs": [],
      "source": [
        "import numpy as np\n",
        "import scipy.stats\n",
        "from sklearn.base import BaseEstimator\n",
        "class GaussianDensity(BaseEstimator):\n",
        "    def fit(self, X, y=None):\n",
        "        ##### Your code here #####\n",
        "        # You should estimate the mean and variance of the data  and save as self.mean_ and self.std_\n",
        "        # (note that X will be shape (n,1) because there is only 1 feature).\n",
        "        self.mean_ = np.mean(X, axis=0)\n",
        "        self.std_  = np.std( X, axis=0)\n",
        "        ##########################\n",
        "        return self\n",
        "    \n",
        "    def predict_proba(self, X):\n",
        "        ##### Your code here #####\n",
        "        # This should return the PDF values for each sample in X (again of shape (n, 1))\n",
        "        # This should use your self.mean_ and self.std_ variables saved from the fit method\n",
        "        pdf_values = scipy.stats.norm.pdf(X[:,0], loc=self.mean_, scale=self.std_)\n",
        "        return pdf_values  # Output should be of shape (n,), i.e., a 1D array\n",
        "        ##########################"
      ]
    },
    {
      "cell_type": "markdown",
      "metadata": {
        "id": "6cWbtSUviFIE"
      },
      "source": [
        "### Task 1.2: Histogram density\n",
        "Now you will implement a histogram density estimate given min, max and number of bins.\n",
        "The function [`np.searchsorted`](https://numpy.org/doc/stable/reference/generated/numpy.searchsorted.html) may be useful but is not required.\n",
        "\n",
        "NOTE: The value of the histogram outside of the min max values should be set to 0."
      ]
    },
    {
      "cell_type": "code",
      "execution_count": 103,
      "metadata": {
        "id": "_orsjEH8iFIE"
      },
      "outputs": [],
      "source": [
        "import numpy as np\n",
        "import scipy.stats\n",
        "from sklearn.base import BaseEstimator\n",
        "class HistogramDensity(BaseEstimator):\n",
        "    def __init__(self, n_bins, min_val, max_val):\n",
        "        self.n_bins = n_bins\n",
        "        self.min_val = min_val\n",
        "        self.max_val = max_val\n",
        "    \n",
        "    def fit(self, X, y=None):\n",
        "        ##### Your code here #####\n",
        "        # First create equally spaced bin_edges based on min_val, max_val and n_bins\n",
        "        #  and save as self.bin_edges_\n",
        "        #  (note the shape of self.bin_edges_ should be (n_bins+1,) )\n",
        "        # Second, estimate the frequency for each bin based on the input data X\n",
        "        #  (i.e., the number of training samples that fall into that bin divided \n",
        "        #  by the total number of samples)\n",
        "        # Third, using the probability for each bin, compute the density value (i.e., PDF) for\n",
        "        #  each bin. (Note you will have to account for the width of the bin to ensure\n",
        "        #  that integrating your density function from min_value to max_value will be 1).\n",
        "        #  Save the density per bin as self.pdf_per_bin_ which should have the shape (n_bins,)\n",
        "        X = X.reshape(-1)\n",
        "        # Edges are linearly spaced from min_val to max_val\n",
        "        self.bin_edges_ = np.linspace(start=self.min_val, stop=self.max_val, num=(self.n_bins+1))\n",
        "        \n",
        "        # Loop through the bins and calculate empirical probability for each\n",
        "        self.pdf_per_bin_ = np.zeros(self.n_bins)\n",
        "        for i in range(1, self.n_bins+1):\n",
        "            self.pdf_per_bin_[i-1] = np.sum(np.logical_and(\n",
        "                (X > self.bin_edges_[i-1]),\n",
        "                (X < self.bin_edges_[i])\n",
        "            ).astype(np.int8)) / (len(X) * (self.bin_edges_[i] - self.bin_edges_[i-1]))\n",
        "        ##########################\n",
        "        return self\n",
        "    \n",
        "    def predict_proba(self, X):\n",
        "        ##### Your code here #####\n",
        "        # You should return the PDF value of the samples X.  This requires finding out which\n",
        "        #  bin each sample falls into and returning it's corresponding density value\n",
        "        #  **Importantly, if the value is less than min_value or greater than max_value, \n",
        "        #    then a pdf value of 0 should be returned.\n",
        "        pdf_values = np.take(\n",
        "            # Append/prepend zero for pdf values of \"bins\" above/below the top/bottom edges\n",
        "            np.concatenate((np.array([0]), self.pdf_per_bin_, np.array([0]))),\n",
        "\n",
        "            # Get the \"bin\" each item in the sample should fall in, including above/below edges\n",
        "            np.searchsorted(self.bin_edges_, X)\n",
        "        )\n",
        "        return pdf_values  # Output should be of shape (n,), i.e., a 1D array\n",
        "        ##########################"
      ]
    },
    {
      "cell_type": "markdown",
      "metadata": {
        "id": "oFtNf5IOiFIF"
      },
      "source": [
        "### Task 1.3: Kernel density\n",
        "Now you will implement a kernel density estimate (KDE) via a Gaussian kernel given the bandwidth parameter (i.e., the standard deviation of the Gaussian kernel.\n",
        "Specifically, the Gaussian kernel density is given by:\n",
        "$$p(x; \\mathcal{D}) = \\frac{1}{n}\\sum_{i=1}^n p_{\\mathcal{N}}(x; \\mu = x_i, \\sigma=h) $$\n",
        "where $\\mathcal{D}=\\{x_i\\}_{i=1}^n$ is a training dataset of $n$ samples, $p_{\\mathcal{N}}$ is the Gaussian/normal density function and $h$ is called the bandwidth hyperparameter of the KDE model.\n",
        "(Note that fitting merely requires saving the training dataset and using it to compute densities of new samples.)"
      ]
    },
    {
      "cell_type": "code",
      "execution_count": 104,
      "metadata": {
        "id": "rR5YR4TXiFIF"
      },
      "outputs": [],
      "source": [
        "import numpy as np\n",
        "import scipy.stats\n",
        "from sklearn.base import BaseEstimator\n",
        "from sklearn.preprocessing import scale\n",
        "class KernelDensity(BaseEstimator):\n",
        "    def __init__(self, bandwidth):\n",
        "        self.bandwidth = bandwidth\n",
        "    \n",
        "    def fit(self, X, y=None):\n",
        "        ##### Your code here #####\n",
        "        # Save the training data in self.X_train_\n",
        "        self.X_train_ = X.reshape(-1)\n",
        "        ##########################\n",
        "        return self\n",
        "    \n",
        "    def predict_proba(self, X):\n",
        "        ##### Your code here #####\n",
        "        # You should return the KDE PDF value of the samples X.\n",
        "        #  Note that the sum above is over the TRAINING samples, not the test samples\n",
        "        #  so you should use the samples saved in the fit method.\n",
        "        train_n = len(self.X_train_)\n",
        "        test_n = len(X)\n",
        "        pdf_values = np.zeros(test_n)\n",
        "\n",
        "        # Get PDF for each point in test data\n",
        "        for i in range(0, test_n):\n",
        "            pdf_values[i] = (1/train_n)*np.sum(scipy.stats.norm.pdf(\n",
        "                x =     X[i],\n",
        "                loc =   self.X_train_,\n",
        "                scale = self.bandwidth\n",
        "            ))\n",
        "        ##########################\n",
        "        return pdf_values  # Output should be of shape (n,), i.e., a 1D array"
      ]
    },
    {
      "cell_type": "markdown",
      "metadata": {
        "id": "J10j5iziiFIG"
      },
      "source": [
        "### Test code\n",
        "The following code will test each of your density estimators.\n",
        "Run this to test your code and this is what will be used for grading your code."
      ]
    },
    {
      "cell_type": "code",
      "execution_count": 105,
      "metadata": {
        "id": "jwnwqgTwiFIH",
        "scrolled": false
      },
      "outputs": [
        {
          "name": "stdout",
          "output_type": "stream",
          "text": [
            "(200, 1) (200, 1)\n",
            "Fitting GaussianDensity model\n",
            "True, Shape=(1000,) - Is the output the correct shape?\n",
            "True, Num neg=0 - Are all pdf values >= 0? \n",
            "quad_out=0.9999886392366787\n",
            "\n",
            "Fitting HistogramDensity model\n",
            "False, Shape=(1000, 1) - Is the output the correct shape?\n",
            "True, Num neg=0 - Are all pdf values >= 0? \n",
            "quad_out=0.9999702070392885\n",
            "\n",
            "Fitting KernelDensity model\n",
            "True, Shape=(1000,) - Is the output the correct shape?\n",
            "True, Num neg=0 - Are all pdf values >= 0? \n",
            "quad_out=1.0\n",
            "\n"
          ]
        },
        {
          "data": {
            "text/plain": [
              "<matplotlib.legend.Legend at 0x7f552aefb820>"
            ]
          },
          "execution_count": 105,
          "metadata": {},
          "output_type": "execute_result"
        },
        {
          "data": {
            "image/png": "[encoded data removed]",
            "text/plain": [
              "<Figure size 640x480 with 1 Axes>"
            ]
          },
          "metadata": {},
          "output_type": "display_data"
        }
      ],
      "source": [
        "import scipy.stats\n",
        "import matplotlib.pyplot as plt\n",
        "from sklearn.model_selection import train_test_split\n",
        "# Generate some data and split into train and test\n",
        "min_val, max_val = -5, 5\n",
        "diff = max_val - min_val\n",
        "X = diff * np.vstack([scipy.stats.beta(6,1).rvs(size=(300,1)), scipy.stats.beta(2,7).rvs(size=(100,1))]) - diff/2\n",
        "X_train, X_test = train_test_split(X, test_size=0.5, random_state=15)\n",
        "print(X_train.shape, X_test.shape)\n",
        "\n",
        "# Loop through models\n",
        "models = [GaussianDensity(), \n",
        "          HistogramDensity(n_bins=15, min_val=min_val, max_val=max_val),\n",
        "          KernelDensity(bandwidth=1)\n",
        "         ]\n",
        "for model in models:\n",
        "    print(f'Fitting {type(model).__name__} model')\n",
        "    # Fit models\n",
        "    model.fit(X_train)\n",
        "\n",
        "    # Sanity checks \n",
        "    xq = np.linspace(min_val-diff, max_val+diff, num=1000)\n",
        "    pdf_vals = model.predict_proba(xq.reshape(-1, 1))\n",
        "    # Check that right size and >= 0\n",
        "    print(f'{len(pdf_vals.shape) == 1 and pdf_vals.shape[0] == len(xq)}, Shape={pdf_vals.shape}'\n",
        "          f' - Is the output the correct shape?') \n",
        "    print(f'{np.all(pdf_vals>=0)}, Num neg={np.sum(pdf_vals < 0)} - Are all pdf values >= 0? ')\n",
        "    \n",
        "    # Check that integrates to 1 vai approximate numerical integration\n",
        "    model_pdf = lambda x: model.predict_proba(np.array(x).reshape(1,1))[0]\n",
        "    quad_out = scipy.integrate.quad(model_pdf, min_val - diff, max_val + diff, limit=100, full_output=True)\n",
        "    print(f'quad_out={quad_out[0]}')\n",
        "    print('')\n",
        "\n",
        "    # Plot density model\n",
        "    plt.plot(xq, pdf_vals, label=type(model).__name__)\n",
        "    \n",
        "plt.legend()"
      ]
    },
    {
      "cell_type": "markdown",
      "metadata": {
        "id": "9M2ymOowiFIJ"
      },
      "source": [
        "## Exercise 2: Determine optimal hyperparameters based on 10-fold cross validation\n",
        "In this exercise, you need to write code that will use your estimators from above to automatically choose the best hyperparameters for the histogram and kernel density estimator.  In particular, find the best `n_bins` and `bandwidth` for the histogram and KDE respectively.\n",
        "\n",
        "### Task 1: Implement custom scorer function for use in GridSearchCV\n",
        "To do this, you will need to implement a `scorer` function that will compute the log likelihood of the data given (higher is better).\n",
        "This function takes in the model, the input data X and y_true (which defaults to None since this is an unsupervised problem).\n",
        "\n",
        "Since we are computing the log of probabilities, we have to be careful on the case where the probability for a certain sample is zero, since the log(0) is negative infinity. And this phenomenon can happen when we use more and more bins to approximate the density with Histogram density model(Consider the case where the original density value is small for a certain range of x, and when we do sampling on the distribution, there is a high likelihood that none of the sampled points fall into that range, i.e the probability bin will have 0 height on that range). \n",
        "\n",
        "One easy way to overcome this issue is to add a small number epsilon (e.g 1e-15) on the probability value that is 0. The code might look like this:\n",
        "`pdf_vector[pdf_vector<lambda_] = lambda_ # where lambda_ is a small value like 1e-15`"
      ]
    },
    {
      "cell_type": "code",
      "execution_count": 106,
      "metadata": {
        "id": "4BPHde1biFIJ"
      },
      "outputs": [],
      "source": [
        "def mean_log_likelihood_scorer(model, X, y_true=None, lambda_=1e-15):\n",
        "    ########## Your code here ########\n",
        "    # Compute and return the mean log probability of the data\n",
        "    #  (Note y_true is not used)\n",
        "    X = X.reshape(-1)\n",
        "    pdf_values_ = model.predict_proba(X)\n",
        "    pdf_values_[pdf_values_ < lambda_] = lambda_\n",
        "    mean_ll = np.sum(np.log(pdf_values_)) / len(X)\n",
        "    return mean_ll\n",
        "    ############"
      ]
    },
    {
      "cell_type": "markdown",
      "metadata": {
        "id": "Qpaz-_1tiFIK"
      },
      "source": [
        "### Task 2: Estimate best hyperparameters\n",
        "Then you can use sklearn's cross validation utilities to cross validate using the training data to determine the best parameters by passing this function as the `scoring` argument of GridSearchCV (note you just pass it directly as `mean_log_likelihood_scorer` without the parenthesis; this is known as passing a function to another function).\n",
        "\n",
        "You should try 2-20 number of bins and a 50 bandwidth parameters linearly spaced between 0.1 and 10.\n",
        "\n",
        "Finally, print out the optimal hyperparameters and, using the optimal hyperparameters, print out the log likelihood of the test data for both the histogram and KDE model."
      ]
    },
    {
      "cell_type": "code",
      "execution_count": 107,
      "metadata": {
        "id": "EBqB0fg1iFIM"
      },
      "outputs": [
        {
          "name": "stdout",
          "output_type": "stream",
          "text": [
            "Best hyperparameters: {'n_bins': 14}\n",
            "Test Score: -2.3196505186376415\n"
          ]
        }
      ],
      "source": [
        "############ Your code here #############3\n",
        "from sklearn.model_selection import GridSearchCV\n",
        "\n",
        "# Histogram density\n",
        "nbins_search = list(range(2,20+1))\n",
        "histogram_cv = GridSearchCV(\n",
        "    estimator = HistogramDensity(n_bins = 2, min_val = min_val, max_val = max_val),\n",
        "    param_grid = {\"n_bins\" : nbins_search},\n",
        "    scoring = mean_log_likelihood_scorer,\n",
        "    cv = 10\n",
        ")\n",
        "histogram_cv.fit(X_train)\n",
        "\n",
        "print(\"Best hyperparameters: \" + str(histogram_cv.best_params_))\n",
        "print(\"Test Score: \" + str(histogram_cv.score(X_test)))"
      ]
    },
    {
      "cell_type": "code",
      "execution_count": 108,
      "metadata": {},
      "outputs": [
        {
          "name": "stdout",
          "output_type": "stream",
          "text": [
            "Best hyperparameters: {'bandwidth': 0.3020408163265306}\n",
            "Test Score: -1.9391797287332495\n"
          ]
        }
      ],
      "source": [
        "# Kernel density\n",
        "bandwidth_search = np.linspace(start = 0.1, stop = 10, num = 50)\n",
        "kernel_cv = GridSearchCV(\n",
        "    estimator = KernelDensity(bandwidth = 0.1),\n",
        "    param_grid = {\"bandwidth\" : bandwidth_search},\n",
        "    scoring = mean_log_likelihood_scorer,\n",
        "    cv = 10\n",
        ")\n",
        "kernel_cv.fit(X_train)\n",
        "\n",
        "print(\"Best hyperparameters: \" + str(kernel_cv.best_params_))\n",
        "print(\"Test Score: \" + str(kernel_cv.score(X_test)))"
      ]
    }
  ],
  "metadata": {
    "accelerator": "GPU",
    "colab": {
      "collapsed_sections": [],
      "provenance": []
    },
    "kernelspec": {
      "display_name": "Python 3.8.10 64-bit",
      "language": "python",
      "name": "python3"
    },
    "language_info": {
      "codemirror_mode": {
        "name": "ipython",
        "version": 3
      },
      "file_extension": ".py",
      "mimetype": "text/x-python",
      "name": "python",
      "nbconvert_exporter": "python",
      "pygments_lexer": "ipython3",
      "version": "3.8.10"
    },
    "vscode": {
      "interpreter": {
        "hash": "916dbcbb3f70747c44a77c7bcd40155683ae19c65e1c03b4aa3499c5328201f1"
      }
    }
  },
  "nbformat": 4,
  "nbformat_minor": 0
}
