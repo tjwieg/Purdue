{
 "cells": [
  {
   "cell_type": "markdown",
   "metadata": {},
   "source": [
    "TJ Wiegman  \n",
    "ASM 591 AI  \n",
    "Lab 7  \n",
    "2024-11-06"
   ]
  },
  {
   "cell_type": "markdown",
   "metadata": {
    "id": "FF6dd7Jz9FTu"
   },
   "source": [
    "# Examples\n",
    "## Example 1: Dense Layer and Forward Propagation"
   ]
  },
  {
   "cell_type": "code",
   "execution_count": 233,
   "metadata": {
    "colab": {
     "base_uri": "https://localhost:8080/"
    },
    "id": "9mIbkxFE7D0D",
    "outputId": "c790b20a-40be-4792-82f6-b9258acc197f"
   },
   "outputs": [
    {
     "name": "stdout",
     "output_type": "stream",
     "text": [
      "Output of dense layer: [[0.29070947 0.16140856]]\n"
     ]
    }
   ],
   "source": [
    "import numpy as np\n",
    "\n",
    "# Define a simple dense layer\n",
    "class DenseLayer:\n",
    "    def __init__(self, input_size, output_size):\n",
    "        # Randomly initialize weights and biases\n",
    "        self.weights = np.random.randn(input_size, output_size) * 0.1\n",
    "        self.biases = np.zeros((1, output_size))\n",
    "\n",
    "    def forward(self, inputs):\n",
    "        # Perform forward propagation: inputs * weights + biases\n",
    "        return np.dot(inputs, self.weights) + self.biases\n",
    "\n",
    "# Example: 3 inputs, 2 outputs\n",
    "dense_layer = DenseLayer(3, 2)\n",
    "\n",
    "# Example input\n",
    "inputs = np.array([[1.0, 2.0, 3.0]])\n",
    "\n",
    "# Perform forward propagation\n",
    "output = dense_layer.forward(inputs)\n",
    "print(\"Output of dense layer:\", output)\n"
   ]
  },
  {
   "cell_type": "markdown",
   "metadata": {
    "id": "JuDSsoPy9M09"
   },
   "source": [
    "## Example 2: Activation Function"
   ]
  },
  {
   "cell_type": "code",
   "execution_count": 234,
   "metadata": {
    "id": "jOcZKcGh9RI9"
   },
   "outputs": [
    {
     "name": "stdout",
     "output_type": "stream",
     "text": [
      "ReLU Output: [[1. 0. 0.]]\n",
      "Sigmoid Output: [[0.73105858 0.26894142 0.5       ]]\n"
     ]
    }
   ],
   "source": [
    "# Define activation functions: ReLU and Sigmoid\n",
    "def relu(x):\n",
    "    return np.maximum(0, x)\n",
    "\n",
    "def sigmoid(x):\n",
    "    return 1 / (1 + np.exp(-x))\n",
    "\n",
    "# Example input\n",
    "inputs = np.array([[1.0, -1.0, 0.0]])\n",
    "\n",
    "# Applying activation functions\n",
    "print(\"ReLU Output:\", relu(inputs))\n",
    "print(\"Sigmoid Output:\", sigmoid(inputs))\n"
   ]
  },
  {
   "cell_type": "markdown",
   "metadata": {
    "id": "AE36mV709SHK"
   },
   "source": [
    "## Example 3: Backpropagation"
   ]
  },
  {
   "cell_type": "code",
   "execution_count": 235,
   "metadata": {
    "id": "GV77R9yE9Vbb"
   },
   "outputs": [],
   "source": [
    "class DenseLayerWithBackprop:\n",
    "    def __init__(self, input_size, output_size):\n",
    "        self.weights = np.random.randn(input_size, output_size) * 0.1\n",
    "        self.biases = np.zeros((1, output_size))\n",
    "\n",
    "    def forward(self, inputs):\n",
    "        self.inputs = inputs\n",
    "        return np.dot(inputs, self.weights) + self.biases\n",
    "\n",
    "    def backward(self, dvalues, learning_rate=0.001):\n",
    "        # Gradient on weights and biases\n",
    "        self.dweights = np.dot(self.inputs.T, dvalues)\n",
    "        self.dbiases = np.sum(dvalues, axis=0, keepdims=True)\n",
    "\n",
    "        # Gradient on inputs for chain rule backpropagation\n",
    "        self.dinputs = np.dot(dvalues, self.weights.T)\n",
    "\n",
    "        # Update weights and biases using gradient descent\n",
    "        self.weights -= learning_rate * self.dweights\n",
    "        self.biases -= learning_rate * self.dbiases\n",
    "\n",
    "# Forward and Backward Propagation Example\n",
    "layer = DenseLayerWithBackprop(3, 2)\n",
    "inputs = np.array([[1.0, 2.0, 3.0]])\n",
    "output = layer.forward(inputs)\n",
    "\n",
    "# Example gradient (derivative of some loss function)\n",
    "dvalues = np.array([[1.0, 1.0]])\n",
    "layer.backward(dvalues)\n"
   ]
  },
  {
   "cell_type": "markdown",
   "metadata": {
    "id": "Igy7wuHo9Ypq"
   },
   "source": [
    "## Example 4: Feature Handling and Normalization"
   ]
  },
  {
   "cell_type": "code",
   "execution_count": 236,
   "metadata": {
    "id": "-GO6OMl19dvC"
   },
   "outputs": [
    {
     "name": "stdout",
     "output_type": "stream",
     "text": [
      "Normalized Features: [[-1.34164079 -1.34164079]\n",
      " [-0.4472136  -0.4472136 ]\n",
      " [ 0.4472136   0.4472136 ]\n",
      " [ 1.34164079  1.34164079]]\n"
     ]
    }
   ],
   "source": [
    "from sklearn.preprocessing import StandardScaler\n",
    "\n",
    "# Data example: Each row is a feature vector for a sample\n",
    "features = np.array([[1, 2], [2, 3], [3, 4], [4, 5]])\n",
    "\n",
    "# Standardizing features\n",
    "scaler = StandardScaler()\n",
    "normalized_features = scaler.fit_transform(features)\n",
    "\n",
    "print(\"Normalized Features:\", normalized_features)\n"
   ]
  },
  {
   "cell_type": "markdown",
   "metadata": {
    "id": "10uhWM8u9i8s"
   },
   "source": [
    "## Example 5: Loss Functions"
   ]
  },
  {
   "cell_type": "code",
   "execution_count": 237,
   "metadata": {
    "id": "4xyPz1E79lRt"
   },
   "outputs": [
    {
     "name": "stdout",
     "output_type": "stream",
     "text": [
      "MSE Loss: 0.039999999999999994\n"
     ]
    }
   ],
   "source": [
    "# Mean Squared Error (MSE) Loss function\n",
    "def mse_loss(y_true, y_pred):\n",
    "    return np.mean((y_true - y_pred) ** 2)\n",
    "\n",
    "# Example: Target and prediction\n",
    "y_true = np.array([[1.0, 0.0]])\n",
    "y_pred = np.array([[0.8, 0.2]])\n",
    "\n",
    "# Compute loss\n",
    "loss = mse_loss(y_true, y_pred)\n",
    "print(\"MSE Loss:\", loss)\n"
   ]
  },
  {
   "cell_type": "markdown",
   "metadata": {
    "id": "E9prpvja9nvS"
   },
   "source": [
    "# Problem Sets\n"
   ]
  },
  {
   "cell_type": "markdown",
   "metadata": {
    "id": "v8yy5YF19yAn"
   },
   "source": [
    "## Problem 1: Build and Train a Neural Network with Forward Pass\n",
    "\n",
    "Goal:\n",
    " - Implement a neural network with two dense layers.\n",
    " - Apply the ReLU activation function after the first layer.\n",
    " - Apply the Sigmoid activation function after the second layer.\n",
    " - Write a function that performs the forward pass.\n",
    "\n",
    "Instructions:\n",
    " - Implement two layers (using the DenseLayer class provided above).\n",
    " - Apply the ReLU activation function to the output of the first layer.\n",
    " - Apply the Sigmoid activation function to the final output.\n",
    " - Write a forward_pass function that takes an input, passes it through the two layers, and prints the final output."
   ]
  },
  {
   "cell_type": "code",
   "execution_count": 238,
   "metadata": {},
   "outputs": [],
   "source": [
    "class Problem1Net:\n",
    "    def __init__(self) -> None:\n",
    "        self.nn1 = DenseLayer(10, 5)\n",
    "        self.nn2 = DenseLayer(5, 1)\n",
    "        \n",
    "    def forward(self, input):\n",
    "        x = self.nn1.forward(input)\n",
    "        x = relu(x)\n",
    "        x = self.nn2.forward(x)\n",
    "        return sigmoid(x)\n",
    "\n",
    "p1net = Problem1Net()\n",
    "\n",
    "def forward_pass(input):\n",
    "    print(p1net.forward(input))\n",
    "    "
   ]
  },
  {
   "cell_type": "markdown",
   "metadata": {
    "id": "9hUCvCds99Jy"
   },
   "source": [
    "## Problem 2: Implement Backpropagation in a Neural Network\n",
    "Goal:\n",
    " - Extend your network to include backpropagation.\n",
    " - Use the Mean Squared Error (MSE) loss function to calculate the error.\n",
    " - Implement weight updates using gradient descent.\n",
    "\n",
    "Instructions:\n",
    " - Add a backward_pass method that computes the gradients for the weights and biases.\n",
    " - After the forward pass, compute the error using the MSE loss function.\n",
    " - Use backpropagation to update the weights and biases.\n",
    " - Run multiple iterations and print how the loss decreases over time."
   ]
  },
  {
   "cell_type": "code",
   "execution_count": 239,
   "metadata": {},
   "outputs": [
    {
     "name": "stdout",
     "output_type": "stream",
     "text": [
      "[1/20] loss = 0.04\n",
      "[2/20] loss = 0.04\n",
      "[3/20] loss = 0.04\n",
      "[4/20] loss = 0.04\n",
      "[5/20] loss = 0.04\n",
      "[6/20] loss = 0.04\n",
      "[7/20] loss = 0.04\n",
      "[8/20] loss = 0.04\n",
      "[9/20] loss = 0.04\n",
      "[10/20] loss = 0.04\n",
      "[11/20] loss = 0.04\n",
      "[12/20] loss = 0.04\n",
      "[13/20] loss = 0.04\n",
      "[14/20] loss = 0.04\n",
      "[15/20] loss = 0.04\n",
      "[16/20] loss = 0.04\n",
      "[17/20] loss = 0.04\n",
      "[18/20] loss = 0.04\n",
      "[19/20] loss = 0.04\n",
      "[20/20] loss = 0.04\n"
     ]
    }
   ],
   "source": [
    "def mse_derivative(y_pred, y_true):\n",
    "    return 2*(y_pred - y_true)\n",
    "\n",
    "def sigmoid_derivative(value):\n",
    "    return value * (1 - value)\n",
    "\n",
    "def relu_derivative(value):\n",
    "    return np.where(value > 0, 1, 0)\n",
    "\n",
    "class Problem2Net:\n",
    "    def __init__(self) -> None:\n",
    "        self.nn1 = DenseLayerWithBackprop(10, 5)\n",
    "        self.nn2 = DenseLayerWithBackprop(5, 1)\n",
    "    \n",
    "    def forward(self, input):\n",
    "        self.input = input\n",
    "        z1 = self.nn1.forward(input)\n",
    "        a1 = relu(z1)\n",
    "        z2 = self.nn2.forward(a1)\n",
    "        a2 = sigmoid(z2)\n",
    "        return a2\n",
    "    \n",
    "    def backward_pass(self, y_true):\n",
    "        # Forward pass to get output of each layer\n",
    "        z1 = self.nn1.forward(self.input)\n",
    "        z2 = self.nn2.forward(relu(z1))\n",
    "        a2 = sigmoid(z2)\n",
    "        \n",
    "        # Backpropagate to get gradient deltas\n",
    "        d2 = mse_derivative(a2, y_true) * sigmoid_derivative(a2)\n",
    "        d1 = np.dot(d2, self.nn2.weights.T) * relu_derivative(z1)\n",
    "        \n",
    "        # Adjust weights and biases with deltas\n",
    "        self.nn2.backward(d2)\n",
    "        self.nn1.backward(d1)\n",
    "        \n",
    "    \n",
    "p2net = Problem2Net()\n",
    "\n",
    "# Random demo\n",
    "x = np.random.random(size=(100,10))\n",
    "y = np.random.random(size=(100,))\n",
    "\n",
    "for epoch in range(20):\n",
    "    losses = []\n",
    "    for batch in range(x.shape[0]):\n",
    "        pred = p2net.forward(x[batch, None])\n",
    "        losses.append(mse_loss(y[batch], pred))\n",
    "        p2net.backward_pass(y[batch])\n",
    "    \n",
    "    print(f\"[{epoch+1}/20] loss = {np.average(loss):.4}\")\n"
   ]
  },
  {
   "cell_type": "markdown",
   "metadata": {
    "id": "_-95cdqp-CaZ"
   },
   "source": [
    "## Problem 3: Feature Handling and Neural Network Implementation\n",
    "Goal:\n",
    " - Take a small dataset (like Iris from sklearn).\n",
    " - Normalize the input features.\n",
    " - Implement a neural network for classification.\n",
    "\n",
    "Instructions:\n",
    " - Use a dataset (you can load the Iris dataset from sklearn.datasets).\n",
    " - Normalize the features using StandardScaler.\n",
    " - Build a neural network with two hidden layers using ReLU activation functions.\n",
    " - Train the network to classify the data points and evaluate its accuracy."
   ]
  },
  {
   "cell_type": "code",
   "execution_count": 240,
   "metadata": {
    "id": "ywxYSA1U-kjI"
   },
   "outputs": [
    {
     "name": "stdout",
     "output_type": "stream",
     "text": [
      "(150, 4) (150,)\n"
     ]
    }
   ],
   "source": [
    "#importing the dataset\n",
    "from sklearn.datasets import load_iris\n",
    "data = load_iris()\n",
    "X = data.data   # Input features\n",
    "y = data.target # Target labels\n",
    "print(X.shape, y.shape)\n"
   ]
  },
  {
   "cell_type": "code",
   "execution_count": 241,
   "metadata": {},
   "outputs": [
    {
     "name": "stdout",
     "output_type": "stream",
     "text": [
      "0\n",
      "1\n",
      "2\n"
     ]
    }
   ],
   "source": [
    "for i in range(len(y)):\n",
    "    if y[i] not in y[:i]: print(y[i])"
   ]
  },
  {
   "cell_type": "code",
   "execution_count": 242,
   "metadata": {
    "id": "R4P96Exu-rNS"
   },
   "outputs": [],
   "source": [
    "#Normalize the input features\n",
    "from sklearn.preprocessing import StandardScaler\n",
    "scaler = StandardScaler()\n",
    "X_normalized = scaler.fit_transform(X)\n"
   ]
  },
  {
   "cell_type": "code",
   "execution_count": 243,
   "metadata": {
    "id": "PDFftFnq-ysO"
   },
   "outputs": [],
   "source": [
    "#splitting dataset into test and train sets\n",
    "from sklearn.model_selection import train_test_split\n",
    "X_train, X_test, y_train, y_test = train_test_split(X_normalized, y, test_size=0.2)\n"
   ]
  },
  {
   "cell_type": "code",
   "execution_count": 244,
   "metadata": {},
   "outputs": [
    {
     "name": "stdout",
     "output_type": "stream",
     "text": [
      "cuda\n"
     ]
    }
   ],
   "source": [
    "# Enable GPU acceleration\n",
    "import torch\n",
    "device = torch.device('cuda' if torch.cuda.is_available() else 'cpu')\n",
    "print(device)"
   ]
  },
  {
   "cell_type": "code",
   "execution_count": 245,
   "metadata": {},
   "outputs": [],
   "source": [
    "# Create NN\n",
    "import torch.nn as nn\n",
    "import torch.nn.functional as F\n",
    "\n",
    "class Problem3Net(nn.Module):\n",
    "    def __init__(self) -> None:\n",
    "        super().__init__()\n",
    "        self.nn1 = nn.Linear(4, 3) # Linear = fully connected net\n",
    "        self.nn2 = nn.Linear(3, 2)\n",
    "        self.nn3 = nn.Linear(2, 1)\n",
    "    \n",
    "    def forward(self, x):\n",
    "        x = F.relu(self.nn1(x))\n",
    "        x = F.relu(self.nn2(x))\n",
    "        x = F.relu(self.nn3(x))\n",
    "        return x\n"
   ]
  },
  {
   "cell_type": "code",
   "execution_count": 246,
   "metadata": {},
   "outputs": [],
   "source": [
    "# Create training function\n",
    "def train(epoch, model, device, optimizer, data, loss_function):\n",
    "    # Prepare model\n",
    "    model.to(device)\n",
    "    model.train()\n",
    "    \n",
    "    for batch_idx, (X, y) in enumerate(data):\n",
    "        # Load data into GPU\n",
    "        X = X.to(device)\n",
    "        y = y.to(device)\n",
    "        optimizer.zero_grad()\n",
    "        \n",
    "        # Calculate and record output & loss\n",
    "        output = model(X)\n",
    "        loss = loss_function(output, y)\n",
    "        loss.backward()\n",
    "        optimizer.step()\n",
    "        \n",
    "        # Periodically report on training progress\n",
    "        print(f\"\\rEpoch {epoch}: Training {batch_idx * len(X)}/{len(data.dataset)} \" + \n",
    "              f\"(Loss: {loss.item():02.4})\", end=\"\")\n",
    "    print(f\"\\rEpoch {epoch}: Trained {len(data.dataset)}/{len(data.dataset)} \" + \n",
    "              f\"(Loss: {loss.item():02.4})\")"
   ]
  },
  {
   "cell_type": "code",
   "execution_count": 247,
   "metadata": {},
   "outputs": [],
   "source": [
    "# Create testing function\n",
    "def test(epoch, model, device, data, loss_function):\n",
    "    # Prepare model and data\n",
    "    model.to(device)\n",
    "    model.eval()\n",
    "    test_loss = []\n",
    "    correct = []\n",
    "    \n",
    "    with torch.no_grad():\n",
    "        for batch_idx, (X, y) in enumerate(data):\n",
    "            # Load data into GPU\n",
    "            X = X.to(device)\n",
    "            y = y.to(device)\n",
    "            \n",
    "            # Calculate and record output & loss\n",
    "            output = model(X)\n",
    "            test_loss.append(loss_function(output, y).item())\n",
    "            \n",
    "            prediction = output.round()\n",
    "            correct.append(prediction.eq(y).sum() / len(y))\n",
    "\n",
    "            # Periodically report on testing progress\n",
    "            print(f\"\\rEpoch {epoch}: Testing {batch_idx*len(X)}/{len(data.dataset)}...\", end=\"\")\n",
    "        print(f\"\\rEpoch {epoch}: Testing {len(data.dataset)}/{len(data.dataset)}\")\n",
    "    \n",
    "    # Report results\n",
    "    test_loss = torch.mean(torch.tensor(test_loss))\n",
    "    accuracy = 100 * torch.mean(torch.tensor(correct))\n",
    "    print(f\"Test Result, epoch {epoch}: Avg loss {test_loss:04.4}, Accuracy {accuracy:02.4}%\")\n",
    "    \n",
    "    return accuracy"
   ]
  },
  {
   "cell_type": "code",
   "execution_count": 248,
   "metadata": {},
   "outputs": [],
   "source": [
    "# Create data loaders\n",
    "from torch.utils.data import Dataset, DataLoader\n",
    "\n",
    "class IrisSet(Dataset):\n",
    "    def __init__(self, X, y):\n",
    "        self.X = X\n",
    "        self.y = y\n",
    "    \n",
    "    def __len__(self):\n",
    "        return len(self.y)\n",
    "    \n",
    "    def __getitem__(self, idx):\n",
    "        return torch.tensor(self.X[idx, :],dtype=torch.float), torch.tensor([self.y[idx]], dtype=torch.float)\n",
    "\n",
    "train_set = IrisSet(X_train, y_train)\n",
    "test_set = IrisSet(X_test, y_test)\n",
    "\n",
    "train_data = DataLoader(\n",
    "    dataset = train_set,\n",
    "    batch_size = 10,\n",
    "    shuffle = True\n",
    ")\n",
    "\n",
    "test_data = DataLoader(\n",
    "    dataset = test_set,\n",
    "    batch_size = 15,\n",
    "    shuffle = True\n",
    ")"
   ]
  },
  {
   "cell_type": "code",
   "execution_count": 258,
   "metadata": {},
   "outputs": [
    {
     "name": "stdout",
     "output_type": "stream",
     "text": [
      "Epoch 1: Trained 120/120 (Loss: 0.5396))\n",
      "Epoch 1: Testing 30/30...\n",
      "Test Result, epoch 1: Avg loss 0.3875, Accuracy 53.33%\n",
      "Epoch 2: Trained 120/120 (Loss: 0.3937))\n",
      "Epoch 2: Testing 30/30...\n",
      "Test Result, epoch 2: Avg loss 0.2667, Accuracy 66.67%\n",
      "Epoch 3: Trained 120/120 (Loss: 0.2646))\n",
      "Epoch 3: Testing 30/30...\n",
      "Test Result, epoch 3: Avg loss 0.1923, Accuracy 66.67%\n",
      "Epoch 4: Trained 120/120 (Loss: 0.1913))\n",
      "Epoch 4: Testing 30/30...\n",
      "Test Result, epoch 4: Avg loss 0.1488, Accuracy 66.67%\n",
      "Epoch 5: Trained 120/120 (Loss: 0.1164))\n",
      "Epoch 5: Testing 30/30...\n",
      "Test Result, epoch 5: Avg loss 0.1304, Accuracy 90.0%\n",
      "Epoch 6: Trained 120/120 (Loss: 0.08258))\n",
      "Epoch 6: Testing 30/30...\n",
      "Test Result, epoch 6: Avg loss 0.1209, Accuracy 86.67%\n",
      "Epoch 7: Trained 120/120 (Loss: 0.1157))\n",
      "Epoch 7: Testing 30/30...\n",
      "Test Result, epoch 7: Avg loss 0.09112, Accuracy 93.33%\n",
      "Epoch 8: Trained 120/120 (Loss: 0.11))97)\n",
      "Epoch 8: Testing 30/30...\n",
      "Test Result, epoch 8: Avg loss 0.1047, Accuracy 86.67%\n",
      "Epoch 9: Trained 120/120 (Loss: 0.04695))\n",
      "Epoch 9: Testing 30/30...\n",
      "Test Result, epoch 9: Avg loss 0.07993, Accuracy 90.0%\n",
      "Epoch 10: Trained 120/120 (Loss: 0.03784))\n",
      "Epoch 10: Testing 30/30...\n",
      "Test Result, epoch 10: Avg loss 0.0779, Accuracy 90.0%\n",
      "Epoch 11: Trained 120/120 (Loss: 0.07931))\n",
      "Epoch 11: Testing 30/30...\n",
      "Test Result, epoch 11: Avg loss 0.07379, Accuracy 93.33%\n",
      "Epoch 12: Trained 120/120 (Loss: 0.04865))\n",
      "Epoch 12: Testing 30/30...\n",
      "Test Result, epoch 12: Avg loss 0.06854, Accuracy 93.33%\n",
      "Epoch 13: Trained 120/120 (Loss: 0.0378)))\n",
      "Epoch 13: Testing 30/30...\n",
      "Test Result, epoch 13: Avg loss 0.06522, Accuracy 93.33%\n",
      "Epoch 14: Trained 120/120 (Loss: 0.0127))\n",
      "Epoch 14: Testing 30/30...\n",
      "Test Result, epoch 14: Avg loss 0.06647, Accuracy 93.33%\n",
      "Epoch 15: Trained 120/120 (Loss: 0.01211))\n",
      "Epoch 15: Testing 30/30...\n",
      "Test Result, epoch 15: Avg loss 0.06411, Accuracy 93.33%\n",
      "Epoch 16: Trained 120/120 (Loss: 0.01828))\n",
      "Epoch 16: Testing 30/30...\n",
      "Test Result, epoch 16: Avg loss 0.08759, Accuracy 90.0%\n",
      "Epoch 17: Trained 120/120 (Loss: 0.08471))\n",
      "Epoch 17: Testing 30/30...\n",
      "Test Result, epoch 17: Avg loss 0.04913, Accuracy 93.33%\n",
      "Epoch 18: Trained 120/120 (Loss: 0.03262))\n",
      "Epoch 18: Testing 30/30...\n",
      "Test Result, epoch 18: Avg loss 0.09003, Accuracy 90.0%\n",
      "Epoch 19: Trained 120/120 (Loss: 0.04557))\n",
      "Epoch 19: Testing 30/30...\n",
      "Test Result, epoch 19: Avg loss 0.05855, Accuracy 93.33%\n",
      "Epoch 20: Trained 120/120 (Loss: 0.05961))\n",
      "Epoch 20: Testing 30/30...\n",
      "Test Result, epoch 20: Avg loss 0.06011, Accuracy 90.0%\n",
      "Epoch 21: Trained 120/120 (Loss: 0.05596))\n",
      "Epoch 21: Testing 30/30...\n",
      "Test Result, epoch 21: Avg loss 0.05929, Accuracy 90.0%\n",
      "Epoch 22: Trained 120/120 (Loss: 0.03487))\n",
      "Epoch 22: Testing 30/30...\n",
      "Test Result, epoch 22: Avg loss 0.0561, Accuracy 93.33%\n",
      "Epoch 23: Trained 120/120 (Loss: 0.03216))\n",
      "Epoch 23: Testing 30/30...\n",
      "Test Result, epoch 23: Avg loss 0.06535, Accuracy 90.0%\n",
      "Epoch 24: Trained 120/120 (Loss: 0.07382))\n",
      "Epoch 24: Testing 30/30...\n",
      "Test Result, epoch 24: Avg loss 0.05702, Accuracy 90.0%\n",
      "Epoch 25: Trained 120/120 (Loss: 0.0634)))\n",
      "Epoch 25: Testing 30/30...\n",
      "Test Result, epoch 25: Avg loss 0.04981, Accuracy 93.33%\n",
      "Epoch 26: Trained 120/120 (Loss: 0.0475)))\n",
      "Epoch 26: Testing 30/30...\n",
      "Test Result, epoch 26: Avg loss 0.1016, Accuracy 90.0%\n",
      "Epoch 27: Trained 120/120 (Loss: 0.06247))\n",
      "Epoch 27: Testing 30/30...\n",
      "Test Result, epoch 27: Avg loss 0.04751, Accuracy 93.33%\n",
      "Epoch 28: Trained 120/120 (Loss: 0.01993))\n",
      "Epoch 28: Testing 30/30...\n",
      "Test Result, epoch 28: Avg loss 0.07638, Accuracy 90.0%\n",
      "Epoch 29: Trained 120/120 (Loss: 0.03991))\n",
      "Epoch 29: Testing 30/30...\n",
      "Test Result, epoch 29: Avg loss 0.05103, Accuracy 93.33%\n",
      "Epoch 30: Trained 120/120 (Loss: 0.04166))\n",
      "Epoch 30: Testing 30/30...\n",
      "Test Result, epoch 30: Avg loss 0.06542, Accuracy 90.0%\n",
      "Epoch 31: Trained 120/120 (Loss: 0.03126))\n",
      "Epoch 31: Testing 30/30...\n",
      "Test Result, epoch 31: Avg loss 0.05291, Accuracy 90.0%\n",
      "Epoch 32: Trained 120/120 (Loss: 0.03266))\n",
      "Epoch 32: Testing 30/30...\n",
      "Test Result, epoch 32: Avg loss 0.06083, Accuracy 90.0%\n",
      "Epoch 33: Trained 120/120 (Loss: 0.006915))\n",
      "Epoch 33: Testing 30/30...\n",
      "Test Result, epoch 33: Avg loss 0.0631, Accuracy 90.0%\n",
      "Epoch 34: Trained 120/120 (Loss: 0.03734))\n",
      "Epoch 34: Testing 30/30...\n",
      "Test Result, epoch 34: Avg loss 0.04868, Accuracy 93.33%\n",
      "Epoch 35: Trained 120/120 (Loss: 0.04058))\n",
      "Epoch 35: Testing 30/30...\n",
      "Test Result, epoch 35: Avg loss 0.09283, Accuracy 90.0%\n",
      "Epoch 36: Trained 120/120 (Loss: 0.03795))\n",
      "Epoch 36: Testing 30/30...\n",
      "Test Result, epoch 36: Avg loss 0.04474, Accuracy 93.33%\n",
      "Epoch 37: Trained 120/120 (Loss: 0.02592))\n",
      "Epoch 37: Testing 30/30...\n",
      "Test Result, epoch 37: Avg loss 0.1031, Accuracy 90.0%\n",
      "Epoch 38: Trained 120/120 (Loss: 0.05173))\n",
      "Epoch 38: Testing 30/30...\n",
      "Test Result, epoch 38: Avg loss 0.04569, Accuracy 93.33%\n",
      "Epoch 39: Trained 120/120 (Loss: 0.03547))\n",
      "Epoch 39: Testing 30/30...\n",
      "Test Result, epoch 39: Avg loss 0.07273, Accuracy 90.0%\n",
      "Epoch 40: Trained 120/120 (Loss: 0.04601))\n",
      "Epoch 40: Testing 30/30...\n",
      "Test Result, epoch 40: Avg loss 0.06892, Accuracy 90.0%\n",
      "Epoch 41: Trained 120/120 (Loss: 0.01077))\n",
      "Epoch 41: Testing 30/30...\n",
      "Test Result, epoch 41: Avg loss 0.06458, Accuracy 90.0%\n",
      "Epoch 42: Trained 120/120 (Loss: 0.01762))\n",
      "Epoch 42: Testing 30/30...\n",
      "Test Result, epoch 42: Avg loss 0.0491, Accuracy 96.67%\n"
     ]
    }
   ],
   "source": [
    "# Train the network\n",
    "p3net = Problem3Net()\n",
    "optimizer = torch.optim.Adam(p3net.parameters(), lr=0.01)\n",
    "accuracy = 0\n",
    "i = 0\n",
    "\n",
    "while accuracy < 95:\n",
    "    i += 1\n",
    "    train(\n",
    "        epoch=i,\n",
    "        model=p3net,\n",
    "        device=device,\n",
    "        optimizer=optimizer,\n",
    "        data=train_data,\n",
    "        loss_function=F.mse_loss\n",
    "    )\n",
    "    accuracy = test(\n",
    "        epoch=i,\n",
    "        model=p3net,\n",
    "        device=device,\n",
    "        data=test_data,\n",
    "        loss_function=F.mse_loss\n",
    "    )\n",
    "    if i >= 100: break"
   ]
  },
  {
   "cell_type": "markdown",
   "metadata": {
    "id": "lzSaMLPk-KLX"
   },
   "source": [
    "## Problem 4: Explore Different Activation and Loss Functions\n",
    "Goal:\n",
    " - Experiment with different activation and loss functions.\n",
    " - Compare the performance of each.\n",
    "\n",
    "Instructions:\n",
    " - Modify your previous network to use Leaky ReLU and softmax activation functions.\n",
    " - Implement two new loss functions:\n",
    "   - Categorical Cross-Entropy for classification.\n",
    "   - Hinge Loss for multi-class classification.\n",
    " - Compare the training accuracy and loss with each activation and loss function."
   ]
  },
  {
   "cell_type": "code",
   "execution_count": 250,
   "metadata": {},
   "outputs": [],
   "source": [
    "import torch.nn.functional as F\n",
    "\n",
    "class Problem4Net(nn.Module):\n",
    "    def __init__(self, f_activation) -> None:\n",
    "        super().__init__()\n",
    "        self.act = f_activation\n",
    "        self.nn1 = nn.Linear(4, 3) # Linear = fully connected net\n",
    "        self.nn2 = nn.Linear(3, 2)\n",
    "        self.nn3 = nn.Linear(2, 1)\n",
    "    \n",
    "    def forward(self, x):\n",
    "        x = self.act(self.nn1(x))\n",
    "        x = self.act(self.nn2(x))\n",
    "        x = self.act(self.nn3(x))\n",
    "        return x\n",
    "\n",
    "leakyModel = Problem4Net(F.leaky_relu)\n",
    "softmModel = Problem4Net(F.softmax)"
   ]
  },
  {
   "cell_type": "code",
   "execution_count": 251,
   "metadata": {},
   "outputs": [
    {
     "name": "stdout",
     "output_type": "stream",
     "text": [
      "==================================================\n",
      "Testing Leaky ReLU Activation + Cross-Entropy Loss Function:\n",
      "--------------------------------------------------\n",
      "Epoch 1: Trained 120/120 (Loss: -0.0))\n",
      "Epoch 1: Testing 30/30...\n",
      "Test Result, epoch 1: Avg loss 00.0, Accuracy 50.0%\n",
      "Epoch 2: Trained 120/120 (Loss: -0.0))\n",
      "Epoch 2: Testing 30/30...\n",
      "Test Result, epoch 2: Avg loss 00.0, Accuracy 50.0%\n",
      "Epoch 3: Trained 120/120 (Loss: -0.0))\n",
      "Epoch 3: Testing 30/30...\n",
      "Test Result, epoch 3: Avg loss 00.0, Accuracy 50.0%\n",
      "Epoch 4: Trained 120/120 (Loss: -0.0))\n",
      "Epoch 4: Testing 30/30...\n",
      "Test Result, epoch 4: Avg loss 00.0, Accuracy 50.0%\n",
      "Epoch 5: Trained 120/120 (Loss: -0.0))\n",
      "Epoch 5: Testing 30/30...\n",
      "Test Result, epoch 5: Avg loss 00.0, Accuracy 50.0%\n",
      "==================================================\n",
      "Testing Leaky ReLU Activation + Hinge Loss Function:\n",
      "--------------------------------------------------\n",
      "Epoch 1: Trained 120/120 (Loss: 0.9174))\n",
      "Epoch 1: Testing 30/30...\n",
      "Test Result, epoch 1: Avg loss 0.9172, Accuracy 50.0%\n",
      "Epoch 2: Trained 120/120 (Loss: 0.9084))\n",
      "Epoch 2: Testing 30/30...\n",
      "Test Result, epoch 2: Avg loss 0.9028, Accuracy 50.0%\n",
      "Epoch 3: Trained 120/120 (Loss: 0.9073))\n",
      "Epoch 3: Testing 30/30...\n",
      "Test Result, epoch 3: Avg loss 0.8885, Accuracy 50.0%\n",
      "Epoch 4: Trained 120/120 (Loss: 0.9173))\n",
      "Epoch 4: Testing 30/30...\n",
      "Test Result, epoch 4: Avg loss 0.8748, Accuracy 50.0%\n",
      "Epoch 5: Trained 120/120 (Loss: 0.9359))\n",
      "Epoch 5: Testing 30/30...\n",
      "Test Result, epoch 5: Avg loss 0.8618, Accuracy 50.0%\n",
      "==================================================\n",
      "==================================================\n",
      "Testing SoftMax Activation + Cross-Entropy Loss Function:\n",
      "--------------------------------------------------\n",
      "Epoch 1: Trained 120/120 (Loss: -0.0))\n",
      "Epoch 1: Testing 30/30...\n",
      "Test Result, epoch 1: Avg loss 00.0, Accuracy 50.0%\n",
      "Epoch 2: Trained 120/120 (Loss: -0.0))\n",
      "Epoch 2: Testing 30/30...\n",
      "Test Result, epoch 2: Avg loss 00.0, Accuracy 50.0%\n",
      "Epoch 3: Trained 120/120 (Loss: -0.0))\n",
      "Epoch 3: Testing 30/30...\n",
      "Test Result, epoch 3: Avg loss 00.0, Accuracy 50.0%\n",
      "Epoch 4: Trained 120/120 (Loss: -0.0))\n",
      "Epoch 4: Testing 30/30...\n",
      "Test Result, epoch 4: Avg loss 00.0, Accuracy 50.0%\n",
      "Epoch 5: Trained 120/120 (Loss: -0.0))\n",
      "Epoch 5: Testing 30/30...\n",
      "Test Result, epoch 5: Avg loss 00.0, Accuracy 50.0%\n",
      "==================================================\n",
      "Testing SoftMax Activation + Hinge Loss Function:\n",
      "--------------------------------------------------\n",
      "Epoch 1: Trained 120/120 (Loss: 1.0))\n",
      "Epoch 1: Testing 30/30...\n",
      "Test Result, epoch 1: Avg loss 01.0, Accuracy 50.0%\n",
      "Epoch 2: Trained 120/120 (Loss: 1.0))\n",
      "Epoch 2: Testing 30/30...\n",
      "Test Result, epoch 2: Avg loss 01.0, Accuracy 50.0%\n",
      "Epoch 3: Trained 120/120 (Loss: 1.0))\n",
      "Epoch 3: Testing 30/30...\n",
      "Test Result, epoch 3: Avg loss 01.0, Accuracy 50.0%\n",
      "Epoch 4: Trained 120/120 (Loss: 1.0))\n",
      "Epoch 4: Testing 30/30...\n",
      "Test Result, epoch 4: Avg loss 01.0, Accuracy 50.0%\n",
      "Epoch 5: Trained 120/120 (Loss: 1.0))\n",
      "Epoch 5: Testing 30/30...\n",
      "Test Result, epoch 5: Avg loss 01.0, Accuracy 50.0%\n",
      "==================================================\n"
     ]
    },
    {
     "name": "stderr",
     "output_type": "stream",
     "text": [
      "/tmp/ipykernel_2284320/2914991766.py:12: UserWarning: Implicit dimension choice for softmax has been deprecated. Change the call to include dim=X as an argument.\n",
      "  x = self.act(self.nn1(x))\n",
      "/tmp/ipykernel_2284320/2914991766.py:13: UserWarning: Implicit dimension choice for softmax has been deprecated. Change the call to include dim=X as an argument.\n",
      "  x = self.act(self.nn2(x))\n",
      "/tmp/ipykernel_2284320/2914991766.py:14: UserWarning: Implicit dimension choice for softmax has been deprecated. Change the call to include dim=X as an argument.\n",
      "  x = self.act(self.nn3(x))\n"
     ]
    }
   ],
   "source": [
    "MAX_EPOCHS = 5\n",
    "\n",
    "for model in [leakyModel, softmModel]:\n",
    "    for loss_func in [F.cross_entropy, F.hinge_embedding_loss]:\n",
    "        print(\"=\"*50)\n",
    "        print(f\"Testing {'Leaky ReLU' if model == leakyModel else 'SoftMax'} Activation + \" +\n",
    "              f\"{'Cross-Entropy' if loss_func == F.cross_entropy else 'Hinge'} Loss Function:\")\n",
    "        print(\"-\"*50)\n",
    "        optimizer = torch.optim.Adam(model.parameters())\n",
    "        for i in range(1, MAX_EPOCHS+1):\n",
    "            train(\n",
    "                epoch=i,\n",
    "                model=model,\n",
    "                device=device,\n",
    "                optimizer=optimizer,\n",
    "                data = train_data,\n",
    "                loss_function=loss_func\n",
    "            )\n",
    "            test(\n",
    "                epoch=i,\n",
    "                model=model,\n",
    "                device=device,\n",
    "                data=test_data,\n",
    "                loss_function=loss_func\n",
    "            )\n",
    "    print(\"=\"*50)"
   ]
  },
  {
   "cell_type": "markdown",
   "metadata": {
    "id": "PTE0YTYH-P27"
   },
   "source": [
    "## Problem 5: Build a Neural Network for Regression\n",
    "Goal:\n",
    " - Implement a neural network to predict continuous values.\n",
    " - Train the network on a dataset like Boston Housing Prices.\n",
    "\n",
    "Instructions:\n",
    " - Use the Boston Housing dataset from sklearn.\n",
    " - Normalize both the features and target values.\n",
    " - Implement a network with two hidden layers, using ReLU as the activation.\n",
    " - Train the network using MSE as the loss function.\n",
    " - Plot the predicted vs. actual values after training."
   ]
  },
  {
   "cell_type": "code",
   "execution_count": 252,
   "metadata": {},
   "outputs": [
    {
     "ename": "ImportError",
     "evalue": "\n`load_boston` has been removed from scikit-learn since version 1.2.\n\nThe Boston housing prices dataset has an ethical problem: as\ninvestigated in [1], the authors of this dataset engineered a\nnon-invertible variable \"B\" assuming that racial self-segregation had a\npositive impact on house prices [2]. Furthermore the goal of the\nresearch that led to the creation of this dataset was to study the\nimpact of air quality but it did not give adequate demonstration of the\nvalidity of this assumption.\n\nThe scikit-learn maintainers therefore strongly discourage the use of\nthis dataset unless the purpose of the code is to study and educate\nabout ethical issues in data science and machine learning.\n\nIn this special case, you can fetch the dataset from the original\nsource::\n\n    import pandas as pd\n    import numpy as np\n\n    data_url = \"http://lib.stat.cmu.edu/datasets/boston\"\n    raw_df = pd.read_csv(data_url, sep=\"\\s+\", skiprows=22, header=None)\n    data = np.hstack([raw_df.values[::2, :], raw_df.values[1::2, :2]])\n    target = raw_df.values[1::2, 2]\n\nAlternative datasets include the California housing dataset and the\nAmes housing dataset. You can load the datasets as follows::\n\n    from sklearn.datasets import fetch_california_housing\n    housing = fetch_california_housing()\n\nfor the California housing dataset and::\n\n    from sklearn.datasets import fetch_openml\n    housing = fetch_openml(name=\"house_prices\", as_frame=True)\n\nfor the Ames housing dataset.\n\n[1] M Carlisle.\n\"Racist data destruction?\"\n<https://medium.com/@docintangible/racist-data-destruction-113e3eff54a8>\n\n[2] Harrison Jr, David, and Daniel L. Rubinfeld.\n\"Hedonic housing prices and the demand for clean air.\"\nJournal of environmental economics and management 5.1 (1978): 81-102.\n<https://www.researchgate.net/publication/4974606_Hedonic_housing_prices_and_the_demand_for_clean_air>\n",
     "output_type": "error",
     "traceback": [
      "\u001b[0;31m---------------------------------------------------------------------------\u001b[0m",
      "\u001b[0;31mImportError\u001b[0m                               Traceback (most recent call last)",
      "\u001b[0;32m/tmp/ipykernel_2284320/2305181818.py\u001b[0m in \u001b[0;36m<module>\u001b[0;34m\u001b[0m\n\u001b[0;32m----> 1\u001b[0;31m \u001b[0;32mfrom\u001b[0m \u001b[0msklearn\u001b[0m\u001b[0;34m.\u001b[0m\u001b[0mdatasets\u001b[0m \u001b[0;32mimport\u001b[0m \u001b[0mload_boston\u001b[0m\u001b[0;34m\u001b[0m\u001b[0;34m\u001b[0m\u001b[0m\n\u001b[0m",
      "\u001b[0;32m~/.local/lib/python3.10/site-packages/sklearn/datasets/__init__.py\u001b[0m in \u001b[0;36m__getattr__\u001b[0;34m(name)\u001b[0m\n\u001b[1;32m    154\u001b[0m             \"\"\"\n\u001b[1;32m    155\u001b[0m         )\n\u001b[0;32m--> 156\u001b[0;31m         \u001b[0;32mraise\u001b[0m \u001b[0mImportError\u001b[0m\u001b[0;34m(\u001b[0m\u001b[0mmsg\u001b[0m\u001b[0;34m)\u001b[0m\u001b[0;34m\u001b[0m\u001b[0;34m\u001b[0m\u001b[0m\n\u001b[0m\u001b[1;32m    157\u001b[0m     \u001b[0;32mtry\u001b[0m\u001b[0;34m:\u001b[0m\u001b[0;34m\u001b[0m\u001b[0;34m\u001b[0m\u001b[0m\n\u001b[1;32m    158\u001b[0m         \u001b[0;32mreturn\u001b[0m \u001b[0mglobals\u001b[0m\u001b[0;34m(\u001b[0m\u001b[0;34m)\u001b[0m\u001b[0;34m[\u001b[0m\u001b[0mname\u001b[0m\u001b[0;34m]\u001b[0m\u001b[0;34m\u001b[0m\u001b[0;34m\u001b[0m\u001b[0m\n",
      "\u001b[0;31mImportError\u001b[0m: \n`load_boston` has been removed from scikit-learn since version 1.2.\n\nThe Boston housing prices dataset has an ethical problem: as\ninvestigated in [1], the authors of this dataset engineered a\nnon-invertible variable \"B\" assuming that racial self-segregation had a\npositive impact on house prices [2]. Furthermore the goal of the\nresearch that led to the creation of this dataset was to study the\nimpact of air quality but it did not give adequate demonstration of the\nvalidity of this assumption.\n\nThe scikit-learn maintainers therefore strongly discourage the use of\nthis dataset unless the purpose of the code is to study and educate\nabout ethical issues in data science and machine learning.\n\nIn this special case, you can fetch the dataset from the original\nsource::\n\n    import pandas as pd\n    import numpy as np\n\n    data_url = \"http://lib.stat.cmu.edu/datasets/boston\"\n    raw_df = pd.read_csv(data_url, sep=\"\\s+\", skiprows=22, header=None)\n    data = np.hstack([raw_df.values[::2, :], raw_df.values[1::2, :2]])\n    target = raw_df.values[1::2, 2]\n\nAlternative datasets include the California housing dataset and the\nAmes housing dataset. You can load the datasets as follows::\n\n    from sklearn.datasets import fetch_california_housing\n    housing = fetch_california_housing()\n\nfor the California housing dataset and::\n\n    from sklearn.datasets import fetch_openml\n    housing = fetch_openml(name=\"house_prices\", as_frame=True)\n\nfor the Ames housing dataset.\n\n[1] M Carlisle.\n\"Racist data destruction?\"\n<https://medium.com/@docintangible/racist-data-destruction-113e3eff54a8>\n\n[2] Harrison Jr, David, and Daniel L. Rubinfeld.\n\"Hedonic housing prices and the demand for clean air.\"\nJournal of environmental economics and management 5.1 (1978): 81-102.\n<https://www.researchgate.net/publication/4974606_Hedonic_housing_prices_and_the_demand_for_clean_air>\n"
     ]
    }
   ],
   "source": [
    "from sklearn.datasets import load_boston"
   ]
  },
  {
   "cell_type": "code",
   "execution_count": 406,
   "metadata": {},
   "outputs": [
    {
     "data": {
      "text/html": [
       "<div>\n",
       "<style scoped>\n",
       "    .dataframe tbody tr th:only-of-type {\n",
       "        vertical-align: middle;\n",
       "    }\n",
       "\n",
       "    .dataframe tbody tr th {\n",
       "        vertical-align: top;\n",
       "    }\n",
       "\n",
       "    .dataframe thead th {\n",
       "        text-align: right;\n",
       "    }\n",
       "</style>\n",
       "<table border=\"1\" class=\"dataframe\">\n",
       "  <thead>\n",
       "    <tr style=\"text-align: right;\">\n",
       "      <th></th>\n",
       "      <th>Id</th>\n",
       "      <th>MSSubClass</th>\n",
       "      <th>MSZoning</th>\n",
       "      <th>LotFrontage</th>\n",
       "      <th>LotArea</th>\n",
       "      <th>Street</th>\n",
       "      <th>Alley</th>\n",
       "      <th>LotShape</th>\n",
       "      <th>LandContour</th>\n",
       "      <th>Utilities</th>\n",
       "      <th>...</th>\n",
       "      <th>ScreenPorch</th>\n",
       "      <th>PoolArea</th>\n",
       "      <th>PoolQC</th>\n",
       "      <th>Fence</th>\n",
       "      <th>MiscFeature</th>\n",
       "      <th>MiscVal</th>\n",
       "      <th>MoSold</th>\n",
       "      <th>YrSold</th>\n",
       "      <th>SaleType</th>\n",
       "      <th>SaleCondition</th>\n",
       "    </tr>\n",
       "  </thead>\n",
       "  <tbody>\n",
       "    <tr>\n",
       "      <th>0</th>\n",
       "      <td>1</td>\n",
       "      <td>60</td>\n",
       "      <td>RL</td>\n",
       "      <td>65.0</td>\n",
       "      <td>8450</td>\n",
       "      <td>Pave</td>\n",
       "      <td>NaN</td>\n",
       "      <td>Reg</td>\n",
       "      <td>Lvl</td>\n",
       "      <td>AllPub</td>\n",
       "      <td>...</td>\n",
       "      <td>0</td>\n",
       "      <td>0</td>\n",
       "      <td>NaN</td>\n",
       "      <td>NaN</td>\n",
       "      <td>NaN</td>\n",
       "      <td>0</td>\n",
       "      <td>2</td>\n",
       "      <td>2008</td>\n",
       "      <td>WD</td>\n",
       "      <td>Normal</td>\n",
       "    </tr>\n",
       "    <tr>\n",
       "      <th>1</th>\n",
       "      <td>2</td>\n",
       "      <td>20</td>\n",
       "      <td>RL</td>\n",
       "      <td>80.0</td>\n",
       "      <td>9600</td>\n",
       "      <td>Pave</td>\n",
       "      <td>NaN</td>\n",
       "      <td>Reg</td>\n",
       "      <td>Lvl</td>\n",
       "      <td>AllPub</td>\n",
       "      <td>...</td>\n",
       "      <td>0</td>\n",
       "      <td>0</td>\n",
       "      <td>NaN</td>\n",
       "      <td>NaN</td>\n",
       "      <td>NaN</td>\n",
       "      <td>0</td>\n",
       "      <td>5</td>\n",
       "      <td>2007</td>\n",
       "      <td>WD</td>\n",
       "      <td>Normal</td>\n",
       "    </tr>\n",
       "    <tr>\n",
       "      <th>2</th>\n",
       "      <td>3</td>\n",
       "      <td>60</td>\n",
       "      <td>RL</td>\n",
       "      <td>68.0</td>\n",
       "      <td>11250</td>\n",
       "      <td>Pave</td>\n",
       "      <td>NaN</td>\n",
       "      <td>IR1</td>\n",
       "      <td>Lvl</td>\n",
       "      <td>AllPub</td>\n",
       "      <td>...</td>\n",
       "      <td>0</td>\n",
       "      <td>0</td>\n",
       "      <td>NaN</td>\n",
       "      <td>NaN</td>\n",
       "      <td>NaN</td>\n",
       "      <td>0</td>\n",
       "      <td>9</td>\n",
       "      <td>2008</td>\n",
       "      <td>WD</td>\n",
       "      <td>Normal</td>\n",
       "    </tr>\n",
       "    <tr>\n",
       "      <th>3</th>\n",
       "      <td>4</td>\n",
       "      <td>70</td>\n",
       "      <td>RL</td>\n",
       "      <td>60.0</td>\n",
       "      <td>9550</td>\n",
       "      <td>Pave</td>\n",
       "      <td>NaN</td>\n",
       "      <td>IR1</td>\n",
       "      <td>Lvl</td>\n",
       "      <td>AllPub</td>\n",
       "      <td>...</td>\n",
       "      <td>0</td>\n",
       "      <td>0</td>\n",
       "      <td>NaN</td>\n",
       "      <td>NaN</td>\n",
       "      <td>NaN</td>\n",
       "      <td>0</td>\n",
       "      <td>2</td>\n",
       "      <td>2006</td>\n",
       "      <td>WD</td>\n",
       "      <td>Abnorml</td>\n",
       "    </tr>\n",
       "    <tr>\n",
       "      <th>4</th>\n",
       "      <td>5</td>\n",
       "      <td>60</td>\n",
       "      <td>RL</td>\n",
       "      <td>84.0</td>\n",
       "      <td>14260</td>\n",
       "      <td>Pave</td>\n",
       "      <td>NaN</td>\n",
       "      <td>IR1</td>\n",
       "      <td>Lvl</td>\n",
       "      <td>AllPub</td>\n",
       "      <td>...</td>\n",
       "      <td>0</td>\n",
       "      <td>0</td>\n",
       "      <td>NaN</td>\n",
       "      <td>NaN</td>\n",
       "      <td>NaN</td>\n",
       "      <td>0</td>\n",
       "      <td>12</td>\n",
       "      <td>2008</td>\n",
       "      <td>WD</td>\n",
       "      <td>Normal</td>\n",
       "    </tr>\n",
       "  </tbody>\n",
       "</table>\n",
       "<p>5 rows × 80 columns</p>\n",
       "</div>"
      ],
      "text/plain": [
       "   Id  MSSubClass MSZoning  LotFrontage  LotArea Street Alley LotShape  \\\n",
       "0   1          60       RL         65.0     8450   Pave   NaN      Reg   \n",
       "1   2          20       RL         80.0     9600   Pave   NaN      Reg   \n",
       "2   3          60       RL         68.0    11250   Pave   NaN      IR1   \n",
       "3   4          70       RL         60.0     9550   Pave   NaN      IR1   \n",
       "4   5          60       RL         84.0    14260   Pave   NaN      IR1   \n",
       "\n",
       "  LandContour Utilities  ... ScreenPorch PoolArea PoolQC Fence MiscFeature  \\\n",
       "0         Lvl    AllPub  ...           0        0    NaN   NaN         NaN   \n",
       "1         Lvl    AllPub  ...           0        0    NaN   NaN         NaN   \n",
       "2         Lvl    AllPub  ...           0        0    NaN   NaN         NaN   \n",
       "3         Lvl    AllPub  ...           0        0    NaN   NaN         NaN   \n",
       "4         Lvl    AllPub  ...           0        0    NaN   NaN         NaN   \n",
       "\n",
       "  MiscVal MoSold  YrSold  SaleType  SaleCondition  \n",
       "0       0      2    2008        WD         Normal  \n",
       "1       0      5    2007        WD         Normal  \n",
       "2       0      9    2008        WD         Normal  \n",
       "3       0      2    2006        WD        Abnorml  \n",
       "4       0     12    2008        WD         Normal  \n",
       "\n",
       "[5 rows x 80 columns]"
      ]
     },
     "execution_count": 406,
     "metadata": {},
     "output_type": "execute_result"
    }
   ],
   "source": [
    "from sklearn.datasets import fetch_openml\n",
    "housing = fetch_openml(name=\"house_prices\", as_frame=True)\n",
    "\n",
    "# Preview the inputs\n",
    "housing.data.head()"
   ]
  },
  {
   "cell_type": "code",
   "execution_count": 407,
   "metadata": {},
   "outputs": [
    {
     "data": {
      "text/plain": [
       "0    208500\n",
       "1    181500\n",
       "2    223500\n",
       "3    140000\n",
       "4    250000\n",
       "Name: SalePrice, dtype: int64"
      ]
     },
     "execution_count": 407,
     "metadata": {},
     "output_type": "execute_result"
    }
   ],
   "source": [
    "# Preview the targets\n",
    "housing.target.head()"
   ]
  },
  {
   "cell_type": "code",
   "execution_count": 408,
   "metadata": {},
   "outputs": [
    {
     "name": "stdout",
     "output_type": "stream",
     "text": [
      "(1460, 80)\n"
     ]
    }
   ],
   "source": [
    "print(housing.data.shape)"
   ]
  },
  {
   "cell_type": "code",
   "execution_count": 409,
   "metadata": {},
   "outputs": [
    {
     "name": "stdout",
     "output_type": "stream",
     "text": [
      "[<class 'numpy.int64'>, <class 'str'>, <class 'numpy.float64'>, <class 'float'>]\n"
     ]
    }
   ],
   "source": [
    "unique_types = []\n",
    "for key in housing.data.keys():\n",
    "    t = type(housing.data[key][0])\n",
    "    if t not in unique_types: unique_types.append(t)\n",
    "    \n",
    "print(unique_types)"
   ]
  },
  {
   "cell_type": "code",
   "execution_count": 410,
   "metadata": {},
   "outputs": [
    {
     "name": "stdout",
     "output_type": "stream",
     "text": [
      "36 numeric variables per listing: ['MSSubClass', 'LotFrontage', 'LotArea', 'OverallQual', 'OverallCond', 'YearBuilt', 'YearRemodAdd', 'MasVnrArea', 'BsmtFinSF1', 'BsmtFinSF2', 'BsmtUnfSF', 'TotalBsmtSF', '1stFlrSF', '2ndFlrSF', 'LowQualFinSF', 'GrLivArea', 'BsmtFullBath', 'BsmtHalfBath', 'FullBath', 'HalfBath', 'BedroomAbvGr', 'KitchenAbvGr', 'TotRmsAbvGrd', 'Fireplaces', 'GarageYrBlt', 'GarageCars', 'GarageArea', 'WoodDeckSF', 'OpenPorchSF', 'EnclosedPorch', '3SsnPorch', 'ScreenPorch', 'PoolArea', 'MiscVal', 'MoSold', 'YrSold']\n"
     ]
    }
   ],
   "source": [
    "numeric_types = []\n",
    "for key in housing.data:\n",
    "    numeric_types.append(key)\n",
    "    for val in housing.data[key]:\n",
    "        if type(val) not in [np.int64, np.float64, float, int]:\n",
    "            if key in numeric_types: numeric_types.remove(key)\n",
    "numeric_types.remove(\"Id\")\n",
    "print(f\"{len(numeric_types)} numeric variables per listing: {numeric_types}\")"
   ]
  },
  {
   "cell_type": "code",
   "execution_count": 411,
   "metadata": {},
   "outputs": [
    {
     "name": "stdout",
     "output_type": "stream",
     "text": [
      "MSZoning can be any of ['RL', 'RM', \"'C (all)'\", 'FV', 'RH']\n",
      "Street can be any of ['Pave', 'Grvl']\n",
      "LotShape can be any of ['Reg', 'IR1', 'IR2', 'IR3']\n",
      "LandContour can be any of ['Lvl', 'Bnk', 'Low', 'HLS']\n",
      "Utilities can be any of ['AllPub', 'NoSeWa']\n",
      "LotConfig can be any of ['Inside', 'FR2', 'Corner', 'CulDSac', 'FR3']\n",
      "LandSlope can be any of ['Gtl', 'Mod', 'Sev']\n",
      "Neighborhood can be any of ['CollgCr', 'Veenker', 'Crawfor', 'NoRidge', 'Mitchel', 'Somerst', 'NWAmes', 'OldTown', 'BrkSide', 'Sawyer', 'NridgHt', 'NAmes', 'SawyerW', 'IDOTRR', 'MeadowV', 'Edwards', 'Timber', 'Gilbert', 'StoneBr', 'ClearCr', 'NPkVill', 'Blmngtn', 'BrDale', 'SWISU', 'Blueste']\n",
      "Condition1 can be any of ['Norm', 'Feedr', 'PosN', 'Artery', 'RRAe', 'RRNn', 'RRAn', 'PosA', 'RRNe']\n",
      "Condition2 can be any of ['Norm', 'Artery', 'RRNn', 'Feedr', 'PosN', 'PosA', 'RRAn', 'RRAe']\n",
      "BldgType can be any of ['1Fam', '2fmCon', 'Duplex', 'TwnhsE', 'Twnhs']\n",
      "HouseStyle can be any of ['2Story', '1Story', '1.5Fin', '1.5Unf', 'SFoyer', 'SLvl', '2.5Unf', '2.5Fin']\n",
      "RoofStyle can be any of ['Gable', 'Hip', 'Gambrel', 'Mansard', 'Flat', 'Shed']\n",
      "RoofMatl can be any of ['CompShg', 'WdShngl', 'Metal', 'WdShake', 'Membran', 'Tar&Grv', 'Roll', 'ClyTile']\n",
      "Exterior1st can be any of ['VinylSd', 'MetalSd', \"'Wd Sdng'\", 'HdBoard', 'BrkFace', 'WdShing', 'CemntBd', 'Plywood', 'AsbShng', 'Stucco', 'BrkComm', 'AsphShn', 'Stone', 'ImStucc', 'CBlock']\n",
      "Exterior2nd can be any of ['VinylSd', 'MetalSd', \"'Wd Shng'\", 'HdBoard', 'Plywood', \"'Wd Sdng'\", 'CmentBd', 'BrkFace', 'Stucco', 'AsbShng', \"'Brk Cmn'\", 'ImStucc', 'AsphShn', 'Stone', 'Other', 'CBlock']\n",
      "MasVnrType can be any of ['BrkFace', 'None', 'Stone', 'BrkCmn', nan]\n",
      "ExterQual can be any of ['Gd', 'TA', 'Ex', 'Fa']\n",
      "ExterCond can be any of ['TA', 'Gd', 'Fa', 'Po', 'Ex']\n",
      "Foundation can be any of ['PConc', 'CBlock', 'BrkTil', 'Wood', 'Slab', 'Stone']\n",
      "BsmtQual can be any of ['Gd', 'TA', 'Ex', nan, 'Fa']\n",
      "BsmtCond can be any of ['TA', 'Gd', nan, 'Fa', 'Po']\n",
      "BsmtExposure can be any of ['No', 'Gd', 'Mn', 'Av', nan]\n",
      "BsmtFinType1 can be any of ['GLQ', 'ALQ', 'Unf', 'Rec', 'BLQ', nan, 'LwQ']\n",
      "BsmtFinType2 can be any of ['Unf', 'BLQ', nan, 'ALQ', 'Rec', 'LwQ', 'GLQ']\n",
      "Heating can be any of ['GasA', 'GasW', 'Grav', 'Wall', 'OthW', 'Floor']\n",
      "HeatingQC can be any of ['Ex', 'Gd', 'TA', 'Fa', 'Po']\n",
      "CentralAir can be any of ['Y', 'N']\n",
      "Electrical can be any of ['SBrkr', 'FuseF', 'FuseA', 'FuseP', 'Mix', nan]\n",
      "KitchenQual can be any of ['Gd', 'TA', 'Ex', 'Fa']\n",
      "Functional can be any of ['Typ', 'Min1', 'Maj1', 'Min2', 'Mod', 'Maj2', 'Sev']\n",
      "GarageType can be any of ['Attchd', 'Detchd', 'BuiltIn', 'CarPort', nan, 'Basment', '2Types']\n",
      "GarageFinish can be any of ['RFn', 'Unf', 'Fin', nan]\n",
      "GarageQual can be any of ['TA', 'Fa', 'Gd', nan, 'Ex', 'Po']\n",
      "GarageCond can be any of ['TA', 'Fa', nan, 'Gd', 'Po', 'Ex']\n",
      "PavedDrive can be any of ['Y', 'N', 'P']\n",
      "SaleType can be any of ['WD', 'New', 'COD', 'ConLD', 'ConLI', 'CWD', 'ConLw', 'Con', 'Oth']\n",
      "SaleCondition can be any of ['Normal', 'Abnorml', 'Partial', 'AdjLand', 'Alloca', 'Family']\n"
     ]
    }
   ],
   "source": [
    "for key in housing.data.keys():\n",
    "    if type(housing.data[key][0]) == str:\n",
    "        unique_vals = []\n",
    "        for item in housing.data[key]:\n",
    "            if item not in unique_vals: unique_vals.append(item)\n",
    "        \n",
    "        print(f\"{key} can be any of {unique_vals}\")"
   ]
  },
  {
   "cell_type": "code",
   "execution_count": 412,
   "metadata": {},
   "outputs": [],
   "source": [
    "# Encoding all those str variables as numbers would be a lot of work\n",
    "# and it's 4am and I've been working on this all night so I'm just going to not\n"
   ]
  },
  {
   "cell_type": "code",
   "execution_count": 578,
   "metadata": {},
   "outputs": [],
   "source": [
    "# Create NN\n",
    "import torch.nn as nn\n",
    "import torch.nn.functional as F\n",
    "\n",
    "class Problem5Net(nn.Module):\n",
    "    def __init__(self) -> None:\n",
    "        super().__init__()\n",
    "        self.nn1 = nn.Linear(len(numeric_types), 16)\n",
    "        self.nn2 = nn.Linear(16, 16)\n",
    "        self.nn3 = nn.Linear(16, 1)\n",
    "    \n",
    "    def forward(self, x):\n",
    "        x = x.to(torch.float32)\n",
    "        x = F.relu(self.nn1(x))\n",
    "        x = F.relu(self.nn2(x))\n",
    "        x = F.relu(self.nn3(x))\n",
    "        return x"
   ]
  },
  {
   "cell_type": "code",
   "execution_count": 579,
   "metadata": {},
   "outputs": [],
   "source": [
    "class CustomScaler():\n",
    "    def fit_transform(self, tensor):\n",
    "        self.offset = torch.mean(tensor)\n",
    "        self.var = torch.var(tensor)\n",
    "        return (tensor - self.offset) / self.var\n",
    "    \n",
    "    def inverse_transform(self, tensor):\n",
    "        return (self.var * tensor) + self.offset"
   ]
  },
  {
   "cell_type": "code",
   "execution_count": 580,
   "metadata": {},
   "outputs": [],
   "source": [
    "# Create data loaders\n",
    "from torch.utils.data import Dataset, DataLoader\n",
    "from random import sample\n",
    "\n",
    "class HouseSet(Dataset):\n",
    "    def __init__(self, data, targets, ids):\n",
    "        self.X = torch.zeros(size=(len(ids), len(numeric_types)), dtype=torch.float32)\n",
    "        self.y = np.array(targets[ids]).reshape(1,-1)\n",
    "        self.scalers = []\n",
    "        self.vars = []\n",
    "        \n",
    "        # Normalize numeric features\n",
    "        i = 0\n",
    "        for key in numeric_types:\n",
    "            self.scalers.append(CustomScaler())\n",
    "            self.vars.append(key)\n",
    "            x = np.nan_to_num(np.array(data[key][ids]), copy=False)\n",
    "            self.X[:,i] = self.scalers[-1].fit_transform(torch.tensor(x, dtype=torch.float32)).reshape(-1)\n",
    "            i += 1\n",
    "        \n",
    "        # Normalize targets too\n",
    "        self.scalers.append(CustomScaler())\n",
    "        self.y = self.scalers[-1].fit_transform(torch.tensor(self.y, dtype=torch.float32))\n",
    "        self.vars.append(\"Target\")\n",
    "        \n",
    "    def __len__(self):\n",
    "        return self.X.shape[0]\n",
    "    \n",
    "    def __getitem__(self, idx):\n",
    "        return self.X[idx, :], self.y[:, idx]\n",
    "\n",
    "# Randomly split training/test data\n",
    "N = housing.data.shape[0]\n",
    "testN = int(0.2*N)\n",
    "test_ids = sample(range(N), testN)\n",
    "train_ids = [i for i in range(N) if i not in test_ids]\n",
    "\n",
    "# Create datasets\n",
    "train_set5 = HouseSet(\n",
    "    data = housing.data,\n",
    "    targets = housing.target,\n",
    "    ids = train_ids\n",
    ")\n",
    "test_set5 = HouseSet(\n",
    "    data = housing.data,\n",
    "    targets = housing.target,\n",
    "    ids = test_ids\n",
    ")\n",
    "\n",
    "# Create data loaders\n",
    "train_data5 = DataLoader(\n",
    "    dataset = train_set5,\n",
    "    batch_size = 5,\n",
    "    shuffle = True\n",
    ")\n",
    "test_data5 = DataLoader(\n",
    "    dataset = test_set5,\n",
    "    batch_size = 20,\n",
    "    shuffle = True\n",
    ")"
   ]
  },
  {
   "cell_type": "code",
   "execution_count": 581,
   "metadata": {},
   "outputs": [],
   "source": [
    "# Create testing function\n",
    "def test(epoch, model, device, data, loss_function):\n",
    "    # Prepare model and data\n",
    "    model.to(device)\n",
    "    model.eval()\n",
    "    test_loss = []\n",
    "    predicted = torch.tensor([[0]], device=device)\n",
    "    real = torch.tensor([[0]], device=device)\n",
    "    \n",
    "    with torch.no_grad():\n",
    "        for batch_idx, (X, y) in enumerate(data):\n",
    "            # Load data into GPU\n",
    "            X = X.to(device)\n",
    "            y = y.to(device)\n",
    "            \n",
    "            # Calculate and record output & loss\n",
    "            output = model(X)\n",
    "            test_loss.append(loss_function(output, y).item())\n",
    "                        \n",
    "            predicted = torch.cat((predicted, output))\n",
    "            real = torch.cat((real, y))\n",
    "\n",
    "            # Periodically report on testing progress\n",
    "            print(f\"\\rEpoch {epoch}: Testing {batch_idx*len(X)}/{len(data.dataset)}...\", end=\"\")\n",
    "        print(f\"\\rEpoch {epoch}: Testing {len(data.dataset)}/{len(data.dataset)}\")\n",
    "    \n",
    "    # Report results\n",
    "    test_loss = torch.mean(torch.tensor(test_loss))\n",
    "    print(f\"Test Result, epoch {epoch}: Avg loss {test_loss:04.4}\")\n",
    "    \n",
    "    real = data.dataset.scalers[-1].inverse_transform(real)\n",
    "    predicted = data.dataset.scalers[-1].inverse_transform(predicted)\n",
    "    return real, predicted"
   ]
  },
  {
   "cell_type": "code",
   "execution_count": 582,
   "metadata": {},
   "outputs": [
    {
     "name": "stdout",
     "output_type": "stream",
     "text": [
      "Epoch 1: Trained 1168/1168 (Loss: 1.139e-10))\n",
      "Epoch 1: Testing 292/292...\n",
      "Test Result, epoch 1: Avg loss 1.591e-10\n",
      "Epoch 2: Trained 1168/1168 (Loss: 5.197e-11))\n",
      "Epoch 2: Testing 292/292...\n",
      "Test Result, epoch 2: Avg loss 1.56e-10\n",
      "Epoch 3: Trained 1168/1168 (Loss: 2.44e-10)0)\n",
      "Epoch 3: Testing 292/292...\n",
      "Test Result, epoch 3: Avg loss 1.559e-10\n",
      "Epoch 4: Trained 1168/1168 (Loss: 2.331e-10))\n",
      "Epoch 4: Testing 292/292...\n",
      "Test Result, epoch 4: Avg loss 1.561e-10\n",
      "Epoch 5: Trained 1168/1168 (Loss: 5.988e-11))\n",
      "Epoch 5: Testing 292/292...\n",
      "Test Result, epoch 5: Avg loss 1.577e-10\n"
     ]
    }
   ],
   "source": [
    "p5net = Problem5Net()\n",
    "optimizer = torch.optim.Adam(p5net.parameters())\n",
    "\n",
    "preds = []\n",
    "reals = []\n",
    "    \n",
    "for epoch in range(1, MAX_EPOCHS+1):\n",
    "    train(\n",
    "        epoch = epoch,\n",
    "        model = p5net,\n",
    "        device = device,\n",
    "        optimizer = optimizer,\n",
    "        data = train_data5,\n",
    "        loss_function = F.mse_loss\n",
    "    )\n",
    "    \n",
    "    real, predicted = test(\n",
    "        epoch = epoch,\n",
    "        model = p5net,\n",
    "        device = device,\n",
    "        data = test_data5,\n",
    "        loss_function = F.mse_loss\n",
    "    )\n",
    "    preds.append(predicted.cpu())\n",
    "    reals.append(real.cpu())"
   ]
  },
  {
   "cell_type": "code",
   "execution_count": 587,
   "metadata": {},
   "outputs": [
    {
     "data": {
      "text/plain": [
       "<matplotlib.legend.Legend at 0x751fc0077b20>"
      ]
     },
     "execution_count": 587,
     "metadata": {},
     "output_type": "execute_result"
    },
    {
     "data": {
      "image/png": "[encoded data removed]",
      "text/plain": [
       "<Figure size 576x576 with 1 Axes>"
      ]
     },
     "metadata": {
      "needs_background": "light"
     },
     "output_type": "display_data"
    }
   ],
   "source": [
    "import matplotlib.pyplot as plt\n",
    "\n",
    "plt.figure(figsize=(8,8))\n",
    "for i in range(len(reals)):\n",
    "    plt.plot(reals[i], label=f\"True Values #{i+1}\")\n",
    "    plt.plot(preds[i], label=f\"Predicted for #{i+1}\")\n",
    "plt.legend()"
   ]
  }
 ],
 "metadata": {
  "colab": {
   "provenance": []
  },
  "kernelspec": {
   "display_name": "Python 3",
   "language": "python",
   "name": "python3"
  },
  "language_info": {
   "codemirror_mode": {
    "name": "ipython",
    "version": 3
   },
   "file_extension": ".py",
   "mimetype": "text/x-python",
   "name": "python",
   "nbconvert_exporter": "python",
   "pygments_lexer": "ipython3",
   "version": "3.10.12"
  }
 },
 "nbformat": 4,
 "nbformat_minor": 0
}
