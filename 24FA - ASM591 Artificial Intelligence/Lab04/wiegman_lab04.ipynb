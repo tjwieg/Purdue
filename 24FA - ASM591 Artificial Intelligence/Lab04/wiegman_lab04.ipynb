{
  "cells": [
    {
      "cell_type": "markdown",
      "metadata": {},
      "source": [
        "TJ Wiegman  \n",
        "ASM 591 AI  \n",
        "Lab 4  \n",
        "2024-10-02"
      ]
    },
    {
      "cell_type": "markdown",
      "metadata": {
        "id": "8zndp7W9xII-"
      },
      "source": [
        "# Examples\n",
        "## Example 1: Map Coloring\n",
        "\n",
        "Problem Description: Color a map such that no two adjacent regions have the same color. Use three colors: Red, Green, Blue.\n",
        "\n",
        "Regions and Adjacencies:\n",
        "\n",
        "    Regions: A, B, C, D\n",
        "    Adjacent Pairs: (A,B), (A,C), (B,C), (B,D), (C,D)\n",
        "\n",
        "\n"
      ]
    },
    {
      "cell_type": "code",
      "execution_count": 1,
      "metadata": {
        "colab": {
          "base_uri": "https://localhost:8080/"
        },
        "id": "dIP39qKbw-Y9",
        "outputId": "01420714-dc87-4a51-b7b1-f56d081723a8"
      },
      "outputs": [
        {
          "name": "stdout",
          "output_type": "stream",
          "text": [
            "Map Coloring Solution: {'A': 'Red', 'B': 'Green', 'C': 'Blue', 'D': 'Red'}\n"
          ]
        }
      ],
      "source": [
        "# Example 1: Map Coloring using Backtracking\n",
        "\n",
        "def is_safe(region, color, assignment, adjacents):\n",
        "    for neighbor in adjacents[region]:\n",
        "        if neighbor in assignment and assignment[neighbor] == color:\n",
        "            return False\n",
        "    return True\n",
        "\n",
        "def backtrack(assignment, regions, colors, adjacents):\n",
        "    if len(assignment) == len(regions):\n",
        "        return assignment\n",
        "    unassigned = [r for r in regions if r not in assignment]\n",
        "    region = unassigned[0]\n",
        "    for color in colors:\n",
        "        if is_safe(region, color, assignment, adjacents):\n",
        "            assignment[region] = color\n",
        "            result = backtrack(assignment, regions, colors, adjacents)\n",
        "            if result:\n",
        "                return result\n",
        "            del assignment[region]\n",
        "    return None\n",
        "\n",
        "# Define regions and adjacents\n",
        "regions = ['A', 'B', 'C', 'D']\n",
        "adjacents = {\n",
        "    'A': ['B', 'C'],\n",
        "    'B': ['A', 'C', 'D'],\n",
        "    'C': ['A', 'B', 'D'],\n",
        "    'D': ['B', 'C']\n",
        "}\n",
        "colors = ['Red', 'Green', 'Blue']\n",
        "\n",
        "solution = backtrack({}, regions, colors, adjacents)\n",
        "print(\"Map Coloring Solution:\", solution)\n"
      ]
    },
    {
      "cell_type": "markdown",
      "metadata": {
        "id": "D-Tb-MyjxU5C"
      },
      "source": [
        "## Example 2: Sudoku Solver\n",
        "\n",
        "Problem Description: Solve a 4x4 Sudoku puzzle where each row, column, and 2x2 subgrid must contain all numbers from 1 to 4."
      ]
    },
    {
      "cell_type": "code",
      "execution_count": 2,
      "metadata": {
        "colab": {
          "base_uri": "https://localhost:8080/"
        },
        "id": "uURMUtev1YT7",
        "outputId": "e8350931-462a-4a5c-adf5-76d84e1ae048"
      },
      "outputs": [
        {
          "name": "stdout",
          "output_type": "stream",
          "text": [
            "Sudoku Solution:\n",
            "[4, 1, 2, 3]\n",
            "[2, 3, 4, 1]\n",
            "[1, 2, 3, 4]\n",
            "[3, 4, 1, 2]\n"
          ]
        }
      ],
      "source": [
        "# Example 2: Corrected Sudoku Solver with Backtracking\n",
        "\n",
        "def is_valid(board, row, col, num):\n",
        "    # Check if 'num' is not present in the current row and column\n",
        "    for i in range(4):\n",
        "        if board[row][i] == num:\n",
        "            return False\n",
        "        if board[i][col] == num:\n",
        "            return False\n",
        "\n",
        "    # Determine the starting indices of the 2x2 subgrid\n",
        "    start_row, start_col = 2 * (row // 2), 2 * (col // 2)\n",
        "\n",
        "    # Check if 'num' is not present in the 2x2 subgrid\n",
        "    for i in range(start_row, start_row + 2):\n",
        "        for j in range(start_col, start_col + 2):\n",
        "            if board[i][j] == num:\n",
        "                return False\n",
        "\n",
        "    return True\n",
        "\n",
        "def find_empty(board):\n",
        "    for i in range(4):\n",
        "        for j in range(4):\n",
        "            if board[i][j] == 0:\n",
        "                return (i, j)  # row, col\n",
        "    return None\n",
        "\n",
        "def solve_sudoku(board):\n",
        "    empty = find_empty(board)\n",
        "    if not empty:\n",
        "        return board  # Puzzle solved\n",
        "    row, col = empty\n",
        "\n",
        "    for num in range(1, 5):\n",
        "        if is_valid(board, row, col, num):\n",
        "            board[row][col] = num  # Tentatively assign num\n",
        "\n",
        "            result = solve_sudoku(board)\n",
        "            if result:\n",
        "                return result  # Solution found\n",
        "\n",
        "            board[row][col] = 0  # Backtrack\n",
        "\n",
        "    return None  # Trigger backtracking\n",
        "\n",
        "# Corrected Sudoku Puzzle (0 represents empty cells)\n",
        "sudoku_board = [\n",
        "    [0, 0, 2, 0],\n",
        "    [0, 3, 0, 1],\n",
        "    [1, 0, 0, 0],\n",
        "    [0, 4, 0, 0]\n",
        "]\n",
        "\n",
        "solution = solve_sudoku(sudoku_board)\n",
        "\n",
        "if solution:\n",
        "    print(\"Sudoku Solution:\")\n",
        "    for row in solution:\n",
        "        print(row)\n",
        "else:\n",
        "    print(\"No solution exists for the given Sudoku puzzle.\")\n"
      ]
    },
    {
      "cell_type": "markdown",
      "metadata": {
        "id": "BJHNMyK_xbNw"
      },
      "source": [
        "## Example 3: N-Queens Problem\n",
        "\n",
        "Problem Description: Place N queens on an N×N chessboard so that no two queens threaten each other."
      ]
    },
    {
      "cell_type": "code",
      "execution_count": 3,
      "metadata": {
        "colab": {
          "base_uri": "https://localhost:8080/"
        },
        "id": "ktnx6wk0xjA3",
        "outputId": "5e276fa6-4997-4d4a-983d-255e0a5ef26a"
      },
      "outputs": [
        {
          "name": "stdout",
          "output_type": "stream",
          "text": [
            "Total solutions for 4-Queens: 2\n",
            "..Q.\n",
            "Q...\n",
            "...Q\n",
            ".Q..\n",
            "\n",
            ".Q..\n",
            "...Q\n",
            "Q...\n",
            "..Q.\n",
            "\n"
          ]
        }
      ],
      "source": [
        "# Example 3: N-Queens Problem using Backtracking\n",
        "\n",
        "def is_safe(board, row, col, N):\n",
        "    # Check this row on left side\n",
        "    for i in range(col):\n",
        "        if board[row][i] == 'Q':\n",
        "            return False\n",
        "    # Check upper diagonal on left side\n",
        "    for i, j in zip(range(row-1,-1,-1), range(col-1,-1,-1)):\n",
        "        if board[i][j] == 'Q':\n",
        "            return False\n",
        "    # Check lower diagonal on left side\n",
        "    for i, j in zip(range(row+1,N), range(col-1,-1,-1)):\n",
        "        if board[i][j] == 'Q':\n",
        "            return False\n",
        "    return True\n",
        "\n",
        "def solve_nqueens(board, col, N, solutions):\n",
        "    if col == N:\n",
        "        solution = [''.join(row) for row in board]\n",
        "        solutions.append(solution)\n",
        "        return\n",
        "    for i in range(N):\n",
        "        if is_safe(board, i, col, N):\n",
        "            board[i][col] = 'Q'\n",
        "            solve_nqueens(board, col + 1, N, solutions)\n",
        "            board[i][col] = '.'\n",
        "\n",
        "def nqueens(N):\n",
        "    board = [['.' for _ in range(N)] for _ in range(N)]\n",
        "    solutions = []\n",
        "    solve_nqueens(board, 0, N, solutions)\n",
        "    return solutions\n",
        "\n",
        "# Solve 4-Queens\n",
        "solutions = nqueens(4)\n",
        "print(f\"Total solutions for 4-Queens: {len(solutions)}\")\n",
        "for sol in solutions:\n",
        "    for row in sol:\n",
        "        print(row)\n",
        "    print()\n"
      ]
    },
    {
      "cell_type": "markdown",
      "metadata": {
        "id": "UDw_uE_QxtWo"
      },
      "source": [
        "## Example 4: Scheduling Classes\n",
        "\n",
        "Problem Description: Assign time slots to classes ensuring no student has overlapping classes.\n",
        "\n",
        "Classes and Students:\n",
        "\n",
        "    Classes: Math, Physics, Chemistry\n",
        "    Students:\n",
        "        Student1: Math, Physics\n",
        "        Student2: Physics, Chemistry\n",
        "        Student3: Math, Chemistry\n",
        "\n",
        "Available Time Slots: Morning, Afternoon"
      ]
    },
    {
      "cell_type": "code",
      "execution_count": 4,
      "metadata": {
        "colab": {
          "base_uri": "https://localhost:8080/"
        },
        "id": "OSAZ6Y1Cxu7n",
        "outputId": "c8e9a3e6-3f51-401b-d0ba-fbd254e4bccb"
      },
      "outputs": [
        {
          "name": "stdout",
          "output_type": "stream",
          "text": [
            "Class Schedule Solution: {'Math': 'Morning', 'Physics': 'Afternoon', 'Chemistry': 'Evening'}\n"
          ]
        }
      ],
      "source": [
        "# Example 4: Scheduling Classes using Forward Checking\n",
        "\n",
        "def is_consistent(class_assignment, new_class, time, constraints, assignments):\n",
        "    for student in constraints.get(new_class, []):\n",
        "        for assigned_class, assigned_time in assignments.items():\n",
        "            if (assigned_class in constraints and \n",
        "                student in constraints[assigned_class]):\n",
        "                if assigned_time == time:\n",
        "                    return False\n",
        "    return True\n",
        "\n",
        "def forward_checking(classes, time_slots, constraints, assignments, index=0):\n",
        "    if index == len(classes):\n",
        "        return assignments\n",
        "    current_class = classes[index]\n",
        "    for time in time_slots:\n",
        "        if is_consistent(\n",
        "            assignments, current_class, time, constraints, assignments\n",
        "        ):\n",
        "            assignments[current_class] = time\n",
        "            result = forward_checking(\n",
        "                classes, time_slots, constraints, assignments, index + 1\n",
        "            )\n",
        "            if result:\n",
        "                return result\n",
        "            del assignments[current_class]\n",
        "    return None\n",
        "\n",
        "# Define classes, time slots, and constraints\n",
        "classes = ['Math', 'Physics', 'Chemistry']\n",
        "time_slots = ['Morning', 'Afternoon','Evening']\n",
        "constraints = {\n",
        "    'Math': ['Student1', 'Student3'],\n",
        "    'Physics': ['Student1', 'Student2'],\n",
        "    'Chemistry': ['Student2', 'Student3']\n",
        "}\n",
        "\n",
        "solution = forward_checking(classes, time_slots, constraints, {})\n",
        "print(\"Class Schedule Solution:\", solution)\n"
      ]
    },
    {
      "cell_type": "markdown",
      "metadata": {
        "id": "yD1367VrxwHn"
      },
      "source": [
        "## Example 5: Cryptarithmetic Puzzle\n",
        "\n",
        "Problem Description: Solve the puzzle where each letter represents a unique digit:\n",
        "    SEND+ MORE\n",
        "    = MONEY\n"
      ]
    },
    {
      "cell_type": "code",
      "execution_count": 5,
      "metadata": {
        "colab": {
          "base_uri": "https://localhost:8080/"
        },
        "id": "MhuB8LIKyALA",
        "outputId": "6393f533-33c0-450d-c108-97ebb2f8fb4a"
      },
      "outputs": [
        {
          "name": "stdout",
          "output_type": "stream",
          "text": [
            "Cryptarithmetic Solution: {'S': 9, 'E': 5, 'N': 6, 'D': 7, 'M': 1, 'O': 0, 'R': 8, 'Y': 2}\n"
          ]
        }
      ],
      "source": [
        "# Example 5: Cryptarithmetic Puzzle using Backtracking\n",
        "\n",
        "import itertools\n",
        "\n",
        "def solve_cryptarithmetic():\n",
        "    letters = ('S', 'E', 'N', 'D', 'M', 'O', 'R', 'Y')\n",
        "    for perm in itertools.permutations(range(10), len(letters)):\n",
        "        s, e, n, d, m, o, r, y = perm\n",
        "        if m == 0:\n",
        "            continue  # M must be 1 since MONEY is a 5-digit number\n",
        "        send = s*1000 + e*100 + n*10 + d\n",
        "        more = m*1000 + o*100 + r*10 + e\n",
        "        money = m*10000 + o*1000 + n*100 + e*10 + y\n",
        "        if send + more == money:\n",
        "            return {'S': s, 'E': e, 'N': n, 'D': d, 'M': m, 'O': o, 'R': r, 'Y': y}\n",
        "    return None\n",
        "\n",
        "solution = solve_cryptarithmetic()\n",
        "print(\"Cryptarithmetic Solution:\", solution)\n"
      ]
    },
    {
      "cell_type": "markdown",
      "metadata": {
        "id": "NQnbjjOjyFsn"
      },
      "source": [
        "# Exercise Problems"
      ]
    },
    {
      "cell_type": "markdown",
      "metadata": {
        "id": "i2EmDAoyyJHp"
      },
      "source": [
        "## Exercise 1: Graph Coloring\n",
        "\n",
        "Problem Description: Color a given map of 5 regions using four colors such that no two adjacent regions share the same color.\n",
        "\n",
        "Regions and Adjacencies:\n",
        "\n",
        "    Regions: A, B, C, D, E\n",
        "    Adjacent Pairs: (A,B), (A,C), (B,C), (B,D), (C,D), (D,E)"
      ]
    },
    {
      "cell_type": "code",
      "execution_count": 2,
      "metadata": {
        "id": "uqm9IN8fyL0_"
      },
      "outputs": [
        {
          "name": "stdout",
          "output_type": "stream",
          "text": [
            "Graph Coloring Solution: {'A': 'Red', 'B': 'Green', 'C': 'Blue', 'D': 'Red', 'E': 'Green'}\n"
          ]
        }
      ],
      "source": [
        "# Exercise 1: Graph Coloring with 4 Colors\n",
        "\n",
        "def is_safe(region, color, assignment, adjacents):\n",
        "    for reg in adjacents[region]:\n",
        "        assigned = reg in assignment.keys()\n",
        "        if assigned and (assignment[reg] == color):\n",
        "            return False\n",
        "    return True\n",
        "\n",
        "def backtrack(assignment, regions, colors, adjacents):\n",
        "    if len(assignment) == len(regions):\n",
        "        return assignment\n",
        "    region = None\n",
        "    for r in regions:\n",
        "        if r not in assignment:\n",
        "            region = r\n",
        "            break\n",
        "    for color in colors:\n",
        "        if is_safe(region, color, assignment, adjacents):\n",
        "            assignment[region] = color\n",
        "            result = backtrack(assignment, regions, colors, adjacents)\n",
        "            if result:\n",
        "                return result\n",
        "            del assignment[region]\n",
        "    return None\n",
        "\n",
        "# Define regions and adjacents\n",
        "regions = ['A', 'B', 'C', 'D', 'E']\n",
        "adjacents = {\n",
        "    'A': ['B', 'C'],\n",
        "    'B': ['A', 'C', 'D'],\n",
        "    'C': ['A', 'B', 'D'],\n",
        "    'D': ['B', 'C', 'E'],\n",
        "    'E': ['D']\n",
        "}\n",
        "colors = ['Red', 'Green', 'Blue', 'Yellow']\n",
        "\n",
        "# Find and print the solution\n",
        "solution = backtrack({}, regions, colors, adjacents)\n",
        "print(\"Graph Coloring Solution:\", solution)\n"
      ]
    },
    {
      "cell_type": "markdown",
      "metadata": {
        "id": "pRL5q0VYySue"
      },
      "source": [
        "## Exercise 2: Latin Square\n",
        "\n",
        "Problem Description: Fill a 4x4 Latin square where each row and column contains the numbers 1 to 4 without repetition. Some cells are pre-filled.\n",
        "\n",
        "Initial Grid\n",
        "```\n",
        "_ 2 _ 4\n",
        "3 _ _ _\n",
        "_ _ 2 _\n",
        "1 _ _ 3\n",
        "```\n"
      ]
    },
    {
      "cell_type": "markdown",
      "metadata": {
        "id": "k8rcORJfytcD"
      },
      "source": [
        "Instructions:\n",
        " - Implement the is_valid function to ensure no duplicates in rows and columns.\n",
        " - Implement the find_empty function to locate the next empty cell.\n",
        " - Complete the solve_latin_square function to solve the puzzle.\n"
      ]
    },
    {
      "cell_type": "code",
      "execution_count": 9,
      "metadata": {
        "id": "AXSyh44jyYV1"
      },
      "outputs": [
        {
          "name": "stdout",
          "output_type": "stream",
          "text": [
            "Latin Square Solution:\n",
            "Not solveable\n"
          ]
        }
      ],
      "source": [
        "# Exercise 2: Latin Square Solver using Backtracking\n",
        "\n",
        "def is_valid(grid, row, col, num):\n",
        "    # Check row\n",
        "    if num in grid[row]: return False\n",
        "    # Check col\n",
        "    for r in grid:\n",
        "        if r[col] == num: return False\n",
        "    # If neither row nor col were invalid...\n",
        "    return True\n",
        "\n",
        "def find_empty(grid):\n",
        "    for r in range(len(grid)):\n",
        "        for c in range(len(grid[r])):\n",
        "            if grid[r][c] == 0: return (r,c)\n",
        "    return False\n",
        "\n",
        "def solve_latin_square(grid):\n",
        "    empty = find_empty(grid)\n",
        "    if not empty:\n",
        "        return grid\n",
        "    row, col = empty\n",
        "    for num in range(1, 5):\n",
        "        if is_valid(grid, row, col, num):\n",
        "            grid[row][col] = num\n",
        "            result = solve_latin_square(grid)\n",
        "            if result:\n",
        "                return result\n",
        "            grid[row][col] = 0\n",
        "    return [\"Not solveable\"]\n",
        "\n",
        "# Define the initial grid (0 represents empty cells)\n",
        "latin_square = [\n",
        "    [0, 2, 0, 4],\n",
        "    [3, 0, 0, 0],\n",
        "    [0, 0, 2, 0],\n",
        "    [1, 0, 0, 3]\n",
        "]\n",
        "\n",
        "# Find and print the solution\n",
        "solution = solve_latin_square(latin_square)\n",
        "print(\"Latin Square Solution:\")\n",
        "for row in solution:\n",
        "    print(row)\n"
      ]
    },
    {
      "cell_type": "markdown",
      "metadata": {
        "id": "DQggOvUCypaf"
      },
      "source": [
        "## Exercise 3: Timetable Scheduling\n",
        "\n",
        "Problem Description: Assign time slots to courses ensuring no student is assigned overlapping courses.\n",
        "\n",
        "Courses and Students:\n",
        "\n",
        "    Courses: Biology, History, Art, Computer Science\n",
        "    Students:\n",
        "    Alice: Biology, Computer Science\n",
        "    Bob: History, Art\n",
        "    Charlie: Biology, Art\n",
        "    Diana: Computer Science, History\n",
        "\n",
        "Available Time Slots: Morning, Afternoon, Evening\n",
        "\n",
        "Instructions:\n",
        "\n",
        "    Implement the is_consistent function to ensure no student has overlapping courses.\n",
        "    Complete the schedule_courses function to assign time slots effectively."
      ]
    },
    {
      "cell_type": "code",
      "execution_count": 10,
      "metadata": {
        "id": "m9sJ_LzXy7LA"
      },
      "outputs": [
        {
          "name": "stdout",
          "output_type": "stream",
          "text": [
            "Timetable Schedule: {'Biology': 'Morning', 'History': 'Morning', 'Art': 'Afternoon', 'Computer Science': 'Afternoon'}\n"
          ]
        }
      ],
      "source": [
        "# Exercise 3: Timetable Scheduling with Forward Checking\n",
        "\n",
        "def is_consistent(course, time, assignments, constraints):\n",
        "    same_time = []\n",
        "    for crs in assignments:\n",
        "        if assignments[crs] == time: same_time.append(crs)\n",
        "    students = constraints[course]\n",
        "    for crs in same_time:\n",
        "        for stu in students:\n",
        "            if stu in constraints[crs]: return False\n",
        "    return True\n",
        "\n",
        "def schedule_courses(courses, time_slots, constraints, assignments, index=0):\n",
        "    if index == len(courses):\n",
        "        return assignments\n",
        "    current_course = courses[index]\n",
        "    for time in time_slots:\n",
        "        if is_consistent(current_course, time, assignments, constraints):\n",
        "            assignments[current_course] = time\n",
        "            result = schedule_courses(\n",
        "                courses, time_slots, constraints, assignments, index + 1\n",
        "            )\n",
        "            if result:\n",
        "                return result\n",
        "            del assignments[current_course]\n",
        "    return None\n",
        "\n",
        "# Define courses, time slots, and constraints\n",
        "courses = ['Biology', 'History', 'Art', 'Computer Science']\n",
        "time_slots = ['Morning', 'Afternoon', 'Evening']\n",
        "constraints = {\n",
        "    'Biology': ['Alice', 'Charlie'],\n",
        "    'History': ['Bob', 'Diana'],\n",
        "    'Art': ['Bob', 'Charlie'],\n",
        "    'Computer Science': ['Alice', 'Diana']\n",
        "}\n",
        "\n",
        "# Find and print the schedule\n",
        "schedule = schedule_courses(courses, time_slots, constraints, {})\n",
        "print(\"Timetable Schedule:\", schedule)\n"
      ]
    },
    {
      "cell_type": "markdown",
      "metadata": {
        "id": "4mJ8E9ObzDED"
      },
      "source": [
        "## Exercise 4: KenKen Puzzle\n",
        "\n",
        "Problem Description: Solve a 3x3 KenKen puzzle where each row and column contains numbers 1 to 3 without repetition. Additionally, cells are grouped with a target operation.\n",
        "\n",
        "Puzzle Layout:\n",
        "\n",
        "    Cells (0,0), (0,1): Sum to 4\n",
        "    Cells (0,2), (1,2): Product to 3\n",
        "    Cells (1,0), (2,0): Difference to 1\n",
        "    Cells (1,1), (2,1): Sum to 3\n",
        "    Cell (2,2): Must be 2\n",
        "\n",
        "Instructions:\n",
        "\n",
        "    Implement the is_valid function to enforce row, column, and cage constraints.\n",
        "    Implement the find_empty function to locate the next empty cell.\n",
        "    Complete the solve_kenken function to solve the puzzle."
      ]
    },
    {
      "cell_type": "code",
      "execution_count": 28,
      "metadata": {
        "id": "vAL9IO8tzHkP"
      },
      "outputs": [
        {
          "name": "stdout",
          "output_type": "stream",
          "text": [
            "KenKen Solution:\n",
            "Not solveable\n"
          ]
        }
      ],
      "source": [
        "# Exercise 4: KenKen Puzzle Solver using Backtracking\n",
        "\n",
        "def operation(op, num1, num2):\n",
        "    if op == \"+\": return num1+num2\n",
        "    if op == \"-\": return max(num1,num2)-min(num1,num2)\n",
        "    if op == \"*\": return num1*num2\n",
        "    else: return None\n",
        "\n",
        "def is_valid(grid, row, col, num, cages):\n",
        "    # Check row\n",
        "    if num in grid[row]:\n",
        "        # print(f\"RowError: {num} is already in {grid[row]}\")\n",
        "        return False, 0\n",
        "    # Check col\n",
        "    for r in grid:\n",
        "        if r[col] == num:\n",
        "            # print(f\"ColError: {num} is already in {[x[col] for x in grid]}\")\n",
        "            return False, 0\n",
        "    \n",
        "    # Check cages\n",
        "    for cage in cages:\n",
        "        op, out = cages[cage]\n",
        "        if len(cage) == 1 and cage[0] == (row, col):\n",
        "            if num != out:\n",
        "                # print(f\"CagError: {num} should be {out}\")\n",
        "                return False, out\n",
        "        elif (row,col) in cage:\n",
        "            num1 = grid[cage[0][0]][cage[0][1]]\n",
        "            if num1 == -1: return True, 0\n",
        "            num2 = grid[cage[1][0]][cage[1][1]]\n",
        "            if num2 == 0: num2 = num\n",
        "            if operation(op,num1,num2) != out:\n",
        "                # print(f\"CagError: {num1}{op}{num2} must be {out}\")\n",
        "                return False, -1\n",
        "    \n",
        "    # Finally, if no violations so far...\n",
        "    return True, num\n",
        "\n",
        "def find_empty(grid):\n",
        "    for r in range(len(grid)):\n",
        "        for c in range(len(grid[r])):\n",
        "            if grid[r][c] == 0: return (r,c)\n",
        "    return False\n",
        "\n",
        "def find_lowPriority(grid):\n",
        "    for r in range(len(grid)):\n",
        "        for c in range(len(grid[r])):\n",
        "            if grid[r][c] == -1: return (r,c)\n",
        "\n",
        "def solve_kenken(grid, cages):\n",
        "    empty = find_empty(grid)\n",
        "    if not empty:\n",
        "        empty = find_lowPriority(grid)\n",
        "    if not empty:\n",
        "        return grid\n",
        "    row, col = empty\n",
        "    force = 0\n",
        "    for num in range(1, 4):\n",
        "        valid, suggested = is_valid(grid, row, col, num, cages)\n",
        "        if suggested: force = suggested\n",
        "        if valid:\n",
        "            grid[row][col] = num\n",
        "            # print(f\"Assigned {num} to ({row},{col})!\")\n",
        "            # print(grid)\n",
        "            result = solve_kenken(grid, cages)\n",
        "            if result:\n",
        "                return result\n",
        "    \n",
        "    if force:\n",
        "        grid[row][col] = force # just try it, might fix later\n",
        "        # print(f\"Assigned {force} to ({row},{col})!\")\n",
        "        # print(grid)\n",
        "        solve_kenken(grid,cages)\n",
        "    return [\"Not solveable\"]\n",
        "\n",
        "# Define the initial grid (0 represents empty cells)\n",
        "kenken_grid = [\n",
        "    [0, 0, 0],\n",
        "    [0, 0, 0],\n",
        "    [0, 0, 0]\n",
        "]\n",
        "\n",
        "# Define cages with their target and operation\n",
        "cages = {\n",
        "    ((0,0), (0,1)): ('+', 4),\n",
        "    ((0,2), (1,2)): ('*', 3),\n",
        "    ((1,0), (2,0)): ('-', 1),\n",
        "    ((1,1), (2,1)): ('+', 3),\n",
        "    ((2,2),): (None, 2)\n",
        "}\n",
        "\n",
        "# Find and print the solution\n",
        "solution = solve_kenken(kenken_grid, cages)\n",
        "print(\"KenKen Solution:\")\n",
        "for row in solution:\n",
        "    print(row)\n"
      ]
    },
    {
      "cell_type": "markdown",
      "metadata": {
        "id": "eUgaY7qCzL4f"
      },
      "source": [
        "## Exercise 5: Word Ladder\n",
        "\n",
        "Problem Description: Transform one word into another by changing one letter at a time, ensuring each intermediate word is valid. Find a sequence from \"COLD\" to \"WARM\".\n",
        "\n",
        "Valid Words: COLD, CORD, CARD, WARD, WARM\n",
        "\n",
        "Instructions:\n",
        "\n",
        "    Implement the is_adjacent function to determine if two words differ by one letter.\n",
        "    Implement the word_ladder function using backtracking to find a valid transformation sequence."
      ]
    },
    {
      "cell_type": "code",
      "execution_count": 46,
      "metadata": {
        "id": "GXNC_P-VzQ6p"
      },
      "outputs": [
        {
          "name": "stdout",
          "output_type": "stream",
          "text": [
            "Word Ladder:\n",
            "['COLD', 'CORD', 'CARD', 'WARD', 'WARM']\n"
          ]
        }
      ],
      "source": [
        "# Exercise 5: Word Ladder Solver using Backtracking\n",
        "\n",
        "def is_adjacent(word1, word2):\n",
        "    diff = 0\n",
        "    for i in range(len(word1)):\n",
        "        if word1[i] != word2[i]: diff += 1\n",
        "    if diff == 1: return True\n",
        "    else: return False\n",
        "\n",
        "def word_ladder(start, end, word_list, path={}):\n",
        "    for word in word_list:\n",
        "        if is_adjacent(start, word) and word not in path:\n",
        "            path[start] = word\n",
        "            if word == end:\n",
        "                return list(path.keys()) + [end]\n",
        "            else:\n",
        "                return word_ladder(word,end,word_list,path)            \n",
        "\n",
        "# Define start, end, and word list\n",
        "start_word = \"COLD\"\n",
        "end_word = \"WARM\"\n",
        "valid_words = [\"COLD\", \"CORD\", \"CARD\", \"WARD\", \"WARM\"]\n",
        "\n",
        "# Find and print the word ladder\n",
        "ladder = word_ladder(start_word, end_word, valid_words)\n",
        "print(\"Word Ladder:\")\n",
        "print(ladder)\n"
      ]
    }
  ],
  "metadata": {
    "colab": {
      "provenance": []
    },
    "kernelspec": {
      "display_name": "Python 3",
      "name": "python3"
    },
    "language_info": {
      "codemirror_mode": {
        "name": "ipython",
        "version": 3
      },
      "file_extension": ".py",
      "mimetype": "text/x-python",
      "name": "python",
      "nbconvert_exporter": "python",
      "pygments_lexer": "ipython3",
      "version": "3.10.12"
    }
  },
  "nbformat": 4,
  "nbformat_minor": 0
}
