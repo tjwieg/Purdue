{
 "cells": [
  {
   "cell_type": "markdown",
   "metadata": {},
   "source": [
    "TJ Wiegman  \n",
    "ASM 591 AI  \n",
    "Lab 8  \n",
    "2024-11-08"
   ]
  },
  {
   "cell_type": "code",
   "execution_count": 1,
   "metadata": {
    "colab": {
     "base_uri": "https://localhost:8080/",
     "height": 126
    },
    "id": "KSDgF7H98-KS",
    "outputId": "fde0af32-2150-4c46-96f0-e4abb6e6ac6d"
   },
   "outputs": [
    {
     "name": "stderr",
     "output_type": "stream",
     "text": [
      "/home/tjw/.local/lib/python3.10/site-packages/matplotlib/projections/__init__.py:63: UserWarning: Unable to import Axes3D. This may be due to multiple versions of Matplotlib being installed (e.g. as a system package and as a pip package). As a result, the 3D projection is not available.\n",
      "  warnings.warn(\"Unable to import Axes3D. This may be due to multiple versions of \"\n"
     ]
    }
   ],
   "source": [
    "import torch\n",
    "import torch.nn as nn\n",
    "import torch.optim as optim\n",
    "from torch.utils.data import DataLoader, Dataset\n",
    "import numpy as np\n",
    "import matplotlib.pyplot as plt\n"
   ]
  },
  {
   "cell_type": "markdown",
   "metadata": {
    "id": "5mz3NfRr9LHb"
   },
   "source": [
    "## Solved Example 1: Basic RNN for Sequence Classification\n",
    "\n",
    "### Objective\n",
    "\n",
    "Build a simple RNN to classify sequences based on their cumulative sum. Sequences with a sum above a threshold belong to class 1; otherwise, class 0.\n",
    "\n",
    "### Dataset\n",
    "\n",
    "- **Input:** Sequences of real numbers.\n",
    "- **Output:** Binary class label.\n"
   ]
  },
  {
   "cell_type": "code",
   "execution_count": 2,
   "metadata": {
    "id": "0g8ICXdR9MNW"
   },
   "outputs": [],
   "source": [
    "class SumDataset(Dataset):\n",
    "    def __init__(self, num_samples=1000, seq_length=10):\n",
    "        self.num_samples = num_samples\n",
    "        self.seq_length = seq_length\n",
    "        self.threshold = 0.0\n",
    "        np.random.seed(0)\n",
    "        self.data = np.random.randn(num_samples, seq_length)\n",
    "        self.labels = (self.data.sum(axis=1) > self.threshold).astype(int)\n",
    "\n",
    "    def __len__(self):\n",
    "        return self.num_samples\n",
    "\n",
    "    def __getitem__(self, idx):\n",
    "        sequence = torch.tensor(self.data[idx], dtype=torch.float32).unsqueeze(-1)  # Shape: [seq_length, 1]\n",
    "        label = torch.tensor(self.labels[idx], dtype=torch.long)\n",
    "        return sequence, label\n"
   ]
  },
  {
   "cell_type": "code",
   "execution_count": 3,
   "metadata": {
    "id": "qWLwgIeq9RsR"
   },
   "outputs": [],
   "source": [
    "class SimpleRNN(nn.Module):\n",
    "    def __init__(self, input_size=1, hidden_size=16, num_layers=1, num_classes=2):\n",
    "        super(SimpleRNN, self).__init__()\n",
    "        self.hidden_size = hidden_size\n",
    "        self.num_layers = num_layers\n",
    "        self.rnn = nn.RNN(input_size, hidden_size, num_layers, batch_first=True, nonlinearity='tanh')\n",
    "        self.fc = nn.Linear(hidden_size, num_classes)\n",
    "\n",
    "    def forward(self, x):\n",
    "        # Initialize hidden state\n",
    "        h0 = torch.zeros(self.num_layers, x.size(0), self.hidden_size)\n",
    "\n",
    "        # Forward propagate RNN\n",
    "        out, _ = self.rnn(x, h0)  # out: [batch, seq_length, hidden_size]\n",
    "\n",
    "        # Take the output from the last time step\n",
    "        out = out[:, -1, :]  # [batch, hidden_size]\n",
    "        out = self.fc(out)\n",
    "        return out\n"
   ]
  },
  {
   "cell_type": "code",
   "execution_count": 4,
   "metadata": {
    "id": "OXGUS_w89VVQ"
   },
   "outputs": [
    {
     "name": "stdout",
     "output_type": "stream",
     "text": [
      "Epoch [1/20], Loss: 0.7510\n",
      "Epoch [2/20], Loss: 0.5538\n",
      "Epoch [3/20], Loss: 0.3179\n",
      "Epoch [4/20], Loss: 0.2257\n",
      "Epoch [5/20], Loss: 0.2377\n",
      "Epoch [6/20], Loss: 0.6048\n",
      "Epoch [7/20], Loss: 0.2674\n",
      "Epoch [8/20], Loss: 0.0840\n",
      "Epoch [9/20], Loss: 0.1239\n",
      "Epoch [10/20], Loss: 0.2784\n",
      "Epoch [11/20], Loss: 0.4390\n",
      "Epoch [12/20], Loss: 0.0643\n",
      "Epoch [13/20], Loss: 0.0522\n",
      "Epoch [14/20], Loss: 0.0301\n",
      "Epoch [15/20], Loss: 0.2004\n",
      "Epoch [16/20], Loss: 0.1011\n",
      "Epoch [17/20], Loss: 0.3430\n",
      "Epoch [18/20], Loss: 0.0099\n",
      "Epoch [19/20], Loss: 0.1442\n",
      "Epoch [20/20], Loss: 0.0315\n"
     ]
    }
   ],
   "source": [
    "# Hyperparameters\n",
    "input_size = 1\n",
    "hidden_size = 16\n",
    "num_layers = 1\n",
    "num_classes = 2\n",
    "num_epochs = 20\n",
    "batch_size = 32\n",
    "learning_rate = 0.001\n",
    "\n",
    "# Dataset and DataLoader\n",
    "dataset = SumDataset(num_samples=1000, seq_length=10)\n",
    "train_loader = DataLoader(dataset, batch_size=batch_size, shuffle=True)\n",
    "\n",
    "# Model, Loss, Optimizer\n",
    "model = SimpleRNN(input_size, hidden_size, num_layers, num_classes)\n",
    "criterion = nn.CrossEntropyLoss()\n",
    "optimizer = optim.Adam(model.parameters(), lr=learning_rate)\n",
    "\n",
    "# Training Loop\n",
    "for epoch in range(num_epochs):\n",
    "    for sequences, labels in train_loader:\n",
    "        outputs = model(sequences)\n",
    "        loss = criterion(outputs, labels)\n",
    "\n",
    "        optimizer.zero_grad()\n",
    "        loss.backward()\n",
    "        optimizer.step()\n",
    "\n",
    "    print(f'Epoch [{epoch+1}/{num_epochs}], Loss: {loss.item():.4f}')\n"
   ]
  },
  {
   "cell_type": "code",
   "execution_count": 5,
   "metadata": {
    "id": "0-mYEgY_9cTT"
   },
   "outputs": [
    {
     "name": "stdout",
     "output_type": "stream",
     "text": [
      "Accuracy: 97.00%\n"
     ]
    }
   ],
   "source": [
    "# Evaluation\n",
    "with torch.no_grad():\n",
    "    correct = 0\n",
    "    total = 0\n",
    "    for sequences, labels in train_loader:\n",
    "        outputs = model(sequences)\n",
    "        _, predicted = torch.max(outputs.data, 1)\n",
    "        total += labels.size(0)\n",
    "        correct += (predicted == labels).sum().item()\n",
    "    print(f'Accuracy: {100 * correct / total:.2f}%')\n"
   ]
  },
  {
   "cell_type": "markdown",
   "metadata": {
    "id": "-MGA5xjU9nZ_"
   },
   "source": [
    "## Solved Example 2: LSTM with Hyperparameter Tuning\n",
    "\n",
    "### Objective\n",
    "\n",
    "Build an LSTM model to perform sentiment analysis on a simple dataset. Highlight how different hyperparameters impact model performance.\n",
    "\n",
    "### Dataset\n",
    "\n",
    "For simplicity, we'll create a synthetic dataset where sequences of positive numbers represent positive sentiment and sequences of negative numbers represent negative sentiment.\n"
   ]
  },
  {
   "cell_type": "code",
   "execution_count": 6,
   "metadata": {
    "id": "NivOMG-P9mh0"
   },
   "outputs": [],
   "source": [
    "class SentimentDataset(Dataset):\n",
    "    def __init__(self, num_samples=1000, seq_length=15):\n",
    "        self.num_samples = num_samples\n",
    "        self.seq_length = seq_length\n",
    "        np.random.seed(1)\n",
    "        # Positive samples\n",
    "        pos_data = np.random.uniform(0.5, 1.5, size=(num_samples//2, seq_length))\n",
    "        # Negative samples\n",
    "        neg_data = np.random.uniform(-1.5, -0.5, size=(num_samples//2, seq_length))\n",
    "        self.data = np.vstack((pos_data, neg_data))\n",
    "        self.labels = np.hstack((np.ones(num_samples//2), np.zeros(num_samples//2))).astype(int)\n",
    "\n",
    "    def __len__(self):\n",
    "        return self.num_samples\n",
    "\n",
    "    def __getitem__(self, idx):\n",
    "        sequence = torch.tensor(self.data[idx], dtype=torch.float32).unsqueeze(-1)  # [seq_length, 1]\n",
    "        label = torch.tensor(self.labels[idx], dtype=torch.long)\n",
    "        return sequence, label\n"
   ]
  },
  {
   "cell_type": "code",
   "execution_count": 7,
   "metadata": {
    "id": "DC6pC27n9v5a"
   },
   "outputs": [],
   "source": [
    "class LSTMModel(nn.Module):\n",
    "    def __init__(self, input_size=1, hidden_size=32, num_layers=2, num_classes=2, dropout=0.5):\n",
    "        super(LSTMModel, self).__init__()\n",
    "        self.hidden_size = hidden_size\n",
    "        self.num_layers = num_layers\n",
    "        self.lstm = nn.LSTM(input_size, hidden_size, num_layers, batch_first=True, dropout=dropout)\n",
    "        self.fc = nn.Linear(hidden_size, num_classes)\n",
    "\n",
    "    def forward(self, x):\n",
    "        # Initialize hidden and cell states\n",
    "        h0 = torch.zeros(self.num_layers, x.size(0), self.hidden_size)\n",
    "        c0 = torch.zeros(self.num_layers, x.size(0), self.hidden_size)\n",
    "\n",
    "        # Forward propagate LSTM\n",
    "        out, _ = self.lstm(x, (h0, c0))  # out: [batch, seq_length, hidden_size]\n",
    "\n",
    "        # Take the output from the last time step\n",
    "        out = out[:, -1, :]  # [batch, hidden_size]\n",
    "        out = self.fc(out)\n",
    "        return out\n"
   ]
  },
  {
   "cell_type": "code",
   "execution_count": 8,
   "metadata": {
    "id": "gGn8S4tq9w6d"
   },
   "outputs": [
    {
     "name": "stdout",
     "output_type": "stream",
     "text": [
      "\n",
      "Training LSTM with hidden_size=16, num_layers=1\n"
     ]
    },
    {
     "name": "stderr",
     "output_type": "stream",
     "text": [
      "/home/tjw/.local/lib/python3.10/site-packages/torch/nn/modules/rnn.py:123: UserWarning: dropout option adds dropout after all but last recurrent layer, so non-zero dropout expects num_layers greater than 1, but got dropout=0.3 and num_layers=1\n",
      "  warnings.warn(\n"
     ]
    },
    {
     "name": "stdout",
     "output_type": "stream",
     "text": [
      "Accuracy: 100.00%\n",
      "\n",
      "Training LSTM with hidden_size=16, num_layers=2\n",
      "Accuracy: 100.00%\n",
      "\n",
      "Training LSTM with hidden_size=32, num_layers=1\n",
      "Accuracy: 100.00%\n",
      "\n",
      "Training LSTM with hidden_size=32, num_layers=2\n",
      "Accuracy: 100.00%\n",
      "\n",
      "Training LSTM with hidden_size=64, num_layers=1\n",
      "Accuracy: 100.00%\n",
      "\n",
      "Training LSTM with hidden_size=64, num_layers=2\n",
      "Accuracy: 100.00%\n"
     ]
    }
   ],
   "source": [
    "# Hyperparameters to experiment with\n",
    "hidden_sizes = [16, 32, 64]\n",
    "num_layers_list = [1, 2]\n",
    "\n",
    "for hidden_size in hidden_sizes:\n",
    "    for num_layers in num_layers_list:\n",
    "        print(f'\\nTraining LSTM with hidden_size={hidden_size}, num_layers={num_layers}')\n",
    "\n",
    "        model = LSTMModel(input_size=1, hidden_size=hidden_size, num_layers=num_layers, num_classes=2, dropout=0.3)\n",
    "        criterion = nn.CrossEntropyLoss()\n",
    "        optimizer = optim.Adam(model.parameters(), lr=0.001)\n",
    "\n",
    "        # Dataset and DataLoader\n",
    "        dataset = SentimentDataset(num_samples=1000, seq_length=15)\n",
    "        train_loader = DataLoader(dataset, batch_size=32, shuffle=True)\n",
    "\n",
    "        # Training Loop\n",
    "        num_epochs = 15\n",
    "        for epoch in range(num_epochs):\n",
    "            for sequences, labels in train_loader:\n",
    "                outputs = model(sequences)\n",
    "                loss = criterion(outputs, labels)\n",
    "\n",
    "                optimizer.zero_grad()\n",
    "                loss.backward()\n",
    "                optimizer.step()\n",
    "\n",
    "        # Evaluation\n",
    "        with torch.no_grad():\n",
    "            correct = 0\n",
    "            total = 0\n",
    "            for sequences, labels in train_loader:\n",
    "                outputs = model(sequences)\n",
    "                _, predicted = torch.max(outputs.data, 1)\n",
    "                total += labels.size(0)\n",
    "                correct += (predicted == labels).sum().item()\n",
    "            accuracy = 100 * correct / total\n",
    "            print(f'Accuracy: {accuracy:.2f}%')\n"
   ]
  },
  {
   "cell_type": "markdown",
   "metadata": {
    "id": "bviBEeio93Wv"
   },
   "source": [
    "## Solved Example 3: GRU with Feature Extraction\n",
    "\n",
    "### Objective\n",
    "\n",
    "Implement a GRU-based model to predict the next value in a time series, highlighting the role of feature extraction.\n"
   ]
  },
  {
   "cell_type": "code",
   "execution_count": 9,
   "metadata": {
    "id": "PLjtuNUi96Ty"
   },
   "outputs": [],
   "source": [
    "class SineWaveDataset(Dataset):\n",
    "    def __init__(self, num_samples=1000, seq_length=50):\n",
    "        self.num_samples = num_samples\n",
    "        self.seq_length = seq_length\n",
    "        self.x = np.linspace(0, 100, num_samples + seq_length)\n",
    "        self.y = np.sin(self.x) + 0.1 * np.random.randn(len(self.x))\n",
    "\n",
    "    def __len__(self):\n",
    "        return self.num_samples\n",
    "\n",
    "    def __getitem__(self, idx):\n",
    "        sequence = self.y[idx:idx + self.seq_length]\n",
    "        target = self.y[idx + self.seq_length]\n",
    "        sequence = torch.tensor(sequence, dtype=torch.float32).unsqueeze(-1)  # [seq_length, 1]\n",
    "        target = torch.tensor(target, dtype=torch.float32)\n",
    "        return sequence, target\n"
   ]
  },
  {
   "cell_type": "code",
   "execution_count": 10,
   "metadata": {
    "id": "cIkz_Ua498xi"
   },
   "outputs": [],
   "source": [
    "class GRUModel(nn.Module):\n",
    "    def __init__(self, input_size=1, hidden_size=32, num_layers=1, output_size=1, kernel_size=3):\n",
    "        super(GRUModel, self).__init__()\n",
    "        self.conv1 = nn.Conv1d(in_channels=1, out_channels=16, kernel_size=kernel_size, padding=1)\n",
    "        self.relu = nn.ReLU()\n",
    "        self.gru = nn.GRU(input_size=16, hidden_size=hidden_size, num_layers=num_layers, batch_first=True)\n",
    "        self.fc = nn.Linear(hidden_size, output_size)\n",
    "\n",
    "    def forward(self, x):\n",
    "        # x: [batch, seq_length, 1]\n",
    "        x = x.permute(0, 2, 1)  # [batch, 1, seq_length]\n",
    "        x = self.conv1(x)       # [batch, 16, seq_length]\n",
    "        x = self.relu(x)\n",
    "        x = x.permute(0, 2, 1)  # [batch, seq_length, 16]\n",
    "        out, _ = self.gru(x)\n",
    "        out = out[:, -1, :]     # [batch, hidden_size]\n",
    "        out = self.fc(out)\n",
    "        return out\n"
   ]
  },
  {
   "cell_type": "code",
   "execution_count": 11,
   "metadata": {
    "id": "Xz7DkSyq-AM7"
   },
   "outputs": [
    {
     "name": "stdout",
     "output_type": "stream",
     "text": [
      "Epoch [5/30], Loss: 0.0237\n",
      "Epoch [10/30], Loss: 0.0144\n",
      "Epoch [15/30], Loss: 0.0138\n",
      "Epoch [20/30], Loss: 0.0095\n",
      "Epoch [25/30], Loss: 0.0097\n",
      "Epoch [30/30], Loss: 0.0142\n"
     ]
    }
   ],
   "source": [
    "# Hyperparameters\n",
    "input_size = 1\n",
    "hidden_size = 32\n",
    "num_layers = 1\n",
    "output_size = 1\n",
    "kernel_size = 3\n",
    "num_epochs = 30\n",
    "batch_size = 64\n",
    "learning_rate = 0.001\n",
    "\n",
    "# Dataset and DataLoader\n",
    "dataset = SineWaveDataset(num_samples=1000, seq_length=50)\n",
    "train_loader = DataLoader(dataset, batch_size=batch_size, shuffle=True)\n",
    "\n",
    "# Model, Loss, Optimizer\n",
    "model = GRUModel(input_size, hidden_size, num_layers, output_size, kernel_size)\n",
    "criterion = nn.MSELoss()\n",
    "optimizer = optim.Adam(model.parameters(), lr=learning_rate)\n",
    "\n",
    "# Training Loop\n",
    "for epoch in range(num_epochs):\n",
    "    for sequences, targets in train_loader:\n",
    "        outputs = model(sequences)\n",
    "        loss = criterion(outputs.squeeze(), targets)\n",
    "\n",
    "        optimizer.zero_grad()\n",
    "        loss.backward()\n",
    "        optimizer.step()\n",
    "\n",
    "    if (epoch+1) % 5 == 0:\n",
    "        print(f'Epoch [{epoch+1}/{num_epochs}], Loss: {loss.item():.4f}')\n"
   ]
  },
  {
   "cell_type": "code",
   "execution_count": 12,
   "metadata": {
    "id": "8R6gpTLg-B3v"
   },
   "outputs": [
    {
     "data": {
      "image/png": "[encoded data removed]",
      "text/plain": [
       "<Figure size 864x432 with 1 Axes>"
      ]
     },
     "metadata": {
      "needs_background": "light"
     },
     "output_type": "display_data"
    }
   ],
   "source": [
    "# Evaluation on a new sine wave\n",
    "model.eval()\n",
    "with torch.no_grad():\n",
    "    test_dataset = SineWaveDataset(num_samples=200, seq_length=50)\n",
    "    test_loader = DataLoader(test_dataset, batch_size=1, shuffle=False)\n",
    "    predictions = []\n",
    "    actual = []\n",
    "    for sequences, targets in test_loader:\n",
    "        output = model(sequences)\n",
    "        predictions.append(output.item())\n",
    "        actual.append(targets.item())\n",
    "\n",
    "# Plotting\n",
    "plt.figure(figsize=(12,6))\n",
    "plt.plot(actual, label='Actual')\n",
    "plt.plot(predictions, label='Predicted')\n",
    "plt.legend()\n",
    "plt.show()\n"
   ]
  },
  {
   "cell_type": "markdown",
   "metadata": {
    "id": "_Qe6S0nv98TA"
   },
   "source": [
    "## Solved Example 4: Combining CNN and LSTM for Text Classification\n",
    "\n",
    "### Objective\n",
    "\n",
    "Build a text classification model that first uses a Convolutional Neural Network (CNN) for feature extraction from text embeddings, followed by an LSTM to capture sequential dependencies.\n"
   ]
  },
  {
   "cell_type": "code",
   "execution_count": 16,
   "metadata": {
    "id": "wtXIHcZW-F_f"
   },
   "outputs": [
    {
     "ename": "TypeError",
     "evalue": "IMDB.__init__() missing 3 required positional arguments: 'path', 'text_field', and 'label_field'",
     "output_type": "error",
     "traceback": [
      "\u001b[0;31m---------------------------------------------------------------------------\u001b[0m",
      "\u001b[0;31mTypeError\u001b[0m                                 Traceback (most recent call last)",
      "\u001b[0;32m/tmp/ipykernel_2882423/825108031.py\u001b[0m in \u001b[0;36m<module>\u001b[0;34m\u001b[0m\n\u001b[1;32m      6\u001b[0m \u001b[0;31m# Tokenizer and Vocabulary\u001b[0m\u001b[0;34m\u001b[0m\u001b[0;34m\u001b[0m\u001b[0m\n\u001b[1;32m      7\u001b[0m \u001b[0mtokenizer\u001b[0m \u001b[0;34m=\u001b[0m \u001b[0mget_tokenizer\u001b[0m\u001b[0;34m(\u001b[0m\u001b[0;34m'basic_english'\u001b[0m\u001b[0;34m)\u001b[0m\u001b[0;34m\u001b[0m\u001b[0;34m\u001b[0m\u001b[0m\n\u001b[0;32m----> 8\u001b[0;31m \u001b[0mtrain_iter\u001b[0m \u001b[0;34m=\u001b[0m \u001b[0mIMDB\u001b[0m\u001b[0;34m(\u001b[0m\u001b[0msplit\u001b[0m\u001b[0;34m=\u001b[0m\u001b[0;34m'train'\u001b[0m\u001b[0;34m)\u001b[0m\u001b[0;34m\u001b[0m\u001b[0;34m\u001b[0m\u001b[0m\n\u001b[0m\u001b[1;32m      9\u001b[0m \u001b[0;34m\u001b[0m\u001b[0m\n\u001b[1;32m     10\u001b[0m \u001b[0;32mdef\u001b[0m \u001b[0myield_tokens\u001b[0m\u001b[0;34m(\u001b[0m\u001b[0mdata_iter\u001b[0m\u001b[0;34m)\u001b[0m\u001b[0;34m:\u001b[0m\u001b[0;34m\u001b[0m\u001b[0;34m\u001b[0m\u001b[0m\n",
      "\u001b[0;31mTypeError\u001b[0m: IMDB.__init__() missing 3 required positional arguments: 'path', 'text_field', and 'label_field'"
     ]
    }
   ],
   "source": [
    "import torchtext\n",
    "from torchtext.datasets import IMDB\n",
    "from torchtext.data.utils import get_tokenizer\n",
    "from torchtext.vocab import build_vocab_from_iterator\n",
    "\n",
    "# Tokenizer and Vocabulary\n",
    "tokenizer = get_tokenizer('basic_english')\n",
    "train_iter = IMDB(split='train')\n",
    "\n",
    "def yield_tokens(data_iter):\n",
    "    for label, text in data_iter:\n",
    "        yield tokenizer(text)\n",
    "\n",
    "vocab = build_vocab_from_iterator(yield_tokens(train_iter), specials=[\"<unk>\"])\n",
    "vocab.set_default_index(vocab[\"<unk>\"])\n",
    "\n",
    "# Reload train_iter\n",
    "train_iter = IMDB(split='train')\n",
    "\n",
    "# Encoding function\n",
    "def encode(text):\n",
    "    return vocab(tokenizer(text))\n",
    "\n",
    "# Dataset Class\n",
    "class IMDBDatasetCustom(Dataset):\n",
    "    def __init__(self, split='train'):\n",
    "        self.data = list(IMDB(split=split))\n",
    "        self.labels = [1 if label == 'pos' else 0 for label, _ in self.data]\n",
    "        self.texts = [encode(text) for _, text in self.data]\n",
    "\n",
    "    def __len__(self):\n",
    "        return len(self.labels)\n",
    "\n",
    "    def __getitem__(self, idx):\n",
    "        text = self.texts[idx]\n",
    "        label = self.labels[idx]\n",
    "        return torch.tensor(text, dtype=torch.long), torch.tensor(label, dtype=torch.long)\n"
   ]
  },
  {
   "cell_type": "code",
   "execution_count": 17,
   "metadata": {
    "id": "5UW2gEJc-LXt"
   },
   "outputs": [],
   "source": [
    "class CNNLSTMModel(nn.Module):\n",
    "    def __init__(self, vocab_size, embed_size=128, cnn_out_channels=64, cnn_kernel_size=5,\n",
    "                 lstm_hidden_size=128, lstm_num_layers=2, num_classes=2, dropout=0.5):\n",
    "        super(CNNLSTMModel, self).__init__()\n",
    "        self.embedding = nn.Embedding(vocab_size, embed_size, padding_idx=0)\n",
    "        self.conv = nn.Conv1d(in_channels=embed_size, out_channels=cnn_out_channels, kernel_size=cnn_kernel_size, padding=2)\n",
    "        self.relu = nn.ReLU()\n",
    "        self.dropout = nn.Dropout(dropout)\n",
    "        self.lstm = nn.LSTM(input_size=cnn_out_channels, hidden_size=lstm_hidden_size,\n",
    "                            num_layers=lstm_num_layers, batch_first=True, dropout=dropout)\n",
    "        self.fc = nn.Linear(lstm_hidden_size, num_classes)\n",
    "\n",
    "    def forward(self, x, lengths):\n",
    "        # x: [batch, seq_length]\n",
    "        embedded = self.embedding(x)  # [batch, seq_length, embed_size]\n",
    "        embedded = embedded.permute(0, 2, 1)  # [batch, embed_size, seq_length]\n",
    "        conv_out = self.conv(embedded)  # [batch, cnn_out_channels, seq_length]\n",
    "        conv_out = self.relu(conv_out)\n",
    "        conv_out = conv_out.permute(0, 2, 1)  # [batch, seq_length, cnn_out_channels]\n",
    "        conv_out = self.dropout(conv_out)\n",
    "\n",
    "        # Pack sequence\n",
    "        packed_input = nn.utils.rnn.pack_padded_sequence(conv_out, lengths.cpu(), batch_first=True, enforce_sorted=False)\n",
    "        packed_output, (hn, cn) = self.lstm(packed_input)\n",
    "        # Use the last hidden state\n",
    "        out = self.fc(hn[-1])  # [batch, num_classes]\n",
    "        return out\n"
   ]
  },
  {
   "cell_type": "code",
   "execution_count": 18,
   "metadata": {
    "id": "JBTQxqiR-WNy"
   },
   "outputs": [],
   "source": [
    "# Collate Function with Padding\n",
    "from torch.nn.utils.rnn import pad_sequence\n",
    "\n",
    "def collate_batch(batch):\n",
    "    texts, labels = zip(*batch)\n",
    "    lengths = [len(text) for text in texts]\n",
    "    texts_padded = pad_sequence(texts, batch_first=True, padding_value=0)\n",
    "    return texts_padded, torch.tensor(labels, dtype=torch.long), torch.tensor(lengths, dtype=torch.long)\n"
   ]
  },
  {
   "cell_type": "code",
   "execution_count": 19,
   "metadata": {
    "id": "ldBvisGh-YY2"
   },
   "outputs": [
    {
     "ename": "NameError",
     "evalue": "name 'vocab' is not defined",
     "output_type": "error",
     "traceback": [
      "\u001b[0;31m---------------------------------------------------------------------------\u001b[0m",
      "\u001b[0;31mNameError\u001b[0m                                 Traceback (most recent call last)",
      "\u001b[0;32m/tmp/ipykernel_2882423/1712956551.py\u001b[0m in \u001b[0;36m<module>\u001b[0;34m\u001b[0m\n\u001b[1;32m      1\u001b[0m \u001b[0;31m# Hyperparameters\u001b[0m\u001b[0;34m\u001b[0m\u001b[0;34m\u001b[0m\u001b[0m\n\u001b[0;32m----> 2\u001b[0;31m \u001b[0mvocab_size\u001b[0m \u001b[0;34m=\u001b[0m \u001b[0mlen\u001b[0m\u001b[0;34m(\u001b[0m\u001b[0mvocab\u001b[0m\u001b[0;34m)\u001b[0m\u001b[0;34m\u001b[0m\u001b[0;34m\u001b[0m\u001b[0m\n\u001b[0m\u001b[1;32m      3\u001b[0m \u001b[0membed_size\u001b[0m \u001b[0;34m=\u001b[0m \u001b[0;36m128\u001b[0m\u001b[0;34m\u001b[0m\u001b[0;34m\u001b[0m\u001b[0m\n\u001b[1;32m      4\u001b[0m \u001b[0mcnn_out_channels\u001b[0m \u001b[0;34m=\u001b[0m \u001b[0;36m64\u001b[0m\u001b[0;34m\u001b[0m\u001b[0;34m\u001b[0m\u001b[0m\n\u001b[1;32m      5\u001b[0m \u001b[0mcnn_kernel_size\u001b[0m \u001b[0;34m=\u001b[0m \u001b[0;36m5\u001b[0m\u001b[0;34m\u001b[0m\u001b[0;34m\u001b[0m\u001b[0m\n",
      "\u001b[0;31mNameError\u001b[0m: name 'vocab' is not defined"
     ]
    }
   ],
   "source": [
    "# Hyperparameters\n",
    "vocab_size = len(vocab)\n",
    "embed_size = 128\n",
    "cnn_out_channels = 64\n",
    "cnn_kernel_size = 5\n",
    "lstm_hidden_size = 128\n",
    "lstm_num_layers = 2\n",
    "num_classes = 2\n",
    "dropout = 0.5\n",
    "num_epochs = 5\n",
    "batch_size = 64\n",
    "learning_rate = 0.001\n",
    "\n",
    "# Dataset and DataLoader\n",
    "train_dataset = IMDBDatasetCustom(split='train')\n",
    "train_loader = DataLoader(train_dataset, batch_size=batch_size, shuffle=True, collate_fn=collate_batch)\n",
    "\n",
    "# Model, Loss, Optimizer\n",
    "model = CNNLSTMModel(vocab_size, embed_size, cnn_out_channels, cnn_kernel_size,\n",
    "                    lstm_hidden_size, lstm_num_layers, num_classes, dropout)\n",
    "criterion = nn.CrossEntropyLoss()\n",
    "optimizer = optim.Adam(model.parameters(), lr=learning_rate)\n",
    "\n",
    "# Training Loop\n",
    "for epoch in range(num_epochs):\n",
    "    model.train()\n",
    "    total_loss = 0\n",
    "    for texts, labels, lengths in train_loader:\n",
    "        outputs = model(texts, lengths)\n",
    "        loss = criterion(outputs, labels)\n",
    "\n",
    "        optimizer.zero_grad()\n",
    "        loss.backward()\n",
    "        optimizer.step()\n",
    "\n",
    "        total_loss += loss.item()\n",
    "    avg_loss = total_loss / len(train_loader)\n",
    "    print(f'Epoch [{epoch+1}/{num_epochs}], Loss: {avg_loss:.4f}')\n"
   ]
  },
  {
   "cell_type": "code",
   "execution_count": 20,
   "metadata": {
    "id": "PfRFflk1-a6Q"
   },
   "outputs": [
    {
     "ename": "NameError",
     "evalue": "name 'IMDBDatasetCustom' is not defined",
     "output_type": "error",
     "traceback": [
      "\u001b[0;31m---------------------------------------------------------------------------\u001b[0m",
      "\u001b[0;31mNameError\u001b[0m                                 Traceback (most recent call last)",
      "\u001b[0;32m/tmp/ipykernel_2882423/177577601.py\u001b[0m in \u001b[0;36m<module>\u001b[0;34m\u001b[0m\n\u001b[1;32m      1\u001b[0m \u001b[0;31m# Evaluation on test set\u001b[0m\u001b[0;34m\u001b[0m\u001b[0;34m\u001b[0m\u001b[0m\n\u001b[0;32m----> 2\u001b[0;31m \u001b[0mtest_dataset\u001b[0m \u001b[0;34m=\u001b[0m \u001b[0mIMDBDatasetCustom\u001b[0m\u001b[0;34m(\u001b[0m\u001b[0msplit\u001b[0m\u001b[0;34m=\u001b[0m\u001b[0;34m'test'\u001b[0m\u001b[0;34m)\u001b[0m\u001b[0;34m\u001b[0m\u001b[0;34m\u001b[0m\u001b[0m\n\u001b[0m\u001b[1;32m      3\u001b[0m \u001b[0mtest_loader\u001b[0m \u001b[0;34m=\u001b[0m \u001b[0mDataLoader\u001b[0m\u001b[0;34m(\u001b[0m\u001b[0mtest_dataset\u001b[0m\u001b[0;34m,\u001b[0m \u001b[0mbatch_size\u001b[0m\u001b[0;34m=\u001b[0m\u001b[0mbatch_size\u001b[0m\u001b[0;34m,\u001b[0m \u001b[0mshuffle\u001b[0m\u001b[0;34m=\u001b[0m\u001b[0;32mFalse\u001b[0m\u001b[0;34m,\u001b[0m \u001b[0mcollate_fn\u001b[0m\u001b[0;34m=\u001b[0m\u001b[0mcollate_batch\u001b[0m\u001b[0;34m)\u001b[0m\u001b[0;34m\u001b[0m\u001b[0;34m\u001b[0m\u001b[0m\n\u001b[1;32m      4\u001b[0m \u001b[0;34m\u001b[0m\u001b[0m\n\u001b[1;32m      5\u001b[0m \u001b[0mmodel\u001b[0m\u001b[0;34m.\u001b[0m\u001b[0meval\u001b[0m\u001b[0;34m(\u001b[0m\u001b[0;34m)\u001b[0m\u001b[0;34m\u001b[0m\u001b[0;34m\u001b[0m\u001b[0m\n",
      "\u001b[0;31mNameError\u001b[0m: name 'IMDBDatasetCustom' is not defined"
     ]
    }
   ],
   "source": [
    "# Evaluation on test set\n",
    "test_dataset = IMDBDatasetCustom(split='test')\n",
    "test_loader = DataLoader(test_dataset, batch_size=batch_size, shuffle=False, collate_fn=collate_batch)\n",
    "\n",
    "model.eval()\n",
    "with torch.no_grad():\n",
    "    correct = 0\n",
    "    total = 0\n",
    "    for texts, labels, lengths in test_loader:\n",
    "        outputs = model(texts, lengths)\n",
    "        _, predicted = torch.max(outputs.data, 1)\n",
    "        total += labels.size(0)\n",
    "        correct += (predicted == labels).sum().item()\n",
    "    print(f'Test Accuracy: {100 * correct / total:.2f}%')\n"
   ]
  },
  {
   "cell_type": "markdown",
   "metadata": {
    "id": "T__6lqdm-fXk"
   },
   "source": [
    "## Problem Set\n",
    "\n",
    "### Problem 1: Building a Bidirectional RNN for Sequence Labeling\n",
    "\n",
    "**Task:** Implement a bidirectional RNN using PyTorch to perform part-of-speech tagging on a synthetic dataset. Compare its performance with a unidirectional RNN.\n",
    "\n",
    "**Requirements:**\n",
    "- Create a synthetic dataset where each word is associated with a POS tag.\n",
    "- Implement both unidirectional and bidirectional RNN models.\n",
    "- Evaluate and compare their accuracies.\n"
   ]
  },
  {
   "cell_type": "code",
   "execution_count": 35,
   "metadata": {},
   "outputs": [],
   "source": [
    "DEP = [\n",
    "    \"pnv\", # preposition, noun, verb\n",
    "    \"pnvn\", # + noun\n",
    "    \"pnvan\", # + adjective, noun\n",
    "    \"panv\", # preposition, adjective, noun\n",
    "    \"panvan\", # + adjective, noun\n",
    "    \"vpn\", # verb, prep, noun\n",
    "    \"vpan\", # + adjective, noun\n",
    "    \"pan\" # prep, adjective, noun\n",
    "]\n",
    "IND = [\n",
    "    \"nv\", # noun, verb\n",
    "    \"anv\", # adjective, noun, verb\n",
    "    \"nvpn\", # noun, verb, prep, noun\n",
    "    \"nvpan\", # + adjective, noun\n",
    "    \"anvpan\", # adjective +\n",
    "    \"anvpn\", # adjective + nvpn\n",
    "]\n",
    "\n",
    "TYPES = {0: \"simple\", 1: \"compound\", 2: \"complex\", 3: \"compound-complex\"}\n",
    "CODES = {\n",
    "    \"a\": 1, # adjective\n",
    "    \"c\": 2, # conjunction\n",
    "    \"n\": 3, # noun\n",
    "    \"p\": 4, # preposition\n",
    "    \"v\": 5, # verb\n",
    "    0: \"-\"  # padding\n",
    "}\n",
    "\n",
    "\n",
    "class PosDataset(Dataset):\n",
    "    def __init__(self, num_samples=1000, max_words=20):\n",
    "        self.num_samples = num_samples\n",
    "        self.seq_length = max_words\n",
    "        np.random.seed(1)\n",
    "        \n",
    "        self.data = []\n",
    "        self.labels = []\n",
    "        # Build sentences one phrase at a time\n",
    "        for _ in range(num_samples):\n",
    "            label = \"\"\n",
    "            t = np.random.randint(0, 4)\n",
    "            if TYPES[t] == \"simple\":\n",
    "                label += np.random.choice(IND)\n",
    "            elif TYPES[t] == \"compound\":\n",
    "                label += np.random.choice(IND)\n",
    "                label += \"c\" # conjunction\n",
    "                label += np.random.choice(IND)\n",
    "            elif TYPES[t] == \"complex\":\n",
    "                if np.random.randint(0, 2) == 0:    # DI\n",
    "                    label += np.random.choice(DEP)\n",
    "                    label += np.random.choice(IND)\n",
    "                else:                               # ID\n",
    "                    label += np.random.choice(IND)\n",
    "                    label += np.random.choice(DEP)\n",
    "            else: # compound-complex\n",
    "                t = np.random.randint(0,3)\n",
    "                if t == 0: # DII\n",
    "                    label += np.random.choice(DEP)\n",
    "                    label += np.random.choice(IND)\n",
    "                    label += \"c\"\n",
    "                    label += np.random.choice(IND)\n",
    "                elif t == 1: # IDI\n",
    "                    label += np.random.choice(IND)\n",
    "                    label += np.random.choice(DEP)\n",
    "                    label += \"c\"\n",
    "                    label += np.random.choice(IND)\n",
    "                elif t == 2: # IID\n",
    "                    label += np.random.choice(IND)\n",
    "                    label += \"c\"\n",
    "                    label += np.random.choice(IND)\n",
    "                    label += np.random.choice(DEP)\n",
    "            \n",
    "            # Encode sentences as numbers\n",
    "            data = [CODES[word] + np.random.uniform(-0.5, 0.5) for word in label]\n",
    "            outl = [CODES[word] for word in label]\n",
    "            \n",
    "            # Pad every sentence to same length\n",
    "            while len(data) < max_words:\n",
    "                data.append(0)\n",
    "                outl.append(0)\n",
    "            \n",
    "            # Save encoded sequences to dataset\n",
    "            self.data.append(data)\n",
    "            self.labels.append(outl)\n",
    "        \n",
    "\n",
    "    def __len__(self):\n",
    "        return self.num_samples\n",
    "\n",
    "    def __getitem__(self, idx):\n",
    "        sequence = torch.tensor(self.data[idx], dtype=torch.float32).unsqueeze(-1)  # [seq_length, 1]\n",
    "        label = torch.tensor(self.labels[idx], dtype=torch.float32)\n",
    "        return sequence, label\n"
   ]
  },
  {
   "cell_type": "code",
   "execution_count": 45,
   "metadata": {},
   "outputs": [],
   "source": [
    "class UniRNN(nn.Module):\n",
    "    def __init__(self, input_size=1, hidden_size=16, num_layers=1, num_classes=2):\n",
    "        super(UniRNN, self).__init__()\n",
    "        self.hidden_size = hidden_size\n",
    "        self.num_layers = num_layers\n",
    "        self.rnn = nn.RNN(input_size, hidden_size, num_layers, batch_first=True,\n",
    "                          nonlinearity='relu', bidirectional=False)\n",
    "        self.fc = nn.Linear(hidden_size, num_classes)\n",
    "\n",
    "    def forward(self, x):\n",
    "        # Initialize hidden state\n",
    "        h0 = torch.zeros(self.num_layers, x.size(0), self.hidden_size)\n",
    "\n",
    "        # Forward propagate RNN\n",
    "        out, _ = self.rnn(x, h0)  # out: [batch, seq_length, hidden_size]\n",
    "\n",
    "        # Take the output from the last time step\n",
    "        out = out[:, -1, :]  # [batch, hidden_size]\n",
    "        out = self.fc(out)\n",
    "        return out\n",
    "\n",
    "class BiRNN(nn.Module):\n",
    "    def __init__(self, input_size=1, hidden_size=16, num_layers=1, num_classes=2):\n",
    "        super(BiRNN, self).__init__()\n",
    "        self.hidden_size = hidden_size\n",
    "        self.num_layers = num_layers\n",
    "        self.rnn = nn.RNN(input_size, hidden_size, num_layers, batch_first=True,\n",
    "                          nonlinearity='relu', bidirectional=True)\n",
    "        self.fc = nn.Linear(2*hidden_size, num_classes)\n",
    "\n",
    "    def forward(self, x):\n",
    "        # Initialize hidden state\n",
    "        h0 = torch.zeros(2*self.num_layers, x.size(0), self.hidden_size)\n",
    "\n",
    "        # Forward propagate RNN\n",
    "        out, _ = self.rnn(x, h0)  # out: [batch, seq_length, hidden_size]\n",
    "\n",
    "        # Take the output from the last time step\n",
    "        out = out[:, -1, :]  # [batch, hidden_size]\n",
    "        out = self.fc(out)\n",
    "        return out\n"
   ]
  },
  {
   "cell_type": "code",
   "execution_count": 66,
   "metadata": {},
   "outputs": [
    {
     "name": "stdout",
     "output_type": "stream",
     "text": [
      "Epoch [0/20], Loss: 6.0240 & 5.7290\n",
      "Epoch [1/20], Loss: 5.5259 & 4.3549\n",
      "Epoch [2/20], Loss: 2.5586 & 1.8759\n",
      "Epoch [3/20], Loss: 1.6301 & 1.6065\n",
      "Epoch [4/20], Loss: 1.8674 & 1.7954\n",
      "Epoch [5/20], Loss: 1.4447 & 1.4442\n",
      "Epoch [6/20], Loss: 1.8008 & 1.7296\n",
      "Epoch [7/20], Loss: 1.7762 & 1.6295\n",
      "Epoch [8/20], Loss: 1.9124 & 1.6375\n",
      "Epoch [9/20], Loss: 1.5874 & 1.3499\n",
      "Epoch [10/20], Loss: 1.4197 & 0.8907\n",
      "Epoch [11/20], Loss: 1.3542 & 0.8563\n",
      "Epoch [12/20], Loss: 1.5907 & 1.0799\n",
      "Epoch [13/20], Loss: 1.2280 & 0.7768\n",
      "Epoch [14/20], Loss: 1.6095 & 0.9962\n",
      "Epoch [15/20], Loss: 1.2726 & 0.8408\n",
      "Epoch [16/20], Loss: 1.5008 & 1.1573\n",
      "Epoch [17/20], Loss: 1.8228 & 1.1210\n",
      "Epoch [18/20], Loss: 1.3807 & 0.7283\n",
      "Epoch [19/20], Loss: 1.7197 & 1.0878\n",
      "Epoch [20/20], Loss: 1.5491 & 1.0205\n"
     ]
    }
   ],
   "source": [
    "# Hyperparameters\n",
    "input_size = 1\n",
    "hidden_size = 16\n",
    "num_layers = 1\n",
    "num_classes = 20\n",
    "num_epochs = 20\n",
    "batch_size = 32\n",
    "learning_rate = 0.001\n",
    "\n",
    "# Dataset and DataLoader\n",
    "dataset = PosDataset()\n",
    "train_loader = DataLoader(dataset, batch_size=batch_size, shuffle=True)\n",
    "\n",
    "# Model, Loss, Optimizer\n",
    "unimodel = UniRNN(input_size, hidden_size, num_layers, num_classes)\n",
    "bimodel = BiRNN(input_size, hidden_size, num_layers, num_classes)\n",
    "criterion = nn.functional.mse_loss\n",
    "optimizer1 = optim.Adam(unimodel.parameters(), lr=learning_rate)\n",
    "optimizer2 = optim.Adam(bimodel.parameters(), lr=learning_rate)\n",
    "\n",
    "# Log data for later\n",
    "losses1 = []\n",
    "losses2 = []\n",
    "\n",
    "# Training Loop\n",
    "for epoch in range(num_epochs+1):\n",
    "    for sequences, labels in train_loader:\n",
    "        # Train unidirectional model\n",
    "        output1 = unimodel(sequences)\n",
    "        loss1 = criterion(output1, labels)\n",
    "        optimizer1.zero_grad()\n",
    "        loss1.backward()\n",
    "        optimizer1.step()\n",
    "        \n",
    "        # Train bidirectional model\n",
    "        output2 = bimodel(sequences)\n",
    "        loss2 = criterion(output2, labels)\n",
    "        optimizer2.zero_grad()\n",
    "        loss2.backward()\n",
    "        optimizer2.step()\n",
    "    \n",
    "    losses1.append(loss1.item())\n",
    "    losses2.append(loss2.item())\n",
    "    print(f'Epoch [{epoch}/{num_epochs}], Loss: {loss1.item():.04f} & {loss2.item():.04f}')\n"
   ]
  },
  {
   "cell_type": "code",
   "execution_count": 67,
   "metadata": {},
   "outputs": [
    {
     "data": {
      "image/png": "[encoded data removed]",
      "text/plain": [
       "<Figure size 432x288 with 1 Axes>"
      ]
     },
     "metadata": {
      "needs_background": "light"
     },
     "output_type": "display_data"
    }
   ],
   "source": [
    "plt.plot(losses1, color=\"tab:blue\", label=\"Unidirectional RNN\")\n",
    "plt.plot(losses2, color=\"tab:red\", label=\"Bidrectional RNN\")\n",
    "plt.legend()\n",
    "\n",
    "plt.ylabel(\"MSE Loss\")\n",
    "\n",
    "plt.xticks(range(0, num_epochs+1, num_epochs // 5), range(0, num_epochs+1, num_epochs // 5))\n",
    "plt.xlabel(\"Epoch\")\n",
    "\n",
    "plt.show()"
   ]
  },
  {
   "cell_type": "code",
   "execution_count": 68,
   "metadata": {},
   "outputs": [],
   "source": [
    "# The Bidirectional RNN converges to more accurate answers\n",
    "# faster than the Unidirectional RNN does."
   ]
  },
  {
   "cell_type": "markdown",
   "metadata": {},
   "source": [
    "\n",
    "\n",
    "### Problem 2: Exploring Hyperparameter Effects on LSTM Performance\n",
    "\n",
    "**Task:** Using the SentimentDataset from Solved Example 2, train multiple LSTM models with varying hyperparameters (e.g., hidden size, number of layers, dropout). Analyze how these hyperparameters affect the model's ability to generalize.\n",
    "\n",
    "**Requirements:**\n",
    "- Experiment with at least three different hidden sizes and two different numbers of layers.\n",
    "- Plot training and validation accuracies for each configuration.\n",
    "- Provide insights on the optimal hyperparameter settings based on your observations.\n"
   ]
  },
  {
   "cell_type": "code",
   "execution_count": 89,
   "metadata": {},
   "outputs": [
    {
     "name": "stdout",
     "output_type": "stream",
     "text": [
      "Training LSTM with hidden_size=2 & num_layers=2\n",
      "[8/8] Training (2, 2)... (50.00% accurate)\n",
      " (2, 2) Testing Accuracy: 50.00%\n",
      "Training LSTM with hidden_size=2 & num_layers=4\n",
      "[8/8] Training (2, 4)... (50.00% accurate)\n",
      " (2, 4) Testing Accuracy: 50.00%\n",
      "Training LSTM with hidden_size=3 & num_layers=2\n",
      "[8/8] Training (3, 2)... (87.94% accurate)\n",
      " (3, 2) Testing Accuracy: 88.42%\n",
      "Training LSTM with hidden_size=3 & num_layers=4\n",
      "[8/8] Training (3, 4)... (50.00% accurate)\n",
      " (3, 4) Testing Accuracy: 50.64%\n",
      "Training LSTM with hidden_size=4 & num_layers=2\n",
      "[8/8] Training (4, 2)... (50.00% accurate)\n",
      " (4, 2) Testing Accuracy: 50.00%\n",
      "Training LSTM with hidden_size=4 & num_layers=4\n",
      "[8/8] Training (4, 4)... (99.86% accurate)\n",
      " (4, 4) Testing Accuracy: 99.98%\n",
      "Training LSTM with hidden_size=5 & num_layers=2\n",
      "[8/8] Training (5, 2)... (100.00% accurate)\n",
      " (5, 2) Testing Accuracy: 100.00%\n",
      "Training LSTM with hidden_size=5 & num_layers=4\n",
      "[8/8] Training (5, 4)... (99.98% accurate)\n",
      " (5, 4) Testing Accuracy: 100.00%\n"
     ]
    }
   ],
   "source": [
    "num_epochs = 8\n",
    "learning_rate = 0.0001\n",
    "accuracies = {}\n",
    "\n",
    "for hidden_size in [2, 3, 4, 5]:\n",
    "    for num_layers in [2, 4]:\n",
    "        # Prepare model + dataset\n",
    "        print(f'Training LSTM with {hidden_size=} & {num_layers=}')\n",
    "        model = LSTMModel(1,hidden_size, num_layers)\n",
    "        criterion = nn.CrossEntropyLoss()\n",
    "        optimizer = optim.Adam(model.parameters(), lr=learning_rate)\n",
    "        dataset = SentimentDataset(num_samples=5000)\n",
    "        train_loader = DataLoader(dataset, batch_size=32, shuffle=True)\n",
    "        \n",
    "        accuracies[(hidden_size, num_layers)] = {}\n",
    "        \n",
    "        # Training\n",
    "        for epoch in range(num_epochs):\n",
    "            correct = 0\n",
    "            total = 0\n",
    "            for sequences, labels in train_loader:\n",
    "                outputs = model(sequences)\n",
    "                loss = criterion(outputs, labels)\n",
    "                \n",
    "                _, predicted = torch.max(outputs.data, 1)\n",
    "                total += labels.size(0)\n",
    "                correct += (predicted == labels).sum().item()\n",
    "                \n",
    "                optimizer.zero_grad()\n",
    "                loss.backward()\n",
    "                optimizer.step()\n",
    "            accuracy = 100 * correct / total\n",
    "            print(f\"\\r[{epoch+1}/{num_epochs}] Training \" + \n",
    "                  f\"{(hidden_size, num_layers)}... \" +\n",
    "                  f\"({accuracy:.2f}% accurate)\", end=\"\")\n",
    "        \n",
    "        accuracies[(hidden_size, num_layers)][\"training\"] = accuracy\n",
    "        \n",
    "        # Testing\n",
    "        with torch.no_grad():\n",
    "            correct = 0\n",
    "            total = 0\n",
    "            for sequences, labels in train_loader:\n",
    "                outputs = model(sequences)\n",
    "                _, predicted = torch.max(outputs.data, 1)\n",
    "                total += labels.size(0)\n",
    "                correct += (predicted == labels).sum().item()\n",
    "            accuracy = 100 * correct / total\n",
    "            print(f'\\n {(hidden_size, num_layers)} Testing Accuracy: {accuracy:.2f}%')\n",
    "        \n",
    "        accuracies[(hidden_size, num_layers)][\"testing\"] = accuracy\n"
   ]
  },
  {
   "cell_type": "code",
   "execution_count": 90,
   "metadata": {},
   "outputs": [
    {
     "name": "stdout",
     "output_type": "stream",
     "text": [
      "train_bars=[50.0, 50.0, 87.94, 50.0, 50.0, 99.86, 100.0, 99.98]\n",
      "test_bars=[50.0, 50.0, 88.42, 50.64, 50.0, 99.98, 100.0, 100.0]\n"
     ]
    }
   ],
   "source": [
    "y = [0]\n",
    "train_bars = []\n",
    "test_bars = []\n",
    "for key in accuracies:\n",
    "    train_bars.append(accuracies[key][\"training\"])\n",
    "    test_bars.append(accuracies[key][\"testing\"])\n",
    "    y.append(y[-1]+1)\n",
    "y.pop()\n",
    "print(f\"{train_bars=}\")\n",
    "print(f\"{test_bars=}\")\n"
   ]
  },
  {
   "cell_type": "code",
   "execution_count": 91,
   "metadata": {},
   "outputs": [
    {
     "data": {
      "text/plain": [
       "Text(0.5, 1.0, 'Training Accuracy of LSTM Models')"
      ]
     },
     "execution_count": 91,
     "metadata": {},
     "output_type": "execute_result"
    },
    {
     "data": {
      "image/png": "[encoded data removed]",
      "text/plain": [
       "<Figure size 432x288 with 1 Axes>"
      ]
     },
     "metadata": {
      "needs_background": "light"
     },
     "output_type": "display_data"
    }
   ],
   "source": [
    "plt.barh(y, train_bars)\n",
    "plt.yticks(y, list(accuracies.keys()))\n",
    "plt.ylabel(\"(Hidden Size, # of Layers)\")\n",
    "plt.xlabel(\"Percent Accuracy\")\n",
    "plt.title(\"Training Accuracy of LSTM Models\")"
   ]
  },
  {
   "cell_type": "code",
   "execution_count": 93,
   "metadata": {},
   "outputs": [
    {
     "data": {
      "text/plain": [
       "Text(0.5, 1.0, 'Testing Accuracy of LSTM Models')"
      ]
     },
     "execution_count": 93,
     "metadata": {},
     "output_type": "execute_result"
    },
    {
     "data": {
      "image/png": "[encoded data removed]",
      "text/plain": [
       "<Figure size 432x288 with 1 Axes>"
      ]
     },
     "metadata": {
      "needs_background": "light"
     },
     "output_type": "display_data"
    }
   ],
   "source": [
    "plt.barh(y, test_bars)\n",
    "plt.yticks(y, list(accuracies.keys()))\n",
    "plt.ylabel(\"(Hidden Size, # of Layers)\")\n",
    "plt.xlabel(\"Percent Accuracy\")\n",
    "plt.title(\"Testing Accuracy of LSTM Models\")"
   ]
  },
  {
   "cell_type": "code",
   "execution_count": null,
   "metadata": {},
   "outputs": [],
   "source": [
    "# Based on the results shown above, the accuracy seems to scale more with hidden\n",
    "# size than number of layers, but both are important. The smallest model that\n",
    "# still has excellent performance is 4 hidden layers with 4 nodes each."
   ]
  },
  {
   "cell_type": "markdown",
   "metadata": {},
   "source": [
    "\n",
    "### Problem 3: GRU for Multivariate Time Series Forecasting\n",
    "\n",
    "**Task:** Apply a GRU model to a multivariate time series dataset (e.g., predicting stock prices using multiple indicators). Highlight the importance of feature extraction in handling multiple input features.\n",
    "\n",
    "**Requirements:**\n",
    "- Choose a real-world multivariate time series dataset.\n",
    "- Preprocess the data and create appropriate input sequences.\n",
    "- Implement a GRU model to predict the next value of one of the series.\n",
    "- Discuss how feature extraction (e.g., normalization, dimensionality reduction) impacts model performance.\n"
   ]
  },
  {
   "cell_type": "code",
   "execution_count": 149,
   "metadata": {},
   "outputs": [
    {
     "data": {
      "text/html": [
       "<div>\n",
       "<style scoped>\n",
       "    .dataframe tbody tr th:only-of-type {\n",
       "        vertical-align: middle;\n",
       "    }\n",
       "\n",
       "    .dataframe tbody tr th {\n",
       "        vertical-align: top;\n",
       "    }\n",
       "\n",
       "    .dataframe thead th {\n",
       "        text-align: right;\n",
       "    }\n",
       "</style>\n",
       "<table border=\"1\" class=\"dataframe\">\n",
       "  <thead>\n",
       "    <tr style=\"text-align: right;\">\n",
       "      <th></th>\n",
       "      <th>time</th>\n",
       "      <th>season</th>\n",
       "      <th>holiday</th>\n",
       "      <th>workingday</th>\n",
       "      <th>weather</th>\n",
       "      <th>temp</th>\n",
       "      <th>atemp</th>\n",
       "      <th>humidity</th>\n",
       "      <th>windspeed</th>\n",
       "      <th>dayOfWeek</th>\n",
       "    </tr>\n",
       "  </thead>\n",
       "  <tbody>\n",
       "    <tr>\n",
       "      <th>0</th>\n",
       "      <td>00:00:00</td>\n",
       "      <td>1</td>\n",
       "      <td>0</td>\n",
       "      <td>0</td>\n",
       "      <td>1</td>\n",
       "      <td>9.84</td>\n",
       "      <td>14.395</td>\n",
       "      <td>81</td>\n",
       "      <td>0.000</td>\n",
       "      <td>zaterdag</td>\n",
       "    </tr>\n",
       "    <tr>\n",
       "      <th>1</th>\n",
       "      <td>01:00:00</td>\n",
       "      <td>1</td>\n",
       "      <td>0</td>\n",
       "      <td>0</td>\n",
       "      <td>1</td>\n",
       "      <td>9.02</td>\n",
       "      <td>13.635</td>\n",
       "      <td>80</td>\n",
       "      <td>0.000</td>\n",
       "      <td>zaterdag</td>\n",
       "    </tr>\n",
       "    <tr>\n",
       "      <th>2</th>\n",
       "      <td>02:00:00</td>\n",
       "      <td>1</td>\n",
       "      <td>0</td>\n",
       "      <td>0</td>\n",
       "      <td>1</td>\n",
       "      <td>9.02</td>\n",
       "      <td>13.635</td>\n",
       "      <td>80</td>\n",
       "      <td>0.000</td>\n",
       "      <td>zaterdag</td>\n",
       "    </tr>\n",
       "    <tr>\n",
       "      <th>3</th>\n",
       "      <td>03:00:00</td>\n",
       "      <td>1</td>\n",
       "      <td>0</td>\n",
       "      <td>0</td>\n",
       "      <td>1</td>\n",
       "      <td>9.84</td>\n",
       "      <td>14.395</td>\n",
       "      <td>75</td>\n",
       "      <td>0.000</td>\n",
       "      <td>zaterdag</td>\n",
       "    </tr>\n",
       "    <tr>\n",
       "      <th>4</th>\n",
       "      <td>04:00:00</td>\n",
       "      <td>1</td>\n",
       "      <td>0</td>\n",
       "      <td>0</td>\n",
       "      <td>1</td>\n",
       "      <td>9.84</td>\n",
       "      <td>14.395</td>\n",
       "      <td>75</td>\n",
       "      <td>0.000</td>\n",
       "      <td>zaterdag</td>\n",
       "    </tr>\n",
       "    <tr>\n",
       "      <th>...</th>\n",
       "      <td>...</td>\n",
       "      <td>...</td>\n",
       "      <td>...</td>\n",
       "      <td>...</td>\n",
       "      <td>...</td>\n",
       "      <td>...</td>\n",
       "      <td>...</td>\n",
       "      <td>...</td>\n",
       "      <td>...</td>\n",
       "      <td>...</td>\n",
       "    </tr>\n",
       "    <tr>\n",
       "      <th>10881</th>\n",
       "      <td>19:00:00</td>\n",
       "      <td>4</td>\n",
       "      <td>0</td>\n",
       "      <td>1</td>\n",
       "      <td>1</td>\n",
       "      <td>15.58</td>\n",
       "      <td>19.695</td>\n",
       "      <td>50</td>\n",
       "      <td>260.027</td>\n",
       "      <td>vrijdag</td>\n",
       "    </tr>\n",
       "    <tr>\n",
       "      <th>10882</th>\n",
       "      <td>20:00:00</td>\n",
       "      <td>4</td>\n",
       "      <td>0</td>\n",
       "      <td>1</td>\n",
       "      <td>1</td>\n",
       "      <td>14.76</td>\n",
       "      <td>17.425</td>\n",
       "      <td>57</td>\n",
       "      <td>150.013</td>\n",
       "      <td>vrijdag</td>\n",
       "    </tr>\n",
       "    <tr>\n",
       "      <th>10883</th>\n",
       "      <td>21:00:00</td>\n",
       "      <td>4</td>\n",
       "      <td>0</td>\n",
       "      <td>1</td>\n",
       "      <td>1</td>\n",
       "      <td>13.94</td>\n",
       "      <td>15.910</td>\n",
       "      <td>61</td>\n",
       "      <td>150.013</td>\n",
       "      <td>vrijdag</td>\n",
       "    </tr>\n",
       "    <tr>\n",
       "      <th>10884</th>\n",
       "      <td>22:00:00</td>\n",
       "      <td>4</td>\n",
       "      <td>0</td>\n",
       "      <td>1</td>\n",
       "      <td>1</td>\n",
       "      <td>13.94</td>\n",
       "      <td>17.425</td>\n",
       "      <td>61</td>\n",
       "      <td>60.032</td>\n",
       "      <td>vrijdag</td>\n",
       "    </tr>\n",
       "    <tr>\n",
       "      <th>10885</th>\n",
       "      <td>23:00:00</td>\n",
       "      <td>4</td>\n",
       "      <td>0</td>\n",
       "      <td>1</td>\n",
       "      <td>1</td>\n",
       "      <td>13.12</td>\n",
       "      <td>16.665</td>\n",
       "      <td>66</td>\n",
       "      <td>89.981</td>\n",
       "      <td>vrijdag</td>\n",
       "    </tr>\n",
       "  </tbody>\n",
       "</table>\n",
       "<p>10886 rows × 10 columns</p>\n",
       "</div>"
      ],
      "text/plain": [
       "           time season holiday workingday weather   temp   atemp  humidity  \\\n",
       "0      00:00:00      1       0          0       1   9.84  14.395        81   \n",
       "1      01:00:00      1       0          0       1   9.02  13.635        80   \n",
       "2      02:00:00      1       0          0       1   9.02  13.635        80   \n",
       "3      03:00:00      1       0          0       1   9.84  14.395        75   \n",
       "4      04:00:00      1       0          0       1   9.84  14.395        75   \n",
       "...         ...    ...     ...        ...     ...    ...     ...       ...   \n",
       "10881  19:00:00      4       0          1       1  15.58  19.695        50   \n",
       "10882  20:00:00      4       0          1       1  14.76  17.425        57   \n",
       "10883  21:00:00      4       0          1       1  13.94  15.910        61   \n",
       "10884  22:00:00      4       0          1       1  13.94  17.425        61   \n",
       "10885  23:00:00      4       0          1       1  13.12  16.665        66   \n",
       "\n",
       "       windspeed dayOfWeek  \n",
       "0          0.000  zaterdag  \n",
       "1          0.000  zaterdag  \n",
       "2          0.000  zaterdag  \n",
       "3          0.000  zaterdag  \n",
       "4          0.000  zaterdag  \n",
       "...          ...       ...  \n",
       "10881    260.027   vrijdag  \n",
       "10882    150.013   vrijdag  \n",
       "10883    150.013   vrijdag  \n",
       "10884     60.032   vrijdag  \n",
       "10885     89.981   vrijdag  \n",
       "\n",
       "[10886 rows x 10 columns]"
      ]
     },
     "execution_count": 149,
     "metadata": {},
     "output_type": "execute_result"
    }
   ],
   "source": [
    "from sklearn.datasets import fetch_openml\n",
    "\n",
    "bike_demand = fetch_openml(\n",
    "    \"Kaggle_bike_sharing_demand_challange\", version=1, as_frame=True, parser=\"pandas\"\n",
    ")\n",
    "\n",
    "bike_demand.data"
   ]
  },
  {
   "cell_type": "code",
   "execution_count": 189,
   "metadata": {},
   "outputs": [
    {
     "name": "stdout",
     "output_type": "stream",
     "text": [
      "<class 'numpy.int64'>\n",
      "1 - 977\n"
     ]
    }
   ],
   "source": [
    "# Int: Targets\n",
    "print(type(bike_demand.target[0]))\n",
    "print(f\"{bike_demand.target.min()} - {bike_demand.target.max()}\")"
   ]
  },
  {
   "cell_type": "code",
   "execution_count": 148,
   "metadata": {},
   "outputs": [
    {
     "name": "stdout",
     "output_type": "stream",
     "text": [
      "<class 'str'>\n",
      "['00:00:00', '01:00:00', '02:00:00', '03:00:00', '04:00:00', '05:00:00', '06:00:00', '07:00:00', '08:00:00', '09:00:00', '10:00:00', '11:00:00', '12:00:00', '13:00:00', '14:00:00', '15:00:00', '16:00:00', '17:00:00', '18:00:00', '19:00:00', '20:00:00', '21:00:00', '22:00:00', '23:00:00']\n"
     ]
    }
   ],
   "source": [
    "# Int: Hour of day\n",
    "print(type(bike_demand.data[\"time\"][0]))\n",
    "print(bike_demand.data[\"time\"].unique().tolist())"
   ]
  },
  {
   "cell_type": "code",
   "execution_count": 152,
   "metadata": {},
   "outputs": [
    {
     "name": "stdout",
     "output_type": "stream",
     "text": [
      "<class 'str'>\n",
      "['1', '2', '3', '4']\n"
     ]
    }
   ],
   "source": [
    "# Int: Season of year (spring, summer, fall, winter)\n",
    "print(type(bike_demand.data[\"season\"][0]))\n",
    "print(bike_demand.data[\"season\"].unique().tolist())"
   ]
  },
  {
   "cell_type": "code",
   "execution_count": 154,
   "metadata": {},
   "outputs": [
    {
     "name": "stdout",
     "output_type": "stream",
     "text": [
      "<class 'str'>\n",
      "['0', '1']\n"
     ]
    }
   ],
   "source": [
    "# Bool: If day is holiday or not\n",
    "print(type(bike_demand.data[\"holiday\"][0]))\n",
    "print(bike_demand.data[\"holiday\"].unique().tolist())"
   ]
  },
  {
   "cell_type": "code",
   "execution_count": 155,
   "metadata": {},
   "outputs": [
    {
     "name": "stdout",
     "output_type": "stream",
     "text": [
      "<class 'str'>\n",
      "['0', '1']\n"
     ]
    }
   ],
   "source": [
    "# Bool: If day is not a weekend or holiday\n",
    "print(type(bike_demand.data[\"workingday\"][0]))\n",
    "print(bike_demand.data[\"workingday\"].unique().tolist())"
   ]
  },
  {
   "cell_type": "code",
   "execution_count": 156,
   "metadata": {},
   "outputs": [
    {
     "name": "stdout",
     "output_type": "stream",
     "text": [
      "<class 'str'>\n",
      "['1', '2', '3', '4']\n"
     ]
    }
   ],
   "source": [
    "# Int: Hourly weather (clear, mist/fog, rain/snow, heavy rain/hail)\n",
    "print(type(bike_demand.data[\"weather\"][0]))\n",
    "print(bike_demand.data[\"weather\"].unique().tolist())"
   ]
  },
  {
   "cell_type": "code",
   "execution_count": 160,
   "metadata": {},
   "outputs": [
    {
     "name": "stdout",
     "output_type": "stream",
     "text": [
      "<class 'numpy.float64'>\n",
      "0.82 - 41.00\n"
     ]
    }
   ],
   "source": [
    "# Float: Temp in C\n",
    "print(type(bike_demand.data[\"temp\"][0]))\n",
    "print(f'{bike_demand.data[\"temp\"].min():0.2f} - {bike_demand.data[\"temp\"].max():0.2f}')"
   ]
  },
  {
   "cell_type": "code",
   "execution_count": 161,
   "metadata": {},
   "outputs": [
    {
     "name": "stdout",
     "output_type": "stream",
     "text": [
      "<class 'numpy.float64'>\n",
      "0.76 - 45.45\n"
     ]
    }
   ],
   "source": [
    "# Float: Apparent temp in C\n",
    "print(type(bike_demand.data[\"atemp\"][0]))\n",
    "print(f'{bike_demand.data[\"atemp\"].min():0.2f} - {bike_demand.data[\"atemp\"].max():0.2f}')"
   ]
  },
  {
   "cell_type": "code",
   "execution_count": 166,
   "metadata": {},
   "outputs": [
    {
     "name": "stdout",
     "output_type": "stream",
     "text": [
      "<class 'numpy.int64'>\n",
      "0 - 100\n"
     ]
    }
   ],
   "source": [
    "# Int: Humidity\n",
    "print(type(bike_demand.data[\"humidity\"][0]))\n",
    "print(f'{bike_demand.data[\"humidity\"].min()} - {bike_demand.data[\"humidity\"].max()}')"
   ]
  },
  {
   "cell_type": "code",
   "execution_count": 165,
   "metadata": {},
   "outputs": [
    {
     "name": "stdout",
     "output_type": "stream",
     "text": [
      "<class 'numpy.float64'>\n",
      "0.00 - 569.97\n"
     ]
    }
   ],
   "source": [
    "# Float: Wind speed (no units given)\n",
    "print(type(bike_demand.data[\"windspeed\"][0]))\n",
    "print(f'{bike_demand.data[\"windspeed\"].min():0.2f} - {bike_demand.data[\"windspeed\"].max():0.2f}')"
   ]
  },
  {
   "cell_type": "code",
   "execution_count": 172,
   "metadata": {},
   "outputs": [
    {
     "name": "stdout",
     "output_type": "stream",
     "text": [
      "6 | 0 | 1 | 2 | 4 | 5 | 3\n"
     ]
    }
   ],
   "source": [
    "# Int: Day of week\n",
    "translate = {\n",
    "    \"zondag\": 0,    # sunday\n",
    "    \"maandag\": 1,   # monday\n",
    "    \"dinsdag\": 2,   # tuesday\n",
    "    \"woensdag\": 3,  # wednesday\n",
    "    \"donderdag\": 4, # thursday\n",
    "    \"vrijdag\": 5,   # friday\n",
    "    \"zaterdag\": 6   # saturday\n",
    "}\n",
    "print(\" | \".join([str(translate[day]) for day in bike_demand.data[\"dayOfWeek\"].unique()]))"
   ]
  },
  {
   "cell_type": "code",
   "execution_count": 181,
   "metadata": {},
   "outputs": [
    {
     "data": {
      "text/plain": [
       "tensor([[  0.0000,   1.0000,   0.0000,  ...,  81.0000,   0.0000,   6.0000],\n",
       "        [  1.0000,   1.0000,   0.0000,  ...,  80.0000,   0.0000,   6.0000],\n",
       "        [  2.0000,   1.0000,   0.0000,  ...,  80.0000,   0.0000,   6.0000],\n",
       "        ...,\n",
       "        [ 21.0000,   4.0000,   0.0000,  ...,  61.0000, 150.0130,   5.0000],\n",
       "        [ 22.0000,   4.0000,   0.0000,  ...,  61.0000,  60.0320,   5.0000],\n",
       "        [ 23.0000,   4.0000,   0.0000,  ...,  66.0000,  89.9810,   5.0000]])"
      ]
     },
     "execution_count": 181,
     "metadata": {},
     "output_type": "execute_result"
    }
   ],
   "source": [
    "bike_data = torch.zeros(bike_demand.data.shape, dtype=torch.float)\n",
    "\n",
    "for i in range(bike_demand.data.shape[0]):\n",
    "    bike_data[i,0] = int(bike_demand.data[\"time\"][i][:2])\n",
    "    bike_data[i,1] = int(bike_demand.data[\"season\"][i])\n",
    "    bike_data[i,2] = int(bike_demand.data[\"holiday\"][i])\n",
    "    bike_data[i,3] = int(bike_demand.data[\"workingday\"][i])\n",
    "    bike_data[i,4] = int(bike_demand.data[\"weather\"][i])\n",
    "    bike_data[i,5] = bike_demand.data[\"temp\"][i]\n",
    "    bike_data[i,6] = bike_demand.data[\"atemp\"][i]\n",
    "    bike_data[i,7] = bike_demand.data[\"humidity\"][i]\n",
    "    bike_data[i,8] = bike_demand.data[\"windspeed\"][i]\n",
    "    bike_data[i,9] = translate[bike_demand.data[\"dayOfWeek\"][i]]\n",
    "    \n",
    "bike_data"
   ]
  },
  {
   "cell_type": "code",
   "execution_count": 196,
   "metadata": {},
   "outputs": [
    {
     "data": {
      "text/plain": [
       "tensor([ 16,  40,  32,  ..., 168, 129,  88])"
      ]
     },
     "execution_count": 196,
     "metadata": {},
     "output_type": "execute_result"
    }
   ],
   "source": [
    "bike_target = torch.tensor(bike_demand.target)\n",
    "bike_target"
   ]
  },
  {
   "cell_type": "code",
   "execution_count": 402,
   "metadata": {},
   "outputs": [],
   "source": [
    "# Simple 1-D normalization class\n",
    "class CustomScaler():\n",
    "    def fit_transform(self, tensor):\n",
    "        self.offset = torch.mean(tensor, dtype=torch.float)\n",
    "        self.var = torch.var(tensor)\n",
    "        return (tensor - self.offset) / self.var\n",
    "    \n",
    "    def inverse_transform(self, tensor):\n",
    "        return (self.var * tensor) + self.offset"
   ]
  },
  {
   "cell_type": "code",
   "execution_count": 403,
   "metadata": {},
   "outputs": [],
   "source": [
    "# Create datasets\n",
    "from torch.utils.data import Dataset, DataLoader\n",
    "from random import sample\n",
    "\n",
    "class BikeSet(Dataset):\n",
    "    def __init__(self, data, targets, ids):\n",
    "        self.X = torch.zeros(size=(len(ids), data.shape[1]), dtype=torch.float)\n",
    "        self.y = torch.zeros(len(ids))\n",
    "        \n",
    "        for i in range(len(ids)):\n",
    "            self.X[i,:] = data[ids[i],:]\n",
    "            self.y[i] = targets[ids[i]]\n",
    "    \n",
    "    def __len__(self):\n",
    "        return len(self.y)\n",
    "    \n",
    "    def __getitem__(self, idx):\n",
    "        return self.X[idx, :], self.y[idx]\n",
    "    \n",
    "class BikeSetNorm(Dataset):\n",
    "    def __init__(self, data, targets, ids):\n",
    "        self.X = torch.zeros(size=(len(ids), data.shape[1]), dtype=torch.float)\n",
    "        self.y = torch.zeros(len(ids))\n",
    "        \n",
    "        for i in range(len(ids)):\n",
    "            self.X[i,:] = data[ids[i],:]\n",
    "            self.y[i] = targets[ids[i]]\n",
    "            \n",
    "        # Normalize each column of dataset\n",
    "        self.scalers = []\n",
    "        for j in range(self.X.shape[1]):\n",
    "            self.scalers.append(CustomScaler())\n",
    "            self.X[:,j] = self.scalers[j].fit_transform(self.X[:,j].float())\n",
    "        \n",
    "        # Normalize targets too\n",
    "        self.scalers.append(CustomScaler())\n",
    "        self.y = self.scalers[-1].fit_transform(self.y.float())\n",
    "    \n",
    "    def __len__(self):\n",
    "        return len(self.y)\n",
    "    \n",
    "    def __getitem__(self, idx):\n",
    "        return self.X[idx, :], self.y[idx]\n"
   ]
  },
  {
   "cell_type": "code",
   "execution_count": 404,
   "metadata": {},
   "outputs": [],
   "source": [
    "# Prepare data loaders\n",
    "N = len(bike_target)\n",
    "testN = int(0.2*N)\n",
    "test_ids = sample(range(N), testN)\n",
    "train_ids = [i for i in range(N) if i not in test_ids]\n",
    "\n",
    "# Create datasets\n",
    "train_set3 = BikeSet(\n",
    "    data = bike_data,\n",
    "    targets = bike_target,\n",
    "    ids = train_ids\n",
    ")\n",
    "test_set3 = BikeSet(\n",
    "    data = bike_data,\n",
    "    targets = bike_target,\n",
    "    ids = test_ids\n",
    ")\n",
    "\n",
    "# Create data loaders\n",
    "train_data3 = DataLoader(\n",
    "    dataset = train_set3,\n",
    "    batch_size = 20,\n",
    "    shuffle = True\n",
    ")\n",
    "test_data3 = DataLoader(\n",
    "    dataset = test_set3,\n",
    "    batch_size = 50,\n",
    "    shuffle = True\n",
    ")\n"
   ]
  },
  {
   "cell_type": "code",
   "execution_count": 405,
   "metadata": {},
   "outputs": [],
   "source": [
    "# Create NORMALIZED datasets\n",
    "train_set3n = BikeSetNorm(\n",
    "    data = bike_data,\n",
    "    targets = bike_target,\n",
    "    ids = train_ids\n",
    ")\n",
    "test_set3n = BikeSetNorm(\n",
    "    data = bike_data,\n",
    "    targets = bike_target,\n",
    "    ids = test_ids\n",
    ")\n",
    "\n",
    "# Create NORMALIZED data loaders\n",
    "train_data3n = DataLoader(\n",
    "    dataset = train_set3n,\n",
    "    batch_size = 20,\n",
    "    shuffle = True\n",
    ")\n",
    "test_data3n = DataLoader(\n",
    "    dataset = test_set3n,\n",
    "    batch_size = 50,\n",
    "    shuffle = True\n",
    ")\n"
   ]
  },
  {
   "cell_type": "code",
   "execution_count": 406,
   "metadata": {},
   "outputs": [],
   "source": [
    "# Create training function\n",
    "def train(epoch, model, device, optimizer, data, loss_function):\n",
    "    # Prepare model\n",
    "    model.to(device)\n",
    "    model.train()\n",
    "    \n",
    "    for batch_idx, (X, y) in enumerate(data):\n",
    "        # Load data into `device`\n",
    "        X = X.to(device)\n",
    "        y = y.to(device)\n",
    "        optimizer.zero_grad()\n",
    "        \n",
    "        # Calculate and record output & loss\n",
    "        output = model(X).reshape(-1)\n",
    "        loss = loss_function(output, y)\n",
    "        loss.backward()\n",
    "        optimizer.step()\n",
    "        \n",
    "        # Periodically report on training progress\n",
    "        print(f\"\\rEpoch {epoch}: Training {batch_idx * len(X)}/{len(data.dataset)} \" + \n",
    "              f\"(Loss: {loss.item():02.4})\", end=\" \"*10)\n",
    "    print(f\"\\rEpoch {epoch}: Trained {len(data.dataset)}/{len(data.dataset)} \" + \n",
    "              f\"(Loss: {loss.item():02.4})\" + \" \"*10)"
   ]
  },
  {
   "cell_type": "code",
   "execution_count": 407,
   "metadata": {},
   "outputs": [],
   "source": [
    "# Create testing function\n",
    "def test(epoch, model, device, data, loss_function):\n",
    "    # Prepare model and data\n",
    "    model.to(device)\n",
    "    model.eval()\n",
    "    test_loss = []\n",
    "    map = []\n",
    "    \n",
    "    with torch.no_grad():\n",
    "        for batch_idx, (X, y) in enumerate(data):\n",
    "            # Load data into `device`\n",
    "            X = X.to(device)\n",
    "            y = y.to(device)\n",
    "            \n",
    "            # Calculate and record output & loss\n",
    "            output = model(X).reshape(-1)\n",
    "            test_loss.append(loss_function(output, y).item())\n",
    "            map.append(torch.mean(torch.abs((output - y) / y)) * 100)\n",
    "            \n",
    "            # Periodically report on testing progress\n",
    "            print(f\"\\rEpoch {epoch}: Testing {batch_idx*len(X)}/{len(data.dataset)}...\", end=\"\")\n",
    "        print(f\"\\rEpoch {epoch}: Testing {len(data.dataset)}/{len(data.dataset)}\")\n",
    "    \n",
    "    # Report results\n",
    "    test_loss = torch.mean(torch.tensor(test_loss))\n",
    "    accuracy = torch.mean(torch.tensor(map))\n",
    "    print(f\"Test Result, epoch {epoch}: Avg loss {test_loss:04.4}, MAPE {accuracy:02.4}%\")\n",
    "    \n",
    "    return accuracy"
   ]
  },
  {
   "cell_type": "code",
   "execution_count": 408,
   "metadata": {},
   "outputs": [],
   "source": [
    "# Create NN\n",
    "import torch.nn as nn\n",
    "import torch.nn.functional as F\n",
    "\n",
    "class Problem3Net(nn.Module):\n",
    "    def __init__(self) -> None:\n",
    "        super().__init__()\n",
    "        self.hsize = 24\n",
    "        hlayers = 10\n",
    "        self.nn1 = nn.GRU(10, self.hsize, hlayers, batch_first=True)\n",
    "        self.nn2 = nn.Linear(self.hsize, 1)\n",
    "    \n",
    "    def forward(self, x):\n",
    "        x, _ = self.nn1(x)\n",
    "        x = F.relu(x)\n",
    "        x = self.nn2(x)\n",
    "        return x\n"
   ]
  },
  {
   "cell_type": "code",
   "execution_count": 1,
   "metadata": {
    "id": "nTxgX9yo-ta0"
   },
   "outputs": [
    {
     "name": "stdout",
     "output_type": "stream",
     "text": [
      "cuda\n"
     ]
    }
   ],
   "source": [
    "# Enable GPU acceleration\n",
    "import torch\n",
    "device = torch.device('cuda' if torch.cuda.is_available() else 'cpu')\n",
    "print(device)"
   ]
  },
  {
   "cell_type": "code",
   "execution_count": 411,
   "metadata": {},
   "outputs": [
    {
     "name": "stdout",
     "output_type": "stream",
     "text": [
      "----------  UNSCALED  ----------\n",
      "Epoch 1: Trained 8709/8709 (Loss: 4.726e+04)           \n",
      "Epoch 1: Testing 2177/2177...\n",
      "Test Result, epoch 1: Avg loss 5.687e+04, MAPE 154.7%\n",
      "---------- NORMALIZED ----------\n",
      "Epoch 1: Trained 8709/8709 (Loss: 1.621e-05)           \n",
      "Epoch 1: Testing 2177/2177...\n",
      "Test Result, epoch 1: Avg loss 3.626e-05, MAPE 429.4%\n",
      "====================================================\n",
      "----------  UNSCALED  ----------\n",
      "Epoch 2: Trained 8709/8709 (Loss: 6.563e+03)           \n",
      "Epoch 2: Testing 2177/2177...\n",
      "Test Result, epoch 2: Avg loss 4.843e+04, MAPE 250.6%\n",
      "---------- NORMALIZED ----------\n",
      "Epoch 2: Trained 8709/8709 (Loss: 3.863e-05)           \n",
      "Epoch 2: Testing 2177/2177...\n",
      "Test Result, epoch 2: Avg loss 3.584e-05, MAPE 391.3%\n",
      "====================================================\n",
      "----------  UNSCALED  ----------\n",
      "Epoch 3: Trained 8709/8709 (Loss: 4.725e+04)           \n",
      "Epoch 3: Testing 2177/2177...\n",
      "Test Result, epoch 3: Avg loss 4.22e+04, MAPE 342.7%\n",
      "---------- NORMALIZED ----------\n",
      "Epoch 3: Trained 8709/8709 (Loss: 3.566e-05)           \n",
      "Epoch 3: Testing 2177/2177...\n",
      "Test Result, epoch 3: Avg loss 3.098e-05, MAPE 152.5%\n",
      "====================================================\n",
      "----------  UNSCALED  ----------\n",
      "Epoch 4: Trained 8709/8709 (Loss: 1.949e+04)           \n",
      "Epoch 4: Testing 2177/2177...\n",
      "Test Result, epoch 4: Avg loss 3.834e+04, MAPE 420.6%\n",
      "---------- NORMALIZED ----------\n",
      "Epoch 4: Trained 8709/8709 (Loss: 1.762e-05)           \n",
      "Epoch 4: Testing 2177/2177...\n",
      "Test Result, epoch 4: Avg loss 3.172e-05, MAPE 209.5%\n",
      "====================================================\n",
      "----------  UNSCALED  ----------\n",
      "Epoch 5: Trained 8709/8709 (Loss: 7.705e+04)           \n",
      "Epoch 5: Testing 2177/2177...\n",
      "Test Result, epoch 5: Avg loss 3.546e+04, MAPE 498.2%\n",
      "---------- NORMALIZED ----------\n",
      "Epoch 5: Trained 8709/8709 (Loss: 4.563e-05)           \n",
      "Epoch 5: Testing 2177/2177...\n",
      "Test Result, epoch 5: Avg loss 4.015e-05, MAPE 532.7%\n",
      "====================================================\n",
      "----------  UNSCALED  ----------\n",
      "Epoch 6: Trained 8709/8709 (Loss: 1.851e+04)           \n",
      "Epoch 6: Testing 2177/2177...\n",
      "Test Result, epoch 6: Avg loss 3.397e+04, MAPE 575.8%\n",
      "---------- NORMALIZED ----------\n",
      "Epoch 6: Trained 8709/8709 (Loss: 1.678e-05)           \n",
      "Epoch 6: Testing 2177/2177...\n",
      "Test Result, epoch 6: Avg loss 3.912e-05, MAPE 502.3%\n",
      "====================================================\n",
      "----------  UNSCALED  ----------\n",
      "Epoch 7: Trained 8709/8709 (Loss: 1.538e+04)           \n",
      "Epoch 7: Testing 2177/2177...\n",
      "Test Result, epoch 7: Avg loss 3.31e+04, MAPE 613.7%\n",
      "---------- NORMALIZED ----------\n",
      "Epoch 7: Trained 8709/8709 (Loss: 5.798e-06)           \n",
      "Epoch 7: Testing 2177/2177...\n",
      "Test Result, epoch 7: Avg loss 4.402e-05, MAPE 570.1%\n",
      "====================================================\n",
      "----------  UNSCALED  ----------\n",
      "Epoch 8: Trained 8709/8709 (Loss: 2.123e+04)           \n",
      "Epoch 8: Testing 2177/2177...\n",
      "Test Result, epoch 8: Avg loss 3.258e+04, MAPE 650.3%\n",
      "---------- NORMALIZED ----------\n",
      "Epoch 8: Trained 8709/8709 (Loss: 2.875e-05)           \n",
      "Epoch 8: Testing 2177/2177...\n",
      "Test Result, epoch 8: Avg loss 3.26e-05, MAPE 250.8%\n",
      "====================================================\n",
      "----------  UNSCALED  ----------\n",
      "Epoch 9: Trained 8709/8709 (Loss: 1.576e+04)           \n",
      "Epoch 9: Testing 2177/2177...\n",
      "Test Result, epoch 9: Avg loss 3.259e+04, MAPE 679.3%\n",
      "---------- NORMALIZED ----------\n",
      "Epoch 9: Trained 8709/8709 (Loss: 6.577e-05)           \n",
      "Epoch 9: Testing 2177/2177...\n",
      "Test Result, epoch 9: Avg loss 7.882e-05, MAPE 1.12e+03%\n",
      "====================================================\n",
      "----------  UNSCALED  ----------\n",
      "Epoch 10: Trained 8709/8709 (Loss: 1.923e+04)           \n",
      "Epoch 10: Testing 2177/2177...\n",
      "Test Result, epoch 10: Avg loss 3.226e+04, MAPE 695.7%\n",
      "---------- NORMALIZED ----------\n",
      "Epoch 10: Trained 8709/8709 (Loss: 7.578e-05)           \n",
      "Epoch 10: Testing 2177/2177...\n",
      "Test Result, epoch 10: Avg loss 3.162e-05, MAPE 208.7%\n",
      "====================================================\n",
      "----------  UNSCALED  ----------\n",
      "Epoch 11: Trained 8709/8709 (Loss: 2.223e+04)           \n",
      "Epoch 11: Testing 2177/2177...\n",
      "Test Result, epoch 11: Avg loss 3.251e+04, MAPE 709.4%\n",
      "---------- NORMALIZED ----------\n",
      "Epoch 11: Trained 8709/8709 (Loss: 2.832e-05)           \n",
      "Epoch 11: Testing 2177/2177...\n",
      "Test Result, epoch 11: Avg loss 3.423e-05, MAPE 346.0%\n",
      "====================================================\n",
      "----------  UNSCALED  ----------\n",
      "Epoch 12: Trained 8709/8709 (Loss: 1.855e+04)           \n",
      "Epoch 12: Testing 2177/2177...\n",
      "Test Result, epoch 12: Avg loss 3.231e+04, MAPE 712.3%\n",
      "---------- NORMALIZED ----------\n",
      "Epoch 12: Trained 8709/8709 (Loss: 2.173e-05)           \n",
      "Epoch 12: Testing 2177/2177...\n",
      "Test Result, epoch 12: Avg loss 3.516e-05, MAPE 382.5%\n",
      "====================================================\n",
      "----------  UNSCALED  ----------\n",
      "Epoch 13: Trained 8709/8709 (Loss: 2.594e+04)           \n",
      "Epoch 13: Testing 2177/2177...\n",
      "Test Result, epoch 13: Avg loss 3.248e+04, MAPE 717.8%\n",
      "---------- NORMALIZED ----------\n",
      "Epoch 13: Trained 8709/8709 (Loss: 3.2e-05)             \n",
      "Epoch 13: Testing 2177/2177...\n",
      "Test Result, epoch 13: Avg loss 3.108e-05, MAPE 156.4%\n",
      "====================================================\n",
      "----------  UNSCALED  ----------\n",
      "Epoch 14: Trained 8709/8709 (Loss: 5.11e+04)            \n",
      "Epoch 14: Testing 2177/2177...\n",
      "Test Result, epoch 14: Avg loss 3.241e+04, MAPE 714.6%\n",
      "---------- NORMALIZED ----------\n",
      "Epoch 14: Trained 8709/8709 (Loss: 2.335e-05)           \n",
      "Epoch 14: Testing 2177/2177...\n",
      "Test Result, epoch 14: Avg loss 3.809e-05, MAPE 441.4%\n",
      "====================================================\n",
      "----------  UNSCALED  ----------\n",
      "Epoch 15: Trained 8709/8709 (Loss: 1.496e+04)           \n",
      "Epoch 15: Testing 2177/2177...\n",
      "Test Result, epoch 15: Avg loss 3.239e+04, MAPE 715.9%\n",
      "---------- NORMALIZED ----------\n",
      "Epoch 15: Trained 8709/8709 (Loss: 8.55e-05)            \n",
      "Epoch 15: Testing 2177/2177...\n",
      "Test Result, epoch 15: Avg loss 3.397e-05, MAPE 310.6%\n",
      "====================================================\n",
      "----------  UNSCALED  ----------\n",
      "Epoch 16: Trained 8709/8709 (Loss: 2.287e+04)           \n",
      "Epoch 16: Testing 2177/2177...\n",
      "Test Result, epoch 16: Avg loss 3.228e+04, MAPE 717.1%\n",
      "---------- NORMALIZED ----------\n",
      "Epoch 16: Trained 8709/8709 (Loss: 2.334e-05)           \n",
      "Epoch 16: Testing 2177/2177...\n",
      "Test Result, epoch 16: Avg loss 3.269e-05, MAPE 277.2%\n",
      "====================================================\n",
      "----------  UNSCALED  ----------\n",
      "Epoch 17: Trained 8709/8709 (Loss: 1.526e+04)           \n",
      "Epoch 17: Testing 2177/2177...\n",
      "Test Result, epoch 17: Avg loss 3.243e+04, MAPE 730.6%\n",
      "---------- NORMALIZED ----------\n",
      "Epoch 17: Trained 8709/8709 (Loss: 3.674e-05)           \n",
      "Epoch 17: Testing 2177/2177...\n",
      "Test Result, epoch 17: Avg loss 3.248e-05, MAPE 266.3%\n",
      "====================================================\n",
      "----------  UNSCALED  ----------\n",
      "Epoch 18: Trained 8709/8709 (Loss: 4.733e+04)           \n",
      "Epoch 18: Testing 2177/2177...\n",
      "Test Result, epoch 18: Avg loss 3.232e+04, MAPE 714.9%\n",
      "---------- NORMALIZED ----------\n",
      "Epoch 18: Trained 8709/8709 (Loss: 9.717e-05)           \n",
      "Epoch 18: Testing 2177/2177...\n",
      "Test Result, epoch 18: Avg loss 3.395e-05, MAPE 338.3%\n",
      "====================================================\n",
      "----------  UNSCALED  ----------\n",
      "Epoch 19: Trained 8709/8709 (Loss: 3.873e+04)           \n",
      "Epoch 19: Testing 2177/2177...\n",
      "Test Result, epoch 19: Avg loss 3.226e+04, MAPE 724.6%\n",
      "---------- NORMALIZED ----------\n",
      "Epoch 19: Trained 8709/8709 (Loss: 1.08e-05)            \n",
      "Epoch 19: Testing 2177/2177...\n",
      "Test Result, epoch 19: Avg loss 3.112e-05, MAPE 166.1%\n",
      "====================================================\n",
      "----------  UNSCALED  ----------\n",
      "Epoch 20: Trained 8709/8709 (Loss: 4.079e+04)           \n",
      "Epoch 20: Testing 2177/2177...\n",
      "Test Result, epoch 20: Avg loss 3.229e+04, MAPE 725.2%\n",
      "---------- NORMALIZED ----------\n",
      "Epoch 20: Trained 8709/8709 (Loss: 5.009e-05)           \n",
      "Epoch 20: Testing 2177/2177...\n",
      "Test Result, epoch 20: Avg loss 3.105e-05, MAPE 131.2%\n",
      "====================================================\n"
     ]
    }
   ],
   "source": [
    "# Train models on either dataset or normalized dataset\n",
    "MAX_EPOCHS = 20\n",
    "p3net = Problem3Net()\n",
    "optimizer = torch.optim.Adam(p3net.parameters(), lr=0.01)\n",
    "p3netNORM = Problem3Net()\n",
    "optimNORM = torch.optim.Adam(p3netNORM.parameters(), lr=0.01)\n",
    "\n",
    "for epoch in range(1, MAX_EPOCHS+1):\n",
    "    # Non-normalized data\n",
    "    print(\"-\"*10 + \"  UNSCALED  \" + \"-\"*10)\n",
    "    train(\n",
    "        epoch = epoch,\n",
    "        model = p3net,\n",
    "        device = device,\n",
    "        optimizer = optimizer,\n",
    "        data = train_data3,\n",
    "        loss_function = F.mse_loss\n",
    "    )\n",
    "    test(\n",
    "        epoch = epoch,\n",
    "        model = p3net,\n",
    "        device = device,\n",
    "        data = test_data3,\n",
    "        loss_function = F.mse_loss\n",
    "    )\n",
    "    \n",
    "    # Normalized data\n",
    "    print(\"-\"*10 + \" NORMALIZED \" + \"-\"*10)\n",
    "    train(\n",
    "        epoch = epoch,\n",
    "        model = p3netNORM,\n",
    "        device = device,\n",
    "        optimizer = optimNORM,\n",
    "        data = train_data3n,\n",
    "        loss_function = F.mse_loss\n",
    "    )\n",
    "    test(\n",
    "        epoch = epoch,\n",
    "        model = p3netNORM,\n",
    "        device = device,\n",
    "        data = test_data3n,\n",
    "        loss_function = F.mse_loss\n",
    "    )\n",
    "    print(\"=\"*52)"
   ]
  },
  {
   "cell_type": "code",
   "execution_count": 412,
   "metadata": {},
   "outputs": [],
   "source": [
    "# Models trained on normalized data seem to converge better and faster than \n",
    "# models trained on unscaled data."
   ]
  },
  {
   "cell_type": "markdown",
   "metadata": {},
   "source": [
    "\n",
    "### Problem 4: Integrating CNN and LSTM for Video Classification\n",
    "\n",
    "**Task:** Design a model that uses a Convolutional Neural Network (CNN) to extract spatial features from video frames and an LSTM to capture temporal dynamics for video classification.\n",
    "\n",
    "**Requirements:**\n",
    "- Use a dataset of short video clips with classification labels (e.g., action recognition).\n",
    "- Implement a CNN (e.g., pre-trained ResNet) to extract features from each frame.\n",
    "- Feed the sequence of extracted features into an LSTM for classification.\n",
    "- Train and evaluate the model, ensuring that the CNN is properly integrated before the LSTM.\n"
   ]
  },
  {
   "cell_type": "code",
   "execution_count": 2,
   "metadata": {},
   "outputs": [
    {
     "data": {
      "text/plain": [
       "{'train': {'AnswerPhone': '/home/tjw/Downloads/Hollywood2/ClipSets/AnswerPhone_train.txt',\n",
       "  'DriveCar': '/home/tjw/Downloads/Hollywood2/ClipSets/DriveCar_train.txt',\n",
       "  'Eat': '/home/tjw/Downloads/Hollywood2/ClipSets/Eat_train.txt',\n",
       "  'FightPerson': '/home/tjw/Downloads/Hollywood2/ClipSets/FightPerson_train.txt',\n",
       "  'GetOutCar': '/home/tjw/Downloads/Hollywood2/ClipSets/GetOutCar_train.txt',\n",
       "  'HandShake': '/home/tjw/Downloads/Hollywood2/ClipSets/HandShake_train.txt',\n",
       "  'HugPerson': '/home/tjw/Downloads/Hollywood2/ClipSets/HugPerson_train.txt',\n",
       "  'Kiss': '/home/tjw/Downloads/Hollywood2/ClipSets/Kiss_train.txt',\n",
       "  'Run': '/home/tjw/Downloads/Hollywood2/ClipSets/Run_train.txt',\n",
       "  'SitDown': '/home/tjw/Downloads/Hollywood2/ClipSets/SitDown_train.txt',\n",
       "  'SitUp': '/home/tjw/Downloads/Hollywood2/ClipSets/SitUp_train.txt',\n",
       "  'StandUp': '/home/tjw/Downloads/Hollywood2/ClipSets/StandUp_train.txt'},\n",
       " 'test': {'AnswerPhone': '/home/tjw/Downloads/Hollywood2/ClipSets/AnswerPhone_test.txt',\n",
       "  'DriveCar': '/home/tjw/Downloads/Hollywood2/ClipSets/DriveCar_test.txt',\n",
       "  'Eat': '/home/tjw/Downloads/Hollywood2/ClipSets/Eat_test.txt',\n",
       "  'FightPerson': '/home/tjw/Downloads/Hollywood2/ClipSets/FightPerson_test.txt',\n",
       "  'GetOutCar': '/home/tjw/Downloads/Hollywood2/ClipSets/GetOutCar_test.txt',\n",
       "  'HandShake': '/home/tjw/Downloads/Hollywood2/ClipSets/HandShake_test.txt',\n",
       "  'HugPerson': '/home/tjw/Downloads/Hollywood2/ClipSets/HugPerson_test.txt',\n",
       "  'Kiss': '/home/tjw/Downloads/Hollywood2/ClipSets/Kiss_test.txt',\n",
       "  'Run': '/home/tjw/Downloads/Hollywood2/ClipSets/Run_test.txt',\n",
       "  'SitDown': '/home/tjw/Downloads/Hollywood2/ClipSets/SitDown_test.txt',\n",
       "  'SitUp': '/home/tjw/Downloads/Hollywood2/ClipSets/SitUp_test.txt',\n",
       "  'StandUp': '/home/tjw/Downloads/Hollywood2/ClipSets/StandUp_test.txt'}}"
      ]
     },
     "execution_count": 2,
     "metadata": {},
     "output_type": "execute_result"
    }
   ],
   "source": [
    "# dataset downloaded from https://www.di.ens.fr/~laptev/actions/hollywood2/\n",
    "import os, torch\n",
    "\n",
    "path_sets = \"/home/tjw/Downloads/Hollywood2/ClipSets\"\n",
    "path_vids = \"/home/tjw/Downloads/Hollywood2/AVIClips\"\n",
    "\n",
    "clipset_files = sorted([file for file in os.listdir(path_sets) if \n",
    "                        (\"autotrain\" not in file) and (\"actions\" not in file)])\n",
    "\n",
    "file_lists = {\"train\": {}, \"test\": {}}\n",
    "\n",
    "for file in clipset_files:\n",
    "    action, _ = file.split(\"_\")\n",
    "    if \"train\" in file:\n",
    "        file_lists[\"train\"][action] = os.path.join(path_sets, file)\n",
    "    elif \"test\" in file:\n",
    "        file_lists[\"test\"][action] = os.path.join(path_sets, file)\n",
    "\n",
    "file_lists"
   ]
  },
  {
   "cell_type": "code",
   "execution_count": 3,
   "metadata": {},
   "outputs": [
    {
     "name": "stdout",
     "output_type": "stream",
     "text": [
      "actioncliptrain00001: 0\n",
      "actioncliptrain00002: 0\n",
      "actioncliptrain00003: 0\n",
      "actioncliptrain00004: 1\n",
      "actioncliptrain00005: 0\n",
      "actioncliptrain00006: 0\n",
      "actioncliptrain00007: 0\n",
      "actioncliptrain00008: 0\n",
      "actioncliptrain00009: 0\n",
      "actioncliptrain00010: 0\n"
     ]
    }
   ],
   "source": [
    "def read_clipset(filepath):\n",
    "    output = {}\n",
    "    with open(filepath) as file:\n",
    "        for line in file.readlines():\n",
    "            clip, num = line.rstrip().split(\"  \")\n",
    "            output[clip] = 1 if num == \"1\" else 0\n",
    "    \n",
    "    return output\n",
    "\n",
    "test = read_clipset(file_lists[\"train\"][\"Eat\"])\n",
    "for i in range(10): print(f\"{list(test.keys())[i]}: {test[list(test.keys())[i]]}\")\n"
   ]
  },
  {
   "cell_type": "code",
   "execution_count": 4,
   "metadata": {},
   "outputs": [],
   "source": [
    "# Create dataset\n",
    "from torch.utils.data import Dataset, DataLoader\n",
    "\n",
    "class VideoSet(Dataset):\n",
    "    def __init__(self, clipsets, video_folder):\n",
    "        self.actions = list(clipsets.keys())\n",
    "        self.n_actions = len(self.actions)\n",
    "        file_values = {}\n",
    "        \n",
    "        # Parse provided documentation\n",
    "        first = True\n",
    "        for action in self.actions:\n",
    "            file_values[action] = read_clipset(clipsets[action])\n",
    "            if first:\n",
    "                self.files = list(file_values[action].keys())\n",
    "                self.n_videos = len(self.files)\n",
    "                first = False\n",
    "            elif len(file_values[action]) != self.n_videos:\n",
    "                print(f\"ERROR! {action} has {len(file_values[action])} videos,\" + \n",
    "                      f\"but previously only found {self.n_videos} per action!\")\n",
    "                raise IndexError\n",
    "        \n",
    "        print(f\"Loaded dataset with {self.n_actions} labeled actions\")\n",
    "        \n",
    "        # Get targets and save to tensor\n",
    "        self.y = torch.zeros(size=(self.n_videos, self.n_actions))\n",
    "        for i in range(len(self.files)):\n",
    "            for j in range(len(self.actions)):\n",
    "                video = self.files[i]\n",
    "                action = self.actions[j]\n",
    "                self.y[i,j] = file_values[action][video]\n",
    "        \n",
    "        # Get videos and save filepaths to list\n",
    "        self.X = []\n",
    "        for file in self.files:\n",
    "            self.X.append(os.path.join(video_folder, file + \".avi\"))\n",
    "        \n",
    "    \n",
    "    def __len__(self):\n",
    "        return self.n_videos\n",
    "    \n",
    "    def __getitem__(self, idx):\n",
    "        return self.X[idx], self.y[idx, :]\n",
    "\n"
   ]
  },
  {
   "cell_type": "code",
   "execution_count": 5,
   "metadata": {},
   "outputs": [
    {
     "name": "stdout",
     "output_type": "stream",
     "text": [
      "Loaded dataset with 12 labeled actions\n",
      "Loaded dataset with 12 labeled actions\n"
     ]
    }
   ],
   "source": [
    "# Create data loaders\n",
    "train_set = VideoSet(file_lists[\"train\"], path_vids)\n",
    "test_set = VideoSet(file_lists[\"test\"], path_vids)\n",
    "\n",
    "train_data = DataLoader(\n",
    "    dataset = train_set,\n",
    "    batch_size = 1,\n",
    "    shuffle = True\n",
    ")\n",
    "test_data = DataLoader(\n",
    "    dataset = test_set,\n",
    "    batch_size = 1,\n",
    "    shuffle = True\n",
    ")\n"
   ]
  },
  {
   "cell_type": "code",
   "execution_count": 6,
   "metadata": {},
   "outputs": [],
   "source": [
    "import cv2, time\n",
    "from threading import Thread\n",
    "from queue import Queue\n",
    "\n",
    "class FileVideoStream:\n",
    "    # queue up frames in the background for faster playback\n",
    "    # adapted from https://pyimagesearch.com/2017/02/06/faster-video-file-fps-with-cv2-videocapture-and-opencv/\n",
    "    def __init__(self, path, queueSize=60):\n",
    "        self.stream = cv2.VideoCapture(path)\n",
    "        self.stopped = False\n",
    "        self.Q = Queue(maxsize=queueSize)\n",
    "    \n",
    "    def more(self): return self.Q.qsize() > 0\n",
    "    def read(self): return self.Q.get()\n",
    "    def stop(self): self.stopped = True\n",
    "\n",
    "    def update(self):\n",
    "        while True:\n",
    "            if self.stopped: return\n",
    "            if not self.Q.full():\n",
    "                (grabbed,frame) = self.stream.read()\n",
    "                if not grabbed:\n",
    "                    self.stop()\n",
    "                    return\n",
    "                self.Q.put(frame)\n",
    "\n",
    "    def start(self):\n",
    "        t = Thread(target=self.update, args=())\n",
    "        t.daemon = True\n",
    "        t.start()\n",
    "        time.sleep(1.0) # give the queue a second to fill a bit\n",
    "        return self"
   ]
  },
  {
   "cell_type": "code",
   "execution_count": 7,
   "metadata": {},
   "outputs": [],
   "source": [
    "# Create NN\n",
    "import torch.nn as nn\n",
    "import torch.nn.functional as F\n",
    "\n",
    "class Problem4Net(nn.Module):\n",
    "    def __init__(self):\n",
    "        super().__init__()\n",
    "        # Convolutional layers to learn spatial features\n",
    "        self.conv1 = nn.Conv2d(3, 10, kernel_size=3, padding=1)\n",
    "        self.conv2 = nn.Conv2d(10, 3, kernel_size=3, padding=3, dilation=2)\n",
    "        self.conv3 = nn.Conv2d(3, 1, kernel_size=5, padding=2)\n",
    "        \n",
    "        # LSTM network to learn temporal features\n",
    "        self.rnn1 = nn.LSTM(input_size=1024,\n",
    "                            hidden_size=64, num_layers=5,\n",
    "                            bidirectional=True, batch_first=True)\n",
    "        \n",
    "        # And a few FC layers to tie it all together\n",
    "        self.fc1 = nn.Linear(640, 64)\n",
    "        self.fc2 = nn.Linear(64, 12)\n",
    "        \n",
    "    def forward(self, x):         # input [B x  3 x 256 x 256]\n",
    "        x = F.relu(self.conv1(x)) # shape [B x 10 x 256 x 256]\n",
    "        x = F.avg_pool2d(x, 2)    # shape [B x 10 x 128 x 128]\n",
    "        x = F.relu(self.conv2(x)) # shape [B x  3 x 128 x 128]\n",
    "        x = F.max_pool2d(x, 4)    # shape [B x  3 x  32 x  32]\n",
    "        x = F.relu(self.conv3(x)) # shape [B x  1 x  32 x  32]\n",
    "        x = x.reshape(-1, 1024)   # shape [B x 1024]\n",
    "        \n",
    "        _, (x, _) = self.rnn1(x)  # shape [B x 10 x 64]\n",
    "        x = F.relu(x.reshape(-1, 640))\n",
    "        x = F.relu(self.fc1(x))       # shape [B x 64]\n",
    "        x = F.sigmoid(self.fc2(x))    # shape [B x 12]\n",
    "        return x\n",
    "        "
   ]
  },
  {
   "cell_type": "code",
   "execution_count": 12,
   "metadata": {},
   "outputs": [],
   "source": [
    "# Create training function\n",
    "def train(epoch, model, device, optimizer, data, loss_function):\n",
    "    # Prepare model\n",
    "    model.to(device)\n",
    "    model.train()\n",
    "    \n",
    "    for batch_idx, (X, y) in enumerate(data): # batch_size should be 1 ********\n",
    "        # Load targets into `device`\n",
    "        y = y.to(device).reshape(-1)\n",
    "        optimizer.zero_grad()\n",
    "        \n",
    "        # Open video file\n",
    "        video = FileVideoStream(X[0]).start()\n",
    "        N = video.stream.get(cv2.CAP_PROP_FRAME_COUNT)\n",
    "        while video.more():\n",
    "            # Get frame from queue\n",
    "            frame = video.read()\n",
    "            frame = cv2.resize(frame, (256,256)) # make all frames same size\n",
    "            frame = torch.tensor(frame, device=device, dtype=torch.float)\n",
    "            frame = frame.permute(2, 0, 1) # put into [C x W x H]\n",
    "            \n",
    "            # Calculate and record output & loss\n",
    "            output = model(frame).reshape(-1)\n",
    "            loss = loss_function(output, y)\n",
    "            loss.backward()\n",
    "            optimizer.step()\n",
    "            print(f\"\\rFrame {video.stream.get(cv2.CAP_PROP_POS_FRAMES):.0f}/{N:.0f}\", end=\" \"*30)\n",
    "            \n",
    "        # Periodically report on training progress\n",
    "        print(f\"\\nEpoch {epoch}: Training {batch_idx}/{len(data.dataset)} \" + \n",
    "              f\"(Loss: {loss.item():02.4})\", end=\" \"*10)\n",
    "    print(f\"\\rEpoch {epoch}: Trained {len(data.dataset)}/{len(data.dataset)} \" + \n",
    "              f\"(Loss: {loss.item():02.4})\" + \" \"*10)"
   ]
  },
  {
   "cell_type": "code",
   "execution_count": null,
   "metadata": {},
   "outputs": [
    {
     "name": "stdout",
     "output_type": "stream",
     "text": [
      "Frame 878/878                                                                                                                                                      \n",
      "Frame 777/777                                                                                                                          \n",
      "Frame 147/147                                \n",
      "Frame 111/111                                  \n",
      "Frame 552/552                                                                                              \n",
      "Frame 294/294                                                              \n",
      "Frame 221/221                                  \n",
      "Frame 311/311                                                                                              \n",
      "Frame 76/76                                    "
     ]
    }
   ],
   "source": [
    "MAX_EPOCHS = 10\n",
    "p4net = Problem4Net()\n",
    "optimizer = torch.optim.Adam(p4net.parameters())\n",
    "\n",
    "for epoch in range(1, MAX_EPOCHS+1):\n",
    "    train(\n",
    "        epoch = epoch,\n",
    "        model = p4net,\n",
    "        device = device,\n",
    "        optimizer = optimizer,\n",
    "        data = train_data,\n",
    "        loss_function = F.binary_cross_entropy\n",
    "    )"
   ]
  }
 ],
 "metadata": {
  "colab": {
   "provenance": []
  },
  "kernelspec": {
   "display_name": "Python 3",
   "name": "python3"
  },
  "language_info": {
   "codemirror_mode": {
    "name": "ipython",
    "version": 3
   },
   "file_extension": ".py",
   "mimetype": "text/x-python",
   "name": "python",
   "nbconvert_exporter": "python",
   "pygments_lexer": "ipython3",
   "version": "3.10.12"
  }
 },
 "nbformat": 4,
 "nbformat_minor": 0
}
