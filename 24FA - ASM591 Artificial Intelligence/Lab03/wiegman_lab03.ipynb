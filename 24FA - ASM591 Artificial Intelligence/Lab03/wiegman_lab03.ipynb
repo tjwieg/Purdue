{
  "cells": [
    {
      "cell_type": "markdown",
      "metadata": {},
      "source": [
        "TJ Wiegman  \n",
        "ASM 591AI  \n",
        "Lab 3  \n",
        "2024-09-18  "
      ]
    },
    {
      "cell_type": "markdown",
      "metadata": {
        "id": "RzOmtKYnbr-k"
      },
      "source": [
        "# Introduction to Bayesian Networks and Decision-Making Under Uncertainty\n",
        "\n",
        "## 1. Conditional Probability and Bayes' Theorem\n",
        "\n",
        "In this section, we will explore conditional probability and Bayes' Theorem.\n",
        "\n",
        "### Concept:\n",
        "Conditional probability refers to the probability of an event occurring, given that another event has already occurred. Bayes' Theorem helps us compute this with the formula:\n",
        "\n",
        "\\[\n",
        "P(A|B) = \\frac{P(B|A) \\cdot P(A)}{P(B)}\n",
        "\\]\n",
        "\n",
        "### Example: Calculate Conditional Probability\n",
        "\n",
        "Given:\n",
        "- \\( P(A) = 0.3 \\)\n",
        "- \\( P(B|A) = 0.8 \\)\n",
        "- \\( P(B) = 0.5 \\)\n",
        "\n",
        "Let's calculate \\( P(A|B) \\) using Bayes' Theorem."
      ]
    },
    {
      "cell_type": "code",
      "execution_count": 1,
      "metadata": {
        "colab": {
          "base_uri": "https://localhost:8080/"
        },
        "id": "E4f0myo4bnZq",
        "outputId": "29a7f062-757e-40b2-e354-7f190dafb225"
      },
      "outputs": [
        {
          "name": "stdout",
          "output_type": "stream",
          "text": [
            "P(A|B) = 0.48\n"
          ]
        }
      ],
      "source": [
        "# Basic Python: Calculate conditional probabilities using functions.\n",
        "P_A = 0.3  # Probability of event A (e.g., it rains)\n",
        "P_B_given_A = 0.8  # Probability of event B given A (e.g., grass is wet given rain)\n",
        "P_B = 0.5  # Overall probability of event B\n",
        "\n",
        "P_A_given_B = (P_B_given_A * P_A) / P_B  # Bayes' Theorem formula\n",
        "print(f'P(A|B) = {P_A_given_B:.2f}')\n"
      ]
    },
    {
      "cell_type": "markdown",
      "metadata": {
        "id": "vdCOeoJ8bwmu"
      },
      "source": [
        "## 2. Introduction to Python Libraries for Bayesian Networks\n",
        "\n",
        "We will use the `pgmpy` library to create, manage, and query Bayesian Networks in Python.\n",
        "\n",
        "To install the `pgmpy` library, run the following command in your terminal or notebook:\n"
      ]
    },
    {
      "cell_type": "code",
      "execution_count": 2,
      "metadata": {
        "colab": {
          "base_uri": "https://localhost:8080/"
        },
        "id": "Wzwdd9VLbu25",
        "outputId": "25fe3bbb-60c1-4717-9519-ebea0bf1709a"
      },
      "outputs": [],
      "source": [
        "# wget https://developer.download.nvidia.com/compute/cuda/repos/ubuntu2204/x86_64/cuda-keyring_1.1-1_all.deb\n",
        "# sudo dpkg -i cuda-keyring_1.1-1_all.deb\n",
        "# sudo apt update && sudo apt install cuda-toolkit-12-4\n",
        "# pip3 install torch torchvision torchaudio --index-url https://download.pytorch.org/whl/cu124\n",
        "# pip3 install pgmpy\n"
      ]
    },
    {
      "cell_type": "markdown",
      "metadata": {
        "id": "u4dlloS_bzx7"
      },
      "source": [
        "### Importing Required Libraries\n",
        "Now, let’s import the necessary libraries for creating and manipulating Bayesian Networks.\n"
      ]
    },
    {
      "cell_type": "code",
      "execution_count": 3,
      "metadata": {
        "id": "uwhLa7HDb3Xd"
      },
      "outputs": [],
      "source": [
        "from pgmpy.models import BayesianNetwork\n",
        "from pgmpy.factors.discrete import TabularCPD\n",
        "from pgmpy.inference import VariableElimination\n"
      ]
    },
    {
      "cell_type": "markdown",
      "metadata": {
        "id": "3B5KVutsb5vE"
      },
      "source": [
        "## 3. Creating a Simple Bayesian Network\n",
        "\n",
        "### Concept:\n",
        "A Bayesian Network is a graph where:\n",
        "- **Nodes** represent variables (e.g., Rain, Sprinkler, Grass Wet).\n",
        "- **Edges** represent conditional dependencies between variables.\n",
        "- **Conditional Probability Tables (CPDs)** specify the probabilities for each variable.\n",
        "\n",
        "### Example: A Bayesian Network for Rain, Sprinkler, and Grass Wet\n",
        "Let’s define the structure and CPDs for a simple Bayesian Network.\n"
      ]
    },
    {
      "cell_type": "code",
      "execution_count": 4,
      "metadata": {
        "colab": {
          "base_uri": "https://localhost:8080/"
        },
        "id": "ladAOsJmb7zM",
        "outputId": "58bbc042-1e6a-4ac1-8e82-2d4e426ea7d6"
      },
      "outputs": [
        {
          "name": "stdout",
          "output_type": "stream",
          "text": [
            "Bayesian Network Model created successfully!\n"
          ]
        }
      ],
      "source": [
        "# Define the structure of the network\n",
        "model = BayesianNetwork([('Rain', 'Grass Wet'), ('Sprinkler', 'Grass Wet')])\n",
        "\n",
        "# Define the Conditional Probability Distributions (CPDs)\n",
        "cpd_rain = TabularCPD(variable='Rain', variable_card=2, values=[[0.7], [0.3]])\n",
        "cpd_sprinkler = TabularCPD(variable='Sprinkler', variable_card=2, values=[[0.8], [0.2]])\n",
        "cpd_grass_wet = TabularCPD(variable='Grass Wet', variable_card=2,\n",
        "                           values=[[0.99, 0.9, 0.8, 0.0],\n",
        "                                   [0.01, 0.1, 0.2, 1.0]],\n",
        "                           evidence=['Rain', 'Sprinkler'], evidence_card=[2, 2])\n",
        "\n",
        "# Add CPDs to the model\n",
        "model.add_cpds(cpd_rain, cpd_sprinkler, cpd_grass_wet)\n",
        "\n",
        "# Validate the model\n",
        "assert model.check_model()\n",
        "print(\"Bayesian Network Model created successfully!\")\n"
      ]
    },
    {
      "cell_type": "markdown",
      "metadata": {
        "id": "Ahhpp8YFcAB0"
      },
      "source": [
        "## 4. Visualizing the Bayesian Network\n",
        "\n",
        "We can visualize the structure of our Bayesian Network using the `networkx` and `matplotlib` libraries.\n",
        "\n",
        "Let’s plot the network to see the connections between the variables.\n"
      ]
    },
    {
      "cell_type": "code",
      "execution_count": 5,
      "metadata": {
        "colab": {
          "base_uri": "https://localhost:8080/",
          "height": 511
        },
        "id": "QhqPTS0NcDAD",
        "outputId": "88ff299d-4554-47f3-f1bc-3c687f194172"
      },
      "outputs": [
        {
          "data": {
            "image/png": "[encoded data removed]",
            "text/plain": [
              "<Figure size 432x288 with 1 Axes>"
            ]
          },
          "metadata": {},
          "output_type": "display_data"
        }
      ],
      "source": [
        "import matplotlib.pyplot as plt\n",
        "import networkx as nx\n",
        "\n",
        "# Draw the structure of the Bayesian Network\n",
        "nx_graph = nx.DiGraph()\n",
        "\n",
        "# Add the nodes and edges from the Bayesian Network model\n",
        "nx_graph.add_edges_from(model.edges())\n",
        "\n",
        "pos = nx.spring_layout(nx_graph)\n",
        "nx.draw(nx_graph, pos, with_labels=True, node_color='lightblue', font_weight='bold')\n",
        "plt.show()\n"
      ]
    },
    {
      "cell_type": "markdown",
      "metadata": {
        "id": "3Kuu_KeYcHhf"
      },
      "source": [
        "## 5. Querying the Bayesian Network\n",
        "\n",
        "Once we have a Bayesian Network, we can query it to compute the probability of certain outcomes given evidence.\n",
        "\n",
        "### Example: Probability that the Grass is Wet given it Rained\n",
        "We will use `VariableElimination` to perform inference.\n"
      ]
    },
    {
      "cell_type": "code",
      "execution_count": 6,
      "metadata": {
        "colab": {
          "base_uri": "https://localhost:8080/"
        },
        "id": "g6EmGmPwcI2M",
        "outputId": "1defa0ff-1c06-4605-f6c7-9b42befc7fd0"
      },
      "outputs": [
        {
          "name": "stdout",
          "output_type": "stream",
          "text": [
            "+--------------+------------------+\n",
            "| Grass Wet    |   phi(Grass Wet) |\n",
            "+==============+==================+\n",
            "| Grass Wet(0) |           0.6400 |\n",
            "+--------------+------------------+\n",
            "| Grass Wet(1) |           0.3600 |\n",
            "+--------------+------------------+\n"
          ]
        }
      ],
      "source": [
        "infer = VariableElimination(model)\n",
        "# Query: What is the probability that the grass is wet given that it rained?\n",
        "result = infer.query(variables=['Grass Wet'], evidence={'Rain': 1})\n",
        "print(result)\n"
      ]
    },
    {
      "cell_type": "markdown",
      "metadata": {
        "id": "X4NpMfjacLnI"
      },
      "source": [
        "## 6. D-Separation and Independence\n",
        "\n",
        "D-Separation is a property that helps us understand whether two variables are independent given some observed evidence. It is a key concept in Bayesian Networks.\n",
        "\n",
        "### Example: Check if Sprinkler is independent of Rain given that Grass is Wet.\n",
        "You can compare whether P(Sprinkler | Grass Wet) is the same as P(Sprinkler | Grass Wet, Rain). If they are equal, Sprinkler is independent of Rain given Grass Wet"
      ]
    },
    {
      "cell_type": "code",
      "execution_count": 7,
      "metadata": {
        "colab": {
          "base_uri": "https://localhost:8080/"
        },
        "id": "27zTuK0VcNDv",
        "outputId": "d690b6bb-57c5-4ee7-aefe-ba0acd779918"
      },
      "outputs": [
        {
          "name": "stdout",
          "output_type": "stream",
          "text": [
            "P(Sprinkler | Grass Wet):\n",
            "+--------------+------------------+\n",
            "| Sprinkler    |   phi(Sprinkler) |\n",
            "+==============+==================+\n",
            "| Sprinkler(0) |           0.4201 |\n",
            "+--------------+------------------+\n",
            "| Sprinkler(1) |           0.5799 |\n",
            "+--------------+------------------+\n",
            "\n",
            "P(Sprinkler | Grass Wet, Rain):\n",
            "+--------------+------------------+\n",
            "| Sprinkler    |   phi(Sprinkler) |\n",
            "+==============+==================+\n",
            "| Sprinkler(0) |           0.4444 |\n",
            "+--------------+------------------+\n",
            "| Sprinkler(1) |           0.5556 |\n",
            "+--------------+------------------+\n"
          ]
        }
      ],
      "source": [
        "# Query without 'Rain' as evidence\n",
        "result_without_rain = infer.query(variables=['Sprinkler'], evidence={'Grass Wet': 1})\n",
        "print(\"P(Sprinkler | Grass Wet):\")\n",
        "print(result_without_rain)\n",
        "\n",
        "# Query with 'Rain' as additional evidence\n",
        "result_with_rain = infer.query(variables=['Sprinkler'], evidence={'Grass Wet': 1, 'Rain': 1})\n",
        "print(\"\\nP(Sprinkler | Grass Wet, Rain):\")\n",
        "print(result_with_rain)\n",
        "\n"
      ]
    },
    {
      "cell_type": "markdown",
      "metadata": {
        "id": "4916n_mFcQF0"
      },
      "source": [
        "# Bayesian Networks: Practical Exercise\n",
        "\n",
        "In this exercise, you will create and query Bayesian Networks using Python, apply concepts of conditional probability, and explore more complex structures than in the workbook. The exercise is broken into 10 tasks designed to help you solidify your understanding of Bayesian Networks.\n",
        "\n",
        "---\n",
        "\n",
        "## Q1. Conditional Probability Using Python\n",
        "\n",
        "**(a)** Given the following probabilities:\n",
        "\n",
        "- \\( P(A) = 0.4 \\) (Probability it will rain)\n",
        "- \\( P(B|A) = 0.6 \\) (Probability the grass will be wet if it rains)\n",
        "- \\( P(B) = 0.3 \\) (Overall probability of the grass being wet)\n",
        "\n",
        "Write a Python function that uses **Bayes' Theorem** to compute \\( P(A|B) \\), the probability that it rains given the grass is wet.\n",
        "\n",
        "**(b)** Modify the function to accept any input probabilities \\( P(A) \\), \\( P(B|A) \\), and \\( P(B) \\). Use this function to calculate the following:\n",
        "\n",
        "- \\( P(A|B) \\) for \\( P(A) = 0.5 \\), \\( P(B|A) = 0.8 \\), and \\( P(B) = 0.4 \\).\n",
        "\n"
      ]
    },
    {
      "cell_type": "code",
      "execution_count": 8,
      "metadata": {
        "colab": {
          "base_uri": "https://localhost:8080/"
        },
        "id": "OclZJf0ucTDx",
        "outputId": "841a1c9a-6b35-4329-b222-7aeb12a0087b"
      },
      "outputs": [
        {
          "name": "stdout",
          "output_type": "stream",
          "text": [
            "P(A|B) = 0.80\n"
          ]
        }
      ],
      "source": [
        "# Solution:\n",
        "def conditional_probability(P_A, P_B_given_A, P_B):\n",
        "    return (P_B_given_A * P_A) / P_B \n",
        "\n",
        "# Example calculation:\n",
        "P_A_given_B = conditional_probability(0.4, 0.6, 0.3)\n",
        "print(f'P(A|B) = {P_A_given_B:.2f}')\n"
      ]
    },
    {
      "cell_type": "markdown",
      "metadata": {
        "id": "CsPcjPrNccQQ"
      },
      "source": [
        "## Q2. Creating a Bayesian Network with Three Nodes\n",
        "\n",
        "**(a)** Create a Bayesian Network with the following nodes:\n",
        "\n",
        "- **Cloudy**: Whether it is cloudy (True/False)\n",
        "- **Sprinkler**: Whether the sprinkler is on (True/False)\n",
        "- **Rain**: Whether it is raining (True/False)\n",
        "- **Wind**: Whether it's windy (True/False)\n",
        "- **Grass Wet**: Whether the grass is wet (True/False)\n",
        "\n",
        "### Instructions:\n",
        "\n",
        "- The sprinkler is more likely to be turned on when it is not cloudy.\n",
        "- It is more likely to rain when it is cloudy.\n",
        "- The grass being wet depends on whether it rained or the sprinkler was on.\n",
        "- Windy conditions affect the sprinkler's effectiveness at wetting the grass.\n",
        "\n",
        "### Steps:\n",
        "\n",
        "- Define the edges between the nodes to reflect these relationships.\n",
        "- Add **Conditional Probability Distributions (CPDs)** for each node.\n",
        "- Validate the model to ensure that the dependencies are properly defined.\n",
        "\n"
      ]
    },
    {
      "cell_type": "code",
      "execution_count": 9,
      "metadata": {
        "colab": {
          "base_uri": "https://localhost:8080/"
        },
        "id": "wBIl02ePhXaC",
        "outputId": "79e8d110-9a55-46cc-b683-0f56bb187309"
      },
      "outputs": [
        {
          "name": "stdout",
          "output_type": "stream",
          "text": [
            "Model validated successfully!\n"
          ]
        }
      ],
      "source": [
        "# Define the structure of the Bayesian Network\n",
        "model = BayesianNetwork([('Cloudy', 'Sprinkler'),\n",
        "                         ('Cloudy', 'Rain'),\n",
        "                         ('Sprinkler', 'Grass Wet'),\n",
        "                         ('Rain', 'Grass Wet'),\n",
        "                         ('Wind', 'Grass Wet')])\n",
        "\n",
        "# Define CPDs for each node\n",
        "cpd_cloudy = TabularCPD(\n",
        "    variable=\"Cloudy\",\n",
        "    variable_card=2,\n",
        "    values=[[0.7], # clear\n",
        "            [0.3]] # clouds\n",
        ")\n",
        "\n",
        "# Sprinkler depends on Cloudy\n",
        "cpd_sprinkler = TabularCPD(\n",
        "    variable=\"Sprinkler\",\n",
        "    variable_card=2,\n",
        "    evidence=[\"Cloudy\"],\n",
        "    evidence_card=[2],\n",
        "    values=[[0.2, 0.9], # sprinkler is off [clear, cloudy]\n",
        "            [0.8, 0.1]] # sprinkler is on  [clear, cloudy]\n",
        ")\n",
        "\n",
        "# Rain depends on Cloudy\n",
        "cpd_rain = TabularCPD(\n",
        "    variable=\"Rain\",\n",
        "    variable_card=2,\n",
        "    evidence=[\"Cloudy\"],\n",
        "    evidence_card=[2],\n",
        "    values=[[0.9, 0.5], # not raining [clear, cloudy]\n",
        "            [0.1, 0.5]] # is raining  [clear, cloudy]\n",
        ")\n",
        "\n",
        "# Wind is independent for now (can be expanded later)\n",
        "cpd_wind = TabularCPD(\n",
        "    variable=\"Wind\",\n",
        "    variable_card=2,\n",
        "    values=[[0.85], # calm\n",
        "            [0.15]] # wind\n",
        ")\n",
        "\n",
        "# Grass Wet depends on Sprinkler, Rain, and Wind\n",
        "# The CPD must account for all combinations of Sprinkler, Rain, and Wind (2 x 2 x 2 = 8 rows)\n",
        "cpd_grass_wet = TabularCPD(\n",
        "    variable=\"Grass Wet\",\n",
        "    variable_card=2,\n",
        "    evidence=[\"Sprinkler\", \"Rain\", \"Wind\"],\n",
        "    evidence_card=[2,2,2],\n",
        "    values=[[0.95, 0.99,  # Dry Grass: Sprinkler Off + NoRain/Calm, NoRain/Wind\n",
        "             0.02, 0.03,  # Dry Grass: Sprinkler Off + Rain/Calm,   Rain/Wind\n",
        "             0.05, 0.15,  # Dry Grass: Sprinkler On +  NoRain/Calm, NoRain/Wind\n",
        "             0.00, 0.01], # Dry Grass: Sprinkler On +  Rain/Calm,   Rain/Wind\n",
        "            [0.05, 0.01,  # Wet Grass: Sprinkler Off + NoRain/Calm, NoRain/Wind\n",
        "             0.98, 0.97,  # Wet Grass: Sprinkler Off + Rain/Calm,   Rain/Wind\n",
        "             0.95, 0.85,  # Wet Grass: Sprinkler On +  NoRain/Calm, NoRain/Wind\n",
        "             1.00, 0.99]] # Wet Grass: Sprinkler On +  Rain/Calm,   Rain/Wind\n",
        ")\n",
        "\n",
        "# Add the CPDs to the model\n",
        "model.add_cpds(cpd_cloudy, cpd_sprinkler, cpd_rain, cpd_wind, cpd_grass_wet)\n",
        "\n",
        "# Validate the model\n",
        "try:\n",
        "    model.check_model()\n",
        "    print(\"Model validated successfully!\")\n",
        "except ValueError as e:\n",
        "    print(f\"Model validation error: {e}\")\n"
      ]
    },
    {
      "cell_type": "markdown",
      "metadata": {
        "id": "WyrPSjVFcit_"
      },
      "source": [
        "## Q3. Visualizing the Bayesian Network\n",
        "\n",
        "Visualize the Bayesian Network created in **Q2** using `networkx` and `matplotlib`.\n",
        "\n",
        "### Instructions:\n",
        "\n",
        "- Use `networkx` to generate the graph.\n",
        "- Make sure the nodes and edges are labeled correctly.\n",
        "\n"
      ]
    },
    {
      "cell_type": "code",
      "execution_count": 10,
      "metadata": {
        "colab": {
          "base_uri": "https://localhost:8080/",
          "height": 511
        },
        "id": "aHKbVrU2cibR",
        "outputId": "5c9326ec-13f8-4c69-ba65-724972c901a1"
      },
      "outputs": [
        {
          "data": {
            "image/png": "[encoded data removed]",
            "text/plain": [
              "<Figure size 432x288 with 1 Axes>"
            ]
          },
          "metadata": {},
          "output_type": "display_data"
        }
      ],
      "source": [
        "# Solution:\n",
        "import matplotlib.pyplot as plt\n",
        "import networkx as nx\n",
        "\n",
        "# Draw the structure of the Bayesian Network\n",
        "nx_graph = nx.DiGraph()\n",
        "\n",
        "# Add the nodes and edges from the Bayesian Network model\n",
        "nx_graph.add_edges_from(model.edges())\n",
        "\n",
        "pos = nx.spring_layout(nx_graph)\n",
        "nx.draw(nx_graph, pos, with_labels=True, node_color='lightblue', font_weight='bold', node_size=5000)\n",
        "plt.show()\n"
      ]
    },
    {
      "cell_type": "markdown",
      "metadata": {
        "id": "HEbwuLr2cn07"
      },
      "source": [
        "## Q4. Querying the Bayesian Network\n",
        "\n",
        "**(a)** Query the Bayesian Network created in **Q2** to find the probability that the **Grass is Wet** given that it is **Cloudy**.\n",
        "\n",
        "**(b)** Now, calculate the probability that the **Grass is Wet** given both **Cloudy** and **Windy** conditions.\n",
        "\n",
        "Use the `VariableElimination` method for inference.\n",
        "\n"
      ]
    },
    {
      "cell_type": "code",
      "execution_count": 11,
      "metadata": {
        "colab": {
          "base_uri": "https://localhost:8080/"
        },
        "id": "MNiOmWCXcnP-",
        "outputId": "d4448168-9178-4a40-dec2-8e306f91b680"
      },
      "outputs": [
        {
          "name": "stdout",
          "output_type": "stream",
          "text": [
            "P(Grass Wet | Cloudy):\n",
            "+--------------+------------------+\n",
            "| Grass Wet    |   phi(Grass Wet) |\n",
            "+==============+==================+\n",
            "| Grass Wet(0) |           0.4432 |\n",
            "+--------------+------------------+\n",
            "| Grass Wet(1) |           0.5568 |\n",
            "+--------------+------------------+\n",
            "\n",
            "P(Grass Wet | Cloudy, Windy):\n",
            "+--------------+------------------+\n",
            "| Grass Wet    |   phi(Grass Wet) |\n",
            "+==============+==================+\n",
            "| Grass Wet(0) |           0.4670 |\n",
            "+--------------+------------------+\n",
            "| Grass Wet(1) |           0.5330 |\n",
            "+--------------+------------------+\n"
          ]
        }
      ],
      "source": [
        "# Solution:\n",
        "from pgmpy.inference import VariableElimination\n",
        "\n",
        "# Perform inference on the model\n",
        "infer = VariableElimination(model)\n",
        "\n",
        "\n",
        "# Query: What is the probability that the grass is wet given it is cloudy?\n",
        "result = infer.query(variables=[\"Grass Wet\"], evidence={\"Cloudy\": 1})\n",
        "print(\"P(Grass Wet | Cloudy):\")\n",
        "print(result)\n",
        "\n",
        "# Query: Probability that grass is wet given Cloudy and Windy\n",
        "result_windy = infer.query(variables=[\"Grass Wet\"], evidence={\"Cloudy\": 1, \"Wind\": 1})\n",
        "print(\"\\nP(Grass Wet | Cloudy, Windy):\")\n",
        "print(result_windy)\n",
        "\n"
      ]
    },
    {
      "cell_type": "markdown",
      "metadata": {
        "id": "Hde6TnN-cryk"
      },
      "source": [
        "## Q5. Introducing a New Node and Dependencies\n",
        "\n",
        "**(a)** Add a new node **Storm** to the Bayesian Network from **Q2**, where **Storm** influences both **Rain** and **Wind**.\n",
        "\n",
        "### Instructions:\n",
        "\n",
        "- Define the new relationships: a storm makes it more likely to rain and makes it windy.\n",
        "- Add appropriate CPDs for the **Storm** node.\n",
        "- Validate the model and ensure everything is correctly structured.\n",
        "\n",
        "**(b)** Query the network to compute the probability of the **Grass being Wet** given that there is a **Storm**.\n",
        "\n"
      ]
    },
    {
      "cell_type": "code",
      "execution_count": 12,
      "metadata": {
        "colab": {
          "base_uri": "https://localhost:8080/"
        },
        "id": "rfHMq4TScrFr",
        "outputId": "b62524df-0014-4053-ba35-1dceec44e172"
      },
      "outputs": [
        {
          "name": "stdout",
          "output_type": "stream",
          "text": [
            "Model validated successfully!\n"
          ]
        }
      ],
      "source": [
        "from pgmpy.models import BayesianNetwork\n",
        "from pgmpy.factors.discrete import TabularCPD\n",
        "\n",
        "# Define the structure of the Bayesian Network with the new node 'Storm'\n",
        "model = BayesianNetwork([('Cloudy', 'Sprinkler'),\n",
        "                         ('Cloudy', 'Rain'),\n",
        "                         ('Sprinkler', 'Grass Wet'),\n",
        "                         ('Rain', 'Grass Wet'),\n",
        "                         ('Wind', 'Grass Wet'),\n",
        "                         ('Storm', 'Rain'),\n",
        "                         ('Storm', 'Wind')])\n",
        "\n",
        "# CPDs for Cloudy\n",
        "cpd_cloudy = TabularCPD(\n",
        "    variable=\"Cloudy\",\n",
        "    variable_card=2,\n",
        "    values=[[0.7], # clear\n",
        "            [0.3]] # clouds\n",
        ")\n",
        "\n",
        "# CPDs for Sprinkler, depending on Cloudy\n",
        "cpd_sprinkler = TabularCPD(\n",
        "    variable=\"Sprinkler\",\n",
        "    variable_card=2,\n",
        "    evidence=[\"Cloudy\"],\n",
        "    evidence_card=[2],\n",
        "    values=[[0.2, 0.9], # sprinkler is off [clear, cloudy]\n",
        "            [0.8, 0.1]] # sprinkler is on  [clear, cloudy]\n",
        ")\n",
        "\n",
        "# CPDs for Rain, depending on Cloudy and Storm\n",
        "#   - storm makes it more likely to rain and makes it windy.\n",
        "cpd_rain = TabularCPD(\n",
        "    variable=\"Rain\",\n",
        "    variable_card=2,\n",
        "    evidence=[\"Cloudy\", \"Storm\"],\n",
        "    evidence_card=[2, 2],\n",
        "    values=[[0.99, 0.80,  # NoRain: Clear/NoStorm, Clear/Storm,\n",
        "             0.50, 0.05], # NoRain: Cloudy/NoStorm, Cloudy/Storm\n",
        "            [0.01, 0.20,  # IsRain: Clear/NoStorm, Clear/Storm,\n",
        "             0.50, 0.95]] # IsRain: Cloudy/NoStorm, Cloudy/Storm\n",
        ")\n",
        "\n",
        "# CPDs for Wind, depending on Storm\n",
        "cpd_wind = TabularCPD(\n",
        "    variable=\"Wind\",\n",
        "    variable_card=2,\n",
        "    evidence=[\"Storm\"],\n",
        "    evidence_card=[2],\n",
        "    values=[[0.85, 0.1], # Calm: NoStorm, Storm\n",
        "            [0.15, 0.9]] # Wind: NoStorm, Storm\n",
        ")\n",
        "\n",
        "# CPD for Storm (assume 20% chance of a storm)\n",
        "cpd_storm = TabularCPD(\n",
        "    variable=\"Storm\",\n",
        "    variable_card=2,\n",
        "    values=[[0.8], # No Storm\n",
        "            [0.2]] # Storming\n",
        ")\n",
        "\n",
        "# CPDs for Grass Wet, depending on Sprinkler, Rain, and Wind\n",
        "cpd_grass_wet = TabularCPD(\n",
        "    variable=\"Grass Wet\",\n",
        "    variable_card=2,\n",
        "    evidence=[\"Sprinkler\", \"Rain\", \"Wind\"],\n",
        "    evidence_card=[2,2,2],\n",
        "    values=[[0.95, 0.99,  # Dry Grass: Sprinkler Off + NoRain/Calm, NoRain/Wind\n",
        "             0.02, 0.03,  # Dry Grass: Sprinkler Off + Rain/Calm,   Rain/Wind\n",
        "             0.05, 0.15,  # Dry Grass: Sprinkler On +  NoRain/Calm, NoRain/Wind\n",
        "             0.00, 0.01], # Dry Grass: Sprinkler On +  Rain/Calm,   Rain/Wind\n",
        "            [0.05, 0.01,  # Wet Grass: Sprinkler Off + NoRain/Calm, NoRain/Wind\n",
        "             0.98, 0.97,  # Wet Grass: Sprinkler Off + Rain/Calm,   Rain/Wind\n",
        "             0.95, 0.85,  # Wet Grass: Sprinkler On +  NoRain/Calm, NoRain/Wind\n",
        "             1.00, 0.99]] # Wet Grass: Sprinkler On +  Rain/Calm,   Rain/Wind\n",
        ")\n",
        "\n",
        "# Add CPDs to the model\n",
        "model.add_cpds(cpd_cloudy, cpd_sprinkler, cpd_rain, cpd_wind, cpd_storm, cpd_grass_wet)\n",
        "\n",
        "# Validate the model\n",
        "try:\n",
        "    model.check_model()\n",
        "    print(\"Model validated successfully!\")\n",
        "except ValueError as e:\n",
        "    print(f\"Model validation error: {e}\")\n",
        "\n",
        "\n",
        "\n"
      ]
    },
    {
      "cell_type": "code",
      "execution_count": 13,
      "metadata": {
        "colab": {
          "base_uri": "https://localhost:8080/"
        },
        "id": "H9hBN1ZEiD_N",
        "outputId": "992f64f9-302d-4b26-83ce-5d1e74e8dfb5"
      },
      "outputs": [
        {
          "name": "stdout",
          "output_type": "stream",
          "text": [
            "+--------------+------------------+\n",
            "| Grass Wet    |   phi(Grass Wet) |\n",
            "+==============+==================+\n",
            "| Grass Wet(0) |           0.1962 |\n",
            "+--------------+------------------+\n",
            "| Grass Wet(1) |           0.8038 |\n",
            "+--------------+------------------+\n"
          ]
        }
      ],
      "source": [
        "from pgmpy.inference import VariableElimination\n",
        "\n",
        "# Perform inference on the model\n",
        "infer = VariableElimination(model)\n",
        "\n",
        "# Query: What is the probability that the grass is wet given that there is a storm?\n",
        "result = infer.query(variables=[\"Grass Wet\"], evidence={\"Storm\": 1})\n",
        "print(result)\n"
      ]
    },
    {
      "cell_type": "markdown",
      "metadata": {
        "id": "uNprt1jWjy3R"
      },
      "source": [
        "\n",
        "## Q6. D-Separation and Conditional Independence\n",
        "\n",
        "### **(a)** In the updated network from **Q5**, check if **Sprinkler** is d-separated from **Wind** given that the **Grass is Wet**.\n",
        "\n",
        "### **(b)** Perform a manual conditional independence check by comparing the following probabilities:\n",
        "  - \\( P(\\text{Sprinkler}|\\text{Grass Wet}) \\)\n",
        "  - \\( P(\\text{Sprinkler}|\\text{Grass Wet}, \\text{Wind}) \\)\n",
        "\n",
        "If the probabilities are the same, the variables are conditionally independent.\n",
        "\n",
        "### **Instructions:**\n",
        "  - Use the `VariableElimination` method to perform the queries.\n",
        "  - If the probabilities are equal, it indicates conditional independence between `Sprinkler` and `Wind` given `Grass Wet`.\n",
        "\n",
        "---"
      ]
    },
    {
      "cell_type": "code",
      "execution_count": 20,
      "metadata": {},
      "outputs": [
        {
          "data": {
            "image/png": "[encoded data removed]",
            "text/plain": [
              "<Figure size 432x288 with 1 Axes>"
            ]
          },
          "metadata": {},
          "output_type": "display_data"
        }
      ],
      "source": [
        "# Draw the structure of the Bayesian Network\n",
        "nx_graph = nx.DiGraph()\n",
        "\n",
        "# Add the nodes and edges from the Bayesian Network model\n",
        "nx_graph.add_edges_from(model.edges())\n",
        "\n",
        "pos = nx.spring_layout(nx_graph)\n",
        "nx.draw(nx_graph, pos, with_labels=True, node_color='lightblue', font_weight='bold', node_size=5000)\n",
        "plt.show()"
      ]
    },
    {
      "cell_type": "markdown",
      "metadata": {},
      "source": [
        "**Sprinkler** is not d-separated from **Wind**, because they both inherit causality from the higher node **Storm** (though Sprinkler's inheritance is through an indirect correlation rather than direct causation)."
      ]
    },
    {
      "cell_type": "code",
      "execution_count": 15,
      "metadata": {
        "colab": {
          "base_uri": "https://localhost:8080/"
        },
        "id": "_g3abLJjj3JT",
        "outputId": "a4f6153f-f5d0-4d83-9327-0251854ba6d4"
      },
      "outputs": [
        {
          "name": "stdout",
          "output_type": "stream",
          "text": [
            "P(Sprinkler | Grass Wet):\n",
            "+--------------+------------------+\n",
            "| Sprinkler    |   phi(Sprinkler) |\n",
            "+==============+==================+\n",
            "| Sprinkler(0) |           0.2391 |\n",
            "+--------------+------------------+\n",
            "| Sprinkler(1) |           0.7609 |\n",
            "+--------------+------------------+\n",
            "\n",
            "P(Sprinkler | Grass Wet, Wind):\n",
            "+--------------+------------------+\n",
            "| Sprinkler    |   phi(Sprinkler) |\n",
            "+==============+==================+\n",
            "| Sprinkler(0) |           0.2999 |\n",
            "+--------------+------------------+\n",
            "| Sprinkler(1) |           0.7001 |\n",
            "+--------------+------------------+\n"
          ]
        }
      ],
      "source": [
        "# Perform inference\n",
        "infer = VariableElimination(model)\n",
        "\n",
        "# Query P(Sprinkler | Grass Wet)\n",
        "result_grass_wet = infer.query(variables=[\"Sprinkler\"], evidence={\"Grass Wet\": 1})\n",
        "print(\"P(Sprinkler | Grass Wet):\")\n",
        "print(result_grass_wet)\n",
        "\n",
        "# Query P(Sprinkler | Grass Wet, Wind)\n",
        "result_grass_wet_wind = infer.query(variables=[\"Sprinkler\"], evidence={\"Grass Wet\": 1, \"Wind\": 1})\n",
        "print(\"\\nP(Sprinkler | Grass Wet, Wind):\")\n",
        "print(result_grass_wet_wind)\n"
      ]
    },
    {
      "cell_type": "markdown",
      "metadata": {},
      "source": [
        "0.76 != 0.70 confirms the claim made above."
      ]
    },
    {
      "cell_type": "markdown",
      "metadata": {
        "id": "yS7kx9uHj-Cv"
      },
      "source": [
        "\n",
        "## Q7. Medical Diagnosis Problem\n",
        "\n",
        "**Scenario**: A simplified medical diagnosis system.\n",
        "\n",
        "### **(a)** Create a Bayesian Network to model the following nodes:\n",
        "  - **Disease**: Whether the patient has a disease (True/False)\n",
        "  - **Test Result**: Whether a diagnostic test result is positive or negative (True/False)\n",
        "  - **Symptoms**: Whether the patient exhibits certain symptoms (True/False)\n",
        "\n",
        "### **(b)** Define the relationships:\n",
        "  - The presence of the **Disease** influences both the **Test Result** and **Symptoms**.\n",
        "  - Use probabilities to define how likely the test is positive and how likely symptoms appear given that the patient has the disease.\n",
        "  \n",
        "### **(c)** Define the CPDs for all nodes:\n",
        "  - Assume the probability of having the disease is 1%.\n",
        "  - The test is 95% accurate when the disease is present and has a 5% false positive rate.\n",
        "  - Symptoms appear 80% of the time when the disease is present, and 10% of the time when it is absent.\n",
        "\n",
        "### **(d)** Query the network:\n",
        "  - Compute the probability that a patient has the disease given that both the test is positive and symptoms are present.\n",
        "\n",
        "---"
      ]
    },
    {
      "cell_type": "code",
      "execution_count": 16,
      "metadata": {
        "colab": {
          "base_uri": "https://localhost:8080/"
        },
        "id": "Bh5lHPaskZqy",
        "outputId": "3f666797-a9f5-4296-ce7c-a42f4a9cd08b"
      },
      "outputs": [
        {
          "name": "stdout",
          "output_type": "stream",
          "text": [
            "+------------+----------------+\n",
            "| Disease    |   phi(Disease) |\n",
            "+============+================+\n",
            "| Disease(0) |         0.3944 |\n",
            "+------------+----------------+\n",
            "| Disease(1) |         0.6056 |\n",
            "+------------+----------------+\n"
          ]
        }
      ],
      "source": [
        "# Define the structure of the medical network\n",
        "medical_model = BayesianNetwork([('Disease', 'Test Result'),\n",
        "                                 ('Disease', 'Symptoms')])\n",
        "\n",
        "# CPD for Disease\n",
        "cpd_disease = TabularCPD(\n",
        "    variable=\"Disease\",\n",
        "    variable_card=2,\n",
        "    values=[[0.99], # Healthy\n",
        "            [0.01]] # Sick\n",
        ")\n",
        "# CPD for Test Result, depending on Disease\n",
        "cpd_test_result = TabularCPD(\n",
        "    variable=\"Test Result\",\n",
        "    variable_card=2,\n",
        "    evidence=[\"Disease\"],\n",
        "    evidence_card=[2],\n",
        "    values=[[0.95, 0.05], # Negative: Healthy, Sick\n",
        "            [0.05, 0.95]] # Positive: Healthy, Sick\n",
        ")\n",
        "\n",
        "# CPD for Symptoms, depending on Disease\n",
        "cpd_symptoms = TabularCPD(\n",
        "    variable=\"Symptoms\",\n",
        "    variable_card=2,\n",
        "    evidence=[\"Disease\"],\n",
        "    evidence_card=[2],\n",
        "    values=[[0.9, 0.2], # Asymptom: Healthy, Sick\n",
        "            [0.1, 0.8]] # Symptoms: Healthy, Sick\n",
        ")\n",
        "\n",
        "# Add the CPDs to the model\n",
        "medical_model.add_cpds(cpd_disease, cpd_test_result, cpd_symptoms)\n",
        "\n",
        "# Validate the model\n",
        "medical_model.check_model()\n",
        "\n",
        "# Perform inference\n",
        "medical_infer = VariableElimination(medical_model)\n",
        "\n",
        "# Query: What is the probability of Disease given positive Test Result and Symptoms?\n",
        "result = medical_infer.query(variables=['Disease'], evidence={'Test Result': 1, 'Symptoms': 1})\n",
        "print(result)\n"
      ]
    },
    {
      "cell_type": "markdown",
      "metadata": {
        "id": "YgfzLbDUkDUf"
      },
      "source": [
        "\n",
        "## Q8. Weather and Traffic Problem\n",
        "\n",
        "### **(a)** Create a Bayesian Network with the following nodes:\n",
        "  - **Weather**: Whether the weather is good or bad (True/False)\n",
        "  - **Traffic**: Whether there is heavy traffic (True/False)\n",
        "  - **Late to Work**: Whether someone is late to work (True/False)\n",
        "\n",
        "### **(b)** Define relationships between the nodes:\n",
        "  - Bad weather increases the likelihood of heavy traffic.\n",
        "  - Heavy traffic increases the chance of being late to work.\n",
        "  - Good weather decreases the likelihood of being late due to traffic.\n",
        "\n",
        "### **(c)** Define the CPDs for all nodes:\n",
        "  - Assume the probability of bad weather is 30%.\n",
        "  - The probability of traffic is higher during bad weather (80%) than during good weather (20%).\n",
        "  - The probability of being late to work is 90% if there is traffic and only 30% if there is no traffic.\n",
        "\n",
        "### **(d)** Query the network:\n",
        "  - Compute the probability of being late to work given that the weather is bad."
      ]
    },
    {
      "cell_type": "code",
      "execution_count": 17,
      "metadata": {
        "colab": {
          "base_uri": "https://localhost:8080/"
        },
        "id": "bUFUkt5DkccT",
        "outputId": "bfadb6fb-d002-493f-8857-d766010d84d7"
      },
      "outputs": [
        {
          "name": "stdout",
          "output_type": "stream",
          "text": [
            "+-----------------+---------------------+\n",
            "| Late to Work    |   phi(Late to Work) |\n",
            "+=================+=====================+\n",
            "| Late to Work(0) |              0.5800 |\n",
            "+-----------------+---------------------+\n",
            "| Late to Work(1) |              0.4200 |\n",
            "+-----------------+---------------------+\n"
          ]
        }
      ],
      "source": [
        "# Define the structure of the weather-traffic network\n",
        "traffic_model = BayesianNetwork([('Weather', 'Traffic'),\n",
        "                                 ('Traffic', 'Late to Work')])\n",
        "\n",
        "# CPD for Weather\n",
        "cpd_weather = TabularCPD(\n",
        "    variable=\"Weather\",\n",
        "    variable_card=2,\n",
        "    values=[[0.7], # Good Weather\n",
        "            [0.3]] # Bad Weather\n",
        ")\n",
        "# CPD for Traffic, depending on Weather\n",
        "cpd_traffic = TabularCPD(\n",
        "    variable=\"Traffic\",\n",
        "    variable_card=2,\n",
        "    evidence=[\"Weather\"],\n",
        "    evidence_card=[2],\n",
        "    values=[[0.2, 0.8], # Clear: GoodWeather, BadWeather\n",
        "            [0.8, 0.2]] # Traffic: GoodWeather, BadWeather\n",
        ")\n",
        "# CPD for Late to Work, depending on Traffic\n",
        "cpd_late_to_work = TabularCPD(\n",
        "    variable=\"Late to Work\",\n",
        "    variable_card=2,\n",
        "    evidence=[\"Traffic\"],\n",
        "    evidence_card=[2],\n",
        "    values=[[0.7, 0.1], # Timely: Clear, Traffic\n",
        "            [0.3, 0.9]] # Late:  Clear, Trafic\n",
        ")\n",
        "\n",
        "# Add the CPDs to the model\n",
        "traffic_model.add_cpds(cpd_weather, cpd_traffic, cpd_late_to_work)\n",
        "\n",
        "# Validate the model\n",
        "traffic_model.check_model()\n",
        "\n",
        "# Perform inference\n",
        "traffic_infer = VariableElimination(traffic_model)\n",
        "\n",
        "# Query: What is the probability of being late given bad weather?\n",
        "result = traffic_infer.query(variables=['Late to Work'], evidence={'Weather': 1})\n",
        "print(result)\n"
      ]
    },
    {
      "cell_type": "markdown",
      "metadata": {
        "id": "5zHSt4QXkKTH"
      },
      "source": [
        "## Q9. Earthquake and Alarm System\n",
        "\n",
        "### **(a)** Create a Bayesian Network to model the following nodes:\n",
        "  - **Earthquake**: Whether there is an earthquake (True/False)\n",
        "  - **Burglary**: Whether there is a burglary (True/False)\n",
        "  - **Alarm**: Whether the alarm goes off (True/False)\n",
        "  - **Neighbor Calls**: Whether the neighbor calls the police (True/False)\n",
        "\n",
        "### **(b)** Define the relationships:\n",
        "  - Both an **Earthquake** and a **Burglary** can set off the alarm.\n",
        "  - The **Alarm** going off increases the chance of the **Neighbor Calling**.\n",
        "  \n",
        "### **(c)** Define the CPDs:\n",
        "  - The probability of an earthquake is 1%.\n",
        "  - The probability of a burglary is 2%.\n",
        "  - The probability of the alarm going off is higher if either an earthquake or burglary occurs.\n",
        "  - The neighbor calls the police 70% of the time if the alarm goes off.\n",
        "\n",
        "### **(d)** Query the network:\n",
        "  - Compute the probability that an **Earthquake** has occurred given that the **Neighbor Called**."
      ]
    },
    {
      "cell_type": "code",
      "execution_count": 18,
      "metadata": {
        "colab": {
          "base_uri": "https://localhost:8080/"
        },
        "id": "rT_q6Ju8kghE",
        "outputId": "9d5c3fc9-d5d1-44fc-b67e-987caac0e050"
      },
      "outputs": [
        {
          "name": "stdout",
          "output_type": "stream",
          "text": [
            "+---------------+-------------------+\n",
            "| Earthquake    |   phi(Earthquake) |\n",
            "+===============+===================+\n",
            "| Earthquake(0) |            0.7959 |\n",
            "+---------------+-------------------+\n",
            "| Earthquake(1) |            0.2041 |\n",
            "+---------------+-------------------+\n"
          ]
        }
      ],
      "source": [
        "# Define the structure of the earthquake-alarm network\n",
        "alarm_model = BayesianNetwork([('Earthquake', 'Alarm'),\n",
        "                               ('Burglary', 'Alarm'),\n",
        "                               ('Alarm', 'Neighbor Calls')])\n",
        "\n",
        "# CPD for Earthquake\n",
        "cpd_earthquake = TabularCPD(\n",
        "    variable=\"Earthquake\",\n",
        "    variable_card=2,\n",
        "    values=[[0.99], # Calm\n",
        "            [0.01]] # Quake\n",
        ")\n",
        "\n",
        "# CPD for Burglary\n",
        "cpd_burglary = TabularCPD(\n",
        "    variable=\"Burglary\",\n",
        "    variable_card=2,\n",
        "    values=[[0.98], # Safe\n",
        "            [0.02]] # Theft\n",
        ")\n",
        "\n",
        "# CPD for Alarm\n",
        "cpd_alarm = TabularCPD(\n",
        "    variable=\"Alarm\",\n",
        "    variable_card=2,\n",
        "    evidence=[\"Earthquake\", \"Burglary\"],\n",
        "    evidence_card=[2,2],\n",
        "    values=[[0.99, 0.1, 0.3, 0.01], # Quiet: Calm/Safe, Calm/Theft, Quake/Safe, Quake/Theft\n",
        "            [0.01, 0.9, 0.7, 0.99]] # Alarm: Calm/Safe, Calm/Theft, Quake/Safe, Quake/Theft\n",
        ")\n",
        "\n",
        "# CPD for Neighbor Calls\n",
        "cpd_neighbor = TabularCPD(\n",
        "    variable=\"Neighbor Calls\",\n",
        "    variable_card=2,\n",
        "    evidence=[\"Alarm\"],\n",
        "    evidence_card=[2],\n",
        "    values=[[1, 0.3], # NoCall: Quiet, Alarm\n",
        "            [0, 0.7]] # Calls: Quiet, Alarm\n",
        ")\n",
        "\n",
        "# Add the CPDs to the model\n",
        "alarm_model.add_cpds(cpd_earthquake, cpd_burglary, cpd_alarm, cpd_neighbor)\n",
        "\n",
        "# Validate the model\n",
        "alarm_model.check_model()\n",
        "\n",
        "# Perform inference\n",
        "alarm_infer = VariableElimination(alarm_model)\n",
        "\n",
        "# Query: What is the probability that an earthquake occurred given that the neighbor called?\n",
        "result = alarm_infer.query(variables=['Earthquake'], evidence={'Neighbor Calls': 1})\n",
        "print(result)\n"
      ]
    },
    {
      "cell_type": "markdown",
      "metadata": {
        "id": "8g0oSA4fc1-W"
      },
      "source": [
        "## Q10. Combining Two Small Networks\n",
        "\n",
        "### **(a)** Create two separate Bayesian Networks:\n",
        "  - **Network 1**: Models the **Weather** and **Traffic** relationship from **Q8**.\n",
        "  - **Network 2**: Models the **Earthquake** and **Alarm** relationship from **Q9**.\n",
        "\n",
        "### **(b)** Combine these two networks into a single Bayesian Network by introducing a new node **Reach Office on Time** that depends on whether someone is late due to traffic (from **Network 1**) and whether the alarm went off due to an earthquake or burglary (from **Network 2**).\n",
        "\n",
        "### **(c)** Define the new CPD for **Reach Office on Time**:\n",
        "  - The probability of reaching the office on time is reduced if the person is late due to traffic or if they were delayed by an alarm triggered by a burglary/earthquake.\n",
        "\n",
        "### **(d)** Query the network:\n",
        "  - Compute the probability of reaching the office on time given that there is **bad weather** and the **alarm went off**.\n",
        "\n"
      ]
    },
    {
      "cell_type": "code",
      "execution_count": 19,
      "metadata": {
        "colab": {
          "base_uri": "https://localhost:8080/"
        },
        "id": "l_anlfwDkwQf",
        "outputId": "15c7a498-f44c-45d3-bd12-e2ab47803baa"
      },
      "outputs": [
        {
          "name": "stdout",
          "output_type": "stream",
          "text": [
            "+-------------------------+-----------------------------+\n",
            "| Reach Office on Time    |   phi(Reach Office on Time) |\n",
            "+=========================+=============================+\n",
            "| Reach Office on Time(0) |                      0.7638 |\n",
            "+-------------------------+-----------------------------+\n",
            "| Reach Office on Time(1) |                      0.2362 |\n",
            "+-------------------------+-----------------------------+\n"
          ]
        }
      ],
      "source": [
        "# Create Network 1: Weather and Traffic\n",
        "network1 = traffic_model\n",
        "network1.check_model()\n",
        "\n",
        "# Create Network 2: Earthquake and Alarm\n",
        "network2 = alarm_model\n",
        "network2.check_model()\n",
        "\n",
        "# Combine Networks by adding a new node 'Reach Office on Time'\n",
        "combined_model = BayesianNetwork([('Weather', 'Traffic'),\n",
        "                                  ('Traffic', 'Late to Work'),\n",
        "                                  ('Earthquake', 'Alarm'),\n",
        "                                  ('Burglary', 'Alarm'),\n",
        "                                  ('Alarm', 'Neighbor Calls'),\n",
        "                                  (\"Late to Work\", \"Reach Office on Time\"),\n",
        "                                  (\"Alarm\", \"Reach Office on Time\")])\n",
        "\n",
        "# New CPD for Reach Office on Time depending on Late to Work and Alarm\n",
        "cpd_reach_office = TabularCPD(\n",
        "    variable=\"Reach Office on Time\",\n",
        "    variable_card=2,\n",
        "    evidence=[\"Late to Work\", \"Alarm\"],\n",
        "    evidence_card=[2,2],\n",
        "    values=[[0, 0.6, 0.95, 0.99], # Tardy:  NotLate/Quiet, NotLate/Alarm, Late/Quiet, Late/Alarm\n",
        "            [1, 0.4, 0.05, 0.01]] # Timely: NotLate/Quiet, NotLate/Alarm, Late/Quiet, Late/Alarm\n",
        ")\n",
        "\n",
        "# Add combined CPDs to the new model\n",
        "combined_model.add_cpds(cpd_weather, cpd_traffic, cpd_late_to_work, cpd_earthquake, cpd_burglary, cpd_alarm, cpd_neighbor, cpd_reach_office)\n",
        "\n",
        "# Validate the combined model\n",
        "combined_model.check_model()\n",
        "\n",
        "# Perform inference\n",
        "combined_infer = VariableElimination(combined_model)\n",
        "\n",
        "# Query: What is the probability of reaching the office on time given bad weather and the alarm went off?\n",
        "result_combined = combined_infer.query(variables=['Reach Office on Time'], evidence={'Weather': 1, 'Alarm': 1})\n",
        "print(result_combined)\n"
      ]
    }
  ],
  "metadata": {
    "colab": {
      "provenance": []
    },
    "kernelspec": {
      "display_name": "Python 3",
      "name": "python3"
    },
    "language_info": {
      "codemirror_mode": {
        "name": "ipython",
        "version": 3
      },
      "file_extension": ".py",
      "mimetype": "text/x-python",
      "name": "python",
      "nbconvert_exporter": "python",
      "pygments_lexer": "ipython3",
      "version": "3.10.12"
    }
  },
  "nbformat": 4,
  "nbformat_minor": 0
}
