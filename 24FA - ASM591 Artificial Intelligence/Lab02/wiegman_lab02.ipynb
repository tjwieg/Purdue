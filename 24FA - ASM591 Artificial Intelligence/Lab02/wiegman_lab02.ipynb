{
  "cells": [
    {
      "cell_type": "markdown",
      "metadata": {},
      "source": [
        "TJ Wiegman  \n",
        "ASM 591 AI  \n",
        "Lab 2  \n",
        "2024-09-11  "
      ]
    },
    {
      "cell_type": "markdown",
      "metadata": {
        "id": "tFdO3C4MFkM8"
      },
      "source": [
        "# The Quest for the Lost Treasure: Navigating Eldoria with Search Algorithms\n",
        "\n",
        "Welcome, adventurer! In this notebook, you will learn how to navigate through the treacherous lands of Eldoria using various search algorithms. Your goal is to find the **Lost Treasure** hidden deep within the **Cave of Mysteries**. Along the way, you will encounter various challenges, but fear not, as you will have powerful search algorithms at your disposal!\n",
        "\n",
        "## 1. Problem Formulation: Navigating Eldoria\n",
        "\n",
        "Before you set off on your quest, it's crucial to understand how to formulate the problem. Here’s how you can model the land of Eldoria:\n",
        "\n",
        "- **Initial State:** Your starting point, the village of **Aldoria** at the top-left corner of the grid.\n",
        "- **Goal State:** The **Cave of Mysteries** where the Lost Treasure is hidden, located at the bottom-right corner of the grid.\n",
        "- **State Space:** The grid representing Eldoria, where each cell can be a path (you can walk), an obstacle (you cannot walk), or a dangerous area (adds extra cost).\n",
        "- **Operators/Actions:** You can move up, down, left, or right to adjacent cells.\n",
        "- **Path Cost:** Each step has a uniform cost unless you enter a dangerous area, which increases the cost.\n",
        "\n",
        "Let’s now explore the tools you’ll use to find the Lost Treasure.\n"
      ]
    },
    {
      "cell_type": "code",
      "execution_count": 1,
      "metadata": {
        "id": "umjrUOD3Fm5w"
      },
      "outputs": [],
      "source": [
        "# Example setup of the land of Eldoria as a grid\n",
        "eldoria_grid = [\n",
        "    ['P', 'P', 'P', 'D', 'P'],\n",
        "    ['M', 'M', 'P', 'D', 'P'],\n",
        "    ['P', 'P', 'P', 'P', 'P'],\n",
        "    ['P', 'M', 'D', 'M', 'P'],\n",
        "    ['P', 'P', 'P', 'P', 'C']  # 'C' marks the Cave of Mysteries (goal)\n",
        "]\n",
        "\n",
        "# Legend:\n",
        "# 'P' = Path (can walk)\n",
        "# 'M' = Mountain (cannot walk)\n",
        "# 'D' = Dragon's Lair (dangerous area, higher cost)\n",
        "# 'C' = Cave of Mysteries (goal)\n"
      ]
    },
    {
      "cell_type": "markdown",
      "metadata": {
        "id": "LsHDC8JBIpyY"
      },
      "source": [
        "#For Loop: In Eldoria, you can move in four directions: up, down, left, and right. Here’s how you can use a `for` loop to iterate over these directions.\n"
      ]
    },
    {
      "cell_type": "code",
      "execution_count": 2,
      "metadata": {
        "colab": {
          "base_uri": "https://localhost:8080/"
        },
        "id": "IaVg_a3gImr_",
        "outputId": "2b0dc1c3-c8a5-4a32-e7cf-7a4b6e8f388f"
      },
      "outputs": [
        {
          "name": "stdout",
          "output_type": "stream",
          "text": [
            "Checking position (1, 2)\n",
            "Checking position (3, 2)\n",
            "Checking position (2, 1)\n",
            "Checking position (2, 3)\n"
          ]
        }
      ],
      "source": [
        "# Directions: (dx, dy)\n",
        "directions = [(-1, 0), (1, 0), (0, -1), (0, 1)]  # Up, Down, Left, Right\n",
        "\n",
        "# Current position\n",
        "x, y = 2, 2  # Middle of the grid\n",
        "\n",
        "# Explore all possible directions\n",
        "for dx, dy in directions:\n",
        "    nx, ny = x + dx, y + dy\n",
        "    print(f\"Checking position ({nx}, {ny})\")\n"
      ]
    },
    {
      "cell_type": "markdown",
      "metadata": {
        "id": "lvv-TrejIwFn"
      },
      "source": [
        "#If Statements: You can’t walk into mountains or out of the grid. Use `if` statements to check whether a move is valid.\n"
      ]
    },
    {
      "cell_type": "code",
      "execution_count": 3,
      "metadata": {
        "colab": {
          "base_uri": "https://localhost:8080/"
        },
        "id": "l_vm3bw_Ivsh",
        "outputId": "56ceb9da-6e6d-4e46-8e74-6b79c90d1054"
      },
      "outputs": [
        {
          "name": "stdout",
          "output_type": "stream",
          "text": [
            "Moving to (1, 2) is allowed\n",
            "Moving to (3, 2) is allowed\n",
            "Moving to (2, 1) is allowed\n",
            "Moving to (2, 3) is allowed\n"
          ]
        }
      ],
      "source": [
        "# Current position\n",
        "x, y = 2, 2\n",
        "\n",
        "# Check all directions\n",
        "for dx, dy in directions:\n",
        "    nx, ny = x + dx, y + dy\n",
        "    if 0 <= nx < len(eldoria_grid) and 0 <= ny < len(eldoria_grid[0]):\n",
        "        if eldoria_grid[nx][ny] != 'M':  # Check if it's not a mountain\n",
        "            print(f\"Moving to ({nx}, {ny}) is allowed\")\n",
        "        else:\n",
        "            print(f\"Cannot move to ({nx}, {ny}) - Mountain ahead!\")\n",
        "    else:\n",
        "        print(f\"Cannot move to ({nx}, {ny}) - Out of bounds!\")\n"
      ]
    },
    {
      "cell_type": "markdown",
      "metadata": {
        "id": "tGPfdNTuI8cZ"
      },
      "source": [
        "#While Loops:Let’s use a `while` loop to continue searching until you either find the treasure or run out of places to explore.\n"
      ]
    },
    {
      "cell_type": "code",
      "execution_count": 4,
      "metadata": {
        "colab": {
          "base_uri": "https://localhost:8080/"
        },
        "id": "HLEtKer4I7CV",
        "outputId": "f6e57728-9914-47f2-cafd-4e1141cf65bc"
      },
      "outputs": [
        {
          "name": "stdout",
          "output_type": "stream",
          "text": [
            "Found the Lost Treasure!\n"
          ]
        }
      ],
      "source": [
        "# Example: Simple exploration using while loop\n",
        "from collections import deque\n",
        "# Start position\n",
        "start = (0, 0)\n",
        "goal = (4, 4)\n",
        "queue = deque([start])\n",
        "visited = set()\n",
        "\n",
        "# While there are places to explore\n",
        "while queue:\n",
        "    current = queue.popleft()\n",
        "    x, y = current\n",
        "\n",
        "    # Check if we have reached the goal\n",
        "    if current == goal:\n",
        "        print(\"Found the Lost Treasure!\")\n",
        "        break\n",
        "\n",
        "    visited.add(current)\n",
        "\n",
        "    # Explore neighbors\n",
        "    for dx, dy in directions:\n",
        "        nx, ny = x + dx, y + dy\n",
        "        if (nx, ny) not in visited and 0 <= nx < len(eldoria_grid) and 0 <= ny < len(eldoria_grid[0]):\n",
        "            if eldoria_grid[nx][ny] != 'M':\n",
        "                queue.append((nx, ny))\n",
        "else:\n",
        "    print(\"Could not find the Lost Treasure...\")\n"
      ]
    },
    {
      "cell_type": "markdown",
      "metadata": {
        "id": "0_wUaldRF2ad"
      },
      "source": [
        "To help you navigate through Eldoria, you'll use various data structures:\n",
        "\n",
        "- **Queues:** To explore all possible paths level by level.\n",
        "- **Stacks:** To dive deep into unknown areas first.\n",
        "- **Priority Queues/Heaps:** To always choose the most promising path based on cost and heuristic.\n",
        "- **Sets:** To keep track of areas you’ve already explored.\n",
        "- **Dictionaries:** To remember your way back (in case you get lost).\n"
      ]
    },
    {
      "cell_type": "markdown",
      "metadata": {
        "id": "gvQlV3k1JpGi"
      },
      "source": [
        "#Queues: A **queue** is a data structure that follows the **First In, First Out (FIFO)** principle. Imagine a line of people waiting to get into a treasure vault. The first person in line is the first one to enter, and as more people join the line, they wait at the back.\n",
        "\n",
        "In search algorithms like Breadth-First Search (BFS), we use a queue to explore all possible paths at the current level before moving on to deeper levels. This ensures that we explore paths in the order of their proximity to the starting point.\n",
        "\n",
        "### Example: Using a Queue to Explore Eldoria\n"
      ]
    },
    {
      "cell_type": "code",
      "execution_count": 5,
      "metadata": {
        "colab": {
          "base_uri": "https://localhost:8080/"
        },
        "id": "1-05t7KlJsTP",
        "outputId": "5825fbf6-7d3a-45ad-85ee-6cf679aff385"
      },
      "outputs": [
        {
          "name": "stdout",
          "output_type": "stream",
          "text": [
            "Exploring position: (0, 0)\n",
            "Exploring position: (0, 1)\n",
            "Exploring position: (0, 2)\n",
            "Exploring position: (1, 2)\n",
            "Exploring position: (0, 3)\n",
            "Exploring position: (2, 2)\n",
            "Exploring position: (1, 3)\n",
            "Exploring position: (1, 3)\n",
            "Exploring position: (0, 4)\n",
            "Exploring position: (3, 2)\n",
            "Exploring position: (2, 1)\n",
            "Exploring position: (2, 3)\n",
            "Exploring position: (2, 3)\n",
            "Exploring position: (1, 4)\n",
            "Exploring position: (2, 3)\n",
            "Exploring position: (1, 4)\n",
            "Exploring position: (1, 4)\n",
            "Exploring position: (4, 2)\n",
            "Exploring position: (2, 0)\n",
            "Exploring position: (2, 4)\n",
            "Exploring position: (2, 4)\n",
            "Exploring position: (2, 4)\n",
            "Exploring position: (2, 4)\n",
            "Exploring position: (2, 4)\n",
            "Exploring position: (2, 4)\n",
            "Exploring position: (4, 1)\n",
            "Exploring position: (4, 3)\n",
            "Exploring position: (3, 0)\n",
            "Exploring position: (3, 4)\n",
            "Exploring position: (3, 4)\n",
            "Exploring position: (3, 4)\n",
            "Exploring position: (3, 4)\n",
            "Exploring position: (3, 4)\n",
            "Exploring position: (3, 4)\n",
            "Exploring position: (4, 0)\n",
            "Exploring position: (4, 4)\n",
            "Exploring position: (4, 0)\n",
            "Exploring position: (4, 4)\n",
            "Exploring position: (4, 4)\n",
            "Exploring position: (4, 4)\n",
            "Exploring position: (4, 4)\n",
            "Exploring position: (4, 4)\n",
            "Exploring position: (4, 4)\n"
          ]
        }
      ],
      "source": [
        "from collections import deque\n",
        "\n",
        "# Initialize a queue with the starting position (0, 0)\n",
        "queue = deque([(0, 0)])  # Start at Aldoria\n",
        "visited = set()  # Keep track of visited positions\n",
        "\n",
        "while queue:\n",
        "    current_position = queue.popleft()  # Get the position at the front of the queue\n",
        "    x, y = current_position\n",
        "    visited.add(current_position)  # Mark this position as visited\n",
        "\n",
        "    print(f\"Exploring position: {current_position}\")\n",
        "\n",
        "    # Explore the neighbors of the current position\n",
        "    directions = [(-1, 0), (1, 0), (0, -1), (0, 1)]  # Up, Down, Left, Right\n",
        "    for dx, dy in directions:\n",
        "        nx, ny = x + dx, y + dy\n",
        "        neighbor_position = (nx, ny)\n",
        "\n",
        "        if (0 <= nx < len(eldoria_grid) and 0 <= ny < len(eldoria_grid[0]) and\n",
        "            neighbor_position not in visited and eldoria_grid[nx][ny] != 'M'):\n",
        "            queue.append(neighbor_position)  # Add valid neighbors to the back of the queue\n"
      ]
    },
    {
      "cell_type": "markdown",
      "metadata": {
        "id": "ai25EjRUJw-P"
      },
      "source": [
        "### Key Points:\n",
        "- **popleft()** removes and returns the first element in the queue, representing the next position to explore.\n",
        "- **append()** adds elements to the end of the queue, representing new positions to explore in the future.\n",
        "- This structure ensures that we explore positions in the order they were discovered, which is ideal for finding the shortest path in unweighted scenarios.\n"
      ]
    },
    {
      "cell_type": "markdown",
      "metadata": {
        "id": "aWDdJ0O1JzW6"
      },
      "source": [
        "#Stacks: A **stack** is a data structure that follows the **Last In, First Out (LIFO)** principle. Imagine a stack of books where you can only take the top book off first. The last book you put on the stack is the first one you take off.\n",
        "\n",
        "In search algorithms like Depth-First Search (DFS), we use a stack to dive deep into one path before backtracking and trying another. This approach is useful when you want to explore as far as possible along a path before considering alternatives.\n",
        "\n",
        "### Example: Using a Stack to Explore Eldoria\n"
      ]
    },
    {
      "cell_type": "code",
      "execution_count": 6,
      "metadata": {
        "colab": {
          "base_uri": "https://localhost:8080/"
        },
        "id": "xAWAwhHbJ2Oy",
        "outputId": "2196c241-95b3-4a2a-c97c-c4a514f9650a"
      },
      "outputs": [
        {
          "name": "stdout",
          "output_type": "stream",
          "text": [
            "Diving into position: (0, 0)\n",
            "Diving into position: (0, 1)\n",
            "Diving into position: (0, 2)\n",
            "Diving into position: (0, 3)\n",
            "Diving into position: (0, 4)\n",
            "Diving into position: (1, 4)\n",
            "Diving into position: (1, 3)\n",
            "Diving into position: (1, 2)\n",
            "Diving into position: (2, 2)\n",
            "Diving into position: (2, 3)\n",
            "Diving into position: (2, 4)\n",
            "Diving into position: (3, 4)\n",
            "Diving into position: (4, 4)\n",
            "Diving into position: (4, 3)\n",
            "Diving into position: (4, 2)\n",
            "Diving into position: (4, 1)\n",
            "Diving into position: (4, 0)\n",
            "Diving into position: (3, 0)\n",
            "Diving into position: (2, 0)\n",
            "Diving into position: (2, 1)\n",
            "Diving into position: (3, 2)\n",
            "Diving into position: (2, 1)\n",
            "Diving into position: (3, 2)\n",
            "Diving into position: (2, 3)\n",
            "Diving into position: (2, 4)\n",
            "Diving into position: (1, 3)\n",
            "Diving into position: (1, 2)\n"
          ]
        }
      ],
      "source": [
        "# Initialize a stack with the starting position (0, 0)\n",
        "stack = [(0, 0)]  # Start at Aldoria\n",
        "visited_stack = set()  # Keep track of visited positions\n",
        "\n",
        "while stack:\n",
        "    current_position = stack.pop()  # Get the position at the top of the stack\n",
        "    x, y = current_position\n",
        "    visited_stack.add(current_position)  # Mark this position as visited\n",
        "\n",
        "    print(f\"Diving into position: {current_position}\")\n",
        "\n",
        "    # Explore the neighbors of the current position\n",
        "    directions = [(-1, 0), (1, 0), (0, -1), (0, 1)]  # Up, Down, Left, Right\n",
        "    for dx, dy in directions:\n",
        "        nx, ny = x + dx, y + dy\n",
        "        neighbor_position = (nx, ny)\n",
        "\n",
        "        if (0 <= nx < len(eldoria_grid) and 0 <= ny < len(eldoria_grid[0]) and\n",
        "            neighbor_position not in visited_stack and eldoria_grid[nx][ny] != 'M'):\n",
        "            stack.append(neighbor_position)  # Add valid neighbors to the top of the stack\n"
      ]
    },
    {
      "cell_type": "markdown",
      "metadata": {
        "id": "DFaDuSobJ9bd"
      },
      "source": [
        "### Key Points:\n",
        "- **pop()** removes and returns the last element in the stack, representing the next position to explore.\n",
        "- **append()** adds elements to the top of the stack, representing new positions to explore immediately.\n",
        "- This structure leads to exploring one path as deeply as possible before backtracking, which can be efficient in specific scenarios.\n"
      ]
    },
    {
      "cell_type": "markdown",
      "metadata": {
        "id": "bjJBFFMNmM9S"
      },
      "source": [
        "#Priority Queue: A **priority queue** is a data structure where each element has a priority, and elements with higher priority are processed before those with lower priority. In Python, we often implement priority queues using a **heap**. A heap is a binary tree that maintains the heap property: the parent node is always less than or equal to its child nodes, making it easy to retrieve the smallest element.\n",
        "\n",
        "In search algorithms like A* and Best-First Search, we use a priority queue to always explore the most promising path first, based on a combination of cost and heuristic.\n",
        "\n",
        "### Example: Using a Priority Queue to Explore Eldoria"
      ]
    },
    {
      "cell_type": "code",
      "execution_count": 7,
      "metadata": {
        "colab": {
          "base_uri": "https://localhost:8080/"
        },
        "id": "oCj9ESbDKEHq",
        "outputId": "75216071-ee7a-4494-f755-44ff9ffd6b92"
      },
      "outputs": [
        {
          "name": "stdout",
          "output_type": "stream",
          "text": [
            "Exploring position with priority 0: (0, 0)\n",
            "Exploring position with priority 1: (0, 1)\n",
            "Exploring position with priority 2: (0, 2)\n",
            "Exploring position with priority 3: (0, 3)\n",
            "Exploring position with priority 3: (1, 2)\n",
            "Exploring position with priority 4: (0, 4)\n",
            "Exploring position with priority 4: (1, 3)\n",
            "Exploring position with priority 4: (1, 3)\n",
            "Exploring position with priority 4: (2, 2)\n",
            "Exploring position with priority 5: (1, 4)\n",
            "Exploring position with priority 5: (1, 4)\n",
            "Exploring position with priority 5: (1, 4)\n",
            "Exploring position with priority 5: (2, 1)\n",
            "Exploring position with priority 5: (2, 3)\n",
            "Exploring position with priority 5: (2, 3)\n",
            "Exploring position with priority 5: (2, 3)\n",
            "Exploring position with priority 5: (3, 2)\n",
            "Exploring position with priority 6: (2, 0)\n",
            "Exploring position with priority 6: (2, 4)\n",
            "Exploring position with priority 6: (2, 4)\n",
            "Exploring position with priority 6: (2, 4)\n",
            "Exploring position with priority 6: (2, 4)\n",
            "Exploring position with priority 6: (2, 4)\n",
            "Exploring position with priority 6: (2, 4)\n",
            "Exploring position with priority 6: (4, 2)\n",
            "Exploring position with priority 7: (3, 0)\n",
            "Exploring position with priority 7: (3, 4)\n",
            "Exploring position with priority 7: (3, 4)\n",
            "Exploring position with priority 7: (3, 4)\n",
            "Exploring position with priority 7: (3, 4)\n",
            "Exploring position with priority 7: (3, 4)\n",
            "Exploring position with priority 7: (3, 4)\n",
            "Exploring position with priority 7: (4, 1)\n",
            "Exploring position with priority 7: (4, 3)\n",
            "Exploring position with priority 8: (4, 0)\n",
            "Exploring position with priority 8: (4, 0)\n",
            "Exploring position with priority 8: (4, 4)\n",
            "Exploring position with priority 8: (4, 4)\n",
            "Exploring position with priority 8: (4, 4)\n",
            "Exploring position with priority 8: (4, 4)\n",
            "Exploring position with priority 8: (4, 4)\n",
            "Exploring position with priority 8: (4, 4)\n",
            "Exploring position with priority 8: (4, 4)\n"
          ]
        }
      ],
      "source": [
        "import heapq\n",
        "\n",
        "# Initialize a priority queue with the starting position (0, 0) and priority 0\n",
        "priority_queue = []\n",
        "heapq.heappush(priority_queue, (0, (0, 0)))  # (priority, position)\n",
        "visited_pq = set()  # Keep track of visited positions\n",
        "\n",
        "while priority_queue:\n",
        "    current_priority, current_position = heapq.heappop(priority_queue)  # Get the position with the highest priority\n",
        "    x, y = current_position\n",
        "    visited_pq.add(current_position)  # Mark this position as visited\n",
        "\n",
        "    print(f\"Exploring position with priority {current_priority}: {current_position}\")\n",
        "\n",
        "    # Explore the neighbors of the current position\n",
        "    directions = [(-1, 0), (1, 0), (0, -1), (0, 1)]  # Up, Down, Left, Right\n",
        "    for dx, dy in directions:\n",
        "        nx, ny = x + dx, y + dy\n",
        "        neighbor_position = (nx, ny)\n",
        "\n",
        "        if (0 <= nx < len(eldoria_grid) and 0 <= ny < len(eldoria_grid[0]) and\n",
        "            neighbor_position not in visited_pq and eldoria_grid[nx][ny] != 'M'):\n",
        "            new_priority = current_priority + 1  # Example: priority is the path cost\n",
        "            heapq.heappush(priority_queue, (new_priority, neighbor_position))  # Add neighbor with new priority\n"
      ]
    },
    {
      "cell_type": "markdown",
      "metadata": {
        "id": "cqWtI5-NKGIA"
      },
      "source": [
        "### Key Points:\n",
        "- **heappop()** removes and returns the element with the highest priority (smallest value) from the priority queue.\n",
        "- **heappush()** adds an element to the priority queue with a specific priority, which determines the order of exploration.\n",
        "- This structure allows for more informed exploration, making it ideal for finding the shortest path when path costs vary.\n",
        "\n"
      ]
    },
    {
      "cell_type": "markdown",
      "metadata": {
        "id": "1tlZZhaTKkIP"
      },
      "source": [
        "Now that you’ve seen how queues, stacks, and priority queues work, let’s summarize the key differences and how they affect search algorithms:\n",
        "\n",
        "| **Structure**    | **Principle**                  | **Search Algorithm**     | **Use Case**                                     | **Advantages**                                             | **Disadvantages**                                         |\n",
        "|------------------|--------------------------------|--------------------------|--------------------------------------------------|------------------------------------------------------------|-----------------------------------------------------------|\n",
        "| **Queue**        | First In, First Out (FIFO)     | Breadth-First Search (BFS)| Exploring all paths at the same level            | Guarantees the shortest path in terms of steps (unweighted) | Can be memory-intensive due to large frontier              |\n",
        "| **Stack**        | Last In, First Out (LIFO)      | Depth-First Search (DFS)  | Exploring as deep as possible before backtracking| Requires less memory, can find solutions quickly            | Might not find the shortest path, can get stuck in deep paths |\n",
        "| **Priority Queue**| Elements prioritized by cost  | A*, Best-First Search     | Exploring the most promising paths first         | Finds optimal path when using appropriate heuristics        | Requires careful heuristic design, more complex to implement |\n",
        "\n",
        "### Key Takeaways:\n",
        "1. **Queues** (used in BFS) are ideal when you want to explore paths in an orderly fashion, ensuring that you find the shortest unweighted path.\n",
        "2. **Stacks** (used in DFS) are useful when deep exploration is needed, though they may not always find the most optimal path.\n",
        "3. **Priority Queues** (used in A* and Best-First Search) provide the best of both worlds by considering both path cost and heuristic, making them powerful tools for finding optimal paths in weighted scenarios.\n"
      ]
    },
    {
      "cell_type": "code",
      "execution_count": 8,
      "metadata": {
        "id": "RHuIJvXKF4DA"
      },
      "outputs": [],
      "source": [
        "from collections import deque\n",
        "import heapq\n",
        "\n",
        "# Queue implementation for exploring paths level by level\n",
        "queue = deque()\n",
        "queue.append((0, 0))  # Start at Aldoria (0, 0)\n",
        "visited = set()\n",
        "\n",
        "# Stack implementation for diving deep into unknown paths\n",
        "stack = []\n",
        "stack.append((0, 0))  # Start at Aldoria (0, 0)\n",
        "visited_stack = set()\n",
        "\n",
        "# Priority queue for choosing the best path\n",
        "priority_queue = []\n",
        "heapq.heappush(priority_queue, (0, (0, 0)))  # (cost, position)\n",
        "visited_pq = set()\n"
      ]
    },
    {
      "cell_type": "markdown",
      "metadata": {
        "id": "u-ycI5sSF8nW"
      },
      "source": [
        "### Implementing BFS to Find the Lost Treasure\n",
        "\n",
        "Breadth-First Search (BFS) explores all possible paths level by level, ensuring you find the shortest path to the Cave of Mysteries (if one exists). Let’s implement BFS to help you find the Lost Treasure!\n"
      ]
    },
    {
      "cell_type": "code",
      "execution_count": 9,
      "metadata": {
        "colab": {
          "base_uri": "https://localhost:8080/"
        },
        "id": "mP2rHPp2F9qS",
        "outputId": "f49c6cc1-a5b7-4e64-fa5d-ac83988aeca4"
      },
      "outputs": [
        {
          "name": "stdout",
          "output_type": "stream",
          "text": [
            "Path to the Lost Treasure: [(0, 0), (0, 1), (0, 2), (1, 2), (2, 2), (3, 2), (4, 2), (4, 3), (4, 4)]\n"
          ]
        }
      ],
      "source": [
        "from collections import deque\n",
        "\n",
        "def bfs(start, goal, grid):\n",
        "    queue = deque([start])\n",
        "    visited = set()\n",
        "    parent = {}\n",
        "\n",
        "    visited.add(start)\n",
        "    parent[start] = None\n",
        "\n",
        "    while queue:\n",
        "        current = queue.popleft()\n",
        "\n",
        "        if current == goal:\n",
        "            return reconstruct_path(parent, start, goal)\n",
        "\n",
        "        for neighbor in get_neighbors(current, grid):\n",
        "            if neighbor not in visited:\n",
        "                visited.add(neighbor)\n",
        "                parent[neighbor] = current\n",
        "                queue.append(neighbor)\n",
        "\n",
        "    return None  # If no path is found\n",
        "\n",
        "def get_neighbors(pos, grid):\n",
        "    neighbors = []\n",
        "    x, y = pos\n",
        "    directions = [(-1, 0), (1, 0), (0, -1), (0, 1)]\n",
        "    for dx, dy in directions:\n",
        "        nx, ny = x + dx, y + dy\n",
        "        if 0 <= nx < len(grid) and 0 <= ny < len(grid[0]):\n",
        "            if grid[nx][ny] != 'M':  # Can't walk on mountains\n",
        "                neighbors.append((nx, ny))\n",
        "    return neighbors\n",
        "\n",
        "def reconstruct_path(parent, start, goal):\n",
        "    path = []\n",
        "    current = goal\n",
        "    while current is not None:\n",
        "        path.append(current)\n",
        "        current = parent[current]\n",
        "    path.reverse()\n",
        "    return path\n",
        "\n",
        "# Test BFS to find the Lost Treasure\n",
        "start = (0, 0)  # Aldoria\n",
        "goal = (4, 4)   # Cave of Mysteries\n",
        "path = bfs(start, goal, eldoria_grid)\n",
        "print(\"Path to the Lost Treasure:\", path)\n"
      ]
    },
    {
      "cell_type": "markdown",
      "metadata": {
        "id": "t1NvdwFgGBfV"
      },
      "source": [
        "### Implementing A* Search to Avoid Danger\n",
        "\n",
        "A* Search combines the advantages of BFS with a heuristic to avoid dangerous areas (like the Dragon's Lair) while searching for the Lost Treasure. This algorithm will help you find a safe and efficient path.\n"
      ]
    },
    {
      "cell_type": "code",
      "execution_count": 10,
      "metadata": {
        "colab": {
          "base_uri": "https://localhost:8080/"
        },
        "id": "sdI3zWXEGA8R",
        "outputId": "78c5361e-614d-4e78-ba36-e029963d4552"
      },
      "outputs": [
        {
          "name": "stdout",
          "output_type": "stream",
          "text": [
            "Safe path to the Lost Treasure: [(0, 0), (0, 1), (0, 2), (1, 2), (2, 2), (2, 3), (2, 4), (3, 4), (4, 4)]\n"
          ]
        }
      ],
      "source": [
        "import heapq\n",
        "\n",
        "def a_star(start, goal, grid, heuristic):\n",
        "    priority_queue = []\n",
        "    heapq.heappush(priority_queue, (0, start))\n",
        "    g_costs = {start: 0}\n",
        "    parent = {start: None}\n",
        "\n",
        "    while priority_queue:\n",
        "        _, current = heapq.heappop(priority_queue)\n",
        "\n",
        "        if current == goal:\n",
        "            return reconstruct_path(parent, start, goal)\n",
        "\n",
        "        for neighbor in get_neighbors(current, grid):\n",
        "            tentative_g_cost = g_costs[current] + get_cost(neighbor, grid)\n",
        "            if neighbor not in g_costs or tentative_g_cost < g_costs[neighbor]:\n",
        "                g_costs[neighbor] = tentative_g_cost\n",
        "                f_cost = tentative_g_cost + heuristic(neighbor, goal)\n",
        "                heapq.heappush(priority_queue, (f_cost, neighbor))\n",
        "                parent[neighbor] = current\n",
        "\n",
        "    return None  # If no path is found\n",
        "\n",
        "def get_cost(pos, grid):\n",
        "    x, y = pos\n",
        "    if grid[x][y] == 'D':\n",
        "        return 5  # High cost to enter Dragon's Lair\n",
        "    return 1  # Normal cost\n",
        "\n",
        "def heuristic(node, goal):\n",
        "    # Example heuristic: Manhattan distance\n",
        "    return abs(node[0] - goal[0]) + abs(node[1] - goal[1])\n",
        "\n",
        "# Test A* to find a safe path to the Lost Treasure\n",
        "path = a_star(start, goal, eldoria_grid, heuristic)\n",
        "print(\"Safe path to the Lost Treasure:\", path)\n"
      ]
    },
    {
      "cell_type": "markdown",
      "metadata": {
        "id": "_KhsiSiUGRZ1"
      },
      "source": [
        "#Problem Sets"
      ]
    },
    {
      "cell_type": "markdown",
      "metadata": {
        "id": "6MM8Bj5BGVTM"
      },
      "source": [
        "## Problem 1: Dive Deep with Depth-First Search (DFS)\n",
        "\n",
        "You need to explore a dangerous cave network. Use DFS to help you dive deep into the cave and find the Lost Treasure!\n",
        "\n",
        "### Instructions:\n",
        "- Complete the DFS function to search for the treasure.\n",
        "- The function should return the path from the start to the goal.\n"
      ]
    },
    {
      "cell_type": "code",
      "execution_count": 11,
      "metadata": {
        "colab": {
          "base_uri": "https://localhost:8080/",
          "height": 128
        },
        "id": "P8vuoD2aGY0J",
        "outputId": "91e245cf-4945-4b7a-e68b-254e0986e1fa"
      },
      "outputs": [
        {
          "name": "stdout",
          "output_type": "stream",
          "text": [
            "DFS Path to the Lost Treasure: [(0, 0), (0, 1), (0, 2), (0, 3), (0, 4), (1, 4), (2, 4), (2, 3), (2, 2), (2, 1), (2, 0), (3, 0), (4, 0), (4, 1), (4, 2), (4, 3), (4, 4)]\n"
          ]
        }
      ],
      "source": [
        "def dfs(start, goal, grid):\n",
        "    stack = [start]\n",
        "    visited = set()\n",
        "    parent = {}\n",
        "\n",
        "    visited.add(start)\n",
        "    parent[start] = None\n",
        "\n",
        "    while stack:\n",
        "        current = stack.pop()\n",
        "\n",
        "        if current == goal:\n",
        "            return reconstruct_path(parent, start, goal)\n",
        "\n",
        "        for neighbor in get_neighbors(current, grid):\n",
        "            if neighbor not in visited:\n",
        "                parent[neighbor] = current\n",
        "                stack.append(neighbor)\n",
        "                visited.add(neighbor)\n",
        "\n",
        "    return None  # If no path is found\n",
        "\n",
        "# Test DFS to find the Lost Treasure\n",
        "path = dfs(start, goal, eldoria_grid)\n",
        "print(\"DFS Path to the Lost Treasure:\", path)\n"
      ]
    },
    {
      "cell_type": "markdown",
      "metadata": {
        "id": "yr5a149XGets"
      },
      "source": [
        "## Problem 2: Lead with Caution using Best-First Search\n",
        "\n",
        "The path to the treasure is filled with traps! Implement Best-First Search, where you only consider the heuristic to avoid danger.\n",
        "\n",
        "### Instructions:\n",
        "- Complete the Best-First Search function using a heuristic.\n",
        "- The function should return the safest path to the treasure.\n"
      ]
    },
    {
      "cell_type": "code",
      "execution_count": 12,
      "metadata": {
        "id": "_C81AgDTGiz8"
      },
      "outputs": [
        {
          "name": "stdout",
          "output_type": "stream",
          "text": [
            "Best-First Search Path to the Lost Treasure: [(0, 0), (0, 1), (0, 2), (0, 3), (0, 4), (1, 4), (2, 4), (3, 4), (4, 4)]\n"
          ]
        }
      ],
      "source": [
        "def best_first_search(start, goal, grid, heuristic):\n",
        "    priority_queue = []\n",
        "    heapq.heappush(priority_queue, (0, start))\n",
        "    parent = {start: None}\n",
        "    visited = set()\n",
        "    visited.add(start)\n",
        "\n",
        "    while priority_queue:\n",
        "        _, current = heapq.heappop(priority_queue)\n",
        "\n",
        "        if current == goal:\n",
        "            return reconstruct_path(parent, start, goal)\n",
        "\n",
        "        for neighbor in get_neighbors(current, grid):\n",
        "            if neighbor not in visited:\n",
        "                parent[neighbor] = current\n",
        "                visited.add(neighbor)\n",
        "                \n",
        "                # Because I didn't realize we were GIVEN a heur function ...\n",
        "                # xx, yy = neighbor\n",
        "                # pos = eldoria_grid[xx][yy]\n",
        "                # if pos == 'C': weight = 0   #cave is best\n",
        "                # elif pos == 'P': weight = 1 #paths are safe\n",
        "                # elif pos == 'D': weight = 2 #dragons are less safe\n",
        "                # else: weight = 8 #mountains are impassible\n",
        "                # ..........................................................\n",
        "\n",
        "                weight = heuristic(neighbor, goal)\n",
        "                heapq.heappush(priority_queue, (weight, neighbor))\n",
        "        \n",
        "    return None  # If no path is found\n",
        "\n",
        "# Test Best-First Search to find a safe path to the Lost Treasure\n",
        "path = best_first_search(start, goal, eldoria_grid, heuristic)\n",
        "print(\"Best-First Search Path to the Lost Treasure:\", path)\n"
      ]
    },
    {
      "cell_type": "markdown",
      "metadata": {
        "id": "yTGiutceG0jd"
      },
      "source": [
        "## Problem 3: Compare Breadth-First Search and Depth-First Search\n",
        "\n",
        "Sometimes, you need to weigh the benefits of different strategies. Compare the paths found by BFS and DFS to see which one leads you to the treasure faster.\n",
        "\n",
        "### Instructions:\n",
        "- Implement a function that compares the paths and their costs.\n",
        "- Print the paths and costs for BFS and DFS.\n"
      ]
    },
    {
      "cell_type": "code",
      "execution_count": 13,
      "metadata": {
        "id": "NjWOOQhpGy9j"
      },
      "outputs": [
        {
          "name": "stdout",
          "output_type": "stream",
          "text": [
            "BFS Path: [(0, 0), (0, 1), (0, 2), (1, 2), (2, 2), (3, 2), (4, 2), (4, 3), (4, 4)]\n",
            "DFS Path: [(0, 0), (0, 1), (0, 2), (0, 3), (0, 4), (1, 4), (2, 4), (2, 3), (2, 2), (2, 1), (2, 0), (3, 0), (4, 0), (4, 1), (4, 2), (4, 3), (4, 4)]\n",
            "\n",
            "BFS Path Cost: 9\n",
            "DFS Path Cost: 17\n"
          ]
        }
      ],
      "source": [
        "def compare_bfs_dfs(start, goal, grid):\n",
        "    bfs_path = bfs(start, goal, grid)\n",
        "    dfs_path = dfs(start, goal, grid)\n",
        "\n",
        "    print(f\"BFS Path: {bfs_path}\")\n",
        "    print(f\"DFS Path: {dfs_path}\", end=\"\\n\\n\")\n",
        "\n",
        "    # assuming cost equals number of nodes on path\n",
        "    print(f\"BFS Path Cost: {len(bfs_path)}\")\n",
        "    print(f\"DFS Path Cost: {len(dfs_path)}\")\n",
        "\n",
        "# Compare BFS and DFS paths and costs\n",
        "compare_bfs_dfs(start, goal, eldoria_grid)\n"
      ]
    },
    {
      "cell_type": "markdown",
      "metadata": {
        "id": "ayapk0OVG74S"
      },
      "source": [
        "## Problem 4: Improve A* with Euclidean Distance\n",
        "\n",
        "The landscape of Eldoria is vast. Modify A* to use Euclidean distance as the heuristic, making your path more direct and efficient.\n",
        "\n",
        "### Instructions:\n",
        "- Implement the Euclidean distance heuristic.\n",
        "- Use it in the A* search function to find the treasure.\n"
      ]
    },
    {
      "cell_type": "code",
      "execution_count": 14,
      "metadata": {
        "colab": {
          "base_uri": "https://localhost:8080/"
        },
        "id": "wydmWe-uG8yu",
        "outputId": "42d36710-a47c-4711-d1e9-69fe795eb64d"
      },
      "outputs": [
        {
          "name": "stdout",
          "output_type": "stream",
          "text": [
            "A* Path with Euclidean Heuristic to the Lost Treasure: [(0, 0), (0, 1), (0, 2), (1, 2), (2, 2), (2, 3), (2, 4), (3, 4), (4, 4)]\n"
          ]
        }
      ],
      "source": [
        "import math\n",
        "\n",
        "def euclidean_heuristic(node, goal):\n",
        "    x0,y0 = node\n",
        "    x1,y1 = goal\n",
        "    def sq(a): return a*a\n",
        "    return math.sqrt(sq(x1-x0) + sq(y1-y0))\n",
        "\n",
        "# Test A* with Euclidean heuristic to find the Lost Treasure\n",
        "path = a_star(start, goal, eldoria_grid, euclidean_heuristic)\n",
        "print(\"A* Path with Euclidean Heuristic to the Lost Treasure:\", path)\n"
      ]
    },
    {
      "cell_type": "markdown",
      "metadata": {
        "id": "RVjnXT2EHJtJ"
      },
      "source": [
        "Answers"
      ]
    },
    {
      "cell_type": "markdown",
      "metadata": {
        "id": "KHW0RVciHVDX"
      },
      "source": [
        "## Problem 1 Solution: Depth-First Search (DFS)\n",
        "\n",
        "DFS dives deep into the cave network first, exploring as far as possible before backtracking. Here’s the completed implementation.\n"
      ]
    },
    {
      "cell_type": "code",
      "execution_count": 15,
      "metadata": {
        "id": "_kBehFVJHLBO"
      },
      "outputs": [
        {
          "name": "stdout",
          "output_type": "stream",
          "text": [
            "DFS Path to the Lost Treasure: [(0, 0), (0, 1), (0, 2), (0, 3), (0, 4), (1, 4), (2, 4), (2, 3), (2, 2), (2, 1), (2, 0), (3, 0), (4, 0), (4, 1), (4, 2), (4, 3), (4, 4)]\n"
          ]
        }
      ],
      "source": [
        "def dfs(start, goal, grid):\n",
        "    stack = [start]\n",
        "    visited = set()\n",
        "    parent = {}\n",
        "\n",
        "    visited.add(start)\n",
        "    parent[start] = None\n",
        "\n",
        "    while stack:\n",
        "        current = stack.pop()\n",
        "\n",
        "        if current == goal:\n",
        "            return reconstruct_path(parent, start, goal)\n",
        "\n",
        "        for neighbor in get_neighbors(current, grid):\n",
        "            if neighbor not in visited:\n",
        "                visited.add(neighbor)\n",
        "                parent[neighbor] = current\n",
        "                stack.append(neighbor)\n",
        "\n",
        "    return None  # If no path is found\n",
        "\n",
        "# Test DFS to find the Lost Treasure\n",
        "path = dfs((0, 0), (4, 4), eldoria_grid)\n",
        "print(\"DFS Path to the Lost Treasure:\", path)\n"
      ]
    },
    {
      "cell_type": "markdown",
      "metadata": {
        "id": "sps6QZCoHZLb"
      },
      "source": [
        "## Problem 2 Solution: Best-First Search\n",
        "\n",
        "Best-First Search uses the heuristic alone to guide the search, trying to lead you directly to the treasure.\n"
      ]
    },
    {
      "cell_type": "code",
      "execution_count": 16,
      "metadata": {
        "id": "cK9zrkJFHYte"
      },
      "outputs": [
        {
          "name": "stdout",
          "output_type": "stream",
          "text": [
            "Best-First Search Path to the Lost Treasure: [(0, 0), (0, 1), (0, 2), (0, 3), (0, 4), (1, 4), (2, 4), (3, 4), (4, 4)]\n"
          ]
        }
      ],
      "source": [
        "def best_first_search(start, goal, grid, heuristic):\n",
        "    priority_queue = []\n",
        "    heapq.heappush(priority_queue, (0, start))\n",
        "    parent = {start: None}\n",
        "    visited = set()\n",
        "    visited.add(start) # otherwise reconstruct_path gets stuck in a loop :)\n",
        "\n",
        "    while priority_queue:\n",
        "        _, current = heapq.heappop(priority_queue)\n",
        "\n",
        "        if current == goal:\n",
        "            return reconstruct_path(parent, start, goal)\n",
        "\n",
        "        for neighbor in get_neighbors(current, grid):\n",
        "            if neighbor not in visited:\n",
        "                visited.add(neighbor)\n",
        "                f_cost = heuristic(neighbor, goal)\n",
        "                heapq.heappush(priority_queue, (f_cost, neighbor))\n",
        "                parent[neighbor] = current\n",
        "\n",
        "    return None  # If no path is found\n",
        "\n",
        "# Test Best-First Search to find a safe path to the Lost Treasure\n",
        "path = best_first_search((0, 0), (4, 4), eldoria_grid, heuristic)\n",
        "print(\"Best-First Search Path to the Lost Treasure:\", path)\n"
      ]
    },
    {
      "cell_type": "markdown",
      "metadata": {
        "id": "Xl6vE729HdFk"
      },
      "source": [
        "## Problem 3 Solution: Compare BFS and DFS\n",
        "\n",
        "This solution compares the paths and costs between BFS and DFS. BFS typically finds the shortest path in terms of the number of steps, while DFS might find a path quicker but not necessarily the shortest.\n"
      ]
    },
    {
      "cell_type": "code",
      "execution_count": 17,
      "metadata": {
        "id": "wEvQpRCqHfQA"
      },
      "outputs": [
        {
          "name": "stdout",
          "output_type": "stream",
          "text": [
            "BFS Path: [(0, 0), (0, 1), (0, 2), (1, 2), (2, 2), (3, 2), (4, 2), (4, 3), (4, 4)]\n",
            "DFS Path: [(0, 0), (0, 1), (0, 2), (0, 3), (0, 4), (1, 4), (2, 4), (2, 3), (2, 2), (2, 1), (2, 0), (3, 0), (4, 0), (4, 1), (4, 2), (4, 3), (4, 4)]\n",
            "BFS Path Cost: 8\n",
            "DFS Path Cost: 16\n"
          ]
        }
      ],
      "source": [
        "def compare_bfs_dfs(start, goal, grid):\n",
        "    bfs_path = bfs(start, goal, grid)\n",
        "    dfs_path = dfs(start, goal, grid)\n",
        "\n",
        "    print(\"BFS Path:\", bfs_path)\n",
        "    print(\"DFS Path:\", dfs_path)\n",
        "\n",
        "    print(\"BFS Path Cost:\", len(bfs_path) - 1)\n",
        "    print(\"DFS Path Cost:\", len(dfs_path) - 1)\n",
        "\n",
        "# Compare BFS and DFS paths and costs\n",
        "compare_bfs_dfs((0, 0), (4, 4), eldoria_grid)\n"
      ]
    },
    {
      "cell_type": "markdown",
      "metadata": {
        "id": "k9n5jbCOHnY0"
      },
      "source": [
        "## Problem 4 Solution: A* with Euclidean Distance\n",
        "\n",
        "A* with Euclidean distance tends to produce more direct paths, especially in open spaces like Eldoria.\n"
      ]
    },
    {
      "cell_type": "code",
      "execution_count": 18,
      "metadata": {
        "id": "rN-y5V8-HpXz"
      },
      "outputs": [
        {
          "name": "stdout",
          "output_type": "stream",
          "text": [
            "A* Path with Euclidean Heuristic to the Lost Treasure: [(0, 0), (0, 1), (0, 2), (1, 2), (2, 2), (2, 3), (2, 4), (3, 4), (4, 4)]\n"
          ]
        }
      ],
      "source": [
        "import math\n",
        "\n",
        "def euclidean_heuristic(node, goal):\n",
        "    return math.sqrt((node[0] - goal[0])**2 + (node[1] - goal[1])**2)\n",
        "\n",
        "# Test A* with Euclidean heuristic to find the Lost Treasure\n",
        "path = a_star((0, 0), (4, 4), eldoria_grid, euclidean_heuristic)\n",
        "print(\"A* Path with Euclidean Heuristic to the Lost Treasure:\", path)\n"
      ]
    }
  ],
  "metadata": {
    "colab": {
      "provenance": []
    },
    "kernelspec": {
      "display_name": "Python 3",
      "name": "python3"
    },
    "language_info": {
      "codemirror_mode": {
        "name": "ipython",
        "version": 3
      },
      "file_extension": ".py",
      "mimetype": "text/x-python",
      "name": "python",
      "nbconvert_exporter": "python",
      "pygments_lexer": "ipython3",
      "version": "3.12.5"
    }
  },
  "nbformat": 4,
  "nbformat_minor": 0
}
