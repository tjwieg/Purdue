{
 "cells": [
  {
   "cell_type": "code",
   "execution_count": 1,
   "metadata": {},
   "outputs": [],
   "source": [
    "# Problem 1: Understanding Integers and Floats\n",
    "## Part A\n",
    "def add_and_multiply(a,b):\n",
    "    return (a+b, a*b)\n",
    "\n",
    "## Part B\n",
    "def convert_types(a):\n",
    "    if type(a) is float:\n",
    "        return int(a)\n",
    "    elif type(a) is int:\n",
    "        return float(a)\n",
    "    else:\n",
    "        return \"Not float or int!\"\n"
   ]
  },
  {
   "cell_type": "code",
   "execution_count": 2,
   "metadata": {},
   "outputs": [
    {
     "name": "stdout",
     "output_type": "stream",
     "text": [
      "[11, 10, 9, 8, 7, 6, 5, 4, 2, 1]\n",
      "10\n"
     ]
    }
   ],
   "source": [
    "# Problem 2: Working with Lists\n",
    "## Part A\n",
    "intlist = [1,2,3,4,5,6,7,8,9,10]\n",
    "\n",
    "def manipulate_list(input):\n",
    "    input.append(11)\n",
    "    input.remove(input[2])\n",
    "    input.reverse()\n",
    "    return input\n",
    "\n",
    "print(manipulate_list(intlist))\n",
    "\n",
    "## Part B\n",
    "def list_length(input):\n",
    "    return len(input)\n",
    "\n",
    "print(list_length(intlist))\n"
   ]
  },
  {
   "cell_type": "code",
   "execution_count": 3,
   "metadata": {},
   "outputs": [
    {
     "ename": "TypeError",
     "evalue": "'tuple' object does not support item assignment",
     "output_type": "error",
     "traceback": [
      "\u001b[0;31m---------------------------------------------------------------------------\u001b[0m",
      "\u001b[0;31mTypeError\u001b[0m                                 Traceback (most recent call last)",
      "Cell \u001b[0;32mIn[3], line 10\u001b[0m\n\u001b[1;32m      7\u001b[0m     fourth \u001b[38;5;241m=\u001b[39m \u001b[38;5;28minput\u001b[39m[\u001b[38;5;241m3\u001b[39m]\n\u001b[1;32m      8\u001b[0m     \u001b[38;5;28minput\u001b[39m[\u001b[38;5;241m2\u001b[39m] \u001b[38;5;241m=\u001b[39m \u001b[38;5;124m\"\u001b[39m\u001b[38;5;124mblackberry\u001b[39m\u001b[38;5;124m\"\u001b[39m \u001b[38;5;66;03m# this does not work, because tuples cannot be changed after instantiation\u001b[39;00m\n\u001b[0;32m---> 10\u001b[0m \u001b[43maccess_fruits\u001b[49m\u001b[43m(\u001b[49m\u001b[43mfruit_tuple\u001b[49m\u001b[43m)\u001b[49m\n",
      "Cell \u001b[0;32mIn[3], line 8\u001b[0m, in \u001b[0;36maccess_fruits\u001b[0;34m(input)\u001b[0m\n\u001b[1;32m      6\u001b[0m second \u001b[38;5;241m=\u001b[39m \u001b[38;5;28minput\u001b[39m[\u001b[38;5;241m1\u001b[39m]\n\u001b[1;32m      7\u001b[0m fourth \u001b[38;5;241m=\u001b[39m \u001b[38;5;28minput\u001b[39m[\u001b[38;5;241m3\u001b[39m]\n\u001b[0;32m----> 8\u001b[0m \u001b[38;5;28;43minput\u001b[39;49m\u001b[43m[\u001b[49m\u001b[38;5;241;43m2\u001b[39;49m\u001b[43m]\u001b[49m \u001b[38;5;241m=\u001b[39m \u001b[38;5;124m\"\u001b[39m\u001b[38;5;124mblackberry\u001b[39m\u001b[38;5;124m\"\u001b[39m\n",
      "\u001b[0;31mTypeError\u001b[0m: 'tuple' object does not support item assignment"
     ]
    }
   ],
   "source": [
    "# Problem 3: Working with Tuples\n",
    "## Part A\n",
    "fruit_tuple = (\"apple\", \"blueberry\", \"cherry\", \"date\", \"elderberry\")\n",
    "\n",
    "def access_fruits(input):\n",
    "    second = input[1]\n",
    "    fourth = input[3]\n",
    "    input[2] = \"blackberry\" # this does not work, because tuples cannot be changed after instantiation\n",
    "\n",
    "access_fruits(fruit_tuple)\n"
   ]
  },
  {
   "cell_type": "code",
   "execution_count": 4,
   "metadata": {},
   "outputs": [
    {
     "name": "stdout",
     "output_type": "stream",
     "text": [
      "Bob's score is: 90\n",
      "{'alice': 110, 'bob': 90, 'dale': 70}\n",
      "Using .get() gives None\n"
     ]
    }
   ],
   "source": [
    "# Problem 4: Understanding Dictionaries\n",
    "## Part A\n",
    "student_scores = {\n",
    "    \"alice\" : 100,\n",
    "    \"bob\"   : 90,\n",
    "    \"cathy\" : 80\n",
    "}\n",
    "def dict_operations(input):\n",
    "    input[\"dale\"] = 70\n",
    "    input[\"alice\"] = 110\n",
    "    input.pop(\"cathy\")\n",
    "    print(f\"Bob's score is: {input[\"bob\"]}\")\n",
    "\n",
    "dict_operations(student_scores)\n",
    "print(student_scores)\n",
    "\n",
    "# Part B\n",
    "print(f'Using .get() gives {student_scores.get(\"bad_key\")}')\n"
   ]
  },
  {
   "cell_type": "code",
   "execution_count": 5,
   "metadata": {},
   "outputs": [
    {
     "ename": "KeyError",
     "evalue": "'bad_key'",
     "output_type": "error",
     "traceback": [
      "\u001b[0;31m---------------------------------------------------------------------------\u001b[0m",
      "\u001b[0;31mKeyError\u001b[0m                                  Traceback (most recent call last)",
      "Cell \u001b[0;32mIn[5], line 1\u001b[0m\n\u001b[0;32m----> 1\u001b[0m \u001b[38;5;28mprint\u001b[39m(\u001b[38;5;124mf\u001b[39m\u001b[38;5;124m'\u001b[39m\u001b[38;5;124mUsing [] gives \u001b[39m\u001b[38;5;132;01m{\u001b[39;00m\u001b[43mstudent_scores\u001b[49m\u001b[43m[\u001b[49m\u001b[38;5;124;43m\"\u001b[39;49m\u001b[38;5;124;43mbad_key\u001b[39;49m\u001b[38;5;124;43m\"\u001b[39;49m\u001b[43m]\u001b[49m\u001b[38;5;132;01m}\u001b[39;00m\u001b[38;5;124m'\u001b[39m)\n",
      "\u001b[0;31mKeyError\u001b[0m: 'bad_key'"
     ]
    }
   ],
   "source": [
    "print(f'Using [] gives {student_scores[\"bad_key\"]}')\n"
   ]
  },
  {
   "cell_type": "code",
   "execution_count": 6,
   "metadata": {},
   "outputs": [],
   "source": [
    "# Problem 5: Working with Sets\n",
    "A = {1,2,3,4}\n",
    "B = {3,4,5,6}\n",
    "\n",
    "def set_operations(set1, set2):\n",
    "    union = set1.union(set2)\n",
    "    inter = set1.intersection(set2)\n",
    "    difff = set1.difference(set2)\n",
    "    chksb = set1.issubset(set2)\n",
    "    "
   ]
  },
  {
   "cell_type": "code",
   "execution_count": 7,
   "metadata": {},
   "outputs": [],
   "source": [
    "# Problem 6: Arrays and Numpy\n",
    "import numpy as np\n",
    "\n",
    "## Part A\n",
    "array1d = np.array([0,1,2,3,4,5,6,7,8,9])\n",
    "\n",
    "def array_operations(input):\n",
    "    input = 2*input\n",
    "    return input + 3\n",
    "\n",
    "## Part B\n",
    "array2d = np.array([[0,1],[2,3]])\n",
    "\n",
    "def matrix_operations(input):\n",
    "    return input.transpose() + input\n"
   ]
  },
  {
   "cell_type": "code",
   "execution_count": 8,
   "metadata": {},
   "outputs": [],
   "source": [
    "# Problem 7: Working with Strings\n",
    "\n",
    "def string_manipulation(input):\n",
    "    uppercase = input.upper()\n",
    "    number_of_K = input.count(\"K\")\n",
    "    rev_string = \"\".join(reversed(input))\n",
    "    "
   ]
  },
  {
   "cell_type": "code",
   "execution_count": 9,
   "metadata": {},
   "outputs": [
    {
     "data": {
      "text/plain": [
       "90.0"
      ]
     },
     "execution_count": 9,
     "metadata": {},
     "output_type": "execute_result"
    }
   ],
   "source": [
    "# Problem 8: Combining Lists and Dictionaries\n",
    "## Part A\n",
    "students = [\n",
    "    {\"name\": \"alice\", \"age\": 10, \"score\": 100},\n",
    "    {\"name\": \"bob\",   \"age\": 11, \"score\":  90},\n",
    "    {\"name\": \"cathy\", \"age\":  9, \"score\":  80}\n",
    "]\n",
    "\n",
    "## Part B\n",
    "def average_score(input):\n",
    "    nstudents = 0\n",
    "    total_points = 0\n",
    "    \n",
    "    for student in input:\n",
    "        nstudents += 1\n",
    "        total_points += student[\"score\"]\n",
    "    \n",
    "    return total_points/nstudents\n",
    "\n",
    "average_score(students)\n"
   ]
  },
  {
   "cell_type": "code",
   "execution_count": 10,
   "metadata": {},
   "outputs": [
    {
     "name": "stdout",
     "output_type": "stream",
     "text": [
      "{'110': 1, 'a': 4, 'again': 1, 'all': 1, 'along': 1, 'and': 3, 'are': 2, 'baby': 1, 'bad': 1, 'because': 1, 'bout': 1, 'but': 1, 'calm': 1, 'can': 3, 'capable': 1, 'charm': 1, 'companionship': 1, 'controlling': 1, 'damage': 1, 'day': 1, 'defense': 1, 'depression': 1, 'did': 1, 'doll': 1, 'emotional': 1, 'endearing': 1, 'ensuring': 1, 'even': 1, 'ever': 1, 'eyes': 1, 'flareon': 1, 'fluff': 1, 'for': 2, 'guys': 1, 'have': 4, 'hey': 1, 'huggable': 1, 'hugging': 1, 'human': 1, 'if': 1, 'in': 1, 'incredibly': 1, 'is': 2, 'it': 5, 'itself': 1, 'know': 1, 'like': 1, 'likely': 2, 'lot': 1, 'make': 1, 'making': 1, 'maximum': 1, 'means': 1, 'mind': 1, 'more': 1, 'most': 2, 'moves': 1, 'much': 1, 'never': 1, 'not': 1, 'objectively': 1, 'of': 6, 'perfect': 1, 'pokemon': 1, 'prolonged': 1, 'resistant': 1, 'respectable': 1, 'set': 1, 'so': 1, 'soft': 1, 'special': 1, 'stat': 1, 'temperature': 2, 'terms': 1, 'that': 4, \"that's\": 1, 'the': 2, 'their': 1, 'them': 1, 'themselves': 1, 'they': 5, 'this': 1, 'to': 4, 'too': 1, 'touch': 1, 'undeniably': 1, 'vent': 1, 'very': 2, 'which': 1, 'while': 2, 'with': 2, \"won't\": 1, 'you': 5}\n",
      "\n",
      "\n",
      "[('110', 1), ('again', 1), ('all', 1), ('along', 1), ('baby', 1), ('bad', 1), ('because', 1), ('bout', 1), ('but', 1), ('calm', 1), ('capable', 1), ('charm', 1), ('companionship', 1), ('controlling', 1), ('damage', 1), ('day', 1), ('defense', 1), ('depression', 1), ('did', 1), ('doll', 1), ('emotional', 1), ('endearing', 1), ('ensuring', 1), ('even', 1), ('ever', 1), ('eyes', 1), ('flareon', 1), ('fluff', 1), ('guys', 1), ('hey', 1), ('huggable', 1), ('hugging', 1), ('human', 1), ('if', 1), ('in', 1), ('incredibly', 1), ('itself', 1), ('know', 1), ('like', 1), ('lot', 1), ('make', 1), ('making', 1), ('maximum', 1), ('means', 1), ('mind', 1), ('more', 1), ('moves', 1), ('much', 1), ('never', 1), ('not', 1), ('objectively', 1), ('perfect', 1), ('pokemon', 1), ('prolonged', 1), ('resistant', 1), ('respectable', 1), ('set', 1), ('so', 1), ('soft', 1), ('special', 1), ('stat', 1), ('terms', 1), (\"that's\", 1), ('their', 1), ('them', 1), ('themselves', 1), ('this', 1), ('too', 1), ('touch', 1), ('undeniably', 1), ('vent', 1), ('which', 1), (\"won't\", 1), ('are', 2), ('for', 2), ('is', 2), ('likely', 2), ('most', 2), ('temperature', 2), ('the', 2), ('very', 2), ('while', 2), ('with', 2), ('and', 3), ('can', 3), ('a', 4), ('have', 4), ('that', 4), ('to', 4), ('it', 5), ('they', 5), ('you', 5), ('of', 6)]\n"
     ]
    }
   ],
   "source": [
    "# Problem 9: Combining Data Structures for AI-Like Processing\n",
    "## Part A\n",
    "sample_text = \"Hey guys, did you know that in terms of human companionship, Flareon is objectively the most huggable Pokemon? While their maximum temperature is likely too much for most, they are capable of controlling it, so they can set themselves to the perfect temperature for you. Along with that, they have a lot of fluff, making them undeniably incredibly soft to touch. But that's not all, they have a very respectable special defense stat of 110, which means that they are likely very calm and resistant to emotional damage. Because of this, if you have a bad day, you can vent to it while hugging it, and it won't mind. It can make itself even more endearing with moves like Charm and Baby Doll Eyes, ensuring that you never have a prolonged bout of depression ever again.\"\n",
    "cleaned_text = sample_text.replace(\".\",\"\").replace(\",\",\"\").replace(\"?\",\"\").lower()\n",
    "words = cleaned_text.split(\" \")\n",
    "word_freq = {}\n",
    "\n",
    "for word in sorted(list(set(words))):\n",
    "    word_freq[word] = words.count(word)\n",
    "\n",
    "print(word_freq)\n",
    "print(\"\\n\") # for neatness in output\n",
    "\n",
    "## Part B\n",
    "tuple_freq = []\n",
    "\n",
    "for word in word_freq:\n",
    "    tuple_freq.append((word, word_freq[word]))\n",
    "\n",
    "tuple_freq = sorted(tuple_freq, key =lambda x: x[1])\n",
    "print(tuple_freq)\n"
   ]
  },
  {
   "cell_type": "code",
   "execution_count": 11,
   "metadata": {},
   "outputs": [],
   "source": [
    "# Problem 10: Simulating Basic AI Concepts Using Python Data Structures\n",
    "## Part A\n",
    "def perceptron(weights: list, inputs: list, bias: float):\n",
    "    output = 0\n",
    "    for i in range(len(weights)):\n",
    "        output += (weights[i] * inputs[i])\n",
    "    return output + bias\n",
    "\n",
    "## Part B\n",
    "def update_weights(orig_weights: list, inputs: list, orig_bias: float, expected_output: float):\n",
    "    orig_output = perceptron(orig_weights, inputs, orig_bias)\n",
    "    error = expected_output - orig_output\n",
    "    \n",
    "    # Very simple & naive update algorithm: add\n",
    "    #   half error to bias, half error across weights\n",
    "    new_bias = orig_bias + error/2\n",
    "    n_terms = len(inputs)\n",
    "    new_weights = list(map(lambda x: x*((error/2)/n_terms), orig_weights))\n",
    "    return (new_bias, new_weights)\n"
   ]
  }
 ],
 "metadata": {
  "kernelspec": {
   "display_name": "Python 3",
   "language": "python",
   "name": "python3"
  },
  "language_info": {
   "codemirror_mode": {
    "name": "ipython",
    "version": 3
   },
   "file_extension": ".py",
   "mimetype": "text/x-python",
   "name": "python",
   "nbconvert_exporter": "python",
   "pygments_lexer": "ipython3",
   "version": "3.12.5"
  }
 },
 "nbformat": 4,
 "nbformat_minor": 2
}
